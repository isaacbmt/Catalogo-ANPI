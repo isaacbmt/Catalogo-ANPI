{
 "cells": [
  {
   "cell_type": "markdown",
   "metadata": {
    "kernel": "SoS"
   },
   "source": [
    "<h2 style='font-family: cursive; font-size: 40px;'>Método Newton-Raphson</h2>\n",
    "<img src='http://www.cs.uleth.ca/~holzmann/notes/NewtonsMethod/cube_root_27_anim.gif' align='middle' width='300'>"
   ]
  },
  {
   "cell_type": "markdown",
   "metadata": {
    "kernel": "SoS"
   },
   "source": [
    "<h3 style=\"font-family: 'Courier New'; font-size:25px\"\n",
    "    >Formulación matemática</h3>"
   ]
  },
  {
   "cell_type": "markdown",
   "metadata": {
    "kernel": "SoS"
   },
   "source": [
    "<p style=\"font-size: 19px\">\n",
    "    &emsp;&emsp;&emsp;&emsp;&emsp;&emsp;&emsp;&emsp;&emsp;&emsp;&emsp;&emsp;&emsp;&emsp;&emsp;&emsp;&emsp;&emsp;&emsp;&emsp;$x_k$ $=$ $x_k$ - $\\frac{f(x_k)}{f'(x_k)}$ \n",
    "</p>"
   ]
  },
  {
   "cell_type": "markdown",
   "metadata": {
    "kernel": "SoS"
   },
   "source": [
    "<h3 style=\"font-family: 'Courier New'; font-size:25px\"\n",
    "    >Valores iniciales</h3>"
   ]
  },
  {
   "cell_type": "markdown",
   "metadata": {
    "kernel": "SoS"
   },
   "source": [
    "<p style=\"font-size: 16px\">\n",
    "    &emsp;&emsp;&emsp;&emsp;$x_0$: &emsp;&emsp;Punto inicial de la aproximación. <br>\n",
    "    &emsp;&emsp;&emsp;&emsp;$tol$: &emsp;&emsp;La exactitud de la aproximación.\n",
    "</p>"
   ]
  },
  {
   "cell_type": "markdown",
   "metadata": {
    "kernel": "SoS"
   },
   "source": [
    "<h3 style=\"font-family: 'Courier New'; font-size:25px\"\n",
    "    >Ventajas y desventajas</h3>"
   ]
  },
  {
   "cell_type": "markdown",
   "metadata": {
    "kernel": "SoS"
   },
   "source": [
    "<table style=\"width:100%; text-align: left; font-size: 14px\">\n",
    "    <tr style=\"text-align: left;\">\n",
    "        <th style=\"text-align: left;\">Ventajas</th>\n",
    "        <th style=\"text-align: left;\">Desventajas</th>\n",
    "    </tr>\n",
    "    <tr>\n",
    "        <td style=\"text-align: left;\">Es más eficiente para la resolución de sistemas de ecuaciones no lineales.</td>\n",
    "        <td style=\"text-align: left;\">Tiene que evaluar una derivada.</td>\n",
    "    </tr>\n",
    "    <tr>\n",
    "        <td style=\"text-align: left;\">Converge muy rápidamente.</td>\n",
    "        <td style=\"text-align: left;\">No existe un criterio general de convergencia.</td>\n",
    "    </tr>\n",
    "    <tr>\n",
    "        <td style=\"text-align: left;\">Tiene una buena presición en los resultados.</td>\n",
    "        <td style=\"text-align: left;\">Tener un valor suficientemente cercano a la raíz.</td>\n",
    "    </tr>\n",
    "   \n",
    "</table>"
   ]
  },
  {
   "cell_type": "markdown",
   "metadata": {
    "kernel": "SoS"
   },
   "source": [
    "<h3 style=\"font-family: 'Courier New'; font-size:25px\"\n",
    "    >Pseudocódigo</h3>"
   ]
  },
  {
   "cell_type": "markdown",
   "metadata": {
    "kernel": "SoS"
   },
   "source": [
    "<ol>\n",
    "    <li>Para $iter$ iteraciones</li>\n",
    "    <li>$den =$ $f'(x_0)$</li>\n",
    "    <li>Si error &lt; tol ó $den$ igual a 0</li>\n",
    "    <li>Salir y retorna resultados</li>\n",
    "    <li>Sino</li>\n",
    "    <li>$x_1$ = $x_0$ - $\\frac{f(x_0)}{f'(x_0)}$</li>\n",
    "    <li>$error = |f(x_k)|$</li>\n",
    "    <li>$x_0$ = $x_1$</li>\n",
    "    <li>Fin Si</li>\n",
    "    <li>Fin Para</li>\n",
    "</ol>"
   ]
  },
  {
   "cell_type": "markdown",
   "metadata": {
    "kernel": "SoS"
   },
   "source": [
    "<h3 style=\"font-family: 'Courier New'; font-size:25px\">Octave</h3>"
   ]
  },
  {
   "cell_type": "code",
   "execution_count": 5,
   "metadata": {
    "kernel": "Octave"
   },
   "outputs": [
    {
     "name": "stdout",
     "output_type": "stream",
     "text": [
      "x1 =    5.149332479609288e-01\r\n",
      "e =\r\n",
      "\r\n",
      "   3.128064925362831e-01   7.750896042940042e-02   2.307800678114091e-04\r\n",
      "\r\n"
     ]
    },
    {
     "data": {
      "image/png": "[encoded data removed]",
      "text/plain": [
       "<IPython.core.display.Image object>"
      ]
     },
     "metadata": {},
     "output_type": "display_data"
    }
   ],
   "source": [
    "format long\n",
    "function y=derivate(f)\n",
    "    pkg load symbolic\n",
    "    syms x;\n",
    "    ff=f(x);\n",
    "    ffd=diff(ff,x);\n",
    "    y=function_handle(ffd);\n",
    "end\n",
    "\n",
    "function [x1,e]=newton_raphson(f,x0,tol,iter)\n",
    "    %Esta función aproxima la solución de la ecuación f(x)=0, utilizando el método de newton_raphson.\n",
    "    %\n",
    "    %Sintaxis:  newton_raphson(f,a,b,tol,iter)\n",
    "    % \n",
    "    %Parámetros Iniciales: \n",
    "    %            f = una  cadena de caracteres (string) que representa a la función f.\n",
    "    %            x0 = punto donde comienza la iteración.\n",
    "    %            tol = un número positivo que representa a la tolerancia para el criterio |f(x_k)|<tol.\n",
    "    %            iter = cantidad de iteraciones máximas.\n",
    "    %            \n",
    "    %Parámetros de Salida:                           \n",
    "    %            x1 = aproximación del cero de la función f\n",
    "    %            error =  |f(x)|\n",
    "    \n",
    "    footion = str2func(strcat('@(x)',f)); \n",
    "    deetion = derivate(footion);\n",
    "    e=[];\n",
    "    error=tol+1;\n",
    "    if tol < 10^(-8)\n",
    "        display(\"Debe escoger una tolerancia más grande.\");\n",
    "        return;\n",
    "    else\n",
    "        for i=1:iter\n",
    "            den=deetion(x0);\n",
    "            if error < tol | den == 0  \n",
    "                break;\n",
    "            else\n",
    "                x1 = x0 - footion(x0)/den;\n",
    "                error = abs(x1-x0);\n",
    "                e=[e error];\n",
    "                x0 = x1;\n",
    "            end\n",
    "        end\n",
    "    end\n",
    "    plot(0:length(e)-1,e);\n",
    "end"
   ]
  },
  {
   "cell_type": "markdown",
   "metadata": {
    "kernel": "Octave"
   },
   "source": [
    "<h3 style=\"font-family: 'Courier New'; font-size:25px\">Python</h3>"
   ]
  },
  {
   "cell_type": "code",
   "execution_count": 1,
   "metadata": {
    "kernel": "Python 3"
   },
   "outputs": [
    {
     "name": "stdout",
     "output_type": "stream",
     "text": [
      "(x**2, 2*x)\n"
     ]
    }
   ],
   "source": [
    "def iter_list(it):\n",
    "    list = []\n",
    "    for i in range(it):\n",
    "        list.append(i)\n",
    "    return list\n",
    "    \n",
    "    \n",
    "def plot(e):\n",
    "    import matplotlib.pyplot\n",
    "    matplotlib.pyplot.plot(iter_list(len(e)), e)\n",
    "    \n",
    "    \n",
    "def get_funcs(f):\n",
    "    from sympy import symbols, sympify, diff\n",
    "    footion = sympify(f)\n",
    "    x = symbols('x')\n",
    "    deetion = diff(footion, x)\n",
    "    return footion, deetion\n",
    "\n",
    "print(get_funcs('x^2'));\n",
    "\n",
    "\n",
    "def newton_raphson(f, x0, tol, iter):\n",
    "    \"\"\"\n",
    "    Esta función aproxima la solución de una ecuació f(x)=0, implementando el metodo de la Secante.\n",
    "    Parametros iniciales:\n",
    "    f = una  cadena de caracteres (string) que representa a la función f.\n",
    "    x0 = punto donde comienza la iteración.\n",
    "    tol = un número positivo que representa a la tolerancia para el criterio |f(x_k)|<tol.\n",
    "    iter = cantidad de iteraciones máximas.\n",
    "    Parámetros de Salida: \n",
    "    [x1,error], donde                \n",
    "    x1 = aproximación del cero de la función f.\n",
    "    error =  |f(x_k)|\n",
    "    \"\"\"\n",
    "    footion, deetion = get_funcs(f)\n",
    "    error = tol + 1\n",
    "    x1 = 0\n",
    "    e = []\n",
    "    \n",
    "    if tol < 10^-8:\n",
    "        print(\"Debe escoger una tolerancia más grande.\")\n",
    "        return\n",
    "    else:\n",
    "        for i in range(iter):\n",
    "            den = float(deetion.subs({'x': x0}))\n",
    "            if error < tol or den == 0:\n",
    "                break\n",
    "            else:\n",
    "                x1 = x0 - float(footion.subs({'x' : x0})) / den\n",
    "                error = abs(x1 - x0)\n",
    "                e.append(error)\n",
    "                x0 = x1\n",
    "\n",
    "    plot(e)\n",
    "    return x1, e"
   ]
  },
  {
   "cell_type": "markdown",
   "metadata": {
    "kernel": "Python 3"
   },
   "source": [
    "<h3 style=\"font-family: 'Courier New'; font-size:25px\">Ejemplo Numérico</h3>"
   ]
  },
  {
   "cell_type": "markdown",
   "metadata": {
    "kernel": "Python 3"
   },
   "source": [
    "<h5 style=\"font-family: 'Courier New'; font-size:16px\">Python</h5>"
   ]
  },
  {
   "cell_type": "code",
   "execution_count": 8,
   "metadata": {
    "kernel": "Python 3"
   },
   "outputs": [
    {
     "name": "stdout",
     "output_type": "stream",
     "text": [
      "(0.5482170813639983, [0.21436023859349018, 0.012534394546906968, 4.292488544388462e-05, 5.251376000714458e-10])\n"
     ]
    },
    {
     "data": {
      "image/png": "[encoded data removed]",
      "text/plain": [
       "<Figure size 432x288 with 1 Axes>"
      ]
     },
     "metadata": {
      "needs_background": "light"
     },
     "output_type": "display_data"
    }
   ],
   "source": [
    "print(newton_raphson('exp(-2*x^2)^2-x^2', 3/4, 0.00001, 5))"
   ]
  },
  {
   "cell_type": "markdown",
   "metadata": {
    "kernel": "Python 3"
   },
   "source": [
    "<h5 style=\"font-family: 'Courier New'; font-size:16px\">Octave</h5>"
   ]
  },
  {
   "cell_type": "code",
   "execution_count": 7,
   "metadata": {
    "kernel": "Octave"
   },
   "outputs": [
    {
     "name": "stdout",
     "output_type": "stream",
     "text": [
      "x1 =    5.149332479609288e-01\r\n",
      "e =\r\n",
      "\r\n",
      "   3.128064925362831e-01   7.750896042940042e-02   2.307800678114091e-04\r\n",
      "\r\n"
     ]
    },
    {
     "data": {
      "image/png": "[encoded data removed]",
      "text/plain": [
       "<IPython.core.display.Image object>"
      ]
     },
     "metadata": {},
     "output_type": "display_data"
    }
   ],
   "source": [
    "[x1,e]=newton_raphson('cos(2*x)^2-x^2',3/4,0.0004,3)"
   ]
  },
  {
   "cell_type": "code",
   "execution_count": null,
   "metadata": {
    "kernel": "Octave"
   },
   "outputs": [],
   "source": []
  }
 ],
 "metadata": {
  "kernelspec": {
   "display_name": "SoS",
   "language": "sos",
   "name": "sos"
  },
  "language_info": {
   "codemirror_mode": "sos",
   "file_extension": ".sos",
   "mimetype": "text/x-sos",
   "name": "sos",
   "nbconvert_exporter": "sos_notebook.converter.SoS_Exporter",
   "pygments_lexer": "sos"
  },
  "sos": {
   "kernels": [
    [
     "Octave",
     "octave",
     "octave",
     "",
     ""
    ],
    [
     "Python 3",
     "python3",
     "python3",
     "",
     {
      "name": "ipython",
      "version": 3
     }
    ]
   ],
   "panel": {
    "displayed": true,
    "height": 0
   },
   "version": "0.21.7"
  }
 },
 "nbformat": 4,
 "nbformat_minor": 4
}
