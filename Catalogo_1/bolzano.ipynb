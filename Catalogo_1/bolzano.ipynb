{
 "cells": [
  {
   "cell_type": "markdown",
   "metadata": {
    "kernel": "SoS"
   },
   "source": [
    "<body>\n",
    "    <div>\n",
    "        <h2 style='font-family: cursive; font-size: 40px;'>Teorema de Bolzano</h2>\n",
    "        <img src=\"https://ece.uwaterloo.ca/~dwharder/NumericalAnalysis/10RootFinding/bisection/bisection.gif\" align='left' width=\"400\">\n",
    "        <img src=\"https://upload.wikimedia.org/wikipedia/commons/7/7f/BBolzano.jpg\" align=\"middle\" width=\"225\">\n",
    "    </div>\n",
    "</body>"
   ]
  },
  {
   "cell_type": "markdown",
   "metadata": {
    "kernel": "SoS"
   },
   "source": [
    "<h3 style=\"font-family: 'Courier New'; font-size:25px\"\n",
    "    >Formulación matemática</h3>"
   ]
  },
  {
   "cell_type": "markdown",
   "metadata": {
    "kernel": "SoS"
   },
   "source": [
    "<p style=\"font-size: 16px;\">\n",
    "    Sea <i>f</i> una función real, definida y continua sobre un intervalo cerrado [a, b].<br>\n",
    "    Si se cumple que: <br> \n",
    "    &emsp;&emsp;&emsp;&emsp;&emsp;&emsp;&emsp;&emsp;&emsp;&emsp;&emsp;&emsp;&emsp;&emsp;&emsp;&emsp;&emsp;&emsp;<i>$f(a)*f(b)$ &lt; $0$</i> <br>\n",
    "    entonces existe &#949; &#8714; [a, b] tal que <br>\n",
    "    &emsp;&emsp;&emsp;&emsp;&emsp;&emsp;&emsp;&emsp;&emsp;&emsp;&emsp;&emsp;&emsp;&emsp;&emsp;&emsp;&emsp;&emsp;$f($&#949;$) = 0$\n",
    "</p>\n"
   ]
  },
  {
   "cell_type": "markdown",
   "metadata": {
    "kernel": "SoS"
   },
   "source": [
    "<h3 style=\"font-family: 'Courier New'; font-size:25px\"\n",
    "    >Valores iniciales</h3>"
   ]
  },
  {
   "cell_type": "markdown",
   "metadata": {
    "kernel": "SoS"
   },
   "source": [
    "<p style=\"font-size: 16px\">\n",
    "    &emsp;&emsp;&emsp;&emsp;a:   &nbsp;&nbsp;&emsp;&emsp;Punto inicial del intervalo. <br>\n",
    "    &emsp;&emsp;&emsp;&emsp;b:   &nbsp;&nbsp;&emsp;&emsp;Punto final del intervalo. <br>\n",
    "    &emsp;&emsp;&emsp;&emsp;tol: &emsp;&emsp;La exactitud de la aproximación.\n",
    "</p>"
   ]
  },
  {
   "cell_type": "markdown",
   "metadata": {
    "kernel": "SoS"
   },
   "source": [
    "<h3 style=\"font-family: 'Courier New'; font-size:25px\"\n",
    "    >Ventajas y desventajas</h3>"
   ]
  },
  {
   "cell_type": "markdown",
   "metadata": {
    "kernel": "SoS"
   },
   "source": [
    "\n",
    "\n",
    "<table style=\"width:100%; text-align: left; font-size: 14px\">\n",
    "    <tr style=\"text-align: left;\">\n",
    "        <th style=\"text-align: left;\">Ventajas</th>\n",
    "        <th style=\"text-align: left;\">Desventajas</th>\n",
    "    </tr>\n",
    "    <tr>\n",
    "        <td style=\"text-align: left;\">Es siempre convergente.</td>\n",
    "        <td style=\"text-align: left;\">Converge muy lentamente.</td>\n",
    "    </tr>\n",
    "    <tr>\n",
    "        <td style=\"text-align: left;\">Requiere que f sea continua en el intervalo especificado.</td>\n",
    "        <td style=\"text-align: left;\">Permite encontrar solo una raíz, aunque existan más en el intervalo.</td>\n",
    "    </tr>\n",
    "    <tr>\n",
    "        <td style=\"text-align: left;\">Se puede establecer el límite de error.\t</td>\n",
    "        <td style=\"text-align: left;\">Algunas veces la determinación del intervalo inicial no es muy fácil.</td>\n",
    "    </tr>\n",
    "    <tr>\n",
    "        <td style=\"text-align: left;\">Es fácil de implementar.\t</td>\n",
    "        <td style=\"text-align: left;\">A veces, no es obvio el criterio de finalización del proceso iteractivo.</td>\n",
    "    </tr>\n",
    "</table>"
   ]
  },
  {
   "cell_type": "markdown",
   "metadata": {
    "kernel": "SoS"
   },
   "source": [
    "<h3 style=\"font-family: 'Courier New'; font-size:25px\"\n",
    "    >Pseudocódigo</h3>"
   ]
  },
  {
   "cell_type": "markdown",
   "metadata": {
    "kernel": "SoS"
   },
   "source": [
    "<ol>\n",
    "    <li>Si <i>f(a)*f(b) &gt; 0</i> </li>\n",
    "    <li>Retornar resultado nulo y mostrar un mensaje que \"No cumple la condicion del Teorema de Bolzano\". </li>\n",
    "    <li>Sino</li>\n",
    "    <li>$error=tol+1$</li>\n",
    "    <li>$k=0$</li>\n",
    "    <li>Mientras error &lt; tol</li>\n",
    "    <li>$k=k+1$</li>\n",
    "    <li>$X_k = (a+b)/2$</li>\n",
    "    <li>$error=\\mathopen|f($x_k$)\\mathclose|$ </li>\n",
    "    <li>Si $f(a)*f(b)$ $\\leq$ $0$</li>\n",
    "    <li>$b =$ $X_k$</li>\n",
    "    <li>Sino</li>\n",
    "    <li>$a=$ $X_k$ </li>\n",
    "    <li>Fin Si</li>\n",
    "    <li>Fin Mientras</li>\n",
    "    <li>Fin Si</li>\n",
    "</ol>"
   ]
  },
  {
   "cell_type": "markdown",
   "metadata": {
    "kernel": "SoS"
   },
   "source": [
    "<h3 style=\"font-family: 'Courier New'; font-size:25px\">Octave</h3>"
   ]
  },
  {
   "cell_type": "code",
   "execution_count": 10,
   "metadata": {
    "kernel": "Octave"
   },
   "outputs": [],
   "source": [
    "format long\n",
    "function y=x1(a, b)\n",
    "    y=(a+b)/2;\n",
    "end\n",
    "\n",
    "function [xk,error]=bolzano(f,a,b,tol,iter)\n",
    "    %Esta función aproxima la solución de la ecuación f(x)=0, utilizando el método de bolzano\n",
    "    %\n",
    "    %Sintaxis:  bolzano(f,a,b,tol,iter)\n",
    "    % \n",
    "    %Parámetros Iniciales: \n",
    "    %            f = una  cadena de caracteres (string) que representa a la función f\n",
    "    %            a,b = son los extremos del intervalo [a,b]\n",
    "    %            tol = un número positivo que representa a la tolerancia para el criterio |f(x_k)|<tol\n",
    "    %            iter = cantidad de iteraciones máximas\n",
    "    %            \n",
    "    %Parámetros de Salida:                           \n",
    "    %            res = aproximación del cero de la función f\n",
    "    %            error =  |f(x)|\n",
    "    \n",
    "    footion = str2func(strcat('@(x)',f));\n",
    "    res0=0;\n",
    "    e=[];\n",
    "    error=1; \n",
    "    \n",
    "    if footion(a)*footion(b) > 0 || tol < 10^-8\n",
    "        x=[];error=[];\n",
    "        display('El teorema de Bolzano no se cumple, es decir, f(a)*f(b)>0');\n",
    "    else \n",
    "        for i=1:iter\n",
    "            xk=x1(a,b);\n",
    "            res=footion(xk);\n",
    "            error=abs(res-res0);\n",
    "            e=[e error];\n",
    "            if error<tol\n",
    "                break;\n",
    "            else\n",
    "                if res*footion(b)<0\n",
    "                    a=xk;\n",
    "                else\n",
    "                    b=xk;\n",
    "                end\n",
    "            end\n",
    "            res0=res;\n",
    "        end\n",
    "        plot(0:length(e)-1,e)\n",
    "    end\n",
    "end\n"
   ]
  },
  {
   "cell_type": "markdown",
   "metadata": {
    "kernel": "Octave"
   },
   "source": [
    "<h3 style=\"font-family: 'Courier New'; font-size:25px\">Python</h3>"
   ]
  },
  {
   "cell_type": "code",
   "execution_count": 14,
   "metadata": {
    "kernel": "Python3"
   },
   "outputs": [],
   "source": [
    "def iter_list(it):\n",
    "    list = []\n",
    "    for i in range(it):\n",
    "        list.append(i)\n",
    "    return list\n",
    "    \n",
    "    \n",
    "def plot(e):\n",
    "    import matplotlib.pyplot\n",
    "    matplotlib.pyplot.plot(iter_list(len(e)), e)\n",
    "    \n",
    "    \n",
    "def x1(a, b):\n",
    "    return (a + b) / 2\n",
    "\n",
    "\n",
    "def bolzano(f, a, b, tol, iter):\n",
    "    \"\"\"\n",
    "    Esta función aproxima la solución de una ecuació f(x)=0, implementando el metodo de la Secante.\n",
    "    Parametros iniciales:\n",
    "    f = una  cadena de caracteres (string) que representa a la función f\n",
    "    a, b = son los extremos del intervalo [a,b].\n",
    "    tol = un número positivo que representa a la tolerancia para el criterio |f(x_k)|<tol.\n",
    "    iter = cantidad de iteraciones máximas.\n",
    "    Parámetros de Salida: \n",
    "    [res1,error], donde                \n",
    "    res1 = aproximación del cero de la función f\n",
    "    error =  |f(x_k)|\n",
    "    \"\"\"\n",
    "    from sympy import sympify\n",
    "    \n",
    "    footion = sympify(f)\n",
    "    fa = float(footion.subs({'x': a}))\n",
    "    fb = float(footion.subs({'x': b}))\n",
    "\n",
    "    res0 = 0\n",
    "    res1 = 0\n",
    "    xn = a\n",
    "    e = []\n",
    "    \n",
    "    if fa * fb > 0 or tol < 10^-8:\n",
    "        return 'El teorema de Bolzano no se cumple, es decir, f(a)*f(b)>0'\n",
    "    else:\n",
    "        for i in range(iter):\n",
    "            xk = x1(a, b)\n",
    "            res1 = float(footion.subs({'x': xk}))\n",
    "            error = abs((xk - xn)/xk)*100\n",
    "            xn = xk\n",
    "            e.append(error)\n",
    "            \n",
    "            if error < tol:\n",
    "                break\n",
    "            else:\n",
    "                if res1 * float(footion.subs({'x': b})) < 0:\n",
    "                    a = xk\n",
    "                else:\n",
    "                    b = xk\n",
    "            res0 = res1\n",
    "        plot(e)\n",
    "        return [xk, e]\n"
   ]
  },
  {
   "cell_type": "markdown",
   "metadata": {
    "kernel": "Python 3"
   },
   "source": [
    "<h3 style=\"font-family: 'Courier New'; font-size:25px\">Ejemplo Numérico</h3>"
   ]
  },
  {
   "cell_type": "markdown",
   "metadata": {
    "kernel": "Python 3"
   },
   "source": [
    "<h5 style=\"font-family: 'Courier New'; font-size:16px\">Python</h5>"
   ]
  },
  {
   "cell_type": "code",
   "execution_count": 17,
   "metadata": {
    "kernel": "Python3"
   },
   "outputs": [
    {
     "name": "stdout",
     "output_type": "stream",
     "text": [
      "El teorema de Bolzano no se cumple, es decir, f(a)*f(b)>0\n"
     ]
    }
   ],
   "source": [
    "#print(bolzano('x^2-sin(x)',0.5,1,0.0004,20))\n",
    "\n",
    "print(bolzano('1-(20^2/(9.81*(3*x+x^2/2)))*(3+x)', 0.5, 2.5, 0.0004,20))"
   ]
  },
  {
   "cell_type": "markdown",
   "metadata": {
    "kernel": "Python 3"
   },
   "source": [
    "<h5 style=\"font-family: 'Courier New'; font-size:16px\">Octave</h5>"
   ]
  },
  {
   "cell_type": "code",
   "execution_count": 11,
   "metadata": {
    "kernel": "Octave"
   },
   "outputs": [
    {
     "name": "stdout",
     "output_type": "stream",
     "text": [
      "res =    8.767242431640625e-01\r\n",
      "error =    1.699519554321238e-05\r\n"
     ]
    },
    {
     "data": {
      "image/png": "[encoded data removed]",
      "text/plain": [
       "<IPython.core.display.Image object>"
      ]
     },
     "metadata": {},
     "output_type": "display_data"
    }
   ],
   "source": [
    "[res,error]=bolzano('x^2-sin(x)',0.5,1,0.00003,20)"
   ]
  },
  {
   "cell_type": "code",
   "execution_count": null,
   "metadata": {
    "kernel": "Octave"
   },
   "outputs": [],
   "source": []
  }
 ],
 "metadata": {
  "kernelspec": {
   "display_name": "SoS",
   "language": "sos",
   "name": "sos"
  },
  "language_info": {
   "codemirror_mode": "sos",
   "file_extension": ".sos",
   "mimetype": "text/x-sos",
   "name": "sos",
   "nbconvert_exporter": "sos_notebook.converter.SoS_Exporter",
   "pygments_lexer": "sos"
  },
  "sos": {
   "kernels": [
    [
     "Octave",
     "octave",
     "octave",
     "",
     ""
    ],
    [
     "Python3",
     "python3",
     "Python3",
     "#FFD91A",
     {
      "name": "ipython",
      "version": 3
     }
    ]
   ],
   "panel": {
    "displayed": true,
    "height": 0
   },
   "version": "0.21.9"
  }
 },
 "nbformat": 4,
 "nbformat_minor": 4
}
