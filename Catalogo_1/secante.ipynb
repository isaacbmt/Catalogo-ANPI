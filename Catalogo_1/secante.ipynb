{
 "cells": [
  {
   "cell_type": "markdown",
   "metadata": {
    "kernel": "SoS"
   },
   "source": [
    "<h2 style='font-family: cursive; font-size: 40px;'>Método de la secante</h2>\n",
    "<img src='https://upload.wikimedia.org/wikipedia/commons/b/be/Metodo_delle_secanti.gif' align='middle'\n",
    "     width='370'>"
   ]
  },
  {
   "cell_type": "markdown",
   "metadata": {
    "kernel": "SoS"
   },
   "source": [
    "<h3 style=\"font-family: 'Courier New'; font-size:25px\"\n",
    "    >Formulación matemática</h3>"
   ]
  },
  {
   "cell_type": "markdown",
   "metadata": {
    "kernel": "SoS"
   },
   "source": [
    "<p style=\"font-size: 16px;\"> &emsp;&emsp;&emsp;&emsp;&emsp;&emsp;&emsp;&emsp;&emsp;&emsp;&emsp;&emsp;&emsp;&emsp;&emsp;&emsp;&emsp;&emsp;&emsp;&emsp;$x_n+1$ = $x_n$ - $\\frac{x_n - x_n-1}{f(x_n) - f(x_n-1)} * f(x_n)$ <br> \n",
    "&emsp;&emsp;&emsp;&emsp;&emsp;&emsp;&emsp;&emsp;&emsp;&emsp;&emsp;&emsp;&emsp;&emsp;&emsp;&emsp;&emsp;&emsp;&emsp;&emsp;$x_0, x_1 \\in R$ </p>"
   ]
  },
  {
   "cell_type": "markdown",
   "metadata": {
    "kernel": "SoS"
   },
   "source": [
    "<h3 style=\"font-family: 'Courier New'; font-size:25px\"\n",
    "    >Valores iniciales</h3>"
   ]
  },
  {
   "cell_type": "markdown",
   "metadata": {
    "kernel": "SoS"
   },
   "source": [
    "<p style=\"font-size: 16px\">\n",
    "&emsp;&emsp;&emsp;&emsp;&emsp;&emsp;&emsp;&emsp;&emsp;&emsp;&emsp;&emsp;&emsp;&emsp;&emsp;&emsp;&emsp;&emsp;&emsp;&emsp;$x_0$: Un punto de la recta para la aproximación.<br>\n",
    "&emsp;&emsp;&emsp;&emsp;&emsp;&emsp;&emsp;&emsp;&emsp;&emsp;&emsp;&emsp;&emsp;&emsp;&emsp;&emsp;&emsp;&emsp;&emsp;&emsp;$x_1$: Un punto de la recta para la aproximación.<br>\n",
    "&emsp;&emsp;&emsp;&emsp;&emsp;&emsp;&emsp;&emsp;&emsp;&emsp;&emsp;&emsp;&emsp;&emsp;&emsp;&emsp;&emsp;&emsp;&emsp;&emsp;$tol$: La exactitud de la aproximación.\n",
    "</p>"
   ]
  },
  {
   "cell_type": "markdown",
   "metadata": {
    "kernel": "SoS"
   },
   "source": [
    "<h3 style=\"font-family: 'Courier New'; font-size:25px\"\n",
    "    >Ventajas y desventajas</h3>"
   ]
  },
  {
   "cell_type": "markdown",
   "metadata": {
    "kernel": "SoS"
   },
   "source": [
    "<table style=\"width:100%; text-align: left; font-size: 14px\">\n",
    "    <tr style=\"text-align: left;\">\n",
    "        <th style=\"text-align: left;\">Ventajas</th>\n",
    "        <th style=\"text-align: left;\">Desventajas</th>\n",
    "    </tr>\n",
    "    <tr>\n",
    "        <td style=\"text-align: left;\">Se puede hacer cuando la funcion es muy compleja como para obtener su derivada.</td>\n",
    "        <td style=\"text-align: left;\">Converge muy lentamente.</td>\n",
    "    </tr>\n",
    "</table>"
   ]
  },
  {
   "cell_type": "markdown",
   "metadata": {
    "kernel": "SoS"
   },
   "source": [
    "<h3 style=\"font-family: 'Courier New'; font-size:25px\"\n",
    "    >Pseudocódigo</h3>"
   ]
  },
  {
   "cell_type": "markdown",
   "metadata": {
    "kernel": "SoS"
   },
   "source": [
    "<ol>\n",
    "    <li>Para $iter$ iteraciones</li>\n",
    "    <li>$den = f(x_1) - f(x_0)$</li>\n",
    "    <li>Si abs(den) &lt; tol</li>\n",
    "    <li>Salir y retornar resultados</li>\n",
    "    <li>Sino</li>\n",
    "    <li>$tmp = x_1$</li>\n",
    "    <li>$x_1 = x_1 - \\frac{x_1-x_0}{f(x_1) - f(x_0)} * f(x_1)$</li>\n",
    "    <li>$x_0 = tmp$</li>\n",
    "    <li>Fin Si</li>\n",
    "    <li>Fin Para</li>\n",
    "</ol>"
   ]
  },
  {
   "cell_type": "markdown",
   "metadata": {
    "kernel": "SoS"
   },
   "source": [
    "<h3 style=\"font-family: 'Courier New'; font-size:25px\">Octave</h3>"
   ]
  },
  {
   "cell_type": "code",
   "execution_count": 1,
   "metadata": {
    "kernel": "Octave"
   },
   "outputs": [],
   "source": [
    "format long\n",
    "function [x1,e]=secante(f,x0,x1,tol,iter)\n",
    "    %Esta función aproxima la solución de la ecuación f(x)=0, utilizando el método de la secante\n",
    "    %\n",
    "    %Sintaxis:  secante(f,a,b,tol,iterMax)\n",
    "    % \n",
    "    %Parámetros Iniciales: \n",
    "    %            f = una  cadena de caracteres (string) que representa a la función f.\n",
    "    %            x0,x1 = son los extremos del intervalo [x0,x1] de la recta.\n",
    "    %            tol = un número positivo que representa a la tolerancia para el criterio |f(x_k)|<tol.\n",
    "    %            iter = cantidad de iteraciones máximas.\n",
    "    %            \n",
    "    %Parámetros de Salida:                           \n",
    "    %            x1 = aproximación del cero de la función f.\n",
    "    %            error =  |f(x)|.\n",
    "    \n",
    "    footion=str2func(strcat('@(x)',f));\n",
    "    e=[];\n",
    "    if tol < 10^(-8)\n",
    "        display(\"Debe escoger una tolerancia más grande.\");\n",
    "    else\n",
    "        for i=1:iter\n",
    "            den=footion(x1)-footion(x0);\n",
    "            if abs(den) < tol\n",
    "                break;\n",
    "            else\n",
    "                tmp=x1;\n",
    "                x1=x1-((x1-x0)/den)*footion(x1);\n",
    "                x0=tmp;\n",
    "                e=[e den];\n",
    "\n",
    "            end\n",
    "        end\n",
    "    end\n",
    "    plot(0:length(e)-1,e);\n",
    "end"
   ]
  },
  {
   "cell_type": "markdown",
   "metadata": {
    "kernel": "SoS"
   },
   "source": [
    "<h3 style=\"font-family: 'Courier New'; font-size:25px\">Python</h3>"
   ]
  },
  {
   "cell_type": "code",
   "execution_count": 2,
   "metadata": {
    "kernel": "Python3"
   },
   "outputs": [],
   "source": [
    "def iter_list(it):\n",
    "    list = []\n",
    "    for i in range(it):\n",
    "        list.append(i)\n",
    "    return list\n",
    "    \n",
    "    \n",
    "def plot(e):\n",
    "    import matplotlib.pyplot\n",
    "    matplotlib.pyplot.plot(iter_list(len(e)), e)\n",
    "\n",
    "    \n",
    "def secante(f, x0, x1, tol, iter):\n",
    "    \"\"\"\n",
    "    Esta función aproxima la solución de una ecuació f(x)=0, implementando el metodo de la Secante.\n",
    "    Parametros iniciales:\n",
    "    f = una  cadena de caracteres (string) que representa a la función f\n",
    "    x0, x1 = son los extremos del intervalo [a,b] de la recta.\n",
    "    tol = un número positivo que representa a la tolerancia para el criterio |f(x_k)|<tol.\n",
    "    iter = cantidad de iteraciones máximas.\n",
    "    Parámetros de Salida: \n",
    "    [x_1,error], donde                \n",
    "    x_1 = aproximación del cero de la función f\n",
    "    error =  |f(x_1)|\n",
    "    \"\"\"\n",
    "    from sympy import sympify, symbols\n",
    "    import matplotlib.pyplot\n",
    "    \n",
    "    tmp = 0\n",
    "    footion = sympify(f)\n",
    "    e = []\n",
    "    \n",
    "    if tol < 10^-8:\n",
    "        print(\"Debe escoger una tolerancia más grande.\")\n",
    "    else:\n",
    "        for i in range(iter):\n",
    "            den = float(footion.subs({'x' : x1})) - float(footion.subs({'x' : x0}))\n",
    "            e.append(den)\n",
    "            if abs(den) < tol and den == 0:\n",
    "                break\n",
    "            else:\n",
    "                tmp = x1\n",
    "                x1 = x1 - ((x1 - x0) / den) * float(footion.subs({\"x\" : x1}));\n",
    "                x0 = tmp\n",
    "\n",
    "    plot(e)\n",
    "    return x1, e"
   ]
  },
  {
   "cell_type": "markdown",
   "metadata": {
    "kernel": "Python 3"
   },
   "source": [
    "<h3 style=\"font-family: 'Courier New'; font-size:25px\">Ejemplo Numérico</h3>"
   ]
  },
  {
   "cell_type": "markdown",
   "metadata": {
    "kernel": "Python 3"
   },
   "source": [
    "<h5 style=\"font-family: 'Courier New'; font-size:16px\">Python</h5>"
   ]
  },
  {
   "cell_type": "code",
   "execution_count": 3,
   "metadata": {
    "kernel": "Python3"
   },
   "outputs": [
    {
     "name": "stdout",
     "output_type": "stream",
     "text": [
      "(0.8767262153950625, [0.3879545537963065, -0.23975654699563598, 0.06825558623512684, 0.014461251451302282, -0.0015114193888534633, 2.207687024347038e-05, 3.66366174064936e-08, -9.04054608952265e-13, 0.0])\n"
     ]
    },
    {
     "data": {
      "image/png": "[encoded data removed]",
      "text/plain": [
       "<Figure size 432x288 with 1 Axes>"
      ]
     },
     "metadata": {
      "needs_background": "light"
     },
     "output_type": "display_data"
    }
   ],
   "source": [
    "print(secante('x^2-sin(x)', 0.5, 1, 0.0004, 20))"
   ]
  },
  {
   "cell_type": "markdown",
   "metadata": {
    "kernel": "Python 3"
   },
   "source": [
    "<h5 style=\"font-family: 'Courier New'; font-size:16px\">Octave</h5>"
   ]
  },
  {
   "cell_type": "code",
   "execution_count": 18,
   "metadata": {
    "kernel": "Octave"
   },
   "outputs": [
    {
     "name": "stdout",
     "output_type": "stream",
     "text": [
      "x1 =    6.529186403819336e-01\r\n",
      "e =\r\n",
      "\r\n",
      " Columns 1 through 3:\r\n",
      "\r\n",
      "  -1.632120558828558e+00   7.064343912647045e-01  -7.528368449034051e-02\r\n",
      "\r\n",
      " Column 4:\r\n",
      "\r\n",
      "   9.723997050876676e-04\r\n",
      "\r\n"
     ]
    },
    {
     "data": {
      "image/png": "[encoded data removed]",
      "text/plain": [
       "<IPython.core.display.Image object>"
      ]
     },
     "metadata": {},
     "output_type": "display_data"
    }
   ],
   "source": [
    "[x1,e]=secante('exp(-x^2)-x',0,1,0.00004,5)"
   ]
  }
 ],
 "metadata": {
  "kernelspec": {
   "display_name": "SoS",
   "language": "sos",
   "name": "sos"
  },
  "language_info": {
   "codemirror_mode": "sos",
   "file_extension": ".sos",
   "mimetype": "text/x-sos",
   "name": "sos",
   "nbconvert_exporter": "sos_notebook.converter.SoS_Exporter",
   "pygments_lexer": "sos"
  },
  "sos": {
   "kernels": [
    [
     "Octave",
     "octave",
     "octave",
     "",
     ""
    ],
    [
     "Python3",
     "python3",
     "Python3",
     "#FFD91A",
     {
      "name": "ipython",
      "version": 3
     }
    ]
   ],
   "panel": {
    "displayed": true,
    "height": 0
   },
   "version": "0.21.9"
  }
 },
 "nbformat": 4,
 "nbformat_minor": 4
}
