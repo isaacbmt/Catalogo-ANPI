{
 "cells": [
  {
   "cell_type": "markdown",
   "metadata": {
    "kernel": "SoS"
   },
   "source": [
    "<body>\n",
    "    <div>\n",
    "        <h2 style='font-family: cursive; font-size: 40px;'>Metodo predictor-corrector</h2>\n",
    "<!--         <img src= alt=middle style=\"height: 340px\"> -->\n",
    "    </div>\n",
    "</body>"
   ]
  },
  {
   "cell_type": "markdown",
   "metadata": {
    "kernel": "SoS"
   },
   "source": [
    "<h3 style=\"font-family: 'Courier New'; font-size:25px\"\n",
    "    >Formulación matemática</h3>"
   ]
  },
  {
   "cell_type": "markdown",
   "metadata": {
    "kernel": "SoS"
   },
   "source": [
    "Los métodos de predicción-corrección pertenecen a una clase de algoritmos diseñados para integrar ecuaciones diferenciales ordinarias - para encontrar una función desconocida que satisface una ecuación diferencial dada. Todos estos algoritmos de proceder en dos pasos:\n",
    "<ol>\n",
    "<li>El, \"predicción\" paso inicial, comienza a partir de una función ajustada a la función de los valores y los valores derivados en un conjunto precedente de puntos para extrapolar ( \"anticipar\") el valor de esta función en un, nuevo punto posterior.</li>\n",
    "<li>El siguiente, \"corrector\" paso refina la aproximación inicial utilizando el predicho valor de la función y otro método para interpolar el valor de esa función desconocida en el mismo punto posterior.</li>\n",
    "</ol>\n",
    "La formulacion viene dada por:\n",
    "<img src=https://wikimedia.org/api/rest_v1/media/math/render/svg/dd99d665bb7091f9d1a86562d1bf8b2bb8b204ce alt=middle>\n"
   ]
  },
  {
   "cell_type": "markdown",
   "metadata": {
    "kernel": "SoS"
   },
   "source": [
    "<h3 style=\"font-family: 'Courier New'; font-size:25px\"\n",
    "    >Valores iniciales</h3>"
   ]
  },
  {
   "cell_type": "markdown",
   "metadata": {
    "kernel": "SoS"
   },
   "source": [
    "$[a, b]$: Intervalo donde al que pertenece x. <br>\n",
    "$N$: Cantidad de puntos. <br>\n",
    "$y$: Valor inicial de y. <br>"
   ]
  },
  {
   "cell_type": "markdown",
   "metadata": {
    "kernel": "SoS"
   },
   "source": [
    "<h3 style=\"font-family: 'Courier New'; font-size:25px\"\n",
    "    >Ventajas y desventajas</h3>"
   ]
  },
  {
   "cell_type": "markdown",
   "metadata": {
    "kernel": "SoS"
   },
   "source": [
    "<table style=\"width:100%; text-align: left; font-size: 14px\">\n",
    "    <tr style=\"text-align: left;\">\n",
    "        <th style=\"text-align: left;\">Ventajas</th>\n",
    "        <th style=\"text-align: left;\">Desventajas</th>\n",
    "    </tr>\n",
    "    <tr>\n",
    "        <td style=\"text-align: left;\">Es una version mejorada del metodo de euler.</td>       \n",
    "        <td style=\"text-align: left;\">Es aplicable explicitamente a las ecuaciones diferenciales.</td>\n",
    "    </tr>\n",
    "    <tr>\n",
    "        <td style=\"text-align: left;\">Aproxima a mayor velocidad.</td>       \n",
    "        <td style=\"text-align: left;\"></td>\n",
    "    </tr>\n",
    "</table>"
   ]
  },
  {
   "cell_type": "markdown",
   "metadata": {
    "kernel": "SoS"
   },
   "source": [
    "<h3 style=\"font-family: 'Courier New'; font-size:25px\"\n",
    "    >Pseudocódigo</h3>"
   ]
  },
  {
   "cell_type": "markdown",
   "metadata": {
    "kernel": "SoS"
   },
   "source": [
    "<ol>\n",
    "    <li>Definir $h = \\frac{b-a}{n-1}$</li>\n",
    "    <li>Mientras $a<b-h$</li>\n",
    "    <li>&emsp;$x_{n+1} = x_n + h$</li>\n",
    "    <li>&emsp;${y}_{n+1}' = y_n + h \\textit{f}(x_n,y_n)$</li>\n",
    "    <li>&emsp;$y_{n+1} =  y_n + h \\frac{\\textit{f}(x_n,y_n)+\\textit{f}(x_{n+1},{y}_{n+1}')}{2}$</li>\n",
    "    <li>Fin Mientras</li>\n",
    "</ol>"
   ]
  },
  {
   "cell_type": "markdown",
   "metadata": {
    "kernel": "SoS"
   },
   "source": [
    "<h3 style=\"font-family: 'Courier New'; font-size:25px\">Octave</h3>"
   ]
  },
  {
   "cell_type": "code",
   "execution_count": 2,
   "metadata": {
    "kernel": "Octave"
   },
   "outputs": [],
   "source": [
    "function [y] = predictor_corrector(f, a, b, N, y)\n",
    "    % Metodo Predictor-Corrector para aproximar la solucion de un problema de valor inicial\n",
    "    % :param f: string con la funcion que se debe evaluar\n",
    "    % :param a: Extremo inferior del intervalo\n",
    "    % :param b: Extremo superior del intervalo\n",
    "    % :param N: Cantidad de puntos\n",
    "    % :param y: Valor de y para el a inicial\n",
    "    % :return: Valor de la ecuacion diferencial en xn\n",
    "    footion = str2func(strcat('@(x,y)',f));\n",
    "    h = (b - a) / (N - 1);\n",
    "    while a <= b - h\n",
    "        y_aux = y + h * footion(a, y);\n",
    "        y = y + h * (footion(a, y) + footion(a + h, y_aux)) / 2;\n",
    "        a = a + h;\n",
    "    end\n",
    "end"
   ]
  },
  {
   "cell_type": "markdown",
   "metadata": {
    "kernel": "Octave"
   },
   "source": [
    "<h3 style=\"font-family: 'Courier New'; font-size:25px\">Python</h3>"
   ]
  },
  {
   "cell_type": "code",
   "execution_count": 3,
   "metadata": {
    "kernel": "Python3"
   },
   "outputs": [],
   "source": [
    "from sympy import sympify\n",
    "\n",
    "def predictor_corrector(f, a, b, N, y):\n",
    "    \"\"\"\n",
    "    Metodo Predictor-Corrector para aproximar la solucion de un problema de valor inicial\n",
    "    :param f: string con la funcion que se debe evaluar\n",
    "    :param a: Extremo inferior del intervalo\n",
    "    :param b: Extremo superior del intervalo\n",
    "    :param N: Cantidad de puntos\n",
    "    :param y: Valor de y para el x inicial\n",
    "    :return: Valor de la ecuacion diferencial en xn\n",
    "    \"\"\"\n",
    "    footion = sympify(f)\n",
    "    h = (b - a) / (N - 1)\n",
    "    while a < b - h:\n",
    "        y_aux = y + h * footion.subs({'x': a, 'y': y})\n",
    "        y = y + h * (footion.subs({'x': a, 'y': y}) + footion.subs({'x': a + h, 'y': y_aux})) / 2\n",
    "        a = a + h\n",
    "    return y"
   ]
  },
  {
   "cell_type": "markdown",
   "metadata": {
    "kernel": "Python 3"
   },
   "source": [
    "<h3 style=\"font-family: 'Courier New'; font-size:25px\">Ejemplo Numérico</h3>"
   ]
  },
  {
   "cell_type": "markdown",
   "metadata": {
    "kernel": "Python 3"
   },
   "source": [
    "<h5 style=\"font-family: 'Courier New'; font-size:16px\">Octave</h5>"
   ]
  },
  {
   "cell_type": "code",
   "execution_count": 4,
   "metadata": {
    "kernel": "Octave"
   },
   "outputs": [
    {
     "name": "stdout",
     "output_type": "stream",
     "text": [
      "y =  5.2331\r\n"
     ]
    }
   ],
   "source": [
    "[y] = predictor_corrector('y - x^2 + 1', 0, 2, 11, 0.5)"
   ]
  },
  {
   "cell_type": "markdown",
   "metadata": {
    "kernel": "Python 3"
   },
   "source": [
    "<h5 style=\"font-family: 'Courier New'; font-size:16px\">Python</h5>"
   ]
  },
  {
   "cell_type": "code",
   "execution_count": 5,
   "metadata": {
    "kernel": "Python3"
   },
   "outputs": [
    {
     "name": "stdout",
     "output_type": "stream",
     "text": [
      "5.23305463018736\n"
     ]
    }
   ],
   "source": [
    "print(predictor_corrector('y - x^2 + 1', 0, 2, 11, 0.5))"
   ]
  },
  {
   "cell_type": "code",
   "execution_count": null,
   "metadata": {
    "kernel": "Python3"
   },
   "outputs": [],
   "source": []
  }
 ],
 "metadata": {
  "kernelspec": {
   "display_name": "SoS",
   "language": "sos",
   "name": "sos"
  },
  "language_info": {
   "codemirror_mode": "sos",
   "file_extension": ".sos",
   "mimetype": "text/x-sos",
   "name": "sos",
   "nbconvert_exporter": "sos_notebook.converter.SoS_Exporter",
   "pygments_lexer": "sos"
  },
  "sos": {
   "kernels": [
    [
     "Octave",
     "octave",
     "Octave",
     "#dff8fb",
     ""
    ],
    [
     "Python3",
     "python3",
     "Python3",
     "#FFD91A",
     ""
    ]
   ],
   "panel": {
    "displayed": true,
    "height": 0
   },
   "version": "0.21.9"
  }
 },
 "nbformat": 4,
 "nbformat_minor": 2
}
