{
 "cells": [
  {
   "cell_type": "markdown",
   "metadata": {
    "kernel": "SoS"
   },
   "source": [
    "<body>\n",
    "    <div>\n",
    "        <h2 style='font-family: cursive; font-size: 40px;'>Método de Euler</h2>\n",
    "<!--         <img src= alt=middle style=\"height: 340px\"> -->\n",
    "    </div>\n",
    "</body>"
   ]
  },
  {
   "cell_type": "markdown",
   "metadata": {
    "kernel": "SoS"
   },
   "source": [
    "<h3 style=\"font-family: 'Courier New'; font-size:25px\"\n",
    "    >Formulación matemática</h3>"
   ]
  },
  {
   "cell_type": "markdown",
   "metadata": {
    "kernel": "SoS"
   },
   "source": [
    "El método de Euler es un método de primer orden, lo que significa que el error local es proporcional al cuadrado del tamaño del paso, y el error global es proporcional al tamaño del paso. El método de Euler regularmente sirve como base para construir métodos más complejos. El metodo se representa con la siguiente fomula:\n",
    "<img src=https://wikimedia.org/api/rest_v1/media/math/render/svg/269f6c656eab53584639f205ecfe88b628af701a alt=middle>\n",
    "Donde $h$ es:\n",
    "<img src=https://wikimedia.org/api/rest_v1/media/math/render/svg/892e4f9f128d5a541668ef84639de5095e899590 alt=middle >"
   ]
  },
  {
   "cell_type": "markdown",
   "metadata": {
    "kernel": "SoS"
   },
   "source": [
    "<h3 style=\"font-family: 'Courier New'; font-size:25px\"\n",
    "    >Valores iniciales</h3>"
   ]
  },
  {
   "cell_type": "markdown",
   "metadata": {
    "kernel": "SoS"
   },
   "source": [
    "$[a, b]$: Intervalo donde al que pertenece x. <br>\n",
    "$N$: Cantidad de puntos. <br>\n",
    "$y$: Valor inicial de y. <br>"
   ]
  },
  {
   "cell_type": "markdown",
   "metadata": {
    "kernel": "SoS"
   },
   "source": [
    "<h3 style=\"font-family: 'Courier New'; font-size:25px\"\n",
    "    >Ventajas y desventajas</h3>"
   ]
  },
  {
   "cell_type": "markdown",
   "metadata": {
    "kernel": "SoS"
   },
   "source": [
    "<table style=\"width:100%; text-align: left; font-size: 14px\">\n",
    "    <tr style=\"text-align: left;\">\n",
    "        <th style=\"text-align: left;\">Ventajas</th>\n",
    "        <th style=\"text-align: left;\">Desventajas</th>\n",
    "    </tr>\n",
    "    <tr>\n",
    "        <td style=\"text-align: left;\">Es un metodo simple y directo.</td>       \n",
    "        <td style=\"text-align: left;\">Es poco preciso y numericamente inestable.</td>\n",
    "    </tr>\n",
    "    <tr>\n",
    "        <td style=\"text-align: left;\">Puede ser usado para IVPs no lineales</td>       \n",
    "        <td style=\"text-align: left;\">Es aplicable explicitamente a las ecuaciones diferenciales.</td>\n",
    "    </tr>\n",
    "</table>"
   ]
  },
  {
   "cell_type": "markdown",
   "metadata": {
    "kernel": "SoS"
   },
   "source": [
    "<h3 style=\"font-family: 'Courier New'; font-size:25px\"\n",
    "    >Pseudocódigo</h3>"
   ]
  },
  {
   "cell_type": "markdown",
   "metadata": {
    "kernel": "SoS"
   },
   "source": [
    "<ol>\n",
    "    <li>Definir $h = \\frac{b-a}{n-1}$</li>\n",
    "    <li>Mientras $a<b-h$</li>\n",
    "    <li>&emsp;${y}_{n+1} = y_n + h \\textit{f}(x_n,y_n)$</li>\n",
    "    <li>&emsp;$x_{n+1} = x_n + h$</li>\n",
    "    <li>Fin Mientras</li>\n",
    "</ol>"
   ]
  },
  {
   "cell_type": "markdown",
   "metadata": {
    "kernel": "SoS"
   },
   "source": [
    "<h3 style=\"font-family: 'Courier New'; font-size:25px\">Octave</h3>"
   ]
  },
  {
   "cell_type": "code",
   "execution_count": 1,
   "metadata": {
    "kernel": "Octave"
   },
   "outputs": [
    {
     "name": "stdout",
     "output_type": "stream",
     "text": [
      "y =  4.8658\r\n"
     ]
    }
   ],
   "source": [
    "function [y] = euler(f, a, b, N, y)\n",
    "    footion = str2func(strcat('@(x,y)',f));\n",
    "    h = (b - a) / (N - 1);\n",
    "    while a <= b - h\n",
    "        y = y + h * footion(a, y);\n",
    "        a = a + h;\n",
    "    end\n",
    "end\n",
    "\n",
    "[y] = euler('y - x^2 + 1', 0, 2, 11, 0.5)"
   ]
  },
  {
   "cell_type": "code",
   "execution_count": 7,
   "metadata": {
    "kernel": "Python3"
   },
   "outputs": [
    {
     "name": "stdout",
     "output_type": "stream",
     "text": [
      "4.86578450432000\n"
     ]
    }
   ],
   "source": [
    "from sympy import sympify\n",
    "def euler(f, a, b, N, y):\n",
    "    footion = sympify(f)\n",
    "    h = (b - a) / (N - 1)\n",
    "    while a < b - h:\n",
    "        y = y + h * footion.subs({'x': a, 'y': y})\n",
    "        a = a + h\n",
    "    return y\n",
    "\n",
    "print(euler('y - x^2 + 1', 0, 2, 11, 0.5))"
   ]
  },
  {
   "cell_type": "code",
   "execution_count": null,
   "metadata": {
    "kernel": "Python3"
   },
   "outputs": [],
   "source": []
  }
 ],
 "metadata": {
  "kernelspec": {
   "display_name": "SoS",
   "language": "sos",
   "name": "sos"
  },
  "language_info": {
   "codemirror_mode": "sos",
   "file_extension": ".sos",
   "mimetype": "text/x-sos",
   "name": "sos",
   "nbconvert_exporter": "sos_notebook.converter.SoS_Exporter",
   "pygments_lexer": "sos"
  },
  "sos": {
   "kernels": [
    [
     "Octave",
     "octave",
     "Octave",
     "#dff8fb",
     ""
    ],
    [
     "Python3",
     "python3",
     "Python3",
     "#FFD91A",
     ""
    ]
   ],
   "panel": {
    "displayed": true,
    "height": 0
   },
   "version": "0.21.9"
  }
 },
 "nbformat": 4,
 "nbformat_minor": 2
}
