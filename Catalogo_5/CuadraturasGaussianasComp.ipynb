{
 "cells": [
  {
   "cell_type": "markdown",
   "metadata": {
    "kernel": "SoS"
   },
   "source": [
    "<body>\n",
    "    <div>\n",
    "        <h2 style='font-family: cursive; font-size: 40px;'>Cuadraturas Gaussianas Compuesta</h2>\n",
    "<!--         <img src= alt=middle style=\"height: 340px\"> -->\n",
    "    </div>\n",
    "</body>"
   ]
  },
  {
   "cell_type": "markdown",
   "metadata": {
    "kernel": "SoS"
   },
   "source": [
    "<h3 style=\"font-family: 'Courier New'; font-size:25px\"\n",
    "    >Formulación matemática</h3>"
   ]
  },
  {
   "cell_type": "markdown",
   "metadata": {
    "kernel": "SoS"
   },
   "source": [
    "Tal cuadratura dará resultados precisos solo si $f(x)$ es aproximado por un polinomio dentro del rango [−1, 1]. Si la función puede ser escrita como $f(x)=W(x)g(x)$, donde $g(x)$ es un polinomio aproximado y $W(x)$ es conocido.\n",
    "<img src=https://raw.githubusercontent.com/isaacbmt/Extraclase-1/master/Screen%20Shot%202020-07-16%20at%202.34.12%20PM.png alt=middle style=\"height: 70px\">\n",
    "Donde $w_i$ corresponde a: \n",
    "    <img src=https://wikimedia.org/api/rest_v1/media/math/render/svg/8d4e8c42ff362c324ebe9d7cb9e3ad5201016814 alt=middle >"
   ]
  },
  {
   "cell_type": "markdown",
   "metadata": {
    "kernel": "SoS"
   },
   "source": [
    "<h3 style=\"font-family: 'Courier New'; font-size:25px\"\n",
    "    >Valores iniciales</h3>"
   ]
  },
  {
   "cell_type": "markdown",
   "metadata": {
    "kernel": "SoS"
   },
   "source": [
    "$[a, b]$: Intervalo donde se evalua la funcion f. <br>\n",
    "$n$: Grado del polinomio. <br>\n",
    "$m$: Cantidad de divisiones en los intervalos que se van a calcular. <br>"
   ]
  },
  {
   "cell_type": "markdown",
   "metadata": {
    "kernel": "SoS"
   },
   "source": [
    "<h3 style=\"font-family: 'Courier New'; font-size:25px\"\n",
    "    >Ventajas y desventajas</h3>"
   ]
  },
  {
   "cell_type": "markdown",
   "metadata": {
    "kernel": "SoS"
   },
   "source": [
    "<table style=\"width:100%; text-align: left; font-size: 14px\">\n",
    "    <tr style=\"text-align: left;\">\n",
    "        <th style=\"text-align: left;\">Ventajas</th>\n",
    "        <th style=\"text-align: left;\">Desventajas</th>\n",
    "    </tr>\n",
    "    <tr>\n",
    "        <td style=\"text-align: left;\">Escoge los mejores puntos y por eso da resultados mejor aproximada que las cuadraturas gausianas.</td>       \n",
    "        <td style=\"text-align: left;\">No incluye puntos finales.</td>\n",
    "    </tr>\n",
    "    <tr>\n",
    "        <td style=\"text-align: left;\"></td>       \n",
    "        <td style=\"text-align: left;\">Es un poco más lento que las cuadraturas gaussianas.</td>\n",
    "    </tr>\n",
    "</table>"
   ]
  },
  {
   "cell_type": "markdown",
   "metadata": {
    "kernel": "SoS"
   },
   "source": [
    "<h3 style=\"font-family: 'Courier New'; font-size:25px\"\n",
    "    >Pseudocódigo</h3>"
   ]
  },
  {
   "cell_type": "markdown",
   "metadata": {
    "kernel": "SoS"
   },
   "source": [
    "<ol>\n",
    "    <li>Definir $h = \\frac{b-a}{n-1}$</li>\n",
    "    <li>Calcular $P_n$</li>\n",
    "    <li>Calcular los 0 de $P_n$</li>\n",
    "    <li>Mientras $a \\neq b$</li>\n",
    "    <li>&emsp;Calcular Cuadratura gaussiana</li>\n",
    "    <li>&emsp;a = a + h</li>\n",
    "    <li>Fin Mientras</li>\n",
    "</ol>"
   ]
  },
  {
   "cell_type": "markdown",
   "metadata": {
    "kernel": "SoS"
   },
   "source": [
    "<h3 style=\"font-family: 'Courier New'; font-size:25px\">Octave</h3>"
   ]
  },
  {
   "cell_type": "code",
   "execution_count": 3,
   "metadata": {
    "kernel": "Octave"
   },
   "outputs": [],
   "source": [
    "pkg load symbolic\n",
    "format long\n",
    "warning('off', 'all');\n",
    "\n",
    "function y=derivate(f, n)\n",
    "    syms x;\n",
    "    y=diff(f,n);\n",
    "end\n",
    "\n",
    "function y = P_aux(n)\n",
    "    syms x;\n",
    "    y = (x^2 - 1)^n;\n",
    "end\n",
    "\n",
    "function [I] = int_gauss(a, b, x, n, Pn, footion)\n",
    "    Pn_dev = function_handle(diff(Pn));\n",
    "    I = 0;\n",
    "    for i=1:n\n",
    "        wi = 2 / ((1 - x(i)**2) * Pn_dev(x(i))**2);\n",
    "        I = I + double(wi * footion(((b - a) * x(i) + (b + a)) / 2));\n",
    "    end\n",
    "    I = I * (b - a) / 2;\n",
    "end\n",
    "\n",
    "function [I] = int_gauss_comp(f, a, b, n, m)\n",
    "    % Cuadratura gaussiana compuesta para calcular la integral de una funcion\n",
    "    % :param f: Funcion a integrar\n",
    "    % :param a: Limite inferior\n",
    "    % :param b: Limite superior\n",
    "    % :param n: Grado del polinomio\n",
    "    % :param m: Cantidad de puntos a utilizar\n",
    "    % :return: Resultado obtenido\n",
    "    footion = str2func(strcat('@(x)',f));\n",
    "    Pn = (1 / (factorial(n) * 2**n)) * derivate(P_aux(n), n);\n",
    "    x = double(sort(solve(Pn)));\n",
    "    h = (b - a) / (m - 1);\n",
    "    I = 0;\n",
    "    while a != b\n",
    "        I = I + int_gauss(a, a + h, x, n, Pn, footion);\n",
    "        a = a + h;\n",
    "    end\n",
    "end"
   ]
  },
  {
   "cell_type": "markdown",
   "metadata": {
    "kernel": "Octave"
   },
   "source": [
    "<h3 style=\"font-family: 'Courier New'; font-size:25px\">Python</h3>"
   ]
  },
  {
   "cell_type": "code",
   "execution_count": 1,
   "metadata": {
    "kernel": "Python3"
   },
   "outputs": [],
   "source": [
    "from sympy import symbols, sympify, diff, solve\n",
    "from math import factorial\n",
    "\n",
    "def get_funcs(f, n):\n",
    "    x = symbols('x')\n",
    "    deetion = diff(f, x)\n",
    "    if n == 1:\n",
    "        return deetion\n",
    "    else:\n",
    "        return get_funcs(deetion, n - 1)\n",
    "\n",
    "def P_aux(n):\n",
    "    x = symbols('x')\n",
    "    return (x ** 2 - 1) ** n\n",
    "\n",
    "def get_solutions(Pn):\n",
    "    x = symbols('x')\n",
    "    return sorted(solve(Pn, x))\n",
    "\n",
    "def int_gauss(a, b, solutions, n, Pn, footion):\n",
    "    Pn_dev = get_funcs(Pn, 1)\n",
    "    I = 0\n",
    "    for i in range(n):\n",
    "        wi = 2 / ((1 - solutions[i] ** 2) * Pn_dev.subs({'x' : solutions[i]}) ** 2)\n",
    "        I += wi * footion.subs({'x' : ((b - a) * solutions[i] + (b + a)) / 2})\n",
    "    return I * (b - a) / 2\n",
    "    \n",
    "def int_gauss_comp(f, a, b, n, m):\n",
    "    \"\"\"\n",
    "    Regla compuesta del trapecio para calcular la integral de una funcion\n",
    "    :param funcion: Funcion a integrar\n",
    "    :param a: Limite inferior\n",
    "    :param b: Limite superior\n",
    "    :param n: Grado del polinomio\n",
    "    :param m: Cantidad de puntos a utilizar\n",
    "    :return: Resultado obtenido\n",
    "    \"\"\"\n",
    "    footion = sympify(f)\n",
    "    Pn = (1 / (factorial(n) * 2 ** n)) * get_funcs(P_aux(n), n)\n",
    "    solutions = get_solutions(Pn)\n",
    "    h = (b - a) / (m - 1)\n",
    "    I = 0\n",
    "    while a != b:\n",
    "        I += int_gauss(a, a + h, solutions, n, Pn, footion)\n",
    "        a = a + h\n",
    "    return I"
   ]
  },
  {
   "cell_type": "markdown",
   "metadata": {
    "kernel": "Python 3"
   },
   "source": [
    "<h3 style=\"font-family: 'Courier New'; font-size:25px\">Ejemplo Numérico</h3>"
   ]
  },
  {
   "cell_type": "markdown",
   "metadata": {
    "kernel": "Python 3"
   },
   "source": [
    "<h5 style=\"font-family: 'Courier New'; font-size:16px\">Octave</h5>"
   ]
  },
  {
   "cell_type": "code",
   "execution_count": 4,
   "metadata": {
    "kernel": "Octave"
   },
   "outputs": [
    {
     "name": "stdout",
     "output_type": "stream",
     "text": [
      "Symbolic pkg v2.8.0: Python communication link active, SymPy v1.5.1.\n",
      "I =  3.660895258660551\n"
     ]
    }
   ],
   "source": [
    "I = int_gauss_comp('log(x)', 2, 5, 3, 5)"
   ]
  },
  {
   "cell_type": "markdown",
   "metadata": {
    "kernel": "Python 3"
   },
   "source": [
    "<h5 style=\"font-family: 'Courier New'; font-size:16px\">Python</h5>"
   ]
  },
  {
   "cell_type": "code",
   "execution_count": 2,
   "metadata": {
    "kernel": "Python3"
   },
   "outputs": [
    {
     "name": "stdout",
     "output_type": "stream",
     "text": [
      "3.66089525866055\n"
     ]
    }
   ],
   "source": [
    "print(int_gauss_comp('log(x)', 2, 5, 3, 5))"
   ]
  },
  {
   "cell_type": "code",
   "execution_count": null,
   "metadata": {
    "kernel": "Python3"
   },
   "outputs": [],
   "source": []
  }
 ],
 "metadata": {
  "kernelspec": {
   "display_name": "SoS",
   "language": "sos",
   "name": "sos"
  },
  "language_info": {
   "codemirror_mode": "sos",
   "file_extension": ".sos",
   "mimetype": "text/x-sos",
   "name": "sos",
   "nbconvert_exporter": "sos_notebook.converter.SoS_Exporter",
   "pygments_lexer": "sos"
  },
  "sos": {
   "kernels": [
    [
     "Octave",
     "octave",
     "Octave",
     "#dff8fb",
     ""
    ],
    [
     "Python3",
     "python3",
     "Python3",
     "#FFD91A",
     {
      "name": "ipython",
      "version": 3
     }
    ]
   ],
   "panel": {
    "displayed": true,
    "height": 0
   },
   "version": "0.21.9"
  }
 },
 "nbformat": 4,
 "nbformat_minor": 2
}
