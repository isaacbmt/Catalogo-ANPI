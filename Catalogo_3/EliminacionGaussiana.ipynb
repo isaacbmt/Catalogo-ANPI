{
 "cells": [
  {
   "cell_type": "markdown",
   "metadata": {
    "kernel": "SoS"
   },
   "source": [
    "<body>\n",
    "    <div>\n",
    "        <h2 style='font-family: cursive; font-size: 40px;'>Método del Eliminacion Gaussiana</h2>\n",
    "<!--         <img src= alt=middle style=\"height: 340px\"> -->\n",
    "    </div>\n",
    "</body>"
   ]
  },
  {
   "cell_type": "code",
   "execution_count": null,
   "metadata": {
    "kernel": "SoS"
   },
   "outputs": [],
   "source": []
  },
  {
   "cell_type": "code",
   "execution_count": null,
   "metadata": {
    "kernel": "SoS"
   },
   "outputs": [],
   "source": []
  },
  {
   "cell_type": "code",
   "execution_count": null,
   "metadata": {
    "kernel": "SoS"
   },
   "outputs": [],
   "source": []
  },
  {
   "cell_type": "code",
   "execution_count": null,
   "metadata": {
    "kernel": "SoS"
   },
   "outputs": [],
   "source": []
  },
  {
   "cell_type": "code",
   "execution_count": null,
   "metadata": {
    "kernel": "SoS"
   },
   "outputs": [],
   "source": []
  },
  {
   "cell_type": "markdown",
   "metadata": {
    "kernel": "SoS"
   },
   "source": [
    "<h3 style=\"font-family: 'Courier New'; font-size:25px\">Octave</h3>"
   ]
  },
  {
   "cell_type": "code",
   "execution_count": 139,
   "metadata": {
    "kernel": "Octave"
   },
   "outputs": [
    {
     "name": "stdout",
     "output_type": "stream",
     "text": [
      "a =\r\n",
      "\r\n",
      "    2   -6   12   70\r\n",
      "    0    1    0   -9\r\n",
      "    0    0    3    5\r\n",
      "\r\n",
      "x =\r\n",
      "\r\n",
      "  -2.000000000000000\r\n",
      "  -9.000000000000000\r\n",
      "   1.666666666666667\r\n",
      "\r\n"
     ]
    }
   ],
   "source": [
    "format long\n",
    "\n",
    "function [a] = UpperTriangular(a, m, n)\n",
    "    for i=1:m\n",
    "        if a(i,i) == 0\n",
    "            disp('Error: Zero division exception.');\n",
    "        end\n",
    "        for j=i+1:m\n",
    "            if i!=j\n",
    "                coef = a(j, i)/a(i, i);\n",
    "                for k=i:(m+1)\n",
    "                    a(j, k) = a(j, k) - coef * a(i, k);\n",
    "                end\n",
    "            end\n",
    "        end\n",
    "    end\n",
    "end\n",
    "\n",
    "function [x_i] = EliminacionGaussiana(a)\n",
    "    [m n] = size(a);\n",
    "    [a] = UpperTriangular(a, m, n);\n",
    "    \n",
    "    x_i(m) = [a(m,n)/a(m,m)];\n",
    "    for i=m:-1:1\n",
    "        x_sum = 0;\n",
    "        for j=i+1:m\n",
    "            x_sum = x_sum + a(i, j) * x_i(j);\n",
    "        end\n",
    "        \n",
    "        x_i(i) = (a(i, n)-x_sum)/a(i,i);\n",
    "    end\n",
    "    x_i = x_i';\n",
    "end  \n",
    "\n",
    "# m = [1 1 1 9; 2 -3 4 13; 3 4 5 40];\n",
    "m = [2 -6 12 70; 1 -2 6  26; -1 3 -3 -30];\n",
    "\n",
    "x = EliminacionGaussiana(m)"
   ]
  },
  {
   "cell_type": "markdown",
   "metadata": {
    "kernel": "Octave"
   },
   "source": [
    "<h3 style=\"font-family: 'Courier New'; font-size:25px\">Python</h3>"
   ]
  },
  {
   "cell_type": "code",
   "execution_count": 24,
   "metadata": {
    "kernel": "Python3"
   },
   "outputs": [
    {
     "name": "stdout",
     "output_type": "stream",
     "text": [
      "3 4\n",
      "Matrix([[-2.00000000000000], [-9.00000000000000], [1.66666666666667]])\n"
     ]
    }
   ],
   "source": [
    "from sympy import Matrix\n",
    "\n",
    "def UpperTriangular(a, m, n):\n",
    "    for i in range(m):\n",
    "        if a[i][i] == 0:\n",
    "            print('Error: Zero division exception.')\n",
    "        for j in range(i+1,m):\n",
    "            if i != j:\n",
    "                coef = a[j][i] / a[i][i]\n",
    "                for k in range(i, n):\n",
    "                    a[j][k] -= coef * a[i][k]\n",
    "    return a\n",
    "\n",
    "\n",
    "def backwardSubstitution(a, m, n):\n",
    "    x_i = [0] * m\n",
    "    x_i[m-1] = a[m-1][n-1]/a[m-1][m-1]\n",
    "    for i in range(m-1, -1, -1):\n",
    "        x_sum = 0\n",
    "        for j in range(i+1, m):\n",
    "            x_sum += a[i][j] * x_i[j]\n",
    "        x_i[i] = (a[i][m] - x_sum)/a[i][i]\n",
    "    return Matrix(x_i)\n",
    "    \n",
    "    \n",
    "def EliminacionGaussiana(a):\n",
    "    m = len(a) \n",
    "    n = len(a[0])\n",
    "    print(m, n)\n",
    "    a = UpperTriangular(a, m, n)\n",
    "    a = backwardSubstitution(a, m, n)\n",
    "    return a\n",
    "\n",
    "m = [[2, -6, 12, 70], [1, -2, 6,  26], [-1, 3, -3, -30]]\n",
    "print(EliminacionGaussiana(m))"
   ]
  },
  {
   "cell_type": "code",
   "execution_count": null,
   "metadata": {
    "kernel": "SoS"
   },
   "outputs": [],
   "source": []
  }
 ],
 "metadata": {
  "kernelspec": {
   "display_name": "SoS",
   "language": "sos",
   "name": "sos"
  },
  "language_info": {
   "codemirror_mode": "sos",
   "file_extension": ".sos",
   "mimetype": "text/x-sos",
   "name": "sos",
   "nbconvert_exporter": "sos_notebook.converter.SoS_Exporter",
   "pygments_lexer": "sos"
  },
  "sos": {
   "kernels": [
    [
     "Octave",
     "octave",
     "Octave",
     "#dff8fb",
     ""
    ],
    [
     "Python3",
     "python3",
     "Python3",
     "#FFD91A",
     ""
    ],
    [
     "SoS",
     "sos",
     "",
     "",
     "sos"
    ]
   ],
   "panel": {
    "displayed": true,
    "height": 0
   },
   "version": "0.21.9"
  }
 },
 "nbformat": 4,
 "nbformat_minor": 2
}
