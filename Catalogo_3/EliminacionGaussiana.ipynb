{
 "cells": [
  {
   "cell_type": "markdown",
   "metadata": {
    "kernel": "SoS"
   },
   "source": [
    "<body>\n",
    "    <div>\n",
    "        <h2 style='font-family: cursive; font-size: 40px;'>Método del Eliminacion Gaussiana</h2>\n",
    "<!--         <img src= alt=middle style=\"height: 340px\"> -->\n",
    "    </div>\n",
    "</body>"
   ]
  },
  {
   "cell_type": "markdown",
   "metadata": {
    "kernel": "SoS"
   },
   "source": [
    "<h3 style=\"font-family: 'Courier New'; font-size:25px\"\n",
    "    >Formulación matemática</h3>"
   ]
  },
  {
   "cell_type": "markdown",
   "metadata": {
    "kernel": "SoS"
   },
   "source": [
    "$Ax=b$"
   ]
  },
  {
   "cell_type": "markdown",
   "metadata": {
    "kernel": "SoS"
   },
   "source": [
    "<h3 style=\"font-family: 'Courier New'; font-size:25px\"\n",
    "    >Valores iniciales</h3>"
   ]
  },
  {
   "cell_type": "markdown",
   "metadata": {
    "kernel": "SoS"
   },
   "source": [
    "A: Matriz con numeros reales de tamaño mxm.\n",
    "<br>\n",
    "b: Vector de tamaño m."
   ]
  },
  {
   "cell_type": "markdown",
   "metadata": {
    "kernel": "SoS"
   },
   "source": [
    "<h3 style=\"font-family: 'Courier New'; font-size:25px\"\n",
    "    >Ventajas y desventajas</h3>"
   ]
  },
  {
   "cell_type": "markdown",
   "metadata": {
    "kernel": "SoS"
   },
   "source": [
    "<table style=\"width:100%; text-align: left; font-size: 14px\">\n",
    "    <tr style=\"text-align: left;\">\n",
    "        <th style=\"text-align: left;\">Ventajas</th>\n",
    "        <th style=\"text-align: left;\">Desventajas</th>\n",
    "    </tr>\n",
    "    <tr>\n",
    "        <td style=\"text-align: left;\">Es un metodo simple para obtener soluciones de ecuaciones por matrices.</td>       \n",
    "        <td style=\"text-align: left;\">Requiere que la matriz sea triangular superior.</td>\n",
    "    </tr>\n",
    "    <tr>\n",
    "        <td style=\"text-align: left;\"> Puede proporcionar un método directo para obtener la matriz inversa.</td>\n",
    "        <td style=\"text-align: left;\">Puede ocurrir error de division por cero.</td>\n",
    "    </tr>\n",
    "</table>"
   ]
  },
  {
   "cell_type": "markdown",
   "metadata": {
    "kernel": "SoS"
   },
   "source": [
    "<h3 style=\"font-family: 'Courier New'; font-size:25px\"\n",
    "    >Pseudocódigo</h3>"
   ]
  },
  {
   "cell_type": "markdown",
   "metadata": {
    "kernel": "SoS"
   },
   "source": [
    "<ol>\n",
    "    <li>x=[A|b]</li>\n",
    "    <li>Para k=1:m-1</li>\n",
    "    <li>&emsp;Para i=k+1:m</li>\n",
    "    <li>&emsp;&emsp;$m_{ik}=\\frac{x_{ik}}{x_{kk}}$</li>\n",
    "    <li>&emsp;&emsp;Para j=k:m+1</li>\n",
    "    <li>&emsp;&emsp;&emsp;$x_{ij}=x_{ij}-m_{ik}*x_{kj}$</li>\n",
    "    <li>&emsp;&emsp;Fin del Para</li>\n",
    "    <li>&emsp;Fin del Para</li>\n",
    "    <li>Fin del Para</li>\n",
    "    <li>Retornar sustitucion hacia atras de x</li>\n",
    "</ol>"
   ]
  },
  {
   "cell_type": "markdown",
   "metadata": {
    "kernel": "SoS"
   },
   "source": [
    "<h3 style=\"font-family: 'Courier New'; font-size:25px\">Octave</h3>"
   ]
  },
  {
   "cell_type": "code",
   "execution_count": 26,
   "metadata": {
    "kernel": "Octave"
   },
   "outputs": [],
   "source": [
    "format long\n",
    "\n",
    "function [a] = UpperTriangular(a, m, n)\n",
    "    for i=1:m\n",
    "        if a(i,i) == 0\n",
    "            disp('Error: Zero division exception.');\n",
    "        end\n",
    "        for j=i+1:m\n",
    "            if i!=j\n",
    "                coef = a(j, i)/a(i, i);\n",
    "                for k=i:(m+1)\n",
    "                    a(j, k) = a(j, k) - coef * a(i, k);\n",
    "                end\n",
    "            end\n",
    "        end\n",
    "    end\n",
    "end\n",
    "\n",
    "function [x_i] = EliminacionGaussiana(a)\n",
    "    [m n] = size(a);\n",
    "    [a] = UpperTriangular(a, m, n);\n",
    "    \n",
    "    x_i(m) = [a(m,n)/a(m,m)];\n",
    "    for i=m:-1:1\n",
    "        x_sum = 0;\n",
    "        for j=i+1:m\n",
    "            x_sum = x_sum + a(i, j) * x_i(j);\n",
    "        end\n",
    "        \n",
    "        x_i(i) = (a(i, n)-x_sum)/a(i,i);\n",
    "    end\n",
    "    x_i = x_i';\n",
    "end  "
   ]
  },
  {
   "cell_type": "markdown",
   "metadata": {
    "kernel": "Octave"
   },
   "source": [
    "<h3 style=\"font-family: 'Courier New'; font-size:25px\">Python</h3>"
   ]
  },
  {
   "cell_type": "code",
   "execution_count": 29,
   "metadata": {
    "kernel": "Python3"
   },
   "outputs": [],
   "source": [
    "from sympy import Matrix\n",
    "\n",
    "def UpperTriangular(a, m, n):\n",
    "    for i in range(m):\n",
    "        if a[i][i] == 0:\n",
    "            print('Error: Zero division exception.')\n",
    "        for j in range(i+1,m):\n",
    "            if i != j:\n",
    "                coef = a[j][i] / a[i][i]\n",
    "                for k in range(i, n):\n",
    "                    a[j][k] -= coef * a[i][k]\n",
    "    return a\n",
    "\n",
    "\n",
    "def backwardSubstitution(a, m, n):\n",
    "    x_i = [0] * m\n",
    "    x_i[m-1] = a[m-1][n-1]/a[m-1][m-1]\n",
    "    for i in range(m-1, -1, -1):\n",
    "        x_sum = 0\n",
    "        for j in range(i+1, m):\n",
    "            x_sum += a[i][j] * x_i[j]\n",
    "        x_i[i] = (a[i][m] - x_sum)/a[i][i]\n",
    "    return Matrix(x_i)\n",
    "    \n",
    "    \n",
    "def EliminacionGaussiana(a):\n",
    "    m = len(a) \n",
    "    n = len(a[0])\n",
    "    print(m, n)\n",
    "    a = UpperTriangular(a, m, n)\n",
    "    a = backwardSubstitution(a, m, n)\n",
    "    return a"
   ]
  },
  {
   "cell_type": "markdown",
   "metadata": {
    "kernel": "Python 3"
   },
   "source": [
    "<h3 style=\"font-family: 'Courier New'; font-size:25px\">Ejemplo Numérico</h3>"
   ]
  },
  {
   "cell_type": "markdown",
   "metadata": {
    "kernel": "Python 3"
   },
   "source": [
    "<h5 style=\"font-family: 'Courier New'; font-size:16px\">Python</h5>"
   ]
  },
  {
   "cell_type": "code",
   "execution_count": 30,
   "metadata": {
    "kernel": "Python3"
   },
   "outputs": [
    {
     "name": "stdout",
     "output_type": "stream",
     "text": [
      "3 4\n",
      "Matrix([[-2.00000000000000], [-9.00000000000000], [1.66666666666667]])\n"
     ]
    }
   ],
   "source": [
    "m = [[2, -6, 12, 70], [1, -2, 6,  26], [-1, 3, -3, -30]]\n",
    "print(EliminacionGaussiana(m))"
   ]
  },
  {
   "cell_type": "markdown",
   "metadata": {
    "kernel": "Python 3"
   },
   "source": [
    "<h5 style=\"font-family: 'Courier New'; font-size:16px\">Octave</h5>"
   ]
  },
  {
   "cell_type": "code",
   "execution_count": 28,
   "metadata": {
    "kernel": "Octave"
   },
   "outputs": [
    {
     "name": "stdout",
     "output_type": "stream",
     "text": [
      "x =\r\n",
      "\r\n",
      "  -2.000000000000000\r\n",
      "  -9.000000000000000\r\n",
      "   1.666666666666667\r\n",
      "\r\n"
     ]
    }
   ],
   "source": [
    "m = [2 -6 12 70; 1 -2 6  26; -1 3 -3 -30];\n",
    "x = EliminacionGaussiana(m)"
   ]
  },
  {
   "cell_type": "code",
   "execution_count": null,
   "metadata": {
    "kernel": "SoS"
   },
   "outputs": [],
   "source": []
  }
 ],
 "metadata": {
  "kernelspec": {
   "display_name": "SoS",
   "language": "sos",
   "name": "sos"
  },
  "language_info": {
   "codemirror_mode": "sos",
   "file_extension": ".sos",
   "mimetype": "text/x-sos",
   "name": "sos",
   "nbconvert_exporter": "sos_notebook.converter.SoS_Exporter",
   "pygments_lexer": "sos"
  },
  "sos": {
   "kernels": [
    [
     "Octave",
     "octave",
     "Octave",
     "#dff8fb",
     ""
    ],
    [
     "Python3",
     "python3",
     "Python3",
     "#FFD91A",
     {
      "name": "ipython",
      "version": 3
     }
    ],
    [
     "SoS",
     "sos",
     "",
     "",
     "sos"
    ]
   ],
   "panel": {
    "displayed": true,
    "height": 0
   },
   "version": "0.21.9"
  }
 },
 "nbformat": 4,
 "nbformat_minor": 2
}
