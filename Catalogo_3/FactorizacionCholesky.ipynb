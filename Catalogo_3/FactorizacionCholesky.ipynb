{
 "cells": [
  {
   "cell_type": "markdown",
   "metadata": {
    "kernel": "SoS"
   },
   "source": [
    "<body>\n",
    "    <div>\n",
    "        <h2 style='font-family: cursive; font-size: 40px;'>Factorizacion Cholesky</h2>\n",
    "<!--         <img src= alt=middle style=\"height: 340px\"> -->\n",
    "    </div>\n",
    "</body>"
   ]
  },
  {
   "cell_type": "markdown",
   "metadata": {
    "kernel": "SoS"
   },
   "source": [
    "<h3 style=\"font-family: 'Courier New'; font-size:25px\"\n",
    "    >Formulación matemática</h3>"
   ]
  },
  {
   "cell_type": "markdown",
   "metadata": {
    "kernel": "SoS"
   },
   "source": [
    "$A=L*L^T$"
   ]
  },
  {
   "cell_type": "markdown",
   "metadata": {
    "kernel": "SoS"
   },
   "source": [
    "<h3 style=\"font-family: 'Courier New'; font-size:25px\"\n",
    "    >Valores iniciales</h3>"
   ]
  },
  {
   "cell_type": "markdown",
   "metadata": {
    "kernel": "SoS"
   },
   "source": [
    "A: Matriz de tamaño mxm que sea SDP.\n",
    "<br>\n",
    "b: Vector de tamaño m."
   ]
  },
  {
   "cell_type": "markdown",
   "metadata": {
    "kernel": "SoS"
   },
   "source": [
    "<h3 style=\"font-family: 'Courier New'; font-size:25px\"\n",
    "    >Ventajas y desventajas</h3>"
   ]
  },
  {
   "cell_type": "markdown",
   "metadata": {
    "kernel": "SoS"
   },
   "source": [
    "<table style=\"width:100%; text-align: left; font-size: 14px\">\n",
    "    <tr style=\"text-align: left;\">\n",
    "        <th style=\"text-align: left;\">Ventajas</th>\n",
    "        <th style=\"text-align: left;\">Desventajas</th>\n",
    "    </tr>\n",
    "    <tr>\n",
    "        <td style=\"text-align: left;\">Es un metodo que utiliza pocos recursos del computador haciendo más rapido el proceso de datos.</td>       \n",
    "        <td style=\"text-align: left;\">Solo se puede aplicar cuando la matriz es SDP.</td>\n",
    "    </tr>\n",
    "</table>"
   ]
  },
  {
   "cell_type": "markdown",
   "metadata": {
    "kernel": "SoS"
   },
   "source": [
    "<h3 style=\"font-family: 'Courier New'; font-size:25px\"\n",
    "    >Pseudocódigo</h3>"
   ]
  },
  {
   "cell_type": "markdown",
   "metadata": {
    "kernel": "SoS"
   },
   "source": [
    "<ol>\n",
    "    <li>Verificar que A es SDP</li>\n",
    "    <li>Para j=1:m</li>\n",
    "    <li>&emsp;$l_{jj} = \\sqrt{a_{jj} -\\sum\\limits_{k=1}^{j-1} l_{jk}^2}$</li>\n",
    "    <li>&emsp;Para i=j:m</li>\n",
    "    <li>&emsp;&emsp;$l_{ij} = \\sqrt{a_{ij} -\\sum\\limits_{k=1}^{j-1} l_{jk}*l_{ik}}$</li>\n",
    "    <li>&emsp;Fin Para</li>\n",
    "    <li>Fin Para</li>\n",
    "    <li>Y = hacer sustituciona hacia delante de $l$ y b</li>\n",
    "    <li>x = hacer sustituciona hacia atras de $l^T$ y Y</li>\n",
    "    <li>Retornar x</li>\n",
    "</ol>"
   ]
  },
  {
   "cell_type": "markdown",
   "metadata": {
    "kernel": "SoS"
   },
   "source": [
    "<h3 style=\"font-family: 'Courier New'; font-size:25px\">Octave</h3>"
   ]
  },
  {
   "cell_type": "code",
   "execution_count": 14,
   "metadata": {
    "kernel": "Octave"
   },
   "outputs": [],
   "source": [
    "function [error] = checkSDP(a, m, n)\n",
    "    error = 0;\n",
    "    if  m != n\n",
    "        error = 1;\n",
    "        disp('Error: La matriz no es cuadrada.');\n",
    "    end\n",
    "    if !issymmetric(a)\n",
    "        error = 1;\n",
    "        disp('Error: La matriz no es simetrica.');\n",
    "    else\n",
    "        for i=1:m\n",
    "            if det(a(1:i, 1:i)) < 0\n",
    "                error = 1;\n",
    "                disp('Error: La matriz no es definida positiva.');\n",
    "            end\n",
    "        end\n",
    "    end\n",
    "end\n",
    "\n",
    "function [l] = cholesky_aux(a, m, n)\n",
    "    l(m,m) = 0;\n",
    "    l(1,1) = sqrt(a(1, 1));\n",
    "\n",
    "    for i=2:m\n",
    "        l(i,1) = a(i, 1)/l(1,1);\n",
    "\n",
    "        for j=2:i-1\n",
    "            l_sum = 0;\n",
    "            \n",
    "            for k=1:j\n",
    "                l_sum = l_sum + l(j,k) * l(i,k);\n",
    "            end\n",
    "            l(i,j) = (a(i,j) - l_sum)/l(j,j);\n",
    "        end\n",
    "        l_pow = 0;\n",
    "        for k=1:i\n",
    "            l_pow = l_pow + l(i,k)**2;\n",
    "        end\n",
    "        l(i,i) = sqrt(a(i,i) - l_pow);\n",
    "    end\n",
    "end\n",
    "\n",
    "function [x] = backwardSubstitution(a, m, n)\n",
    "    x_i(m) = [a(m,n)/a(m,m)];\n",
    "    for i=m:-1:1\n",
    "        x_sum = 0;\n",
    "        for j=i+1:m\n",
    "            x_sum = x_sum + a(i, j) * x_i(j);\n",
    "        end\n",
    "        x_i(i) = (a(i, n)-x_sum)/a(i,i);\n",
    "    end\n",
    "    x = x_i';\n",
    "end\n",
    "\n",
    "function [y] = forwardSubstitution(a, m, n)\n",
    "    x_i(m) = 0;\n",
    "    x_i(1) = a(1,n)/a(1,1);\n",
    "    for i=2:m\n",
    "        x_sum = 0;\n",
    "        for j=1:i\n",
    "            x_sum = x_sum + a(i, j) * x_i(j);\n",
    "        end\n",
    "        \n",
    "        if a(i,i) != 0\n",
    "            x_i(i) = (a(i, n)-x_sum)/a(i,i);\n",
    "        else\n",
    "            x_i(i) = 0;\n",
    "        end\n",
    "    end\n",
    "    y = x_i';\n",
    "end\n",
    "\n",
    "function [x] = cholesky(a, b)\n",
    "    [m,n] = size(a);\n",
    "    if checkSDP(a, m, n)\n",
    "        x = 0;\n",
    "    else\n",
    "        l = cholesky_aux(a, m, n);\n",
    "        l_2 = [l b];\n",
    "        [y] = forwardSubstitution(l_2, m, n + 1);\n",
    "        l_t = [l' y];\n",
    "        [x] = backwardSubstitution(l_t, m, n + 1);\n",
    "    end    \n",
    "end"
   ]
  },
  {
   "cell_type": "markdown",
   "metadata": {
    "kernel": "Octave"
   },
   "source": [
    "<h3 style=\"font-family: 'Courier New'; font-size:25px\">Python</h3>"
   ]
  },
  {
   "cell_type": "code",
   "execution_count": 12,
   "metadata": {
    "kernel": "Python3"
   },
   "outputs": [],
   "source": [
    "from sympy import Matrix\n",
    "from math import sqrt\n",
    "\n",
    "def transpose(a, n): \n",
    "    tr = []\n",
    "    for i in range(n):\n",
    "        tr.append([0] * n)\n",
    "    for i in range(n): \n",
    "        for j in range(n): \n",
    "            tr[i][j] = a[j][i]\n",
    "    return tr\n",
    "\n",
    "def issymmetric(a, n): \n",
    "    for i in range(n): \n",
    "        for j in range(n): \n",
    "            if (a[i][j] != a[j][i]): \n",
    "                return False\n",
    "    return True\n",
    "\n",
    "\n",
    "def checkSDP(a, m, n):\n",
    "    error = False\n",
    "    if m != n:\n",
    "        error = True\n",
    "        print('Error: La matriz no es cuadrada.')\n",
    "    if not(issymmetric(a, n)):\n",
    "        error = True\n",
    "        print('Error: La matriz no es simetrica.')\n",
    "    else:\n",
    "        a = Matrix(a)\n",
    "        if not(a.is_positive_definite):\n",
    "            error = 1\n",
    "            print('Error: La matriz no es definida positiva.')\n",
    "    return error\n",
    "\n",
    "\n",
    "def cholesky_aux(a, m, n):\n",
    "    l = []\n",
    "    for i in range(m):\n",
    "        l.append([0] * m)\n",
    "    l[0][0] = sqrt(a[0][0])\n",
    "    \n",
    "    for i in range(1, m):\n",
    "        l[i][0] = a[i][0] / l[0][0]\n",
    "        for j in range(1, i):\n",
    "            l_sum = 0\n",
    "            for k in range(j):\n",
    "                l_sum += l[j][k] * l[i][k]\n",
    "            l[i][j] = (a[i][j] - l_sum) / l[j][j]\n",
    "        l_pow = 0\n",
    "        for k in range(i):\n",
    "            l_pow += l[i][k]**2\n",
    "        l[i][i] = sqrt(a[i][i] - l_pow)\n",
    "    return l\n",
    "    \n",
    "    \n",
    "def backwardSubstitution(a, m, n):\n",
    "    x_i = [0] * m\n",
    "    x_i[m-1] = a[m-1][n-1]/a[m-1][m-1]\n",
    "    for i in range(m-1, -1, -1):\n",
    "        x_sum = 0\n",
    "        for j in range(i+1, m):\n",
    "            x_sum += a[i][j] * x_i[j]\n",
    "        x_i[i] = (a[i][m] - x_sum)/a[i][i]\n",
    "    return x_i\n",
    "    \n",
    "\n",
    "def forwardSubstitution(a, m, n):\n",
    "    x_i = [0] * m\n",
    "    x_i[0] = a[0][n-1]/a[0][0]\n",
    "    for i in range(1, m):\n",
    "        x_sum = 0\n",
    "        for j in range(0, i):\n",
    "            x_sum += a[i][j] * x_i[j]\n",
    "        if a[i][i] != 0:\n",
    "            x_i[i] = (a[i][m] - x_sum)/a[i][i]\n",
    "        else:\n",
    "            x_i[i] = 0\n",
    "    return x_i\n",
    "\n",
    "\n",
    "def appendColumn(a, b):\n",
    "    m = len(a)\n",
    "    for i in range(m):\n",
    "        a[i].append(b[i])\n",
    "    return a\n",
    "\n",
    "\n",
    "def cholesky(a, b):\n",
    "    m = len(a) \n",
    "    n = len(a[0])\n",
    "    if checkSDP(a, m, n):\n",
    "        x = 0\n",
    "    else:\n",
    "        l = cholesky_aux(a, m, n)\n",
    "        print(l)\n",
    "        print(' ')\n",
    "        y = forwardSubstitution(appendColumn(l, b), m, n + 1)\n",
    "        x = backwardSubstitution(appendColumn(transpose(l, m), y), m, n + 1)\n",
    "    return x"
   ]
  },
  {
   "cell_type": "markdown",
   "metadata": {
    "kernel": "Python 3"
   },
   "source": [
    "<h3 style=\"font-family: 'Courier New'; font-size:25px\">Ejemplo Numérico</h3>"
   ]
  },
  {
   "cell_type": "markdown",
   "metadata": {
    "kernel": "Python 3"
   },
   "source": [
    "<h5 style=\"font-family: 'Courier New'; font-size:16px\">Python</h5>"
   ]
  },
  {
   "cell_type": "code",
   "execution_count": 13,
   "metadata": {
    "kernel": "Python3"
   },
   "outputs": [
    {
     "name": "stdout",
     "output_type": "stream",
     "text": [
      "[[5.0, 0, 0, 0], [3.0, 1.0, 0, 0], [-1.0, 4.0, 2.0, 0], [-2.0, -1.0, 3.0, 2.0]]\n",
      " \n",
      "[-1.0, -1.0, -1.0, -1.0]\n"
     ]
    }
   ],
   "source": [
    "a = [[25, 15, -5, -10], [15, 10, 1, -7], [-5, 1, 21, 4], [-10, -7, 4, 18]]\n",
    "b = [-25, -19, -21, -5]\n",
    "print(cholesky(a, b))"
   ]
  },
  {
   "cell_type": "markdown",
   "metadata": {
    "kernel": "Python 3"
   },
   "source": [
    "<h5 style=\"font-family: 'Courier New'; font-size:16px\">Octave</h5>"
   ]
  },
  {
   "cell_type": "code",
   "execution_count": 15,
   "metadata": {
    "kernel": "Octave"
   },
   "outputs": [
    {
     "name": "stdout",
     "output_type": "stream",
     "text": [
      "x =\r\n",
      "\r\n",
      "  -1\r\n",
      "  -1\r\n",
      "  -1\r\n",
      "  -1\r\n",
      "\r\n"
     ]
    }
   ],
   "source": [
    "a = [25 15 -5 -10; 15 10 1 -7; -5 1 21 4; -10 -7 4 18];\n",
    "b = [-25; -19; -21; -5];\n",
    "\n",
    "x = cholesky(a, b)"
   ]
  },
  {
   "cell_type": "code",
   "execution_count": null,
   "metadata": {
    "kernel": "Octave"
   },
   "outputs": [],
   "source": []
  }
 ],
 "metadata": {
  "kernelspec": {
   "display_name": "SoS",
   "language": "sos",
   "name": "sos"
  },
  "language_info": {
   "codemirror_mode": "sos",
   "file_extension": ".sos",
   "mimetype": "text/x-sos",
   "name": "sos",
   "nbconvert_exporter": "sos_notebook.converter.SoS_Exporter",
   "pygments_lexer": "sos"
  },
  "sos": {
   "kernels": [
    [
     "Octave",
     "octave",
     "Octave",
     "#dff8fb",
     ""
    ],
    [
     "Python3",
     "python3",
     "Python3",
     "#FFD91A",
     {
      "name": "ipython",
      "version": 3
     }
    ],
    [
     "SoS",
     "sos",
     "",
     "",
     "sos"
    ]
   ],
   "panel": {
    "displayed": true,
    "height": 0
   },
   "version": "0.21.9"
  }
 },
 "nbformat": 4,
 "nbformat_minor": 2
}
