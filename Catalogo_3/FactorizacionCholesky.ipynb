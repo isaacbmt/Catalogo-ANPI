{
 "cells": [
  {
   "cell_type": "markdown",
   "metadata": {
    "kernel": "SoS"
   },
   "source": [
    "<body>\n",
    "    <div>\n",
    "        <h2 style='font-family: cursive; font-size: 40px;'>Factorizacion Cholesky</h2>\n",
    "<!--         <img src= alt=middle style=\"height: 340px\"> -->\n",
    "    </div>\n",
    "</body>"
   ]
  },
  {
   "cell_type": "code",
   "execution_count": null,
   "metadata": {
    "kernel": "SoS"
   },
   "outputs": [],
   "source": []
  },
  {
   "cell_type": "code",
   "execution_count": null,
   "metadata": {
    "kernel": "SoS"
   },
   "outputs": [],
   "source": []
  },
  {
   "cell_type": "code",
   "execution_count": null,
   "metadata": {
    "kernel": "SoS"
   },
   "outputs": [],
   "source": []
  },
  {
   "cell_type": "markdown",
   "metadata": {
    "kernel": "SoS"
   },
   "source": [
    "<h3 style=\"font-family: 'Courier New'; font-size:25px\">Octave</h3>"
   ]
  },
  {
   "cell_type": "code",
   "execution_count": 1,
   "metadata": {
    "kernel": "Octave"
   },
   "outputs": [
    {
     "name": "stdout",
     "output_type": "stream",
     "text": [
      "x =\r\n",
      "\r\n",
      "  -1\r\n",
      "  -1\r\n",
      "  -1\r\n",
      "  -1\r\n",
      "\r\n"
     ]
    }
   ],
   "source": [
    "function [error] = checkSDP(a, m, n)\n",
    "    error = 0;\n",
    "    if  m != n\n",
    "        error = 1;\n",
    "        disp('Error: La matriz no es cuadrada.');\n",
    "    end\n",
    "    if !issymmetric(a)\n",
    "        error = 1;\n",
    "        disp('Error: La matriz no es simetrica.');\n",
    "    else\n",
    "        for i=1:m\n",
    "            if det(a(1:i, 1:i)) < 0\n",
    "                error = 1;\n",
    "                disp('Error: La matriz no es definida positiva.');\n",
    "            end\n",
    "        end\n",
    "    end\n",
    "end\n",
    "\n",
    "function [l] = cholesky_aux(a, m, n)\n",
    "    l(m,m) = 0;\n",
    "    l(1,1) = sqrt(a(1, 1));\n",
    "\n",
    "    for i=2:m\n",
    "        l(i,1) = a(i, 1)/l(1,1);\n",
    "\n",
    "        for j=2:i-1\n",
    "            l_sum = 0;\n",
    "            \n",
    "            for k=1:j\n",
    "                l_sum = l_sum + l(j,k) * l(i,k);\n",
    "            end\n",
    "            l(i,j) = (a(i,j) - l_sum)/l(j,j);\n",
    "        end\n",
    "        l_pow = 0;\n",
    "        for k=1:i\n",
    "            l_pow = l_pow + l(i,k)**2;\n",
    "        end\n",
    "        l(i,i) = sqrt(a(i,i) - l_pow);\n",
    "    end\n",
    "end\n",
    "\n",
    "function [x] = backwardSubstitution(a, m, n)\n",
    "    x_i(m) = [a(m,n)/a(m,m)];\n",
    "    for i=m:-1:1\n",
    "        x_sum = 0;\n",
    "        for j=i+1:m\n",
    "            x_sum = x_sum + a(i, j) * x_i(j);\n",
    "        end\n",
    "        x_i(i) = (a(i, n)-x_sum)/a(i,i);\n",
    "    end\n",
    "    x = x_i';\n",
    "end\n",
    "\n",
    "function [y] = forwardSubstitution(a, m, n)\n",
    "    x_i(m) = 0;\n",
    "    x_i(1) = a(1,n)/a(1,1);\n",
    "    for i=2:m\n",
    "        x_sum = 0;\n",
    "        for j=1:i\n",
    "            x_sum = x_sum + a(i, j) * x_i(j);\n",
    "        end\n",
    "        \n",
    "        if a(i,i) != 0\n",
    "            x_i(i) = (a(i, n)-x_sum)/a(i,i);\n",
    "        else\n",
    "            x_i(i) = 0;\n",
    "        end\n",
    "    end\n",
    "    y = x_i';\n",
    "end\n",
    "\n",
    "function [x] = cholesky(a, b)\n",
    "    [m,n] = size(a);\n",
    "    if checkSDP(a, m, n)\n",
    "        x = 0;\n",
    "    else\n",
    "        l = cholesky_aux(a, m, n);\n",
    "        l_2 = [l b];\n",
    "        [y] = forwardSubstitution(l_2, m, n + 1);\n",
    "        l_t = [l' y];\n",
    "        [x] = backwardSubstitution(l_t, m, n + 1);\n",
    "    end    \n",
    "end\n",
    "\n",
    "a = [25 15 -5 -10; 15 10 1 -7; -5 1 21 4; -10 -7 4 18];\n",
    "b = [-25; -19; -21; -5];\n",
    "\n",
    "x = cholesky(a, b)"
   ]
  },
  {
   "cell_type": "code",
   "execution_count": null,
   "metadata": {
    "kernel": "Octave"
   },
   "outputs": [],
   "source": []
  }
 ],
 "metadata": {
  "kernelspec": {
   "display_name": "SoS",
   "language": "sos",
   "name": "sos"
  },
  "language_info": {
   "codemirror_mode": "sos",
   "file_extension": ".sos",
   "mimetype": "text/x-sos",
   "name": "sos",
   "nbconvert_exporter": "sos_notebook.converter.SoS_Exporter",
   "pygments_lexer": "sos"
  },
  "sos": {
   "kernels": [
    [
     "Octave",
     "octave",
     "Octave",
     "#dff8fb",
     ""
    ],
    [
     "SoS",
     "sos",
     "",
     "",
     "sos"
    ]
   ],
   "panel": {
    "displayed": true,
    "height": 0
   },
   "version": "0.21.9"
  }
 },
 "nbformat": 4,
 "nbformat_minor": 2
}
