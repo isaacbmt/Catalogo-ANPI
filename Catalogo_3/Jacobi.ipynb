{
 "cells": [
  {
   "cell_type": "markdown",
   "metadata": {
    "kernel": "SoS"
   },
   "source": [
    "<body>\n",
    "    <div>\n",
    "        <h2 style='font-family: cursive; font-size: 40px;'>Metodo de Jacobi</h2>\n",
    "<!--         <img src= alt=middle style=\"height: 340px\"> -->\n",
    "    </div>\n",
    "</body>"
   ]
  },
  {
   "cell_type": "code",
   "execution_count": null,
   "metadata": {
    "kernel": "SoS"
   },
   "outputs": [],
   "source": []
  },
  {
   "cell_type": "code",
   "execution_count": null,
   "metadata": {
    "kernel": "SoS"
   },
   "outputs": [],
   "source": []
  },
  {
   "cell_type": "code",
   "execution_count": null,
   "metadata": {
    "kernel": "SoS"
   },
   "outputs": [],
   "source": []
  },
  {
   "cell_type": "markdown",
   "metadata": {
    "kernel": "SoS"
   },
   "source": [
    "<h3 style=\"font-family: 'Courier New'; font-size:25px\">Octave</h3>"
   ]
  },
  {
   "cell_type": "code",
   "execution_count": 16,
   "metadata": {
    "kernel": "Octave"
   },
   "outputs": [
    {
     "name": "stdout",
     "output_type": "stream",
     "text": [
      "x =\r\n",
      "\r\n",
      "   1.000000171798692\r\n",
      "   1.000000171798692\r\n",
      "   1.000000171798692\r\n",
      "\r\n",
      "e =\r\n",
      "\r\n",
      " Columns 1 through 3:\r\n",
      "\r\n",
      "   1.212435565298214e+01   4.849742261192858e+00   1.939896904477142e+00\r\n",
      "\r\n",
      " Columns 4 through 6:\r\n",
      "\r\n",
      "   7.759587617908577e-01   3.103835047163409e-01   1.241534018865357e-01\r\n",
      "\r\n",
      " Columns 7 through 9:\r\n",
      "\r\n",
      "   4.966136075461221e-02   1.986454430184642e-02   7.945817720736313e-03\r\n",
      "\r\n",
      " Columns 10 through 12:\r\n",
      "\r\n",
      "   3.178327088298730e-03   1.271330835318877e-03   5.085323341289864e-04\r\n",
      "\r\n",
      " Columns 13 through 15:\r\n",
      "\r\n",
      "   2.034129336493383e-04   8.136517346322229e-05   3.254606938375055e-05\r\n",
      "\r\n",
      " Columns 16 and 17:\r\n",
      "\r\n",
      "   1.301842775575650e-05   5.207371101071902e-06\r\n",
      "\r\n"
     ]
    }
   ],
   "source": [
    "format long\n",
    "\n",
    "function [l u d] = getLUD(a, m, n)\n",
    "    l(m,m) = 0;\n",
    "    u(m,m) = 0;\n",
    "    d(m,m) = 0;\n",
    "    for i=1:m\n",
    "        for j=1:m\n",
    "            if i == j\n",
    "                d(i,j) = a(i,j);\n",
    "            elseif j > i\n",
    "                u(i,j) = a(i,j);\n",
    "            else\n",
    "                l(i,j) = a(i,j);\n",
    "            end\n",
    "        end\n",
    "    end\n",
    "end\n",
    "\n",
    "function [x, e] = jacobi(a, b, tol)\n",
    "    [m,n] = size(a);\n",
    "    if (m != n)\n",
    "        disp('La matriz debe ser cuadrada');\n",
    "    else\n",
    "        [l u d] = getLUD(a, m, n);\n",
    "        d_inv = inv(d);\n",
    "        p = - d_inv * (l + u);\n",
    "        d = d_inv * b;\n",
    "        x(m) = 0;\n",
    "        x = x';\n",
    "        error = tol+1;\n",
    "        e = [];\n",
    "        k = 1;\n",
    "\n",
    "        while error > tol\n",
    "            tmp = x;\n",
    "            x = p * tmp + d;\n",
    "            error = norm(a * tmp - b, 2);\n",
    "            e = [e error];\n",
    "            k = k + 1;\n",
    "        end\n",
    "    end\n",
    "end\n",
    "\n",
    "\n",
    "a = [5 1 1; 1 5 1; 1 1 5];\n",
    "b = [7; 7; 7];\n",
    "\n",
    "[x, e] = jacobi(a, b, 10**(-5))"
   ]
  },
  {
   "cell_type": "code",
   "execution_count": null,
   "metadata": {
    "kernel": "Octave"
   },
   "outputs": [],
   "source": []
  }
 ],
 "metadata": {
  "kernelspec": {
   "display_name": "SoS",
   "language": "sos",
   "name": "sos"
  },
  "language_info": {
   "codemirror_mode": "sos",
   "file_extension": ".sos",
   "mimetype": "text/x-sos",
   "name": "sos",
   "nbconvert_exporter": "sos_notebook.converter.SoS_Exporter",
   "pygments_lexer": "sos"
  },
  "sos": {
   "kernels": [
    [
     "Octave",
     "octave",
     "Octave",
     "#dff8fb",
     ""
    ],
    [
     "SoS",
     "sos",
     "",
     "",
     "sos"
    ]
   ],
   "panel": {
    "displayed": true,
    "height": 0
   },
   "version": "0.21.9"
  }
 },
 "nbformat": 4,
 "nbformat_minor": 2
}
