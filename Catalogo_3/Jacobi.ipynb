{
 "cells": [
  {
   "cell_type": "markdown",
   "metadata": {
    "kernel": "SoS"
   },
   "source": [
    "<body>\n",
    "    <div>\n",
    "        <h2 style='font-family: cursive; font-size: 40px;'>Metodo de Jacobi</h2>\n",
    "<!--         <img src= alt=middle style=\"height: 340px\"> -->\n",
    "    </div>\n",
    "</body>"
   ]
  },
  {
   "cell_type": "markdown",
   "metadata": {
    "kernel": "SoS"
   },
   "source": [
    "<h3 style=\"font-family: 'Courier New'; font-size:25px\"\n",
    "    >Formulación matemática</h3>"
   ]
  },
  {
   "cell_type": "markdown",
   "metadata": {
    "kernel": "SoS"
   },
   "source": [
    "$A=L+D+U$\n",
    "\n",
    "$\n",
    "\\begin{cases}\n",
    "    x^{k+1}=-D^{-1} * (L + U) * X^k + D^{-1} * b \\\\\n",
    "    x^0\n",
    "\\end{cases}\n",
    "$"
   ]
  },
  {
   "cell_type": "markdown",
   "metadata": {
    "kernel": "SoS"
   },
   "source": [
    "<h3 style=\"font-family: 'Courier New'; font-size:25px\"\n",
    "    >Valores iniciales</h3>"
   ]
  },
  {
   "cell_type": "markdown",
   "metadata": {
    "kernel": "SoS"
   },
   "source": [
    "A: Matriz de tamaño mxm.\n",
    "<br>\n",
    "b: Vector de tamaño m."
   ]
  },
  {
   "cell_type": "markdown",
   "metadata": {
    "kernel": "SoS"
   },
   "source": [
    "<h3 style=\"font-family: 'Courier New'; font-size:25px\"\n",
    "    >Ventajas y desventajas</h3>"
   ]
  },
  {
   "cell_type": "markdown",
   "metadata": {
    "kernel": "SoS"
   },
   "source": [
    "<table style=\"width:100%; text-align: left; font-size: 14px\">\n",
    "    <tr style=\"text-align: left;\">\n",
    "        <th style=\"text-align: left;\">Ventajas</th>\n",
    "        <th style=\"text-align: left;\">Desventajas</th>\n",
    "    </tr>\n",
    "    <tr>\n",
    "        <td style=\"text-align: left;\">Si el radio espectral de la matriz original es menor a uno, el método converge.</td>       \n",
    "        <td style=\"text-align: left;\">El método no siempre converge y calcular el radio espectral de la matriz puede ser muy extenso.</td>\n",
    "    </tr>\n",
    "    <tr>\n",
    "        <td style=\"text-align: left;\">Si la matriz de coeficientes original del sistema es diagonalmente dominante el método converge.</td>\n",
    "        <td></td>\n",
    "    </tr>\n",
    "</table>"
   ]
  },
  {
   "cell_type": "markdown",
   "metadata": {
    "kernel": "SoS"
   },
   "source": [
    "<h3 style=\"font-family: 'Courier New'; font-size:25px\"\n",
    "    >Pseudocódigo</h3>"
   ]
  },
  {
   "cell_type": "markdown",
   "metadata": {
    "kernel": "SoS"
   },
   "source": [
    "<ol>\n",
    "    <li>Obtener las matrices L D U tal que A = L + D + U</li>\n",
    "    <li>$p=-D^{-1}*(L+U)$</li>\n",
    "    <li>$d=D^{-1}*b$</li>\n",
    "    <li>$error=tol+1$</li>\n",
    "    <li>$k=0$</li>\n",
    "    <li>Mientras error > tol</li>\n",
    "    <li>&emsp;$x^{k+1}=p*x^{k}+d$</li>\n",
    "    <li>&emsp;$error=\\| A*x^k-b \\|$</li>\n",
    "    <li>Fin Mientras</li>\n",
    "</ol>"
   ]
  },
  {
   "cell_type": "markdown",
   "metadata": {
    "kernel": "SoS"
   },
   "source": [
    "<h3 style=\"font-family: 'Courier New'; font-size:25px\">Octave</h3>"
   ]
  },
  {
   "cell_type": "code",
   "execution_count": 40,
   "metadata": {
    "kernel": "Octave"
   },
   "outputs": [],
   "source": [
    "format long\n",
    "\n",
    "function [l u d] = getLUD(a, m, n)\n",
    "    % Funcion que obtiene la matrices L, U, D\n",
    "    % :param a: Matriz cuadrada diagonalmente dominante\n",
    "    % :param m: Tamaño de la filas de la matriz\n",
    "    % :param n: Tamaño de la columnas de la matriz\n",
    "    % :return: una lista con 3 matrices\n",
    "    l(m,m) = 0;\n",
    "    u(m,m) = 0;\n",
    "    d(m,m) = 0;\n",
    "    for i=1:m\n",
    "        for j=1:m\n",
    "            if i == j\n",
    "                d(i,j) = a(i,j);\n",
    "            elseif j > i\n",
    "                u(i,j) = a(i,j);\n",
    "            else\n",
    "                l(i,j) = a(i,j);\n",
    "            end\n",
    "        end\n",
    "    end\n",
    "end\n",
    "\n",
    "function [x, e] = jacobi(a, b, tol, iterMax)\n",
    "    % Funcion que implementa el metodo de Jacobi para resolver el\n",
    "    % sistema A x = b\n",
    "    % :param a: Matriz cuadrada diagonalmente dominante\n",
    "    % :param b: Vector columna\n",
    "    % :param tol: Tolerancia al fallo que debe tener el vector resultado\n",
    "    % :param iterMax: Iteraciones maximas que se haran\n",
    "    % :return: Vector resultado\n",
    "    \n",
    "    %Tamaño de la matriz\n",
    "    [m,n] = size(a);\n",
    "    %Verifica que la martiz sea cuadrada\n",
    "    if (m != n)\n",
    "        disp('La matriz debe ser cuadrada');\n",
    "    else\n",
    "        %Obtiene las matrices L, U, D\n",
    "        [l u d] = getLUD(a, m, n);\n",
    "        %Calcula la inversa de D\n",
    "        d_inv = inv(d);\n",
    "        p = - d_inv * (l + u);\n",
    "        d = d_inv * b;\n",
    "        x(m) = 0;\n",
    "        x = x';\n",
    "        error = tol+1;\n",
    "        e = [];\n",
    "\n",
    "        while and(error > tol, iterMax != 0)\n",
    "            tmp = x;\n",
    "            x = p * tmp + d;\n",
    "            error = norm(a * tmp - b, 2);\n",
    "            e = [e error];\n",
    "            iterMax = iterMax - 1;\n",
    "        end\n",
    "    end\n",
    "end"
   ]
  },
  {
   "cell_type": "markdown",
   "metadata": {
    "kernel": "Octave"
   },
   "source": [
    "<h3 style=\"font-family: 'Courier New'; font-size:25px\">Python</h3>"
   ]
  },
  {
   "cell_type": "code",
   "execution_count": 41,
   "metadata": {
    "kernel": "Python3"
   },
   "outputs": [],
   "source": [
    "from sympy import Matrix\n",
    "from sympy.matrices import matrix_multiply_elementwise\n",
    "\n",
    "def getZeroMatrix(m):\n",
    "    \"\"\"\n",
    "     Funcion que genera una matriz cuadrada con 0's\n",
    "     :param m: Tamaño de la matriz\n",
    "     :return: Una matriz de 0's de tamaño m\n",
    "    \"\"\"\n",
    "    l = []\n",
    "    for i in range(m):\n",
    "        l.append([0] * m)\n",
    "    return l\n",
    "\n",
    "def getLUD(a, m, n):\n",
    "    \"\"\"\n",
    "     Funcion que obtiene la matrices L, U, D\n",
    "     :param a: Matriz cuadrada diagonalmente dominante\n",
    "     :param m: Tamaño de la filas de la matriz\n",
    "     :param n: Tamaño de la columnas de la matriz\n",
    "     :return: una tupla con 3 matrices\n",
    "    \"\"\"\n",
    "    l = getZeroMatrix(m)\n",
    "    u = getZeroMatrix(m)\n",
    "    d = getZeroMatrix(m)\n",
    "    for i in range(m):\n",
    "        for j in range(m):\n",
    "            if i == j:\n",
    "                d[i][j] = a[i][j]\n",
    "            elif j > i:\n",
    "                u[i][j] = a[i][j]\n",
    "            else:\n",
    "                l[i][j] = a[i][j]\n",
    "    return Matrix(l), Matrix(u), Matrix(d)\n",
    "\n",
    "def jacobi(a, b, tol, iterMax):\n",
    "    \"\"\"\n",
    "    Funcion que implementa el metodo de Jacobi para resolver el\n",
    "     sistema A x = b\n",
    "     :param a: Matriz cuadrada diagonalmente dominante\n",
    "     :param b: Vector columna\n",
    "     :param tol: Tolerancia al fallo que debe tener el vector resultado\n",
    "     :param iterMax: Iteraciones maximas que se haran\n",
    "     :return: Vector resultado\n",
    "    \"\"\"\n",
    "    m = len(a) \n",
    "    n = len(a[0])\n",
    "    \n",
    "    if m != n:\n",
    "        print('La matriz debe ser cuadrada')\n",
    "    else:\n",
    "        l, u, d = getLUD(a, m, n)\n",
    "        d_inv = d.inv()\n",
    "        p = -1* d_inv * (l + u)\n",
    "        b = Matrix(b)\n",
    "        d = d_inv * b\n",
    "        x = Matrix([0] * m)\n",
    "        a = Matrix(a)\n",
    "        error = tol + 1\n",
    "        e = []\n",
    "        k = 1\n",
    "        \n",
    "        while iterMax != 0 and error > tol:\n",
    "            tmp = x\n",
    "            x = (p * tmp) + d\n",
    "            error = ((a * tmp) - b).norm(2)\n",
    "            e.append(error)\n",
    "            k += 1\n",
    "        x_res = []\n",
    "        for i in range(len(x)):\n",
    "            x_res.append(float(x[i]))\n",
    "        \n",
    "    return x_res, e"
   ]
  },
  {
   "cell_type": "markdown",
   "metadata": {
    "kernel": "Python 3"
   },
   "source": [
    "<h3 style=\"font-family: 'Courier New'; font-size:25px\">Ejemplo Numérico</h3>"
   ]
  },
  {
   "cell_type": "markdown",
   "metadata": {
    "kernel": "Python 3"
   },
   "source": [
    "<h5 style=\"font-family: 'Courier New'; font-size:16px\">Python</h5>"
   ]
  },
  {
   "cell_type": "code",
   "execution_count": 42,
   "metadata": {
    "kernel": "Python3"
   },
   "outputs": [
    {
     "name": "stdout",
     "output_type": "stream",
     "text": [
      "x:  [1.000000171798692, 1.000000171798692, 1.000000171798692]\n",
      "error:  [7*sqrt(3), 14*sqrt(3)/5, 28*sqrt(3)/25, 56*sqrt(3)/125, 112*sqrt(3)/625, 224*sqrt(3)/3125, 448*sqrt(3)/15625, 896*sqrt(3)/78125, 1792*sqrt(3)/390625, 3584*sqrt(3)/1953125, 7168*sqrt(3)/9765625, 14336*sqrt(3)/48828125, 28672*sqrt(3)/244140625, 57344*sqrt(3)/1220703125, 114688*sqrt(3)/6103515625, 229376*sqrt(3)/30517578125, 458752*sqrt(3)/152587890625]\n"
     ]
    }
   ],
   "source": [
    "a = [[5, 1, 1], [1, 5, 1], [1, 1, 5]];\n",
    "b = [7, 7, 7];\n",
    "\n",
    "x, e = jacobi(a, b, 10**(-5), 10)\n",
    "print('x: ', x)\n",
    "print('error: ', e)"
   ]
  },
  {
   "cell_type": "markdown",
   "metadata": {
    "kernel": "Python 3"
   },
   "source": [
    "<h5 style=\"font-family: 'Courier New'; font-size:16px\">Octave</h5>"
   ]
  },
  {
   "cell_type": "code",
   "execution_count": 43,
   "metadata": {
    "kernel": "Octave"
   },
   "outputs": [
    {
     "name": "stdout",
     "output_type": "stream",
     "text": [
      "x =\r\n",
      "\r\n",
      "   1.000000171798692\r\n",
      "   1.000000171798692\r\n",
      "   1.000000171798692\r\n",
      "\r\n",
      "e =\r\n",
      "\r\n",
      " Columns 1 through 3:\r\n",
      "\r\n",
      "   1.212435565298214e+01   4.849742261192858e+00   1.939896904477142e+00\r\n",
      "\r\n",
      " Columns 4 through 6:\r\n",
      "\r\n",
      "   7.759587617908577e-01   3.103835047163409e-01   1.241534018865357e-01\r\n",
      "\r\n",
      " Columns 7 through 9:\r\n",
      "\r\n",
      "   4.966136075461221e-02   1.986454430184642e-02   7.945817720736313e-03\r\n",
      "\r\n",
      " Columns 10 through 12:\r\n",
      "\r\n",
      "   3.178327088298730e-03   1.271330835318877e-03   5.085323341289864e-04\r\n",
      "\r\n",
      " Columns 13 through 15:\r\n",
      "\r\n",
      "   2.034129336493383e-04   8.136517346322229e-05   3.254606938375055e-05\r\n",
      "\r\n",
      " Columns 16 and 17:\r\n",
      "\r\n",
      "   1.301842775575650e-05   5.207371101071902e-06\r\n",
      "\r\n"
     ]
    }
   ],
   "source": [
    "a = [5 1 1; 1 5 1; 1 1 5];\n",
    "b = [7; 7; 7];\n",
    "\n",
    "[x, e] = jacobi(a, b, 10**(-5), 17)"
   ]
  },
  {
   "cell_type": "code",
   "execution_count": null,
   "metadata": {
    "kernel": "Octave"
   },
   "outputs": [],
   "source": []
  }
 ],
 "metadata": {
  "kernelspec": {
   "display_name": "SoS",
   "language": "sos",
   "name": "sos"
  },
  "language_info": {
   "codemirror_mode": "sos",
   "file_extension": ".sos",
   "mimetype": "text/x-sos",
   "name": "sos",
   "nbconvert_exporter": "sos_notebook.converter.SoS_Exporter",
   "pygments_lexer": "sos"
  },
  "sos": {
   "kernels": [
    [
     "Octave",
     "octave",
     "Octave",
     "#dff8fb",
     ""
    ],
    [
     "Python3",
     "python3",
     "Python3",
     "#FFD91A",
     {
      "name": "ipython",
      "version": 3
     }
    ],
    [
     "SoS",
     "sos",
     "",
     "",
     "sos"
    ]
   ],
   "panel": {
    "displayed": true,
    "height": 0
   },
   "version": "0.21.9"
  }
 },
 "nbformat": 4,
 "nbformat_minor": 2
}
