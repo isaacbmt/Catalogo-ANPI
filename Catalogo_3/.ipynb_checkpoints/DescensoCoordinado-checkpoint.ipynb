{
 "cells": [
  {
   "cell_type": "markdown",
   "metadata": {
    "kernel": "SoS"
   },
   "source": [
    "<body>\n",
    "    <div>\n",
    "        <h2 style='font-family: cursive; font-size: 40px;'>Método del Descenso coordinado</h2>\n",
    "<!--         <img src= alt=middle style=\"height: 340px\"> -->\n",
    "    </div>\n",
    "</body>"
   ]
  },
  {
   "cell_type": "markdown",
   "metadata": {
    "kernel": "SoS"
   },
   "source": [
    "<h3 style=\"font-family: 'Courier New'; font-size:25px\"\n",
    "    >Formulación matemática</h3>"
   ]
  },
  {
   "cell_type": "markdown",
   "metadata": {
    "kernel": "SoS"
   },
   "source": [
    "$x_j^{(k)}=$ $arg$ $min$ $f(x_1^{k},$ $...,$ $x_{j-1}^{k},$ $x_{j},$ $x_{j+1}^{k-1},$ $x_{n}^{k-1})$"
   ]
  },
  {
   "cell_type": "markdown",
   "metadata": {
    "kernel": "SoS"
   },
   "source": [
    "para $j=1, ...,$ $n$  y  $x$  $\\in\\mathbb{R}$"
   ]
  },
  {
   "cell_type": "markdown",
   "metadata": {
    "kernel": "SoS"
   },
   "source": [
    "<h3 style=\"font-family: 'Courier New'; font-size:25px\"\n",
    "    >Valores iniciales</h3>"
   ]
  },
  {
   "cell_type": "markdown",
   "metadata": {
    "kernel": "SoS"
   },
   "source": [
    "$x^{(0)}$ = ($x_1^{(0)}$, $x_2^{(0)}$, ..., $x_n^{(0)}$) $\\in\\mathbb{R}^n$"
   ]
  },
  {
   "cell_type": "markdown",
   "metadata": {
    "kernel": "SoS"
   },
   "source": [
    "<h3 style=\"font-family: 'Courier New'; font-size:25px\"\n",
    "    >Ventajas y desventajas</h3>"
   ]
  },
  {
   "cell_type": "markdown",
   "metadata": {
    "kernel": "SoS"
   },
   "source": [
    "<table style=\"width:100%; text-align: left; font-size: 14px\">\n",
    "    <tr style=\"text-align: left;\">\n",
    "        <th style=\"text-align: left;\">Ventajas</th>\n",
    "        <th style=\"text-align: left;\">Desventajas</th>\n",
    "    </tr>\n",
    "    <tr>\n",
    "    <td style=\"text-align: left;\"></td>       <td style=\"text-align: left;\">Requiere de dos variables iniciales</td>\n",
    "    </tr>\n",
    "    \n",
    "</table>"
   ]
  },
  {
   "cell_type": "markdown",
   "metadata": {
    "kernel": "SoS"
   },
   "source": [
    "<h3 style=\"font-family: 'Courier New'; font-size:25px\"\n",
    "    >Pseudocódigo</h3>"
   ]
  },
  {
   "cell_type": "code",
   "execution_count": null,
   "metadata": {
    "kernel": "SoS"
   },
   "outputs": [],
   "source": []
  },
  {
   "cell_type": "markdown",
   "metadata": {
    "kernel": "SoS"
   },
   "source": [
    "<h3 style=\"font-family: 'Courier New'; font-size:25px\">Octave</h3>"
   ]
  },
  {
   "cell_type": "code",
   "execution_count": 44,
   "metadata": {
    "kernel": "Octave"
   },
   "outputs": [
    {
     "name": "stdout",
     "output_type": "stream",
     "text": [
      "ans = -3\n",
      "res = -3.555555515820743\n",
      "vector =\n",
      "\n",
      "   1.333251953125000   1.333251953125000   1.333251953125000\n",
      "\n",
      "e =\n",
      "\n",
      " Columns 1 through 3:\n",
      "\n",
      "   3.565794705356810e-01   1.695499735042762e-01   5.059972744480051e-02\n",
      "\n",
      " Columns 4 through 6:\n",
      "\n",
      "   1.337268991218168e-02   3.567294725635366e-03   9.134905729428567e-04\n",
      "\n",
      " Columns 7 and 8:\n",
      "\n",
      "   1.220703125000000e-04   0.000000000000000e+00\n",
      "\n"
     ]
    }
   ],
   "source": [
    "format long\n",
    "\n",
    "function [vector, e] = descenso_coordinado(f, variables, vectork, tol, iter)\n",
    "    warning('off', 'all');\n",
    "    pkg load symbolic\n",
    "    footion = str2func(f);\n",
    "    n = length(variables);\n",
    "    vectornuevo = vectork;\n",
    "    e = [];\n",
    "    varsym = [];\n",
    "    error = tol + 1;\n",
    "    \n",
    "    for i = 1:n\n",
    "        varsym = [varsym sym(variables(i))];\n",
    "    end\n",
    "    varsymcopy = varsym;\n",
    "    vectornuevocopy = vectornuevo;\n",
    "    \n",
    "    while iter != 0 && error > tol\n",
    "        for i = 1:n\n",
    "            varsym(i) = [];\n",
    "            vectornuevo(i) = [];\n",
    "            sustitucion = subs(footion, varsym, vectornuevo);\n",
    "            funcionminima = matlabFunction(sustitucion);\n",
    "\n",
    "            varsym = varsymcopy;\n",
    "            vectornuevocopy(i) = fminsearch(funcionminima, 0);\n",
    "            vectornuevo = vectornuevocopy;\n",
    "        end\n",
    "        \n",
    "        errorvec = vectornuevo - vectork;\n",
    "        error = norm(errorvec);\n",
    "        iter = iter - 1;\n",
    "        e = [e error];\n",
    "        \n",
    "        vectork = vectornuevo;\n",
    "    end\n",
    "    vector = vectork;\n",
    "    res = footion(vector(1), vector(2), vector(3)) \n",
    "end\n",
    "\n",
    "#[vector, e] = descenso_coordinado('@(x,y)(x - 2) ^ 2 + (y + 3) ^ 2 + x * y', ['x', 'y'], [1, 1], 10^(-8), 9)\n",
    "[vector, e] = descenso_coordinado('@(x,y,z)x ** 3 + y ** 3 + z ** 3 - 2*x*y - 2*x*z - 2*y*z', ['x', 'y', 'z'], [1, 1, 1], 10^(-8), 9)\n"
   ]
  },
  {
   "cell_type": "markdown",
   "metadata": {
    "kernel": "Octave"
   },
   "source": [
    "<h3 style=\"font-family: 'Courier New'; font-size:25px\">Python</h3>"
   ]
  },
  {
   "cell_type": "code",
   "execution_count": null,
   "metadata": {
    "kernel": "SoS"
   },
   "outputs": [],
   "source": []
  },
  {
   "cell_type": "markdown",
   "metadata": {
    "kernel": "Python 3"
   },
   "source": [
    "<h3 style=\"font-family: 'Courier New'; font-size:25px\">Ejemplo Numérico</h3>"
   ]
  },
  {
   "cell_type": "code",
   "execution_count": null,
   "metadata": {
    "kernel": "SoS"
   },
   "outputs": [],
   "source": []
  }
 ],
 "metadata": {
  "kernelspec": {
   "display_name": "SoS",
   "language": "sos",
   "name": "sos"
  },
  "language_info": {
   "codemirror_mode": "sos",
   "file_extension": ".sos",
   "mimetype": "text/x-sos",
   "name": "sos",
   "nbconvert_exporter": "sos_notebook.converter.SoS_Exporter",
   "pygments_lexer": "sos"
  },
  "sos": {
   "kernels": [
    [
     "Octave",
     "octave",
     "octave",
     "",
     ""
    ],
    [
     "SoS",
     "sos",
     "",
     "",
     "sos"
    ]
   ],
   "panel": {
    "displayed": true,
    "height": 0
   },
   "version": "0.21.7"
  }
 },
 "nbformat": 4,
 "nbformat_minor": 2
}
