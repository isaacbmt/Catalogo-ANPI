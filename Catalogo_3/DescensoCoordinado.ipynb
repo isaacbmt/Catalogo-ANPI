{
 "cells": [
  {
   "cell_type": "markdown",
   "metadata": {
    "kernel": "SoS"
   },
   "source": [
    "<body>\n",
    "    <div>\n",
    "        <h2 style='font-family: cursive; font-size: 40px;'>Método del Descenso coordinado</h2>\n",
    "<!--         <img src= alt=middle style=\"height: 340px\"> -->\n",
    "    </div>\n",
    "</body>"
   ]
  },
  {
   "cell_type": "markdown",
   "metadata": {
    "kernel": "SoS"
   },
   "source": [
    "<h3 style=\"font-family: 'Courier New'; font-size:25px\"\n",
    "    >Formulación matemática</h3>"
   ]
  },
  {
   "cell_type": "markdown",
   "metadata": {
    "kernel": "SoS"
   },
   "source": [
    "$x_j^{(k)}=$ $arg$ $min$ $f(x_1^{k},$ $...,$ $x_{j-1}^{k},$ $x_{j},$ $x_{j+1}^{k-1},$ $x_{n}^{k-1})$"
   ]
  },
  {
   "cell_type": "markdown",
   "metadata": {
    "kernel": "SoS"
   },
   "source": [
    "para $j=1, ...,$ $n$  y  $x$  $\\in\\mathbb{R}$"
   ]
  },
  {
   "cell_type": "markdown",
   "metadata": {
    "kernel": "SoS"
   },
   "source": [
    "<h3 style=\"font-family: 'Courier New'; font-size:25px\"\n",
    "    >Valores iniciales</h3>"
   ]
  },
  {
   "cell_type": "markdown",
   "metadata": {
    "kernel": "SoS"
   },
   "source": [
    "$x^{(0)}$ = ($x_1^{(0)}$, $x_2^{(0)}$, ..., $x_n^{(0)}$) $\\in\\mathbb{R}^n$"
   ]
  },
  {
   "cell_type": "markdown",
   "metadata": {
    "kernel": "SoS"
   },
   "source": [
    "<h3 style=\"font-family: 'Courier New'; font-size:25px\"\n",
    "    >Ventajas y desventajas</h3>"
   ]
  },
  {
   "cell_type": "markdown",
   "metadata": {
    "kernel": "SoS"
   },
   "source": [
    "<table style=\"width:100%; text-align: left; font-size: 14px\">\n",
    "    <tr style=\"text-align: left;\">\n",
    "        <th style=\"text-align: left;\">Ventajas</th>\n",
    "        <th style=\"text-align: left;\">Desventajas</th>\n",
    "    </tr>\n",
    "    <tr>\n",
    "        <td style=\"text-align: left;\">Esta resolviendo problemas de una sola variable en cada iteración.</td>       \n",
    "        <td style=\"text-align: left;\">Si la funcion tiene por ejemplo 10 variables el metodo tiene que resolver 10 problemas por iteración.</td>\n",
    "    </tr>\n",
    "    <tr>\n",
    "        <td style=\"text-align: left;\">A partir de cualquier vector de entrada puede producir convergencia.</td>\n",
    "        <td style=\"text-align: left;\">Es lento para resolver cada iteración.</td>\n",
    "    </tr>\n",
    "</table>"
   ]
  },
  {
   "cell_type": "markdown",
   "metadata": {
    "kernel": "SoS"
   },
   "source": [
    "<h3 style=\"font-family: 'Courier New'; font-size:25px\"\n",
    "    >Pseudocódigo</h3>"
   ]
  },
  {
   "cell_type": "markdown",
   "metadata": {
    "kernel": "SoS"
   },
   "source": [
    "<ol>\n",
    "    <li>k=0</li>\n",
    "    <li>error=tol+1</li>\n",
    "    <li>Mientras error > tol</li>\n",
    "    <li>&emsp;Para i=1:n</li>\n",
    "    <li>&emsp;&emsp;Sustituir variables excepto la del indice</li>\n",
    "    <li>&emsp;&emsp;Calcular el minimo de la funcion sustituida</li>\n",
    "    <li>&emsp;&emsp;Busca el minimo de la funcion obtenida</li>\n",
    "    <li>&emsp;Fin del Para</li>\n",
    "    <li>&emsp;error = $\\|$ $\\nabla f(x_1^{k},$ $...,$ $x_{j-1}^{k},$ $x_{j},$ $x_{j+1}^{k-1},$ $x_{n}^{k-1})$ $\\|$</li>\n",
    "    <li>&emsp;k=k+1</li>\n",
    "    <li>Fin del Mientras</li>\n",
    "</ol>"
   ]
  },
  {
   "cell_type": "markdown",
   "metadata": {
    "kernel": "SoS"
   },
   "source": [
    "<h3 style=\"font-family: 'Courier New'; font-size:25px\">Octave</h3>"
   ]
  },
  {
   "cell_type": "code",
   "execution_count": 11,
   "metadata": {
    "kernel": "Octave"
   },
   "outputs": [],
   "source": [
    "format long\n",
    "\n",
    "function [vector, e] = descenso_coordinado(f, variables, vectork, tol, iter)\n",
    "    warning('off', 'all');\n",
    "    pkg load symbolic\n",
    "    footion = str2func(f);\n",
    "    n = length(variables);\n",
    "    vectornuevo = vectork;\n",
    "    e = [];\n",
    "    varsym = [];\n",
    "    error = tol + 1;\n",
    "    \n",
    "    for i = 1:n\n",
    "        varsym = [varsym sym(variables(i))];\n",
    "    end\n",
    "    varsymcopy = varsym;\n",
    "    vectornuevocopy = vectornuevo;\n",
    "    \n",
    "    while iter != 0 && error > tol\n",
    "        for i = 1:n\n",
    "            varsym(i) = [];\n",
    "            vectornuevo(i) = [];\n",
    "            sustitucion = subs(footion, varsym, vectornuevo);\n",
    "            funcionminima = matlabFunction(sustitucion);\n",
    "\n",
    "            varsym = varsymcopy;\n",
    "            vectornuevocopy(i) = fminsearch(funcionminima, 0);\n",
    "            vectornuevo = vectornuevocopy;\n",
    "        end\n",
    "        \n",
    "        errorvec = vectornuevo - vectork;\n",
    "        error = norm(errorvec);\n",
    "        iter = iter - 1;\n",
    "        e = [e error];\n",
    "        vectork = vectornuevo;\n",
    "    end\n",
    "    vector = vectork;\n",
    "end"
   ]
  },
  {
   "cell_type": "markdown",
   "metadata": {
    "kernel": "Octave"
   },
   "source": [
    "<h3 style=\"font-family: 'Courier New'; font-size:25px\">Python</h3>"
   ]
  },
  {
   "cell_type": "code",
   "execution_count": 5,
   "metadata": {
    "kernel": "Python3",
    "scrolled": false
   },
   "outputs": [],
   "source": [
    "from sympy import symbols, sympify, diff, lambdify, Matrix\n",
    "from scipy import optimize\n",
    "\n",
    "def get_function(f,vars):\n",
    "    \"\"\"\n",
    "    Esta funcion calcula el gradiente de la funcion de entrada.\n",
    "    Parametros iniciales:\n",
    "    f = una cadena de caracteres (string) que representa a la función f.\n",
    "    vars = variables de la funcion.\n",
    "    \n",
    "    Parámetros de Salida: \n",
    "    deetions = el gradiente de la funcion.\n",
    "    \"\"\"\n",
    "    svars = symbols(vars)\n",
    "    footion = sympify(f)\n",
    "    return footion, svars\n",
    "\n",
    "\n",
    "def descenso_coordinado(f, variables, vectork, tol, iter):\n",
    "    footion, symvars = get_function(f, variables)\n",
    "    n = len(variables)\n",
    "    error = tol + 1\n",
    "    e = []\n",
    "    \n",
    "    while iter != 0 and error > tol:\n",
    "        vector_0 = vectork\n",
    "        for i in range(n):\n",
    "            tmpsym = symvars.pop(i)\n",
    "            tmpvk = vectork.pop(i)\n",
    "            sust = footion.subs(dict(zip(symvars, vectork)))\n",
    "            \n",
    "            symvars.insert(i, tmpsym)\n",
    "            funcionminima = lambdify(symvars[i], sust)\n",
    "            vectork.insert(i, tmpvk)\n",
    "            vectork[i] = optimize.minimize_scalar(funcionminima).x\n",
    "        \n",
    "        dife = Matrix([x1 - x2 for (x1, x2) in zip(vectork, vector_0)])\n",
    "        error = dife.norm(2)\n",
    "        iter -= 1\n",
    "        e.append(error)\n",
    "        \n",
    "    return vectork   "
   ]
  },
  {
   "cell_type": "markdown",
   "metadata": {
    "kernel": "Python 3"
   },
   "source": [
    "<h3 style=\"font-family: 'Courier New'; font-size:25px\">Ejemplo Numérico</h3>"
   ]
  },
  {
   "cell_type": "markdown",
   "metadata": {
    "kernel": "Python 3"
   },
   "source": [
    "<h5 style=\"font-family: 'Courier New'; font-size:16px\">Octave</h5>"
   ]
  },
  {
   "cell_type": "code",
   "execution_count": 12,
   "metadata": {
    "kernel": "Octave"
   },
   "outputs": [
    {
     "name": "stdout",
     "output_type": "stream",
     "text": [
      "vector0 =\n",
      "\n",
      "   4.666748046875000  -5.333496093750000\n",
      "\n",
      "e0 =\n",
      "\n",
      " Columns 1 through 3:\n",
      "\n",
      "   4.776243293635700e+00   2.655330723281001e+00   6.638326808202502e-01\n",
      "\n",
      " Columns 4 through 6:\n",
      "\n",
      "   1.659581702050625e-01   4.148954255126563e-02   1.026552541095148e-02\n",
      "\n",
      " Columns 7 through 9:\n",
      "\n",
      "   2.640784625583977e-03   8.802615418613256e-04   2.441406250000000e-04\n",
      "\n",
      " Column 10:\n",
      "\n",
      "   0.000000000000000e+00\n",
      "\n",
      "vector =\n",
      "\n",
      "   1.333251953125000   1.333251953125000   1.333251953125000\n",
      "\n",
      "e =\n",
      "\n",
      " Columns 1 through 3:\n",
      "\n",
      "   3.565794705356810e-01   1.695499735042762e-01   5.059972744480051e-02\n",
      "\n",
      " Columns 4 through 6:\n",
      "\n",
      "   1.337268991218168e-02   3.567294725635366e-03   9.134905729428567e-04\n",
      "\n",
      " Columns 7 and 8:\n",
      "\n",
      "   1.220703125000000e-04   0.000000000000000e+00\n",
      "\n"
     ]
    }
   ],
   "source": [
    "[vector0, e0] = descenso_coordinado('@(x,y)(x - 2) ** 2 + (y + 3) ** 2 + x * y', ['x', 'y'], [1, 1], 10^(-10), 10)\n",
    "\n",
    "[vector, e] = descenso_coordinado('@(x,y,z)x ** 3 + y ** 3 + z ** 3 - 2 * x * y - 2 * x * z - 2 * y * z', ['x', 'y', 'z'], [1, 1, 1], 10^(-8), 10)"
   ]
  },
  {
   "cell_type": "markdown",
   "metadata": {
    "kernel": "Python 3"
   },
   "source": [
    "<h5 style=\"font-family: 'Courier New'; font-size:16px\">Python</h5>"
   ]
  },
  {
   "cell_type": "code",
   "execution_count": 6,
   "metadata": {
    "kernel": "Python3"
   },
   "outputs": [
    {
     "name": "stdout",
     "output_type": "stream",
     "text": [
      "[4.666654585712758, -5.333327292856383]\n",
      "[1.3333320880955055, 1.33333253431363, 1.3333328196725074]\n"
     ]
    }
   ],
   "source": [
    "print(descenso_coordinado('(x - 2) ** 2 + (y + 3) ** 2 + x * y', ['x', 'y'], [1, 1], 10^(-10), 10))\n",
    "    \n",
    "print(descenso_coordinado('x^3 + y^3 + z^3 - 2 * x * y - 2 * x * z - 2 * y * z', ['x', 'y', 'z'], [1, 1, 1], 10^(-8), 10))"
   ]
  },
  {
   "cell_type": "code",
   "execution_count": null,
   "metadata": {
    "kernel": "Octave"
   },
   "outputs": [],
   "source": []
  }
 ],
 "metadata": {
  "kernelspec": {
   "display_name": "SoS",
   "language": "sos",
   "name": "sos"
  },
  "language_info": {
   "codemirror_mode": "sos",
   "file_extension": ".sos",
   "mimetype": "text/x-sos",
   "name": "sos",
   "nbconvert_exporter": "sos_notebook.converter.SoS_Exporter",
   "pygments_lexer": "sos"
  },
  "sos": {
   "kernels": [
    [
     "Octave",
     "octave",
     "octave",
     "",
     ""
    ],
    [
     "Python3",
     "python3",
     "Python3",
     "#FFD91A",
     {
      "name": "ipython",
      "version": 3
     }
    ]
   ],
   "panel": {
    "displayed": true,
    "height": 0
   },
   "version": "0.21.9"
  }
 },
 "nbformat": 4,
 "nbformat_minor": 2
}
