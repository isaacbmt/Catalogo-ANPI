{
 "cells": [
  {
   "cell_type": "markdown",
   "metadata": {
    "kernel": "SoS"
   },
   "source": [
    "<body>\n",
    "    <div>\n",
    "        <h2 style='font-family: cursive; font-size: 40px;'>Factorizacion LU</h2>\n",
    "<!--         <img src= alt=middle style=\"height: 340px\"> -->\n",
    "    </div>\n",
    "</body>"
   ]
  },
  {
   "cell_type": "markdown",
   "metadata": {
    "kernel": "SoS"
   },
   "source": [
    "<h3 style=\"font-family: 'Courier New'; font-size:25px\"\n",
    "    >Formulación matemática</h3>"
   ]
  },
  {
   "cell_type": "markdown",
   "metadata": {
    "kernel": "SoS"
   },
   "source": [
    "$Ax=b$\n",
    "<br>\n",
    "$LUx=b$\n",
    "<br>\n",
    "$Ly=b$\n",
    "<br>"
   ]
  },
  {
   "cell_type": "markdown",
   "metadata": {
    "kernel": "SoS"
   },
   "source": [
    "<h3 style=\"font-family: 'Courier New'; font-size:25px\"\n",
    "    >Valores iniciales</h3>"
   ]
  },
  {
   "cell_type": "markdown",
   "metadata": {
    "kernel": "SoS"
   },
   "source": [
    "A: Matriz cuadrado de largo mxm.\n",
    "<br>\n",
    "b: Vector de tamaño m."
   ]
  },
  {
   "cell_type": "markdown",
   "metadata": {
    "kernel": "SoS"
   },
   "source": [
    "<h3 style=\"font-family: 'Courier New'; font-size:25px\"\n",
    "    >Ventajas y desventajas</h3>"
   ]
  },
  {
   "cell_type": "markdown",
   "metadata": {
    "kernel": "SoS"
   },
   "source": [
    "<table style=\"width:100%; text-align: left; font-size: 14px\">\n",
    "    <tr style=\"text-align: left;\">\n",
    "        <th style=\"text-align: left;\">Ventajas</th>\n",
    "        <th style=\"text-align: left;\">Desventajas</th>\n",
    "    </tr>\n",
    "    <tr>\n",
    "        <td style=\"text-align: left;\">Es un metodo computacionalmente eficiente.</td>       \n",
    "        <td style=\"text-align: left;\">La matriz A debe ser cuadrada.</td>\n",
    "    </tr>\n",
    "</table>"
   ]
  },
  {
   "cell_type": "markdown",
   "metadata": {
    "kernel": "SoS"
   },
   "source": [
    "<h3 style=\"font-family: 'Courier New'; font-size:25px\"\n",
    "    >Pseudocódigo</h3>"
   ]
  },
  {
   "cell_type": "markdown",
   "metadata": {
    "kernel": "SoS"
   },
   "source": [
    "<ol>\n",
    "    <li>Calcular las matrices L y U apartir de A</li>\n",
    "    <li>Y = sustitucionHaciaDelante de L y b</li>\n",
    "    <li>x = sustitucionHaciaAtras de L y Y</li>\n",
    "    <li>Retornar x</li>\n",
    "</ol>"
   ]
  },
  {
   "cell_type": "markdown",
   "metadata": {
    "kernel": "SoS"
   },
   "source": [
    "<h3 style=\"font-family: 'Courier New'; font-size:25px\">Octave</h3>"
   ]
  },
  {
   "cell_type": "code",
   "execution_count": 33,
   "metadata": {
    "kernel": "Octave"
   },
   "outputs": [],
   "source": [
    "function [a, l] = getLowUpperMatrix(a, m, n)\n",
    "    l = zeros(m);\n",
    "    for i=1:m\n",
    "        if a(i,i) == 0\n",
    "            disp('Error: Zero division exception.');\n",
    "        end\n",
    "        for j=i:m\n",
    "            if i!=j\n",
    "                coef = a(j, i)/a(i, i);\n",
    "                l(j,i) = coef;\n",
    "                for k=i:(m)\n",
    "                    a(j, k) = a(j, k) - coef * a(i, k);\n",
    "                end\n",
    "            else\n",
    "                l(j,i) = 1;\n",
    "            end\n",
    "        end\n",
    "    end\n",
    "end\n",
    "\n",
    "function [x] = backwardSubstitution(a, m, n)\n",
    "    x_i(m) = [a(m,n)/a(m,m)];\n",
    "    for i=m:-1:1\n",
    "        x_sum = 0;\n",
    "        for j=i+1:m\n",
    "            x_sum = x_sum + a(i, j) * x_i(j);\n",
    "        end\n",
    "        x_i(i) = (a(i, n)-x_sum)/a(i,i);\n",
    "    end\n",
    "    x = x_i';\n",
    "end\n",
    "\n",
    "function [y] = forwardSubstitution(a, m, n)\n",
    "    x_i(m) = 0;\n",
    "    x_i(1) = [a(1,n)];\n",
    "    for i=2:m\n",
    "        x_sum = 0;\n",
    "        for j=1:i\n",
    "            x_sum = x_sum + a(i, j) * x_i(j);\n",
    "        end\n",
    "        x_i(i) = (a(i, n)-x_sum);\n",
    "    end\n",
    "    y = x_i';\n",
    "end\n",
    "\n",
    "function [x] = calcLU(a, b)\n",
    "    [m n] = size(a);\n",
    "    [u l] = getLowUpperMatrix(a, m, n);\n",
    "    l = [l b];\n",
    "    [y] = forwardSubstitution(l, m, n + 1);\n",
    "    u = [u y];\n",
    "    [x] = backwardSubstitution(u, m, n + 1);\n",
    "end"
   ]
  },
  {
   "cell_type": "markdown",
   "metadata": {
    "kernel": "Octave"
   },
   "source": [
    "<h3 style=\"font-family: 'Courier New'; font-size:25px\">Python</h3>"
   ]
  },
  {
   "cell_type": "code",
   "execution_count": 29,
   "metadata": {
    "kernel": "Python3"
   },
   "outputs": [],
   "source": [
    "from sympy import Matrix\n",
    "\n",
    "def getLowUpperTriangular(a, m, n):\n",
    "    l = []\n",
    "    for i in range(m):\n",
    "        l.append([0] * m)\n",
    "    for i in range(m):\n",
    "        if a[i][i] == 0:\n",
    "            print('Error: Zero division exception.')\n",
    "        for j in range(i,m):\n",
    "            if i != j:\n",
    "                coef = a[j][i] / a[i][i]\n",
    "                l[j][i] = coef\n",
    "                for k in range(i, n):\n",
    "                    a[j][k] -= coef * a[i][k]\n",
    "            else:\n",
    "                l[j][i] = 1\n",
    "    return a, l\n",
    "\n",
    "\n",
    "def backwardSubstitution(a, m, n):\n",
    "    x_i = [0] * m\n",
    "    x_i[m-1] = a[m-1][n-1]/a[m-1][m-1]\n",
    "    for i in range(m-1, -1, -1):\n",
    "        x_sum = 0\n",
    "        for j in range(i+1, m):\n",
    "            x_sum += a[i][j] * x_i[j]\n",
    "        x_i[i] = (a[i][m] - x_sum)/a[i][i]\n",
    "    return x_i\n",
    "    \n",
    "\n",
    "def forwardSubstitution(a, m, n):\n",
    "    x_i = [0] * m\n",
    "    x_i[0] = a[0][n-1]\n",
    "    for i in range(1, m):\n",
    "        x_sum = 0\n",
    "        for j in range(0, i):\n",
    "            x_sum += a[i][j] * x_i[j]\n",
    "        x_i[i] = (a[i][m] - x_sum)\n",
    "    return x_i\n",
    "\n",
    "\n",
    "def appendColumn(a, b):\n",
    "    m = len(a)\n",
    "    for i in range(m):\n",
    "        a[i].append(b[i])\n",
    "    return a\n",
    "\n",
    "\n",
    "def calcLU(a, b):\n",
    "    m = len(a) \n",
    "    n = len(a[0])\n",
    "    u, l = getLowUpperTriangular(a, m, n)\n",
    "    \n",
    "    y = forwardSubstitution(appendColumn(l, b), m, n + 1)\n",
    "    x = backwardSubstitution(appendColumn(u, y), m, n + 1)\n",
    "    return Matrix(x)"
   ]
  },
  {
   "cell_type": "markdown",
   "metadata": {
    "kernel": "Python 3"
   },
   "source": [
    "<h3 style=\"font-family: 'Courier New'; font-size:25px\">Ejemplo Numérico</h3>"
   ]
  },
  {
   "cell_type": "markdown",
   "metadata": {
    "kernel": "Python 3"
   },
   "source": [
    "<h5 style=\"font-family: 'Courier New'; font-size:16px\">Python</h5>"
   ]
  },
  {
   "cell_type": "code",
   "execution_count": 30,
   "metadata": {
    "kernel": "Python3"
   },
   "outputs": [
    {
     "name": "stdout",
     "output_type": "stream",
     "text": [
      "Matrix([[4.00000000000000], [-2.00000000000000], [1.00000000000000]])\n"
     ]
    }
   ],
   "source": [
    "a = [[2, 3, 4], [4, 5, 10], [4, 8, 2]]\n",
    "b = [6, 16, 2]\n",
    "print(calcLU(a, b))"
   ]
  },
  {
   "cell_type": "markdown",
   "metadata": {
    "kernel": "Python 3"
   },
   "source": [
    "<h5 style=\"font-family: 'Courier New'; font-size:16px\">Octave</h5>"
   ]
  },
  {
   "cell_type": "code",
   "execution_count": 34,
   "metadata": {
    "kernel": "Octave"
   },
   "outputs": [
    {
     "name": "stdout",
     "output_type": "stream",
     "text": [
      "x =\n",
      "\n",
      "   1\n",
      "  -2\n",
      "   3\n",
      "\n",
      "x =\n",
      "\n",
      "   4\n",
      "  -2\n",
      "   1\n",
      "\n"
     ]
    }
   ],
   "source": [
    "a = [4 -2 1; 20 -7 12; -8 13 17];\n",
    "b = [11; 70; 17];\n",
    "\n",
    "[x] = calcLU(a, b)\n",
    "\n",
    "a = [2 3 4; 4 5 10; 4 8 2];\n",
    "b = [6; 16; 2];\n",
    "\n",
    "[x] = calcLU(a, b)"
   ]
  },
  {
   "cell_type": "code",
   "execution_count": null,
   "metadata": {
    "kernel": "Octave"
   },
   "outputs": [],
   "source": []
  }
 ],
 "metadata": {
  "kernelspec": {
   "display_name": "SoS",
   "language": "sos",
   "name": "sos"
  },
  "language_info": {
   "codemirror_mode": "sos",
   "file_extension": ".sos",
   "mimetype": "text/x-sos",
   "name": "sos",
   "nbconvert_exporter": "sos_notebook.converter.SoS_Exporter",
   "pygments_lexer": "sos"
  },
  "sos": {
   "kernels": [
    [
     "Octave",
     "octave",
     "Octave",
     "#dff8fb",
     ""
    ],
    [
     "Python3",
     "python3",
     "Python3",
     "#FFD91A",
     {
      "name": "ipython",
      "version": 3
     }
    ],
    [
     "SoS",
     "sos",
     "",
     "",
     "sos"
    ]
   ],
   "panel": {
    "displayed": true,
    "height": 0
   },
   "version": "0.21.9"
  }
 },
 "nbformat": 4,
 "nbformat_minor": 2
}
