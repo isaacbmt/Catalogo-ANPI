{
 "cells": [
  {
   "cell_type": "markdown",
   "metadata": {
    "kernel": "SoS"
   },
   "source": [
    "<body>\n",
    "    <div>\n",
    "        <h2 style='font-family: cursive; font-size: 40px;'>Factorizacion LU</h2>\n",
    "<!--         <img src= alt=middle style=\"height: 340px\"> -->\n",
    "    </div>\n",
    "</body>"
   ]
  },
  {
   "cell_type": "markdown",
   "metadata": {
    "kernel": "SoS"
   },
   "source": [
    "<h3 style=\"font-family: 'Courier New'; font-size:25px\"\n",
    "    >Formulación matemática</h3>"
   ]
  },
  {
   "cell_type": "markdown",
   "metadata": {
    "kernel": "SoS"
   },
   "source": [
    "$Ax=b$\n",
    "<br>\n",
    "$LUx=b$\n",
    "<br>\n",
    "$Ly=b$\n",
    "<br>"
   ]
  },
  {
   "cell_type": "markdown",
   "metadata": {
    "kernel": "SoS"
   },
   "source": [
    "<h3 style=\"font-family: 'Courier New'; font-size:25px\"\n",
    "    >Valores iniciales</h3>"
   ]
  },
  {
   "cell_type": "markdown",
   "metadata": {
    "kernel": "SoS"
   },
   "source": [
    "A: Matriz cuadrado de largo mxm.\n",
    "<br>\n",
    "b: Vector de tamaño m."
   ]
  },
  {
   "cell_type": "markdown",
   "metadata": {
    "kernel": "SoS"
   },
   "source": [
    "<h3 style=\"font-family: 'Courier New'; font-size:25px\"\n",
    "    >Ventajas y desventajas</h3>"
   ]
  },
  {
   "cell_type": "markdown",
   "metadata": {
    "kernel": "SoS"
   },
   "source": [
    "<table style=\"width:100%; text-align: left; font-size: 14px\">\n",
    "    <tr style=\"text-align: left;\">\n",
    "        <th style=\"text-align: left;\">Ventajas</th>\n",
    "        <th style=\"text-align: left;\">Desventajas</th>\n",
    "    </tr>\n",
    "    <tr>\n",
    "        <td style=\"text-align: left;\">Es un metodo computacionalmente eficiente.</td>       \n",
    "        <td style=\"text-align: left;\">La matriz A debe ser cuadrada.</td>\n",
    "    </tr>\n",
    "</table>"
   ]
  },
  {
   "cell_type": "markdown",
   "metadata": {
    "kernel": "SoS"
   },
   "source": [
    "<h3 style=\"font-family: 'Courier New'; font-size:25px\"\n",
    "    >Pseudocódigo</h3>"
   ]
  },
  {
   "cell_type": "markdown",
   "metadata": {
    "kernel": "SoS"
   },
   "source": [
    "<ol>\n",
    "    <li>Calcular las matrices L y U apartir de A</li>\n",
    "    <li>Y = sustitucionHaciaDelante de L y b</li>\n",
    "    <li>x = sustitucionHaciaAtras de L y Y</li>\n",
    "    <li>Retornar x</li>\n",
    "</ol>"
   ]
  },
  {
   "cell_type": "markdown",
   "metadata": {
    "kernel": "SoS"
   },
   "source": [
    "<h3 style=\"font-family: 'Courier New'; font-size:25px\">Octave</h3>"
   ]
  },
  {
   "cell_type": "code",
   "execution_count": 8,
   "metadata": {
    "kernel": "Octave"
   },
   "outputs": [],
   "source": [
    "function [a, l] = getLowUpperMatrix(a, m, n)\n",
    "%   Funcion para obtener una matriz triangular superior e inferior\n",
    "%   :param a: una matriz\n",
    "%   :param m: tamaño de las filas de la matriz\n",
    "%   :param n: tamaño de las columnas de la matriz\n",
    "%   :return: matriz triangular superior e inferior\n",
    "    l = zeros(m);\n",
    "    for i=1:m\n",
    "        if a(i,i) == 0\n",
    "            disp('Error: Zero division exception.');\n",
    "        end\n",
    "        for j=i:m\n",
    "            if i!=j\n",
    "                #Coeficiente que sirve para sacar gauss-jordan\n",
    "                coef = a(j, i)/a(i, i);\n",
    "                #Guarda el coeficiente en la matriz inferior\n",
    "                l(j,i) = coef;\n",
    "                for k=i:(m)\n",
    "                    #Saca gauss-jordan\n",
    "                    a(j, k) = a(j, k) - coef * a(i, k);\n",
    "                end\n",
    "            else\n",
    "                l(j,i) = 1;\n",
    "            end\n",
    "        end\n",
    "    end\n",
    "end\n",
    "\n",
    "function [x] = backwardSubstitution(a, m, n)\n",
    "%   Funcion para obtener la sustitucion hacia atras de una matriz superior\n",
    "%   :param a: una matriz superior\n",
    "%   :param m: tamaño de las filas de la matriz\n",
    "%   :param n: tamaño de las columnas de la matriz\n",
    "%   :return: matriz con el valor de cada x\n",
    "    %Calcula el valor de x_m\n",
    "    x_i(m) = [a(m,n)/a(m,m)];\n",
    "    for i=m:-1:1\n",
    "        x_sum = 0;\n",
    "        %Suma la multiplicacion de la contante junto con la variable encontrada\n",
    "        for j=i+1:m\n",
    "            x_sum = x_sum + a(i, j) * x_i(j);\n",
    "        end\n",
    "        %Obtiene el valor de x_i\n",
    "        x_i(i) = (a(i, n)-x_sum)/a(i,i);\n",
    "    end\n",
    "    x = x_i';\n",
    "end\n",
    "\n",
    "function [y] = forwardSubstitution(a, m, n)\n",
    "%   Funcion para obtener la sustitucion hacia delante de una matriz inferior\n",
    "%   :param a: una matriz inferior\n",
    "%   :param m: tamaño de las filas de la matriz\n",
    "%   :param n: tamaño de las columnas de la matriz\n",
    "%   :return: matriz con el valor de cada y\n",
    "    x_i(m) = 0;\n",
    "    %Calcula el valor de x_1\n",
    "    x_i(1) = [a(1,n)];\n",
    "    for i=2:m\n",
    "        x_sum = 0;\n",
    "        %Suma la multiplicacion de la contante junto con la variable encontrada\n",
    "        for j=1:i\n",
    "            x_sum = x_sum + a(i, j) * x_i(j);\n",
    "        end\n",
    "        %Obtiene el valor de x_i\n",
    "        x_i(i) = (a(i, n)-x_sum);\n",
    "    end\n",
    "    y = x_i';\n",
    "end\n",
    "\n",
    "function [x] = calcLU(a, b)\n",
    "%   Metodo de Factorizacion LU para resolver un sistema A x = B\n",
    "%   :param a: una matriz\n",
    "%   :param b: un vector\n",
    "%   :return: matriz con el valor de cada x\n",
    "    [m n] = size(a);\n",
    "    %Obtiene la matriz superior e inferior\n",
    "    [u l] = getLowUpperMatrix(a, m, n);\n",
    "    u\n",
    "    l\n",
    "    %Concatena la matriz inferior con b\n",
    "    l = [l b];\n",
    "    %Obtiene la matriz de soluciones de y\n",
    "    [y] = forwardSubstitution(l, m, n + 1);\n",
    "    y\n",
    "    %Concatena la matriz superior con y\n",
    "    u = [u y];\n",
    "    %Obtiene la matriz de soluciones\n",
    "    [x] = backwardSubstitution(u, m, n + 1);\n",
    "end"
   ]
  },
  {
   "cell_type": "markdown",
   "metadata": {
    "kernel": "Octave"
   },
   "source": [
    "<h3 style=\"font-family: 'Courier New'; font-size:25px\">Python</h3>"
   ]
  },
  {
   "cell_type": "code",
   "execution_count": 37,
   "metadata": {
    "kernel": "Python3"
   },
   "outputs": [],
   "source": [
    "from sympy import Matrix\n",
    "\n",
    "def getLowUpperTriangular(a, m, n):\n",
    "    \"\"\"\n",
    "    Funcion para obtener una matriz triangular superior e inferior\n",
    "    :param a: una matriz\n",
    "    :param m: tamaño de las filas de la matriz\n",
    "    :param n: tamaño de las columnas de la matriz\n",
    "    :return: matriz triangular superior e inferior\n",
    "    \"\"\"\n",
    "    l = []\n",
    "    for i in range(m):\n",
    "        l.append([0] * m)\n",
    "    for i in range(m):\n",
    "        if a[i][i] == 0:\n",
    "            print('Error: Zero division exception.')\n",
    "        for j in range(i,m):\n",
    "            if i != j:\n",
    "                #Coeficiente que sirve para sacar gauss-jordan\n",
    "                coef = a[j][i] / a[i][i]\n",
    "                #Guarda el coeficiente en la matriz inferior\n",
    "                l[j][i] = coef\n",
    "                for k in range(i, n):\n",
    "                    #Saca gauss-jordan\n",
    "                    a[j][k] -= coef * a[i][k]\n",
    "            else:\n",
    "                l[j][i] = 1\n",
    "    return a, l\n",
    "\n",
    "\n",
    "def backwardSubstitution(a, m, n):\n",
    "    \"\"\"\n",
    "    Funcion para obtener la sustitucion hacia atras de una matriz superior\n",
    "    :param a: una matriz superior\n",
    "    :param m: tamaño de las filas de la matriz\n",
    "    :param n: tamaño de las columnas de la matriz\n",
    "    :return: matriz con el valor de cada x\n",
    "    \"\"\"\n",
    "    x_i = [0] * m\n",
    "    #Calcula el valor de x_m\n",
    "    x_i[m-1] = a[m-1][n-1]/a[m-1][m-1]\n",
    "    for i in range(m-1, -1, -1):\n",
    "        x_sum = 0\n",
    "        #Suma la multiplicacion de la contante junto con la variable encontrada\n",
    "        for j in range(i+1, m):\n",
    "            x_sum += a[i][j] * x_i[j]\n",
    "        #Obtiene el valor de x_i\n",
    "        x_i[i] = (a[i][m] - x_sum)/a[i][i]\n",
    "    return x_i\n",
    "    \n",
    "\n",
    "def forwardSubstitution(a, m, n):\n",
    "    \"\"\"\n",
    "    Funcion para obtener la sustitucion hacia delante de una matriz inferior\n",
    "    :param a: una matriz inferior\n",
    "    :param m: tamaño de las filas de la matriz\n",
    "    :param n: tamaño de las columnas de la matriz\n",
    "    :return: matriz con el valor de cada y\n",
    "    \"\"\"\n",
    "    x_i = [0] * m\n",
    "    #Calcula el valor de x_0\n",
    "    x_i[0] = a[0][n-1]\n",
    "    for i in range(1, m):\n",
    "        x_sum = 0\n",
    "        #Suma la multiplicacion de la contante junto con la variable encontrada\n",
    "        for j in range(0, i):\n",
    "            x_sum += a[i][j] * x_i[j]\n",
    "        #Obtiene el valor de x_i\n",
    "        x_i[i] = (a[i][m] - x_sum)\n",
    "    return x_i\n",
    "\n",
    "\n",
    "def appendColumn(a, b):\n",
    "    \"\"\"\n",
    "    Adjunta una columna B a una matriz A\n",
    "    :param a: una matriz\n",
    "    :return: matriz con la columna B adjunta\n",
    "    \"\"\"\n",
    "    m = len(a)\n",
    "    for i in range(m):\n",
    "        a[i].append(b[i])\n",
    "    return a\n",
    "\n",
    "\n",
    "def calcLU(a, b):\n",
    "    \"\"\"\n",
    "     Metodo de Factorizacion LU para resolver un sistema A x = B\n",
    "    :param a: una matriz\n",
    "    :param b: un vector \n",
    "    :return: matriz con el valor de cada x\n",
    "    \"\"\"\n",
    "    #Obtiene el tamaño de la matriz\n",
    "    m = len(a) \n",
    "    n = len(a[0])\n",
    "    #Obtiene la matriz triangular superior e inferior\n",
    "    u, l = getLowUpperTriangular(a, m, n)\n",
    "    \n",
    "    #Obtiene la matriz de soluciones\n",
    "    y = forwardSubstitution(appendColumn(l, b), m, n + 1)\n",
    "    x = backwardSubstitution(appendColumn(u, y), m, n + 1)\n",
    "    return Matrix(x)"
   ]
  },
  {
   "cell_type": "markdown",
   "metadata": {
    "kernel": "Python 3"
   },
   "source": [
    "<h3 style=\"font-family: 'Courier New'; font-size:25px\">Ejemplo Numérico</h3>"
   ]
  },
  {
   "cell_type": "markdown",
   "metadata": {
    "kernel": "Python 3"
   },
   "source": [
    "<h5 style=\"font-family: 'Courier New'; font-size:16px\">Python</h5>"
   ]
  },
  {
   "cell_type": "code",
   "execution_count": 38,
   "metadata": {
    "kernel": "Python3"
   },
   "outputs": [
    {
     "name": "stdout",
     "output_type": "stream",
     "text": [
      "Matrix([[4.00000000000000], [-2.00000000000000], [1.00000000000000]])\n"
     ]
    }
   ],
   "source": [
    "a = [[2, 3, 4], [4, 5, 10], [4, 8, 2]]\n",
    "b = [6, 16, 2]\n",
    "print(calcLU(a, b))"
   ]
  },
  {
   "cell_type": "markdown",
   "metadata": {
    "kernel": "Python 3"
   },
   "source": [
    "<h5 style=\"font-family: 'Courier New'; font-size:16px\">Octave</h5>"
   ]
  },
  {
   "cell_type": "code",
   "execution_count": 9,
   "metadata": {
    "kernel": "Octave"
   },
   "outputs": [
    {
     "name": "stdout",
     "output_type": "stream",
     "text": [
      "u =\n",
      "\n",
      "   4  -2   1\n",
      "   0   3   7\n",
      "   0   0  -2\n",
      "\n",
      "l =\n",
      "\n",
      "   1   0   0\n",
      "   5   1   0\n",
      "  -2   3   1\n",
      "\n",
      "y =\n",
      "\n",
      "   11\n",
      "   15\n",
      "   -6\n",
      "\n",
      "x =\n",
      "\n",
      "   1\n",
      "  -2\n",
      "   3\n",
      "\n",
      "u =\n",
      "\n",
      "   2   3   4\n",
      "   0  -1   2\n",
      "   0   0  -2\n",
      "\n",
      "l =\n",
      "\n",
      "   1   0   0\n",
      "   2   1   0\n",
      "   2  -2   1\n",
      "\n",
      "y =\n",
      "\n",
      "   6\n",
      "   4\n",
      "  -2\n",
      "\n",
      "x =\n",
      "\n",
      "   4\n",
      "  -2\n",
      "   1\n",
      "\n",
      "Quiz\n",
      "u =\n",
      "\n",
      "    2.00000   -6.00000   -1.00000\n",
      "    0.00000  -10.00000    5.50000\n",
      "    0.00000    0.00000  -18.65000\n",
      "\n",
      "l =\n",
      "\n",
      "   1.00000   0.00000   0.00000\n",
      "  -1.50000   1.00000   0.00000\n",
      "  -4.00000   2.30000   1.00000\n",
      "\n",
      "y =\n",
      "\n",
      "  -38.000\n",
      "  -91.000\n",
      "   37.300\n",
      "\n",
      "x =\n",
      "\n",
      "   4.0000\n",
      "   8.0000\n",
      "  -2.0000\n",
      "\n"
     ]
    }
   ],
   "source": [
    "a = [4 -2 1; 20 -7 12; -8 13 17];\n",
    "b = [11; 70; 17];\n",
    "\n",
    "[x] = calcLU(a, b)\n",
    "\n",
    "a = [2 3 4; 4 5 10; 4 8 2];\n",
    "b = [6; 16; 2];\n",
    "\n",
    "[x] = calcLU(a, b)\n",
    "\n",
    "disp('Quiz')\n",
    "a = [2 -6 -1; -3 -1 7; -8 1 -2];\n",
    "b = [-38; -34; -20];\n",
    "\n",
    "[x] = calcLU(a, b)\n"
   ]
  },
  {
   "cell_type": "code",
   "execution_count": null,
   "metadata": {
    "kernel": "Octave"
   },
   "outputs": [],
   "source": []
  }
 ],
 "metadata": {
  "kernelspec": {
   "display_name": "SoS",
   "language": "sos",
   "name": "sos"
  },
  "language_info": {
   "codemirror_mode": "sos",
   "file_extension": ".sos",
   "mimetype": "text/x-sos",
   "name": "sos",
   "nbconvert_exporter": "sos_notebook.converter.SoS_Exporter",
   "pygments_lexer": "sos"
  },
  "sos": {
   "kernels": [
    [
     "Octave",
     "octave",
     "Octave",
     "#dff8fb",
     ""
    ],
    [
     "Python3",
     "python3",
     "Python3",
     "#FFD91A",
     {
      "name": "ipython",
      "version": 3
     }
    ],
    [
     "SoS",
     "sos",
     "",
     "",
     "sos"
    ]
   ],
   "panel": {
    "displayed": true,
    "height": 0
   },
   "version": "0.21.9"
  }
 },
 "nbformat": 4,
 "nbformat_minor": 2
}
