{
 "cells": [
  {
   "cell_type": "markdown",
   "metadata": {
    "kernel": "SoS"
   },
   "source": [
    "<body>\n",
    "    <div>\n",
    "        <h2 style='font-family: cursive; font-size: 40px;'>Factorizacion LU</h2>\n",
    "<!--         <img src= alt=middle style=\"height: 340px\"> -->\n",
    "    </div>\n",
    "</body>"
   ]
  },
  {
   "cell_type": "code",
   "execution_count": null,
   "metadata": {
    "kernel": "SoS"
   },
   "outputs": [],
   "source": []
  },
  {
   "cell_type": "code",
   "execution_count": null,
   "metadata": {
    "kernel": "SoS"
   },
   "outputs": [],
   "source": []
  },
  {
   "cell_type": "markdown",
   "metadata": {
    "kernel": "SoS"
   },
   "source": [
    "<h3 style=\"font-family: 'Courier New'; font-size:25px\">Octave</h3>"
   ]
  },
  {
   "cell_type": "code",
   "execution_count": 55,
   "metadata": {
    "kernel": "Octave"
   },
   "outputs": [
    {
     "name": "stdout",
     "output_type": "stream",
     "text": [
      "u =\r\n",
      "\r\n",
      "    4   -2    1   11\r\n",
      "    0    3    7   70\r\n",
      "    0    0   -2   17\r\n",
      "\r\n",
      "l =\r\n",
      "\r\n",
      "   11\r\n",
      "   15\r\n",
      "   -6\r\n",
      "\r\n",
      "u =\r\n",
      "\r\n",
      "   26.4583\r\n",
      "   43.1667\r\n",
      "   -8.5000\r\n",
      "\r\n"
     ]
    }
   ],
   "source": [
    "function [a, l] = getLowUpperMatrix(a, m, n)\n",
    "    l = zeros(m);\n",
    "    for i=1:m\n",
    "        if a(i,i) == 0\n",
    "            disp('Error: Zero division exception.');\n",
    "        end\n",
    "        for j=i:m\n",
    "            if i!=j\n",
    "                coef = a(j, i)/a(i, i);\n",
    "                l(j,i) = coef;\n",
    "                for k=i:(m)\n",
    "                    a(j, k) = a(j, k) - coef * a(i, k);\n",
    "                end\n",
    "            else\n",
    "                l(j,i) = 1;\n",
    "            end\n",
    "        end\n",
    "    end\n",
    "end\n",
    "\n",
    "function [x] = backwardSustitution(a, m, n)\n",
    "    x_i(m) = [a(m,n)/a(m,m)];\n",
    "    for i=m:-1:1\n",
    "        x_sum = 0;\n",
    "        for j=i+1:m\n",
    "            x_sum = x_sum + a(i, j) * x_i(j);\n",
    "        end\n",
    "        x_i(i) = (a(i, n)-x_sum)/a(i,i);\n",
    "    end\n",
    "    x = x_i';\n",
    "end\n",
    "\n",
    "function [y] = forwardSustitution(a, m, n)\n",
    "    x_i(m) = 0;\n",
    "    x_i(1) = [a(1,n)];\n",
    "    for i=2:m\n",
    "        x_sum = 0;\n",
    "        for j=1:i\n",
    "            x_sum = x_sum + a(i, j) * x_i(j);\n",
    "        end\n",
    "        x_i(i) = (a(i, n)-x_sum);\n",
    "    end\n",
    "    y = x_i';\n",
    "end\n",
    "\n",
    "function [l u] = calcLU(a, b)\n",
    "    [m n] = size(a);\n",
    "    [u l] = getLowUpperMatrix(a, m, n);\n",
    "    l = [l b];\n",
    "    [l] = forwardSustitution(l, m, n + 1);\n",
    "    u = [u l];\n",
    "    [u] = backwardSustitution(u, m, n + 1);\n",
    "end\n",
    "\n",
    "\n",
    "\n",
    "# a = [6 -2 2 4; 12 -8 6 10; 3 -13 9 3; -6 4 1 -18];\n",
    "a = [4 -2 1; 20 -7 12; -8 13 17];\n",
    "b = [11; 70; 17];\n",
    "\n",
    "[l u] = calcLU(a, b)"
   ]
  },
  {
   "cell_type": "code",
   "execution_count": null,
   "metadata": {
    "kernel": "Octave"
   },
   "outputs": [],
   "source": []
  },
  {
   "cell_type": "code",
   "execution_count": null,
   "metadata": {
    "kernel": "Octave"
   },
   "outputs": [],
   "source": []
  }
 ],
 "metadata": {
  "kernelspec": {
   "display_name": "SoS",
   "language": "sos",
   "name": "sos"
  },
  "language_info": {
   "codemirror_mode": "sos",
   "file_extension": ".sos",
   "mimetype": "text/x-sos",
   "name": "sos",
   "nbconvert_exporter": "sos_notebook.converter.SoS_Exporter",
   "pygments_lexer": "sos"
  },
  "sos": {
   "kernels": [
    [
     "Octave",
     "octave",
     "Octave",
     "#dff8fb",
     ""
    ],
    [
     "SoS",
     "sos",
     "",
     "",
     "sos"
    ]
   ],
   "panel": {
    "displayed": true,
    "height": 0
   },
   "version": "0.21.9"
  }
 },
 "nbformat": 4,
 "nbformat_minor": 2
}
