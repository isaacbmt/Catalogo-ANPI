{
 "cells": [
  {
   "cell_type": "markdown",
   "metadata": {
    "kernel": "SoS"
   },
   "source": [
    "<div style=\"text-align: center;\" role=\"presentation\">\n",
    "<h1 role=\"presentation\"><strong><span role=\"presentation\">An&aacute;lisis Num&eacute;rico para Ingenier&iacute;a - I Semestre 2020</span></strong></h1>"
   ]
  },
  {
   "cell_type": "markdown",
   "metadata": {
    "kernel": "SoS"
   },
   "source": [
    "<h1 style=\"text-align: center;\"><span style=\"color: #0000ff;\">Cat&aacute;logo de Algoritmos</span></h1>"
   ]
  },
  {
   "cell_type": "markdown",
   "metadata": {
    "kernel": "SoS"
   },
   "source": [
    "<h3><span style=\"text-decoration: underline;\">Nombre:</span>&nbsp;Isaac Benavides Mata</h3>\n",
    "<h3><span style=\"text-decoration: underline;\">Carnet:</span>&nbsp;2017104821</h3>"
   ]
  },
  {
   "cell_type": "markdown",
   "metadata": {
    "kernel": "SoS"
   },
   "source": [
    "<p><strong>Descripci&oacute;n:&nbsp;</strong>Este documento presenta un cat&aacute;logo de los algoritmos explicados en clases del curso de An&aacute;lisis Num&eacute;rico para Ingenier&iacute;a. Los algoritmos estan dividios en temas, y cada algoritmo contiene una breve descripci&oacute;n de este, explicando los siguientes aspectos:</p>\n",
    "<ul>\n",
    "<li>Formulaci&oacute;n Matem&aacute;tica</li>\n",
    "<li>Valores Iniciales</li>\n",
    "<li>Ventajas y Desventajas</li>\n",
    "<li>Pasos del m&eacute;todo (Pseudoc&oacute;digo)</li>\n",
    "<li>C&oacute;digo del Algoritmo en GNU Octave</li>\n",
    "<li>C&oacute;digo del Algoritmo en Python</li>\n",
    "<li>Ejemplo Num&eacute;rico</li>\n",
    "</ul>"
   ]
  },
  {
   "cell_type": "markdown",
   "metadata": {
    "kernel": "SoS"
   },
   "source": [
    "<h3><span style=\"color: #008080;\"><strong>Métodos</strong></span></h3>"
   ]
  },
  {
   "cell_type": "markdown",
   "metadata": {
    "kernel": "SoS"
   },
   "source": [
    "<h3>Optimizacion:</h3>\n",
    "\n",
    "[<p><strong>1. Método del Descenso Coordinado</strong></p>](DescensoCoordinado.ipynb)\n",
    "[<p><strong>2. Método del gradiente conjugado</strong></p>](GradienteConjugado.ipynb)\n",
    "<h3>Metodos directos:</h3>\n",
    "\n",
    "[<p><strong>3. Eliminacion Gaussiana</strong></p>](EliminacionGaussiana.ipynb)\n",
    "[<p><strong>4. Factorizacion LU</strong></p>](FactorizacionLU.ipynb)\n",
    "[<p><strong>5. Factorizacion de Cholesky</strong></p>](FactorizacionCholesky.ipynb)\n",
    "<h3>Metodos iterativos:</h3>\n",
    "\n",
    "[<p><strong>6. Metodo de Jacobi</strong></p>](Jacobi.ipynb)"
   ]
  },
  {
   "cell_type": "code",
   "execution_count": null,
   "metadata": {
    "kernel": "SoS"
   },
   "outputs": [],
   "source": []
  }
 ],
 "metadata": {
  "kernelspec": {
   "display_name": "SoS",
   "language": "sos",
   "name": "sos"
  },
  "language_info": {
   "codemirror_mode": "sos",
   "file_extension": ".sos",
   "mimetype": "text/x-sos",
   "name": "sos",
   "nbconvert_exporter": "sos_notebook.converter.SoS_Exporter",
   "pygments_lexer": "sos"
  },
  "sos": {
   "kernels": [],
   "panel": {
    "displayed": true,
    "height": 0
   },
   "version": "0.21.9"
  }
 },
 "nbformat": 4,
 "nbformat_minor": 2
}
