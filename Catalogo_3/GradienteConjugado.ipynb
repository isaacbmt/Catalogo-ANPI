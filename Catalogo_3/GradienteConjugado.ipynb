{
 "cells": [
  {
   "cell_type": "markdown",
   "metadata": {
    "kernel": "SoS"
   },
   "source": [
    "<body>\n",
    "    <div>\n",
    "        <h2 style='font-family: cursive; font-size: 40px;'>Método del Gradiente conjugado</h2>\n",
    "<!--         <img src= alt=middle style=\"height: 340px\"> -->\n",
    "    </div>\n",
    "</body>"
   ]
  },
  {
   "cell_type": "markdown",
   "metadata": {
    "kernel": "SoS"
   },
   "source": [
    "<h3 style=\"font-family: 'Courier New'; font-size:25px\"\n",
    "    >Formulación matemática</h3>"
   ]
  },
  {
   "cell_type": "code",
   "execution_count": null,
   "metadata": {
    "kernel": "SoS"
   },
   "outputs": [],
   "source": []
  },
  {
   "cell_type": "markdown",
   "metadata": {
    "kernel": "SoS"
   },
   "source": [
    "<h3 style=\"font-family: 'Courier New'; font-size:25px\"\n",
    "    >Valores iniciales</h3>"
   ]
  },
  {
   "cell_type": "code",
   "execution_count": null,
   "metadata": {
    "kernel": "SoS"
   },
   "outputs": [],
   "source": []
  },
  {
   "cell_type": "markdown",
   "metadata": {
    "kernel": "SoS"
   },
   "source": [
    "<h3 style=\"font-family: 'Courier New'; font-size:25px\"\n",
    "    >Ventajas y desventajas</h3>"
   ]
  },
  {
   "cell_type": "code",
   "execution_count": null,
   "metadata": {
    "kernel": "SoS"
   },
   "outputs": [],
   "source": []
  },
  {
   "cell_type": "markdown",
   "metadata": {
    "kernel": "SoS"
   },
   "source": [
    "<h3 style=\"font-family: 'Courier New'; font-size:25px\"\n",
    "    >Pseudocódigo</h3>"
   ]
  },
  {
   "cell_type": "code",
   "execution_count": null,
   "metadata": {
    "kernel": "SoS"
   },
   "outputs": [],
   "source": []
  },
  {
   "cell_type": "markdown",
   "metadata": {
    "kernel": "SoS"
   },
   "source": [
    "<h3 style=\"font-family: 'Courier New'; font-size:25px\">Octave</h3>"
   ]
  },
  {
   "cell_type": "code",
   "execution_count": 13,
   "metadata": {
    "kernel": "Octave"
   },
   "outputs": [
    {
     "name": "stdout",
     "output_type": "stream",
     "text": [
      "vector_k1 =\n",
      "\n",
      "   3.070721159722830e-01   9.933343741076407e-01\n",
      "\n",
      "vector_k1 =\n",
      "\n",
      "  -3.789391258356717e-02   9.900159716517634e-01\n",
      "\n",
      "vector_k1 =\n",
      "\n",
      "  -5.872297054392117e-02   9.898156142036528e-01\n",
      "\n",
      "vector_k1 =\n",
      "\n",
      "  -7.014827946254674e-02   9.897057146385008e-01\n",
      "\n",
      "vector_k1 =\n",
      "\n",
      "  -7.061842465255681e-02   9.897012083757952e-01\n",
      "\n",
      "res =\n",
      "\n",
      "  -7.061842465255681e-02   9.897012083757952e-01\n",
      "\n",
      "e =\n",
      "\n",
      " Columns 1 through 3:\n",
      "\n",
      "   6.929599433096159e-01   3.449819888812383e-01   2.083002157038729e-02\n",
      "\n",
      " Columns 4 and 5:\n",
      "\n",
      "   1.142583746604360e-02   4.701667853997926e-04\n",
      "\n"
     ]
    }
   ],
   "source": [
    "format long\n",
    "\n",
    "function [g] = evaluar_gradiente(gradiente, varsym, vector)\n",
    "    g = [];\n",
    "    for i = 1:length(varsym)\n",
    "        g = [g double(subs(gradiente(i), varsym, vector))];\n",
    "    end\n",
    "end\n",
    "\n",
    "function [gradiente]=calcular_gradiente(footion,vars)\n",
    "    %Esta funcion calcula el gradiente de la funcion de entrada.\n",
    "    %\n",
    "    %Sintaxis: calcular_gradiente(f,vars)\n",
    "    %\n",
    "    %Parámetros Iniciales:\n",
    "    %            f = una cadena de caracteres (string) que representa a la función f.\n",
    "    %            vars = Variables de la funcion.\n",
    "    %\n",
    "    %Parámetros de Salida: \n",
    "    %            gradiente = El gradiente de la funcion.\n",
    "    %\n",
    "    n=length(vars);    \n",
    "    for i=1:n\n",
    "        variables(i)=sym(vars(i));\n",
    "    end\n",
    "    for i=1:n\n",
    "        gradiente(i)=diff(footion, variables(i));\n",
    "    end\n",
    "end\n",
    "\n",
    "\n",
    "function [B_k] = seleccionaB(g, d, symvars, vectork, vector_k1, regla)\n",
    "    if regla == 'FR'\n",
    "        B_k = norm(double(subs(g, symvars, vector_k1)))**2/norm(double(subs(g, symvars, vectork)))**2;\n",
    "    elseif regla == 'CD'\n",
    "        B_k = norm(double(subs(g, symvars, vector_k1)))**2/(sum((-d) .* double(subs(g, symvars, vectork))));\n",
    "    elseif regla == 'DY'\n",
    "        yk = vector_k1 - vectork;\n",
    "        B_k = norm(double(subs(g, symvars, vector_k1)))**2/(sum(d .* yk));\n",
    "    end\n",
    "end\n",
    "\n",
    "function [vector_k1 e] = gradiente_conjugado(f, variables, vectork, tol, iter, regla)\n",
    "    warning('off', 'all');\n",
    "    pkg load symbolic\n",
    "    \n",
    "    footion = str2func(f);\n",
    "    n = length(variables);\n",
    "    symvars = [];\n",
    "    e = [];\n",
    "    \n",
    "    for i=1:n\n",
    "        symvars = [symvars sym(variables(i))];\n",
    "    end\n",
    "    g = calcular_gradiente(footion, symvars);\n",
    "    g_num = evaluar_gradiente(g, symvars, vectork);\n",
    "    d = -g_num;\n",
    "    \n",
    "    for k=1:iter\n",
    "        alpha_k = 1;\n",
    "        while double(subs(footion, symvars, vectork + alpha_k * d)) - double(subs(footion, symvars, vectork)) >= double(0.5*alpha_k*sum(g_num .* d))\n",
    "            alpha_k = double(alpha_k / 2);\n",
    "        end\n",
    "        vector_k1 = vectork + alpha_k * d;\n",
    "        vector_k1\n",
    "        error = double(norm(vector_k1 - vectork));\n",
    "        e = [e error];\n",
    "        if error < tol\n",
    "            break;\n",
    "        end\n",
    "        g_num = evaluar_gradiente(g, symvars, vector_k1);\n",
    "        B_k = double(seleccionaB(g, d, symvars, vectork, vector_k1, regla));\n",
    "        d = double(-g_num + B_k*d);\n",
    "        vectork = vector_k1;\n",
    "    end\n",
    "end\n",
    "\n",
    "[res, e] = gradiente_conjugado('@(x,y)4.5*(8000*(y*pi*((x/2+0.03)^2-(x/2)^2)+2*pi*((x/2+0.03)^2)*3))+20*(4*pi*(x+0.03))', ['x', 'y'], [1, 1], 10**(-5), 5, 'DY')\n",
    "     "
   ]
  },
  {
   "cell_type": "code",
   "execution_count": null,
   "metadata": {
    "kernel": "Octave"
   },
   "outputs": [],
   "source": []
  }
 ],
 "metadata": {
  "kernelspec": {
   "display_name": "SoS",
   "language": "sos",
   "name": "sos"
  },
  "language_info": {
   "codemirror_mode": "sos",
   "file_extension": ".sos",
   "mimetype": "text/x-sos",
   "name": "sos",
   "nbconvert_exporter": "sos_notebook.converter.SoS_Exporter",
   "pygments_lexer": "sos"
  },
  "sos": {
   "kernels": [
    [
     "Octave",
     "octave",
     "octave",
     "",
     ""
    ],
    [
     "SoS",
     "sos",
     "",
     "",
     "sos"
    ]
   ],
   "panel": {
    "displayed": true,
    "height": 0
   },
   "version": "0.21.9"
  }
 },
 "nbformat": 4,
 "nbformat_minor": 2
}
