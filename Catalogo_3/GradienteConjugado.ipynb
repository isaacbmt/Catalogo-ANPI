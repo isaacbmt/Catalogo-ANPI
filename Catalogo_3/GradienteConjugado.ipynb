{
 "cells": [
  {
   "cell_type": "markdown",
   "metadata": {
    "kernel": "SoS"
   },
   "source": [
    "<body>\n",
    "    <div>\n",
    "        <h2 style='font-family: cursive; font-size: 40px;'>Método del Gradiente conjugado</h2>\n",
    "<!--         <img src= alt=middle style=\"height: 340px\"> -->\n",
    "    </div>\n",
    "</body>"
   ]
  },
  {
   "cell_type": "markdown",
   "metadata": {
    "kernel": "SoS"
   },
   "source": [
    "<h3 style=\"font-family: 'Courier New'; font-size:25px\"\n",
    "    >Formulación matemática</h3>"
   ]
  },
  {
   "cell_type": "code",
   "execution_count": null,
   "metadata": {
    "kernel": "SoS"
   },
   "outputs": [],
   "source": []
  },
  {
   "cell_type": "markdown",
   "metadata": {
    "kernel": "SoS"
   },
   "source": [
    "<h3 style=\"font-family: 'Courier New'; font-size:25px\"\n",
    "    >Valores iniciales</h3>"
   ]
  },
  {
   "cell_type": "code",
   "execution_count": null,
   "metadata": {
    "kernel": "SoS"
   },
   "outputs": [],
   "source": []
  },
  {
   "cell_type": "markdown",
   "metadata": {
    "kernel": "SoS"
   },
   "source": [
    "<h3 style=\"font-family: 'Courier New'; font-size:25px\"\n",
    "    >Ventajas y desventajas</h3>"
   ]
  },
  {
   "cell_type": "code",
   "execution_count": null,
   "metadata": {
    "kernel": "SoS"
   },
   "outputs": [],
   "source": []
  },
  {
   "cell_type": "markdown",
   "metadata": {
    "kernel": "SoS"
   },
   "source": [
    "<h3 style=\"font-family: 'Courier New'; font-size:25px\"\n",
    "    >Pseudocódigo</h3>"
   ]
  },
  {
   "cell_type": "code",
   "execution_count": null,
   "metadata": {
    "kernel": "SoS"
   },
   "outputs": [],
   "source": []
  },
  {
   "cell_type": "markdown",
   "metadata": {
    "kernel": "SoS"
   },
   "source": [
    "<h3 style=\"font-family: 'Courier New'; font-size:25px\">Octave</h3>"
   ]
  },
  {
   "cell_type": "code",
   "execution_count": 6,
   "metadata": {
    "kernel": "Octave"
   },
   "outputs": [
    {
     "name": "stdout",
     "output_type": "stream",
     "text": [
      "Symbolic pkg v2.8.0: Python communication link active, SymPy v1.5.1.\n",
      "g_num =\n",
      "\n",
      "  -1  -1  -1\n",
      "\n",
      "res =\n",
      "\n",
      "   1.333331776323713   1.333331776323713   1.333331776323713\n",
      "\n",
      "e =\n",
      "\n",
      " Columns 1 through 3:\n",
      "\n",
      "   4.330127018922193e-01   8.880143300524028e-02   4.134592346876464e-02\n",
      "\n",
      " Columns 4 through 6:\n",
      "\n",
      "   9.851792774233575e-03   3.093794738757982e-03   8.769852209933776e-04\n",
      "\n",
      " Columns 7 through 9:\n",
      "\n",
      "   2.604984529655185e-04   7.567994980346868e-05   2.225586349537787e-05\n",
      "\n",
      " Column 10:\n",
      "\n",
      "   6.507003381375837e-06\n",
      "\n"
     ]
    }
   ],
   "source": [
    "format long\n",
    "\n",
    "function [g] = evaluar_gradiente(gradiente, varsym, vector)\n",
    "    g = [];\n",
    "    for i = 1:length(varsym)\n",
    "        g = [g double(subs(gradiente(i), varsym, vector))];\n",
    "    end\n",
    "end\n",
    "\n",
    "function [gradiente]=calcular_gradiente(footion,vars)\n",
    "    %Esta funcion calcula el gradiente de la funcion de entrada.\n",
    "    %\n",
    "    %Sintaxis: calcular_gradiente(f,vars)\n",
    "    %\n",
    "    %Parámetros Iniciales:\n",
    "    %            f = una cadena de caracteres (string) que representa a la función f.\n",
    "    %            vars = Variables de la funcion.\n",
    "    %\n",
    "    %Parámetros de Salida: \n",
    "    %            gradiente = El gradiente de la funcion.\n",
    "    %\n",
    "    n=length(vars);    \n",
    "    for i=1:n\n",
    "        variables(i)=sym(vars(i));\n",
    "    end\n",
    "    for i=1:n\n",
    "        gradiente(i)=diff(footion, variables(i));\n",
    "    end\n",
    "end\n",
    "\n",
    "\n",
    "function [B_k] = seleccionaB(g, d, symvars, vectork, vector_k1, regla)\n",
    "    if regla == 'FR'\n",
    "        B_k = norm(double(subs(g, symvars, vector_k1)))**2/norm(double(subs(g, symvars, vectork)))**2;\n",
    "    elseif regla == 'CD'\n",
    "        B_k = norm(double(subs(g, symvars, vector_k1)))**2/(sum((-d) .* double(subs(g, symvars, vectork))));\n",
    "    elseif regla == 'DY'\n",
    "        yk = vector_k1 - vectork;\n",
    "        B_k = norm(double(subs(g, symvars, vector_k1)))**2/(sum(d .* yk));\n",
    "    end\n",
    "end\n",
    "\n",
    "function [vector_k1 e] = gradiente_conjugado(f, variables, vectork, tol, iter, regla)\n",
    "    warning('off', 'all');\n",
    "    pkg load symbolic\n",
    "    \n",
    "    footion = str2func(f);\n",
    "    n = length(variables);\n",
    "    symvars = [];\n",
    "    e = [];\n",
    "    \n",
    "    for i=1:n\n",
    "        symvars = [symvars sym(variables(i))];\n",
    "    end\n",
    "    g = calcular_gradiente(footion, symvars);\n",
    "    g_num = evaluar_gradiente(g, symvars, vectork);\n",
    "    d = -g_num;\n",
    "    \n",
    "    for k=1:iter\n",
    "        alpha_k = 1;\n",
    "        while double(subs(footion, symvars, vectork + alpha_k * d)) - double(subs(footion, symvars, vectork)) >= double(0.5*alpha_k*sum(g_num .* d))\n",
    "            alpha_k = double(alpha_k / 2);\n",
    "        end\n",
    "        vector_k1 = vectork + alpha_k * d;\n",
    "        error = double(norm(vector_k1 - vectork));\n",
    "        e = [e error];\n",
    "        if error < tol\n",
    "            break;\n",
    "        end\n",
    "        g_num = evaluar_gradiente(g, symvars, vector_k1);\n",
    "        B_k = double(seleccionaB(g, d, symvars, vectork, vector_k1, regla));\n",
    "        d = double(-g_num + B_k*d);\n",
    "        vectork = vector_k1;\n",
    "    end\n",
    "end\n",
    "\n",
    "[res, e] = gradiente_conjugado('@(x,y,z)x ** 3 + y ** 3 + z ** 3 - 2 * x * y - 2 * x * z - 2 * y * z', ['x', 'y', 'z'], [1, 1, 1], 10^(-10), 10, 'FR')\n",
    "     "
   ]
  },
  {
   "cell_type": "markdown",
   "metadata": {
    "kernel": "Octave"
   },
   "source": [
    "<h3 style=\"font-family: 'Courier New'; font-size:25px\">Python</h3>"
   ]
  },
  {
   "cell_type": "code",
   "execution_count": 21,
   "metadata": {
    "kernel": "Python3"
   },
   "outputs": [
    {
     "name": "stdout",
     "output_type": "stream",
     "text": [
      "Matrix([[4.66647106708098], [-5.33313444327900]])\n",
      "Matrix([[1.33333181270070], [1.33333181270070], [1.33333181270070]])\n"
     ]
    }
   ],
   "source": [
    "from sympy import symbols, sympify, diff, lambdify, Matrix\n",
    "from sympy.matrices import matrix_multiply_elementwise\n",
    "\n",
    "def calcular_funciones(f,vars):\n",
    "    \"\"\"\n",
    "    Esta funcion calcula el gradiente de la funcion de entrada.\n",
    "    Parametros iniciales:\n",
    "    f = una cadena de caracteres (string) que representa a la función f.\n",
    "    vars = variables de la funcion.\n",
    "    \n",
    "    Parámetros de Salida: \n",
    "    deetions = el gradiente de la funcion.\n",
    "    \"\"\"\n",
    "    svars = symbols(vars)\n",
    "    footion = sympify(f)\n",
    "    deetions = []\n",
    "    for var in svars:\n",
    "        deetions.append(diff(footion, var))\n",
    "    return footion, deetions, svars\n",
    "\n",
    "\n",
    "def evaluar_gradiente(gradiente, varsym, vector):\n",
    "    g = []\n",
    "    vals = dict(zip(varsym, vector))\n",
    "    for i in range(len(varsym)):\n",
    "        g.append(gradiente[i].subs(vals))\n",
    "    return Matrix(g)\n",
    "    \n",
    "    \n",
    "def seleccionaB(g, gk, d, svars, vectork, vector_k1, regla):\n",
    "    if regla == 'FR':\n",
    "        B_k = gk.norm(2)**2/g.norm(2)**2\n",
    "    elif regla == 'CD':\n",
    "        B_k = gk.norm(2)**2/sum(-matrix_multiply_elementwise(d, g))\n",
    "    elif regla == 'DY':\n",
    "        yk = vector_k1 - vectork\n",
    "        B_k = gk.norm(2)**2/(sum(matrix_multiply_elementwise(d, yk)))\n",
    "    else:\n",
    "        print('La regla ', regla, ' no es una regla valida')\n",
    "    return B_k\n",
    "    \n",
    "    \n",
    "def gradiente_conjugado(f, variables, vectork, tol, iterMax, regla):\n",
    "    footion, gradiente, svars = calcular_funciones(f, variables)\n",
    "    e = []\n",
    "    g = evaluar_gradiente(gradiente, svars, vectork)\n",
    "    d = -g\n",
    "    error = tol + 1\n",
    "    vectork = Matrix(vectork)\n",
    "    \n",
    "    for i in range(iterMax):\n",
    "        alpha_k = 1\n",
    "        while footion.subs(dict(zip(svars, vectork + alpha_k * d))) - footion.subs(dict(zip(svars, vectork))) >= 0.5 * alpha_k * sum(matrix_multiply_elementwise(g, d)):\n",
    "            alpha_k /= 2\n",
    "        \n",
    "        vectork1 = vectork + alpha_k * d\n",
    "        error = (vectork1 - vectork).norm(2)\n",
    "        e.append(error)\n",
    "        if error < tol:\n",
    "            break\n",
    "        gk = evaluar_gradiente(gradiente, svars, vectork1)\n",
    "        B_k = seleccionaB(g, gk, d, svars, vectork, vectork1, regla)\n",
    "        d = -gk + B_k * d\n",
    "        vectork = vectork1\n",
    "        g = gk\n",
    "                                \n",
    "    return vectork\n",
    "    \n",
    "print(gradiente_conjugado('(x - 2) ** 2 + (y + 3) ** 2 + x * y', ['x', 'y'], [1, 1], 10^(-10), 10, 'CD'))    \n",
    "    \n",
    "print(gradiente_conjugado('x ** 3 + y ** 3 + z ** 3 - 2 * x * y - 2 * x * z - 2 * y * z', ['x', 'y', 'z'], [1, 1, 1], 10^(-10), 10, 'DY'))\n",
    "    \n",
    "    "
   ]
  },
  {
   "cell_type": "code",
   "execution_count": null,
   "metadata": {
    "kernel": "Octave"
   },
   "outputs": [],
   "source": []
  }
 ],
 "metadata": {
  "kernelspec": {
   "display_name": "SoS",
   "language": "sos",
   "name": "sos"
  },
  "language_info": {
   "codemirror_mode": "sos",
   "file_extension": ".sos",
   "mimetype": "text/x-sos",
   "name": "sos",
   "nbconvert_exporter": "sos_notebook.converter.SoS_Exporter",
   "pygments_lexer": "sos"
  },
  "sos": {
   "kernels": [
    [
     "Octave",
     "octave",
     "octave",
     "",
     ""
    ],
    [
     "Python3",
     "python3",
     "Python3",
     "#FFD91A",
     ""
    ],
    [
     "SoS",
     "sos",
     "",
     "",
     "sos"
    ]
   ],
   "panel": {
    "displayed": true,
    "height": 0
   },
   "version": "0.21.9"
  }
 },
 "nbformat": 4,
 "nbformat_minor": 2
}
