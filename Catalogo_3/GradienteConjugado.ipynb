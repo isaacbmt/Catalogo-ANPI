{
 "cells": [
  {
   "cell_type": "markdown",
   "metadata": {
    "kernel": "SoS"
   },
   "source": [
    "<body>\n",
    "    <div>\n",
    "        <h2 style='font-family: cursive; font-size: 40px;'>Método del Gradiente conjugado</h2>\n",
    "<!--         <img src= alt=middle style=\"height: 340px\"> -->\n",
    "    </div>\n",
    "</body>"
   ]
  },
  {
   "cell_type": "markdown",
   "metadata": {
    "kernel": "SoS"
   },
   "source": [
    "<h3 style=\"font-family: 'Courier New'; font-size:25px\"\n",
    "    >Formulación matemática</h3>"
   ]
  },
  {
   "cell_type": "markdown",
   "metadata": {
    "kernel": "SoS"
   },
   "source": [
    "<div>\n",
    "$x^{k+1} = x^{k} + \\alpha_k * d^k$\n",
    "<br>\n",
    "    \n",
    "$\n",
    "d^{k+1} =\n",
    "\\begin{cases}\n",
    "    -g \\quad\\quad\\quad\\quad\\quad\\quad si\\quad k+1=0 \\\\\n",
    "    -g^{k+1} + \\beta_k * d^k \\quad si\\quad k \\gt 0\n",
    "\\end{cases}\n",
    "$\n",
    "</div>"
   ]
  },
  {
   "cell_type": "markdown",
   "metadata": {
    "kernel": "SoS"
   },
   "source": [
    "<h3 style=\"font-family: 'Courier New'; font-size:25px\"\n",
    "    >Valores iniciales</h3>"
   ]
  },
  {
   "cell_type": "markdown",
   "metadata": {
    "kernel": "SoS"
   },
   "source": [
    "Vector inicial: Vector con los valores iniciales para la primer iteración.\n",
    "<br>\n",
    "Tol: Exactitud que debe tener la aproximación.\n",
    "<br>\n",
    "Regla: Regla con la que se va a calcular el $\\beta_k$.\n",
    "\n"
   ]
  },
  {
   "cell_type": "markdown",
   "metadata": {
    "kernel": "SoS"
   },
   "source": [
    "<h3 style=\"font-family: 'Courier New'; font-size:25px\"\n",
    "    >Ventajas y desventajas</h3>"
   ]
  },
  {
   "cell_type": "markdown",
   "metadata": {
    "kernel": "SoS"
   },
   "source": [
    "<table style=\"width:100%; text-align: left; font-size: 14px\">\n",
    "    <tr style=\"text-align: left;\">\n",
    "        <th style=\"text-align: left;\">Ventajas</th>\n",
    "        <th style=\"text-align: left;\">Desventajas</th>\n",
    "    </tr>\n",
    "    <tr>\n",
    "        <td style=\"text-align: left;\">No requiere algebra lineal numerica.</td>       \n",
    "        <td style=\"text-align: left;\">Tiene el inconveniente de converger lentamente.</td>\n",
    "    </tr>\n",
    "    <tr>\n",
    "        <td style=\"text-align: left;\">Utilizapoca memoria a problemas a gran escala.</td>\n",
    "        <td style=\"text-align: left;\">Los pasos suelen tener una reducida escala de longitud.</td>\n",
    "    </tr>\n",
    "</table>"
   ]
  },
  {
   "cell_type": "markdown",
   "metadata": {
    "kernel": "SoS"
   },
   "source": [
    "<h3 style=\"font-family: 'Courier New'; font-size:25px\"\n",
    "    >Pseudocódigo</h3>"
   ]
  },
  {
   "cell_type": "markdown",
   "metadata": {
    "kernel": "SoS"
   },
   "source": [
    "<ol>\n",
    "    <li>g=$\\nabla f(x^{(0)})^t$</li>\n",
    "    <li>$d^{(0)}=-g^{(0)}$</li>\n",
    "    <li>Para error > tol</li>\n",
    "    <li>&emsp;$\\alpha_k=1$; $\\delta \\epsilon ]0,1[$</li>\n",
    "    <li>&emsp;Mientras $f(x_k+\\alpha_k*d_k)-f(x_k)\\gt \\delta * \\alpha_k * (g_k)^t * d_k$</li>\n",
    "    <li>&emsp;&emsp;$\\alpha_k=\\alpha_k/2$</li>\n",
    "    <li>&emsp;Fin del Mientras</li>\n",
    "    <li>&emsp;$x^{k+1} = x^k + \\alpha_k*d^k$</li>\n",
    "    <li>&emsp;error = $\\|$ $\\nabla f(x_1^{k},$ $...,$ $x_{j-1}^{k},$ $x_{j},$ $x_{j+1}^{k-1},$ $x_{n}^{k-1})$ $\\|$</li>\n",
    "    <li>&emsp;Si error $\\lt$ tol</li>\n",
    "    <li>&emsp;&emsp;Retornar x^{k+1}</li>\n",
    "    <li>&emsp;Fin Si</li>\n",
    "    <li>&emsp;$g^{k+1} = \\nabla f(x^{k+1})^t$</li>\n",
    "    <li>&emsp;Calcula $\\beta_k$ con la regla seleccionada</li>\n",
    "    <li>&emsp;d^{k+1} = -g^{k+1} + \\beta_k * d^k</li>\n",
    "    <li>Fin del Para</li>\n",
    "</ol>"
   ]
  },
  {
   "cell_type": "markdown",
   "metadata": {
    "kernel": "SoS"
   },
   "source": [
    "<h3 style=\"font-family: 'Courier New'; font-size:25px\">Octave</h3>"
   ]
  },
  {
   "cell_type": "code",
   "execution_count": 7,
   "metadata": {
    "kernel": "Octave"
   },
   "outputs": [],
   "source": [
    "format long\n",
    "\n",
    "\n",
    "function [g] = evaluar_gradiente(gradiente, varsym, vector)\n",
    "    %    Funcion para evaluar el gradiente con un vector ingresado\n",
    "    %    :param gradiente: gradiente que se debe evaluar\n",
    "    %    :param varsym: lista con las variables simbolicas de la ecuacion\n",
    "    %    :param vector: vector que se debe evaluar en el gradiente\n",
    "    %    :return: resultado de evaluar el vector en el gradiente\n",
    "    g = [];\n",
    "    for i = 1:length(varsym)\n",
    "        g = [g double(subs(gradiente(i), varsym, vector))];\n",
    "    end\n",
    "end\n",
    "\n",
    "function [gradiente]=calcular_gradiente(footion,vars)\n",
    "    %Esta funcion calcula el gradiente de la funcion de entrada.\n",
    "    %\n",
    "    %Sintaxis: calcular_gradiente(f,vars)\n",
    "    %\n",
    "    %Parámetros Iniciales:\n",
    "    %            f = una cadena de caracteres (string) que representa a la función f.\n",
    "    %            vars = Variables de la funcion.\n",
    "    %\n",
    "    %Parámetros de Salida: \n",
    "    %            gradiente = El gradiente de la funcion.\n",
    "    %\n",
    "    n=length(vars);    \n",
    "    for i=1:n\n",
    "        variables(i)=sym(vars(i));\n",
    "    end\n",
    "    for i=1:n\n",
    "        % Deriva la funcion respecto a cada variable de la lista variables\n",
    "        gradiente(i)=diff(footion, variables(i));\n",
    "    end\n",
    "end\n",
    "\n",
    "\n",
    "function [B_k] = seleccionaB(g, d, symvars, vectork, vector_k1, regla)\n",
    "    %    Funcion para calcular la regla_bk\n",
    "    %    :param g: vector gk\n",
    "    %    :param d: vector dk\n",
    "    %    :param vectork: vector k\n",
    "    %    :param vector_k1: vector k+1\n",
    "    %    :param regla: regla deseada para calcular bk\n",
    "    %    :return: valor de bk calculado\n",
    "    if regla == 'FR'\n",
    "        % Metodo de Fletcher and Reeves\n",
    "        B_k = norm(double(subs(g, symvars, vector_k1)))**2/norm(double(subs(g, symvars, vectork)))**2;\n",
    "    elseif regla == 'CD'\n",
    "        % Metodo de Descenso Conjugado CD\n",
    "        B_k = norm(double(subs(g, symvars, vector_k1)))**2/(sum((-d) .* double(subs(g, symvars, vectork))));\n",
    "    elseif regla == 'DY'\n",
    "        % Metodo de Dai and Yuan\n",
    "        yk = vector_k1 - vectork;\n",
    "        B_k = norm(double(subs(g, symvars, vector_k1)))**2/(sum(d .* yk));\n",
    "    end\n",
    "end\n",
    "\n",
    "function [vector_k1 e] = gradiente_conjugado(f, variables, vectork, tol, iter, regla)\n",
    "    % Funcion que implementa el metodo de gradiente conjugado\n",
    "    % :param f: string con la funcion que se debe evaluar\n",
    "    % :param variables: lista con las variables de la ecuacion\n",
    "    % :param vectork: vector inicial de necesita el metodo\n",
    "    % :param tol: tolerancia al fallo que debe tener el resultado\n",
    "    % :param iter: iteraciones maximas que no debe superar el metodo\n",
    "    % :param regla que va dar valor a B_k\n",
    "    % :return: lista con dos elementos, vector calculado y lista de error\n",
    "    warning('off', 'all');\n",
    "    pkg load symbolic\n",
    "    \n",
    "    footion = str2func(f);\n",
    "    n = length(variables);\n",
    "    symvars = [];\n",
    "    e = [];\n",
    "    \n",
    "    for i=1:n\n",
    "        symvars = [symvars sym(variables(i))];\n",
    "    end\n",
    "    g = calcular_gradiente(footion, symvars);\n",
    "    %Obtiene los valores iniciales de g y d\n",
    "    g_num = evaluar_gradiente(g, symvars, vectork);\n",
    "    d = -g_num;\n",
    "    \n",
    "    for k=1:iter\n",
    "        alpha_k = 1;\n",
    "        %Evalua la condicion hasta que encuentre un alpha_k que pueda cumplir la condicion\n",
    "        while double(subs(footion, symvars, vectork + alpha_k * d)) - double(subs(footion, symvars, vectork)) >= double(0.5*alpha_k*sum(g_num .* d))\n",
    "            %Calcula el nuevo alpha\n",
    "            alpha_k = double(alpha_k / 2);\n",
    "        end\n",
    "        %Calcula el nuevo valor del vector k\n",
    "        vector_k1 = vectork + alpha_k * d;\n",
    "        error = double(norm(vector_k1 - vectork));\n",
    "        e = [e error];\n",
    "        if error < tol\n",
    "            break;\n",
    "        end\n",
    "        %Calcula el nuevo g\n",
    "        g_num = evaluar_gradiente(g, symvars, vector_k1);\n",
    "        %Calcula el nuevo B_k\n",
    "        B_k = double(seleccionaB(g, d, symvars, vectork, vector_k1, regla));\n",
    "        %Calcula el nuevo valor de d\n",
    "        d = double(-g_num + B_k*d);\n",
    "        vectork = vector_k1;\n",
    "    end\n",
    "end "
   ]
  },
  {
   "cell_type": "markdown",
   "metadata": {
    "kernel": "Octave"
   },
   "source": [
    "<h3 style=\"font-family: 'Courier New'; font-size:25px\">Python</h3>"
   ]
  },
  {
   "cell_type": "code",
   "execution_count": 8,
   "metadata": {
    "kernel": "Python3",
    "scrolled": true
   },
   "outputs": [],
   "source": [
    "from sympy import symbols, sympify, diff, lambdify, Matrix\n",
    "from sympy.matrices import matrix_multiply_elementwise\n",
    "\n",
    "def calcular_funciones(f,vars):\n",
    "    \"\"\"\n",
    "    Esta funcion calcula el gradiente de la funcion de entrada.\n",
    "    Parametros iniciales:\n",
    "    f = una cadena de caracteres (string) que representa a la función f.\n",
    "    vars = variables de la funcion.\n",
    "    \n",
    "    Parámetros de Salida: \n",
    "    deetions = el gradiente de la funcion.\n",
    "    \"\"\"\n",
    "    svars = symbols(vars)\n",
    "    footion = sympify(f)\n",
    "    deetions = []\n",
    "    for var in svars:\n",
    "        #Deriva la funcion respecto a cada variable\n",
    "        deetions.append(diff(footion, var))\n",
    "    return footion, deetions, svars\n",
    "\n",
    "\n",
    "def evaluar_gradiente(gradiente, varsym, vector):\n",
    "    \"\"\"\n",
    "    Funcion para evaluar el gradradiente con un vector ingresado\n",
    "    :param gradiente: gradiente que se debe evaluar\n",
    "    :param varsym: lista con las variables simbolicas de la ecuacion\n",
    "    :param vector: vector que se debe evaluar en el gradiente\n",
    "    :return: resultado de evaluar el vector en el gradiente\n",
    "    \"\"\"\n",
    "    g = []\n",
    "    #Obtiene un diccionario de las variables:valores\n",
    "    vals = dict(zip(varsym, vector))\n",
    "    for i in range(len(varsym)):\n",
    "        g.append(gradiente[i].subs(vals))\n",
    "    return Matrix(g)\n",
    "    \n",
    "    \n",
    "def seleccionaB(g, gk, d, svars, vectork, vector_k1, regla):\n",
    "    \"\"\"\n",
    "    Funcion para calcular la regla_bk\n",
    "    :param g: vector gk de la iteracion anterior\n",
    "    :param gk: vector gk\n",
    "    :param d: vector d\n",
    "    :param svars: variables de la funcion\n",
    "    :param vectork: vector k\n",
    "    :param vector_k1: vector k+1\n",
    "    :param regla: regla deseada para calcular bk\n",
    "    :return: valor de B_k calculado\n",
    "    \"\"\"\n",
    "    if regla == 'FR':\n",
    "        # Metodo de Fletcher and Reeves\n",
    "        B_k = gk.norm(2)**2/g.norm(2)**2\n",
    "    elif regla == 'CD':\n",
    "        # Metodo de Descenso Conjugado CD\n",
    "        B_k = gk.norm(2)**2/sum(-matrix_multiply_elementwise(d, g))\n",
    "    elif regla == 'DY':\n",
    "        # Metodo de Dai y Yuan\n",
    "        yk = vector_k1 - vectork\n",
    "        B_k = gk.norm(2)**2/(sum(matrix_multiply_elementwise(d, yk)))\n",
    "    else:\n",
    "        print('La regla ', regla, ' no es una regla valida')\n",
    "    return B_k\n",
    "    \n",
    "    \n",
    "def gradiente_conjugado(f, variables, vectork, tol, iterMax, regla):\n",
    "    footion, gradiente, svars = calcular_funciones(f, variables)\n",
    "    e = []\n",
    "    g = evaluar_gradiente(gradiente, svars, vectork)\n",
    "    d = -g\n",
    "    error = tol + 1\n",
    "    vectork = Matrix(vectork)\n",
    "    \n",
    "    for i in range(iterMax):\n",
    "        alpha_k = 1\n",
    "        while footion.subs(dict(zip(svars, vectork + alpha_k * d))) - footion.subs(dict(zip(svars, vectork))) >= 0.5 * alpha_k * sum(matrix_multiply_elementwise(g, d)):\n",
    "            alpha_k /= 2\n",
    "        \n",
    "        vectork1 = vectork + alpha_k * d\n",
    "        error = (vectork1 - vectork).norm(2)\n",
    "        e.append(error)\n",
    "        if error < tol:\n",
    "            break\n",
    "        gk = evaluar_gradiente(gradiente, svars, vectork1)\n",
    "        B_k = seleccionaB(g, gk, d, svars, vectork, vectork1, regla)\n",
    "        d = -gk + B_k * d\n",
    "        vectork = vectork1\n",
    "        g = gk\n",
    "                                \n",
    "    return vectork"
   ]
  },
  {
   "cell_type": "markdown",
   "metadata": {
    "kernel": "Python 3"
   },
   "source": [
    "<h3 style=\"font-family: 'Courier New'; font-size:25px\">Ejemplo Numérico</h3>"
   ]
  },
  {
   "cell_type": "markdown",
   "metadata": {
    "kernel": "Python 3"
   },
   "source": [
    "<h5 style=\"font-family: 'Courier New'; font-size:16px\">Python</h5>"
   ]
  },
  {
   "cell_type": "code",
   "execution_count": 9,
   "metadata": {
    "kernel": "Python3"
   },
   "outputs": [
    {
     "name": "stdout",
     "output_type": "stream",
     "text": [
      "Matrix([[4.66647106708098], [-5.33313444327900]])\n"
     ]
    },
    {
     "ename": "NameError",
     "evalue": "name 'vector_k1' is not defined",
     "output_type": "error",
     "traceback": [
      "\u001b[0;31m---------------------------------------------------------------------------\u001b[0m",
      "\u001b[0;31mNameError\u001b[0m                                 Traceback (most recent call last)",
      "\u001b[0;32m<ipython-input-5-d3fe2499df05>\u001b[0m in \u001b[0;36m<module>\u001b[0;34m\u001b[0m\n\u001b[1;32m      1\u001b[0m \u001b[0mprint\u001b[0m\u001b[0;34m(\u001b[0m\u001b[0mgradiente_conjugado\u001b[0m\u001b[0;34m(\u001b[0m\u001b[0;34m'(x - 2) ** 2 + (y + 3) ** 2 + x * y'\u001b[0m\u001b[0;34m,\u001b[0m \u001b[0;34m[\u001b[0m\u001b[0;34m'x'\u001b[0m\u001b[0;34m,\u001b[0m \u001b[0;34m'y'\u001b[0m\u001b[0;34m]\u001b[0m\u001b[0;34m,\u001b[0m \u001b[0;34m[\u001b[0m\u001b[0;36m1\u001b[0m\u001b[0;34m,\u001b[0m \u001b[0;36m1\u001b[0m\u001b[0;34m]\u001b[0m\u001b[0;34m,\u001b[0m \u001b[0;36m10\u001b[0m\u001b[0;34m^\u001b[0m\u001b[0;34m(\u001b[0m\u001b[0;34m-\u001b[0m\u001b[0;36m10\u001b[0m\u001b[0;34m)\u001b[0m\u001b[0;34m,\u001b[0m \u001b[0;36m10\u001b[0m\u001b[0;34m,\u001b[0m \u001b[0;34m'CD'\u001b[0m\u001b[0;34m)\u001b[0m\u001b[0;34m)\u001b[0m\u001b[0;34m\u001b[0m\u001b[0;34m\u001b[0m\u001b[0m\n\u001b[1;32m      2\u001b[0m \u001b[0;34m\u001b[0m\u001b[0m\n\u001b[0;32m----> 3\u001b[0;31m \u001b[0mprint\u001b[0m\u001b[0;34m(\u001b[0m\u001b[0mgradiente_conjugado\u001b[0m\u001b[0;34m(\u001b[0m\u001b[0;34m'x ** 3 + y ** 3 + z ** 3 - 2 * x * y - 2 * x * z - 2 * y * z'\u001b[0m\u001b[0;34m,\u001b[0m \u001b[0;34m[\u001b[0m\u001b[0;34m'x'\u001b[0m\u001b[0;34m,\u001b[0m \u001b[0;34m'y'\u001b[0m\u001b[0;34m,\u001b[0m \u001b[0;34m'z'\u001b[0m\u001b[0;34m]\u001b[0m\u001b[0;34m,\u001b[0m \u001b[0;34m[\u001b[0m\u001b[0;36m1\u001b[0m\u001b[0;34m,\u001b[0m \u001b[0;36m1\u001b[0m\u001b[0;34m,\u001b[0m \u001b[0;36m1\u001b[0m\u001b[0;34m]\u001b[0m\u001b[0;34m,\u001b[0m \u001b[0;36m10\u001b[0m\u001b[0;34m^\u001b[0m\u001b[0;34m(\u001b[0m\u001b[0;34m-\u001b[0m\u001b[0;36m10\u001b[0m\u001b[0;34m)\u001b[0m\u001b[0;34m,\u001b[0m \u001b[0;36m10\u001b[0m\u001b[0;34m,\u001b[0m \u001b[0;34m'DY'\u001b[0m\u001b[0;34m)\u001b[0m\u001b[0;34m)\u001b[0m\u001b[0;34m\u001b[0m\u001b[0;34m\u001b[0m\u001b[0m\n\u001b[0m",
      "\u001b[0;32m<ipython-input-4-2ea2292923bf>\u001b[0m in \u001b[0;36mgradiente_conjugado\u001b[0;34m(f, variables, vectork, tol, iterMax, regla)\u001b[0m\n\u001b[1;32m     78\u001b[0m             \u001b[0;32mbreak\u001b[0m\u001b[0;34m\u001b[0m\u001b[0;34m\u001b[0m\u001b[0m\n\u001b[1;32m     79\u001b[0m         \u001b[0mgk\u001b[0m \u001b[0;34m=\u001b[0m \u001b[0mevaluar_gradiente\u001b[0m\u001b[0;34m(\u001b[0m\u001b[0mgradiente\u001b[0m\u001b[0;34m,\u001b[0m \u001b[0msvars\u001b[0m\u001b[0;34m,\u001b[0m \u001b[0mvectork1\u001b[0m\u001b[0;34m)\u001b[0m\u001b[0;34m\u001b[0m\u001b[0;34m\u001b[0m\u001b[0m\n\u001b[0;32m---> 80\u001b[0;31m         \u001b[0mB_k\u001b[0m \u001b[0;34m=\u001b[0m \u001b[0mseleccionaB\u001b[0m\u001b[0;34m(\u001b[0m\u001b[0mg\u001b[0m\u001b[0;34m,\u001b[0m \u001b[0mgk\u001b[0m\u001b[0;34m,\u001b[0m \u001b[0md\u001b[0m\u001b[0;34m,\u001b[0m \u001b[0msvars\u001b[0m\u001b[0;34m,\u001b[0m \u001b[0mregla\u001b[0m\u001b[0;34m)\u001b[0m\u001b[0;34m\u001b[0m\u001b[0;34m\u001b[0m\u001b[0m\n\u001b[0m\u001b[1;32m     81\u001b[0m         \u001b[0md\u001b[0m \u001b[0;34m=\u001b[0m \u001b[0;34m-\u001b[0m\u001b[0mgk\u001b[0m \u001b[0;34m+\u001b[0m \u001b[0mB_k\u001b[0m \u001b[0;34m*\u001b[0m \u001b[0md\u001b[0m\u001b[0;34m\u001b[0m\u001b[0;34m\u001b[0m\u001b[0m\n\u001b[1;32m     82\u001b[0m         \u001b[0mvectork\u001b[0m \u001b[0;34m=\u001b[0m \u001b[0mvectork1\u001b[0m\u001b[0;34m\u001b[0m\u001b[0;34m\u001b[0m\u001b[0m\n",
      "\u001b[0;32m<ipython-input-4-2ea2292923bf>\u001b[0m in \u001b[0;36mseleccionaB\u001b[0;34m(g, gk, d, svars, regla)\u001b[0m\n\u001b[1;32m     52\u001b[0m         \u001b[0mB_k\u001b[0m \u001b[0;34m=\u001b[0m \u001b[0mgk\u001b[0m\u001b[0;34m.\u001b[0m\u001b[0mnorm\u001b[0m\u001b[0;34m(\u001b[0m\u001b[0;36m2\u001b[0m\u001b[0;34m)\u001b[0m\u001b[0;34m**\u001b[0m\u001b[0;36m2\u001b[0m\u001b[0;34m/\u001b[0m\u001b[0msum\u001b[0m\u001b[0;34m(\u001b[0m\u001b[0;34m-\u001b[0m\u001b[0mmatrix_multiply_elementwise\u001b[0m\u001b[0;34m(\u001b[0m\u001b[0md\u001b[0m\u001b[0;34m,\u001b[0m \u001b[0mg\u001b[0m\u001b[0;34m)\u001b[0m\u001b[0;34m)\u001b[0m\u001b[0;34m\u001b[0m\u001b[0;34m\u001b[0m\u001b[0m\n\u001b[1;32m     53\u001b[0m     \u001b[0;32melif\u001b[0m \u001b[0mregla\u001b[0m \u001b[0;34m==\u001b[0m \u001b[0;34m'DY'\u001b[0m\u001b[0;34m:\u001b[0m\u001b[0;34m\u001b[0m\u001b[0;34m\u001b[0m\u001b[0m\n\u001b[0;32m---> 54\u001b[0;31m         \u001b[0myk\u001b[0m \u001b[0;34m=\u001b[0m \u001b[0mvector_k1\u001b[0m \u001b[0;34m-\u001b[0m \u001b[0mvectork\u001b[0m\u001b[0;34m\u001b[0m\u001b[0;34m\u001b[0m\u001b[0m\n\u001b[0m\u001b[1;32m     55\u001b[0m         \u001b[0mB_k\u001b[0m \u001b[0;34m=\u001b[0m \u001b[0mgk\u001b[0m\u001b[0;34m.\u001b[0m\u001b[0mnorm\u001b[0m\u001b[0;34m(\u001b[0m\u001b[0;36m2\u001b[0m\u001b[0;34m)\u001b[0m\u001b[0;34m**\u001b[0m\u001b[0;36m2\u001b[0m\u001b[0;34m/\u001b[0m\u001b[0;34m(\u001b[0m\u001b[0msum\u001b[0m\u001b[0;34m(\u001b[0m\u001b[0mmatrix_multiply_elementwise\u001b[0m\u001b[0;34m(\u001b[0m\u001b[0md\u001b[0m\u001b[0;34m,\u001b[0m \u001b[0myk\u001b[0m\u001b[0;34m)\u001b[0m\u001b[0;34m)\u001b[0m\u001b[0;34m)\u001b[0m\u001b[0;34m\u001b[0m\u001b[0;34m\u001b[0m\u001b[0m\n\u001b[1;32m     56\u001b[0m     \u001b[0;32melse\u001b[0m\u001b[0;34m:\u001b[0m\u001b[0;34m\u001b[0m\u001b[0;34m\u001b[0m\u001b[0m\n",
      "\u001b[0;31mNameError\u001b[0m: name 'vector_k1' is not defined"
     ]
    }
   ],
   "source": [
    "print(gradiente_conjugado('(x - 2) ** 2 + (y + 3) ** 2 + x * y', ['x', 'y'], [1, 1], 10^(-10), 10, 'CD'))    \n",
    "    \n",
    "print(gradiente_conjugado('x ** 3 + y ** 3 + z ** 3 - 2 * x * y - 2 * x * z - 2 * y * z', ['x', 'y', 'z'], [1, 1, 1], 10^(-10), 10, 'DY'))"
   ]
  },
  {
   "cell_type": "markdown",
   "metadata": {
    "kernel": "Python 3"
   },
   "source": [
    "<h5 style=\"font-family: 'Courier New'; font-size:16px\">Octave</h5>"
   ]
  },
  {
   "cell_type": "code",
   "execution_count": 6,
   "metadata": {
    "kernel": "Octave"
   },
   "outputs": [
    {
     "name": "stdout",
     "output_type": "stream",
     "text": [
      "Symbolic pkg v2.8.0: Python communication link active, SymPy v1.5.1.\n",
      "res =\n",
      "\n",
      "   1.333331776323713   1.333331776323713   1.333331776323713\n",
      "\n",
      "e =\n",
      "\n",
      " Columns 1 through 3:\n",
      "\n",
      "   4.330127018922193e-01   8.880143300524028e-02   4.134592346876464e-02\n",
      "\n",
      " Columns 4 through 6:\n",
      "\n",
      "   9.851792774233575e-03   3.093794738757982e-03   8.769852209933776e-04\n",
      "\n",
      " Columns 7 through 9:\n",
      "\n",
      "   2.604984529655185e-04   7.567994980346868e-05   2.225586349537787e-05\n",
      "\n",
      " Column 10:\n",
      "\n",
      "   6.507003381375837e-06\n",
      "\n"
     ]
    }
   ],
   "source": [
    "[res, e] = gradiente_conjugado('@(x,y,z)x ** 3 + y ** 3 + z ** 3 - 2 * x * y - 2 * x * z - 2 * y * z', ['x', 'y', 'z'], [1, 1, 1], 10^(-10), 10, 'FR')\n",
    "    "
   ]
  },
  {
   "cell_type": "code",
   "execution_count": null,
   "metadata": {
    "kernel": "Octave"
   },
   "outputs": [],
   "source": []
  }
 ],
 "metadata": {
  "kernelspec": {
   "display_name": "SoS",
   "language": "sos",
   "name": "sos"
  },
  "language_info": {
   "codemirror_mode": "sos",
   "file_extension": ".sos",
   "mimetype": "text/x-sos",
   "name": "sos",
   "nbconvert_exporter": "sos_notebook.converter.SoS_Exporter",
   "pygments_lexer": "sos"
  },
  "sos": {
   "kernels": [
    [
     "Octave",
     "octave",
     "octave",
     "",
     ""
    ],
    [
     "Python3",
     "python3",
     "Python3",
     "#FFD91A",
     {
      "name": "ipython",
      "version": 3
     }
    ]
   ],
   "panel": {
    "displayed": true,
    "height": 0
   },
   "version": "0.21.9"
  }
 },
 "nbformat": 4,
 "nbformat_minor": 2
}
