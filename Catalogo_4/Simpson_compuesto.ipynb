{
 "cells": [
  {
   "cell_type": "markdown",
   "metadata": {
    "kernel": "SoS"
   },
   "source": [
    "<body>\n",
    "    <div>\n",
    "        <h2 style='font-family: cursive; font-size: 40px;'>Técnica compuesta de Simpson</h2>\n",
    "<!--         <img src= alt=middle style=\"height: 340px\"> -->\n",
    "    </div>\n",
    "</body>"
   ]
  },
  {
   "cell_type": "markdown",
   "metadata": {
    "kernel": "SoS"
   },
   "source": [
    "<h3 style=\"font-family: 'Courier New'; font-size:25px\"\n",
    "    >Formulación matemática</h3>"
   ]
  },
  {
   "cell_type": "code",
   "execution_count": null,
   "metadata": {
    "kernel": "SoS"
   },
   "outputs": [],
   "source": []
  },
  {
   "cell_type": "markdown",
   "metadata": {
    "kernel": "SoS"
   },
   "source": [
    "<h3 style=\"font-family: 'Courier New'; font-size:25px\"\n",
    "    >Valores iniciales</h3>"
   ]
  },
  {
   "cell_type": "code",
   "execution_count": null,
   "metadata": {
    "kernel": "SoS"
   },
   "outputs": [],
   "source": []
  },
  {
   "cell_type": "markdown",
   "metadata": {
    "kernel": "SoS"
   },
   "source": [
    "<h3 style=\"font-family: 'Courier New'; font-size:25px\"\n",
    "    >Ventajas y desventajas</h3>"
   ]
  },
  {
   "cell_type": "code",
   "execution_count": null,
   "metadata": {
    "kernel": "SoS"
   },
   "outputs": [],
   "source": []
  },
  {
   "cell_type": "markdown",
   "metadata": {
    "kernel": "SoS"
   },
   "source": [
    "<h3 style=\"font-family: 'Courier New'; font-size:25px\"\n",
    "    >Pseudocódigo</h3>"
   ]
  },
  {
   "cell_type": "code",
   "execution_count": null,
   "metadata": {
    "kernel": "SoS"
   },
   "outputs": [],
   "source": []
  },
  {
   "cell_type": "markdown",
   "metadata": {
    "kernel": "SoS"
   },
   "source": [
    "<h3 style=\"font-family: 'Courier New'; font-size:25px\">Octave</h3>"
   ]
  },
  {
   "cell_type": "code",
   "execution_count": 32,
   "metadata": {
    "kernel": "Octave"
   },
   "outputs": [
    {
     "name": "stdout",
     "output_type": "stream",
     "text": [
      "res =  3.6608\r\n",
      "error =  0.00039063\r\n"
     ]
    }
   ],
   "source": [
    "function y=derivate(f)\n",
    "    pkg load symbolic\n",
    "    syms x;\n",
    "    ff=f(x);\n",
    "    ffd=diff(ff,x);\n",
    "    y=function_handle(ffd);\n",
    "end\n",
    "\n",
    "function [res error] = simpson_compuesto(f, a, b, m)\n",
    "    footion = str2func(strcat('@(x)',f));\n",
    "    h = (b - a) / (m - 1);\n",
    "    deetion = derivate(derivate(derivate(derivate(footion))));\n",
    "    x = [];\n",
    "    for i=0:m-1\n",
    "        x = [x (a + h * i)];\n",
    "    end\n",
    "    s1 = 0;\n",
    "    for i=1:(m/2 - 1)\n",
    "        s1 = s1 + footion(x(2 * i + 1));\n",
    "    end\n",
    "    s2 = 0;\n",
    "    for i=1:(m/2)\n",
    "        s2 = s2 + footion(x(2*i));\n",
    "    end\n",
    "    res = (h / 3) * (footion(x(1)) + 2 * s1 + 4 * s2 + footion(x(m)));\n",
    "    \n",
    "    deetion = derivate(derivate(derivate(derivate(footion))));\n",
    "    e1 = abs(deetion(a));\n",
    "    e2 = abs(deetion(b));\n",
    "    if e1 > e2\n",
    "        error = ((b - a) * h**4 * abs(e1)) / 180;\n",
    "    else\n",
    "        error = ((b - a) * h**4 * abs(e2)) / 180;\n",
    "    end \n",
    "end\n",
    "\n",
    "[res error] = simpson_compuesto('log(x)', 2, 5, 7)"
   ]
  },
  {
   "cell_type": "markdown",
   "metadata": {
    "kernel": "Octave"
   },
   "source": [
    "<h3 style=\"font-family: 'Courier New'; font-size:25px\">Python</h3>"
   ]
  },
  {
   "cell_type": "code",
   "execution_count": 31,
   "metadata": {
    "kernel": "Python3"
   },
   "outputs": [
    {
     "name": "stdout",
     "output_type": "stream",
     "text": [
      "(3.660820463525539, 0.000390625)\n"
     ]
    }
   ],
   "source": [
    "from math import floor\n",
    "\n",
    "def get_funcs(f):\n",
    "    from sympy import symbols, sympify, diff\n",
    "    if isinstance(f, str):\n",
    "        footion = sympify(f)\n",
    "    else:\n",
    "        footion = f\n",
    "    x = symbols('x')\n",
    "    deetion = diff(footion, x)\n",
    "    return footion, deetion\n",
    "\n",
    "def simpson_compuesto(f, a, b, m):\n",
    "    footion, deetion = get_funcs(f)\n",
    "    foo, deetion2 = get_funcs(deetion)\n",
    "    foo, deetion3 = get_funcs(deetion2)\n",
    "    foo, deetion4 = get_funcs(deetion3)\n",
    "    h = (b - a) / (m - 1)\n",
    "    x = []\n",
    "    for i in range(m):\n",
    "        x.append(float(a + h * i))\n",
    "    s1 = 0\n",
    "    for i in range(floor(m/2 - 1)):\n",
    "        s1 += float(footion.subs({'x': x[2 * (i + 1)]}))\n",
    "    s2 = 0\n",
    "    for i in range(floor(m/2)):\n",
    "        s2 += float(footion.subs({'x': x[2*i + 1]}))\n",
    "    res = (h / 3.0) * (float(footion.subs({'x': x[0]})) + 2.0 * s1 + 4.0 * s2 + float(footion.subs({'x': x[m-1]})))\n",
    "    \n",
    "    e1 = abs(deetion4.subs({'x': a}))\n",
    "    e2 = abs(deetion4.subs({'x': b}))\n",
    "    if e1 > e2:\n",
    "        error = float(((b - a) * h**4 * abs(e1)) / 180)\n",
    "    else:\n",
    "        error = float(((b - a) * h**4 * abs(e2)) / 180)\n",
    "    return res, error\n",
    "\n",
    "print(simpson_compuesto('log(x)', 2, 5, 7))"
   ]
  },
  {
   "cell_type": "code",
   "execution_count": null,
   "metadata": {
    "kernel": "Python3"
   },
   "outputs": [],
   "source": []
  }
 ],
 "metadata": {
  "kernelspec": {
   "display_name": "SoS",
   "language": "sos",
   "name": "sos"
  },
  "language_info": {
   "codemirror_mode": "sos",
   "file_extension": ".sos",
   "mimetype": "text/x-sos",
   "name": "sos",
   "nbconvert_exporter": "sos_notebook.converter.SoS_Exporter",
   "pygments_lexer": "sos"
  },
  "sos": {
   "kernels": [
    [
     "Octave",
     "octave",
     "Octave",
     "#dff8fb",
     ""
    ],
    [
     "Python3",
     "python3",
     "Python3",
     "#FFD91A",
     ""
    ],
    [
     "SoS",
     "sos",
     "",
     "",
     "sos"
    ]
   ],
   "panel": {
    "displayed": true,
    "height": 0
   },
   "version": "0.21.9"
  }
 },
 "nbformat": 4,
 "nbformat_minor": 2
}
