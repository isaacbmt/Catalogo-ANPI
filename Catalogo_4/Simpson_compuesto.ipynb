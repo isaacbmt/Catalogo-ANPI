{
 "cells": [
  {
   "cell_type": "markdown",
   "metadata": {
    "kernel": "SoS"
   },
   "source": [
    "<body>\n",
    "    <div>\n",
    "        <h2 style='font-family: cursive; font-size: 40px;'>Técnica compuesta de Simpson</h2>\n",
    "<!--         <img src= alt=middle style=\"height: 340px\"> -->\n",
    "    </div>\n",
    "</body>"
   ]
  },
  {
   "cell_type": "markdown",
   "metadata": {
    "kernel": "SoS"
   },
   "source": [
    "<h3 style=\"font-family: 'Courier New'; font-size:25px\"\n",
    "    >Formulación matemática</h3>"
   ]
  },
  {
   "cell_type": "markdown",
   "metadata": {
    "kernel": "SoS"
   },
   "source": [
    "Sea $f(x)$ una funcion 4 veces derivable en el intervalo $[a, b]$ y considere el conjunto soporte $S = \\{x_0, ..., x_n\\}$ donde $n$ es par de tal manera que estan igualmente espaciados, es decir $h = x_{i+1} - x_i$.<br>\n",
    "$$\\int_{a}^{b} f(x) dx \\approx \\frac{h}{3} * [f(x_0) + 2 * \\sum_{i=1}^{\\frac{n}{2}-1} f(x_{2i}) + 4 * \\sum_{i=1}^{\\frac{n}{2}} f(x_{2i-1}) + f(x_n)]$$ <br>\n",
    "Donde $h = \\frac{b - a}{m - 1}$<br>\n",
    "$$|\\int_{a}^{b} f(x) = Aprox_{Simpson_compuesto} dx| = \\frac{(b - a) * h^4}{180} * |f^{(4)}(\\epsilon)|$$"
   ]
  },
  {
   "cell_type": "markdown",
   "metadata": {
    "kernel": "SoS"
   },
   "source": [
    "<h3 style=\"font-family: 'Courier New'; font-size:25px\"\n",
    "    >Valores iniciales</h3>"
   ]
  },
  {
   "cell_type": "markdown",
   "metadata": {
    "kernel": "SoS"
   },
   "source": [
    "$a,b:$ Intervalo que define a la integral definida.<br>\n",
    "$m:$ Cantidad de puntos."
   ]
  },
  {
   "cell_type": "markdown",
   "metadata": {
    "kernel": "SoS"
   },
   "source": [
    "<h3 style=\"font-family: 'Courier New'; font-size:25px\"\n",
    "    >Ventajas y desventajas</h3>"
   ]
  },
  {
   "cell_type": "markdown",
   "metadata": {
    "kernel": "SoS"
   },
   "source": [
    "<table style=\"width:100%; text-align: left; font-size: 14px\">\n",
    "    <tr style=\"text-align: left;\">\n",
    "        <th style=\"text-align: left;\">Ventajas</th>\n",
    "        <th style=\"text-align: left;\">Desventajas</th>\n",
    "    </tr>\n",
    "    <tr>\n",
    "        <td style=\"text-align: left;\">Da una mejor aproximacion que la tecnica de Simpson</td>       \n",
    "        <td style=\"text-align: left;\">Se requieren 3 puntos para definir una parabola, y se requiere de un numero par de tiras para que la formula trabaje.</td>\n",
    "    </tr>\n",
    "    <tr>\n",
    "        <td style=\"text-align: left;\">Es facil de implementar.</td>\n",
    "        <td style=\"text-align: left;\"></td>\n",
    "    </tr>\n",
    "</table>"
   ]
  },
  {
   "cell_type": "markdown",
   "metadata": {
    "kernel": "SoS"
   },
   "source": [
    "<h3 style=\"font-family: 'Courier New'; font-size:25px\"\n",
    "    >Pseudocódigo</h3>"
   ]
  },
  {
   "cell_type": "markdown",
   "metadata": {
    "kernel": "SoS"
   },
   "source": [
    "<ol>\n",
    "    <li>h = (b - a) / (m - 1)</li>\n",
    "    <li>Para i=0:m-1</li>\n",
    "    <li>&emsp;x = [x (a + h * i)]</li>\n",
    "    <li>Fin Para</li>\n",
    "    <li>s1 = 0</li>\n",
    "    <li>Para i=0:m/2-1</li>\n",
    "    <li>&emsp;s1 = s1 + $f(x(2 * i + 1))$</li>\n",
    "    <li>Fin Para</li>\n",
    "    <li>s2 = 0</li>\n",
    "    <li>Para i=0:m/2</li>\n",
    "    <li>&emsp;s2 = s2 + $f(x(2 * i))$</li>\n",
    "    <li>Fin Para</li>\n",
    "    <li>res = h/3 * [$f(x_1)$ + 2 * s1 + 4 * s2 + $f(x_m)$]</li>\n",
    "    <li>Evaluar cual intervalo es el máximo</li>\n",
    "    <li>Calcular el error</li>\n",
    "</ol>"
   ]
  },
  {
   "cell_type": "markdown",
   "metadata": {
    "kernel": "SoS"
   },
   "source": [
    "<h3 style=\"font-family: 'Courier New'; font-size:25px\">Octave</h3>"
   ]
  },
  {
   "cell_type": "code",
   "execution_count": 1,
   "metadata": {
    "kernel": "Octave"
   },
   "outputs": [],
   "source": [
    "function y=derivate(f)\n",
    "    pkg load symbolic\n",
    "    syms x;\n",
    "    ff=f(x);\n",
    "    ffd=diff(ff,x);\n",
    "    y=function_handle(ffd);\n",
    "end\n",
    "\n",
    "function [res error] = simpson_compuesto(f, a, b, m)\n",
    "    % Regla compuesta de Simpson para calcular la integral de una funcion\n",
    "    % :param f: String con la funcion a integrar, debe ser en funcion de x\n",
    "    % :param a: Limite inferior\n",
    "    % :param b: Limite superior\n",
    "    % :param m: Cantidad de puntos a utilizar\n",
    "    % :return: Resultado obtenido\n",
    "    footion = str2func(strcat('@(x)',f));\n",
    "    h = (b - a) / (m - 1);\n",
    "    deetion = derivate(derivate(derivate(derivate(footion))));\n",
    "    x = [];\n",
    "    for i=0:m-1\n",
    "        x = [x (a + h * i)];\n",
    "    end\n",
    "    s1 = 0;\n",
    "    for i=1:(m/2 - 1)\n",
    "        s1 = s1 + footion(x(2 * i + 1));\n",
    "    end\n",
    "    s2 = 0;\n",
    "    for i=1:(m/2)\n",
    "        s2 = s2 + footion(x(2*i));\n",
    "    end\n",
    "    res = (h / 3) * (footion(x(1)) + 2 * s1 + 4 * s2 + footion(x(m)));\n",
    "    \n",
    "    deetion = derivate(derivate(derivate(derivate(footion))));\n",
    "    e1 = abs(deetion(a));\n",
    "    e2 = abs(deetion(b));\n",
    "    if e1 > e2\n",
    "        error = ((b - a) * h**4 * abs(e1)) / 180;\n",
    "    else\n",
    "        error = ((b - a) * h**4 * abs(e2)) / 180;\n",
    "    end \n",
    "end"
   ]
  },
  {
   "cell_type": "markdown",
   "metadata": {
    "kernel": "Octave"
   },
   "source": [
    "<h3 style=\"font-family: 'Courier New'; font-size:25px\">Python</h3>"
   ]
  },
  {
   "cell_type": "code",
   "execution_count": 3,
   "metadata": {
    "kernel": "Python3"
   },
   "outputs": [],
   "source": [
    "from math import floor\n",
    "\n",
    "def get_funcs(f):\n",
    "    from sympy import symbols, sympify, diff\n",
    "    if isinstance(f, str):\n",
    "        footion = sympify(f)\n",
    "    else:\n",
    "        footion = f\n",
    "    x = symbols('x')\n",
    "    deetion = diff(footion, x)\n",
    "    return footion, deetion\n",
    "\n",
    "def simpson_compuesto(f, a, b, m):\n",
    "    \"\"\"\n",
    "    Regla compuesta de Simpson para calcular la integral de una funcion\n",
    "    :param str_funcion: String con la funcion a integrar, debe ser en funcion de x\n",
    "    :param a: Limite inferior\n",
    "    :param b: Limite superior\n",
    "    :param m: Cantidad de puntos a utilizar\n",
    "    :return: Resultado obtenido\n",
    "    \"\"\"\n",
    "    footion, deetion = get_funcs(f)\n",
    "    foo, deetion2 = get_funcs(deetion)\n",
    "    foo, deetion3 = get_funcs(deetion2)\n",
    "    foo, deetion4 = get_funcs(deetion3)\n",
    "    h = (b - a) / (m - 1)\n",
    "    x = []\n",
    "    for i in range(m):\n",
    "        x.append(float(a + h * i))\n",
    "    s1 = 0\n",
    "    for i in range(floor(m/2 - 1)):\n",
    "        s1 += float(footion.subs({'x': x[2 * (i + 1)]}))\n",
    "    s2 = 0\n",
    "    for i in range(floor(m/2)):\n",
    "        s2 += float(footion.subs({'x': x[2*i + 1]}))\n",
    "    res = (h / 3.0) * (float(footion.subs({'x': x[0]})) + 2.0 * s1 + 4.0 * s2 + float(footion.subs({'x': x[m-1]})))\n",
    "    \n",
    "    e1 = abs(deetion4.subs({'x': a}))\n",
    "    e2 = abs(deetion4.subs({'x': b}))\n",
    "    if e1 > e2:\n",
    "        error = float(((b - a) * h**4 * abs(e1)) / 180)\n",
    "    else:\n",
    "        error = float(((b - a) * h**4 * abs(e2)) / 180)\n",
    "    return res, error"
   ]
  },
  {
   "cell_type": "markdown",
   "metadata": {
    "kernel": "Python 3"
   },
   "source": [
    "<h3 style=\"font-family: 'Courier New'; font-size:25px\">Ejemplo Numérico</h3>"
   ]
  },
  {
   "cell_type": "markdown",
   "metadata": {
    "kernel": "Python 3"
   },
   "source": [
    "<h5 style=\"font-family: 'Courier New'; font-size:16px\">Octave</h5>"
   ]
  },
  {
   "cell_type": "code",
   "execution_count": 2,
   "metadata": {
    "kernel": "Octave"
   },
   "outputs": [
    {
     "name": "stdout",
     "output_type": "stream",
     "text": [
      "Symbolic pkg v2.8.0: Python communication link active, SymPy v1.5.1.\n",
      "res =  3.6608\n",
      "error =  0.00039063\n"
     ]
    }
   ],
   "source": [
    "[res error] = simpson_compuesto('log(x)', 2, 5, 7)"
   ]
  },
  {
   "cell_type": "markdown",
   "metadata": {
    "kernel": "Python 3"
   },
   "source": [
    "<h5 style=\"font-family: 'Courier New'; font-size:16px\">Python</h5>"
   ]
  },
  {
   "cell_type": "code",
   "execution_count": 4,
   "metadata": {
    "kernel": "Python3"
   },
   "outputs": [
    {
     "name": "stdout",
     "output_type": "stream",
     "text": [
      "(3.660820463525539, 0.000390625)\n"
     ]
    }
   ],
   "source": [
    "print(simpson_compuesto('log(x)', 2, 5, 7))"
   ]
  },
  {
   "cell_type": "code",
   "execution_count": null,
   "metadata": {
    "kernel": "Python3"
   },
   "outputs": [],
   "source": []
  }
 ],
 "metadata": {
  "kernelspec": {
   "display_name": "SoS",
   "language": "sos",
   "name": "sos"
  },
  "language_info": {
   "codemirror_mode": "sos",
   "file_extension": ".sos",
   "mimetype": "text/x-sos",
   "name": "sos",
   "nbconvert_exporter": "sos_notebook.converter.SoS_Exporter",
   "pygments_lexer": "sos"
  },
  "sos": {
   "kernels": [
    [
     "Octave",
     "octave",
     "Octave",
     "#dff8fb",
     ""
    ],
    [
     "Python3",
     "python3",
     "Python3",
     "#FFD91A",
     ""
    ]
   ],
   "panel": {
    "displayed": true,
    "height": 0
   },
   "version": "0.21.9"
  }
 },
 "nbformat": 4,
 "nbformat_minor": 2
}
