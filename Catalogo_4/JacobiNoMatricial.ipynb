{
 "cells": [
  {
   "cell_type": "markdown",
   "metadata": {
    "kernel": "SoS"
   },
   "source": [
    "<body>\n",
    "    <div>\n",
    "        <h2 style='font-family: cursive; font-size: 40px;'>Método de Jacobi no matricial</h2>\n",
    "    </div>\n",
    "</body>"
   ]
  },
  {
   "cell_type": "markdown",
   "metadata": {
    "kernel": "SoS"
   },
   "source": [
    "<h3 style=\"font-family: 'Courier New'; font-size:25px\"\n",
    "    >Formulación matemática</h3>"
   ]
  },
  {
   "cell_type": "markdown",
   "metadata": {
    "kernel": "SoS"
   },
   "source": [
    "<div>\n",
    "$$x_1^{(k+1)} = \\frac{b_1 - a_{1,2} * x_2^{(k)} - a_{1,3} * x_3^{(k)} - ... - a_{1,n} * x_n^{(k)}}{a_{1,1}}$$ <br>\n",
    "$$x_2^{(k+1)} = \\frac{b_2 - a_{2,2} * x_1^{(k)} - a_{2,3} * x_3^{(k)} - ... - a_{2,n} * x_n^{(k)}}{a_{2,2}}$$ <br>\n",
    "$$.$$<br>\n",
    "$$.$$<br>\n",
    "$$.$$<br>\n",
    "$$x_n^{(k+1)} = \\frac{b_n - a_{n,1} * x_1^{(k)} - a_{n,2} * x_2^{(k)} - ... - a_{1,n-1} * x_{n-1}^{(k)}}{a_{n,n}}$$\n",
    "</div>"
   ]
  },
  {
   "cell_type": "markdown",
   "metadata": {
    "kernel": "SoS"
   },
   "source": [
    "<h3 style=\"font-family: 'Courier New'; font-size:25px\"\n",
    "    >Valores iniciales</h3>"
   ]
  },
  {
   "cell_type": "markdown",
   "metadata": {
    "kernel": "SoS"
   },
   "source": [
    "$a$: Es la matriz de entrada con incognitas, esta tiene que ser una matriz cuadrada y diagonalmente dominante.<br>\n",
    "$b$: Vector que posee la solucion de de cada suma de las filas de la matriz a.<br>\n",
    "$tol$: Define que tan aproximada va a estar la solución.<br>\n",
    "$iterMax$: La cantidad de iteraciones máxima que se va a hacer."
   ]
  },
  {
   "cell_type": "markdown",
   "metadata": {
    "kernel": "SoS"
   },
   "source": [
    "<h3 style=\"font-family: 'Courier New'; font-size:25px\"\n",
    "    >Ventajas y desventajas</h3>"
   ]
  },
  {
   "cell_type": "markdown",
   "metadata": {
    "kernel": "SoS"
   },
   "source": [
    "<table style=\"width:100%; text-align: left; font-size: 14px\">\n",
    "    <tr style=\"text-align: left;\">\n",
    "        <th style=\"text-align: left;\">Ventajas</th>\n",
    "        <th style=\"text-align: left;\">Desventajas</th>\n",
    "    </tr>\n",
    "    <tr>\n",
    "        <td style=\"text-align: left;\">Es simple y numericamente robusto.</td>       \n",
    "        <td style=\"text-align: left;\">Puede tomar muchas iteraciones.</td>\n",
    "    </tr>\n",
    "    <tr>\n",
    "        <td style=\"text-align: left;\">Cada iteración es bastante rapida.</td>\n",
    "        <td style=\"text-align: left;\"></td>\n",
    "    </tr>\n",
    "</table>"
   ]
  },
  {
   "cell_type": "markdown",
   "metadata": {
    "kernel": "SoS"
   },
   "source": [
    "<h3 style=\"font-family: 'Courier New'; font-size:25px\"\n",
    "    >Pseudocódigo</h3>"
   ]
  },
  {
   "cell_type": "markdown",
   "metadata": {
    "kernel": "SoS"
   },
   "source": [
    "<ol>\n",
    "    <li>x = [0, 0, ..., 0]</li>\n",
    "    <li>error = tol + 1</li>\n",
    "    <li>i = 1</li>\n",
    "    <li>Mientras i menor a iterMax y error sea mayor a la tolerancia</li>\n",
    "    <li>&emsp; tmp = x</li>\n",
    "    <li>&emsp; Para i:m</li>\n",
    "    <li>&emsp;&emsp; tmp(i) = b(i)</li>\n",
    "    <li>&emsp;&emsp; Para j=1:m</li>\n",
    "    <li>&emsp;&emsp;&emsp; Si i != j</li>\n",
    "    <li>&emsp;&emsp;&emsp;&emsp; tmp(i) = tmp(i) - a(i, j) * x(j)</li>\n",
    "    <li>&emsp;&emsp;&emsp; Fin Si</li>\n",
    "    <li>&emsp;&emsp; Fin Para</li>\n",
    "    <li>&emsp;&emsp; tmp(i) = x(i) / a(i, i)</li>\n",
    "    <li>&emsp; Fin Para</li>\n",
    "    <li>&emsp; x = tmp</li>\n",
    "    <li>&emsp; error = $\\| a * x' - b \\|$</li>\n",
    "    <li>Fin Mientras</li>\n",
    "</ol>"
   ]
  },
  {
   "cell_type": "markdown",
   "metadata": {
    "kernel": "SoS"
   },
   "source": [
    "<h3 style=\"font-family: 'Courier New'; font-size:25px\">Octave</h3>"
   ]
  },
  {
   "cell_type": "code",
   "execution_count": 1,
   "metadata": {
    "kernel": "Octave"
   },
   "outputs": [],
   "source": [
    "format long\n",
    "function [x e] = jacobi(a, b, tol, iterMax)\n",
    "    % Funcion que implementa el metodo iterativo de Jacobi para resolver el\n",
    "    % sistema A x = b de forma no matricial\n",
    "    % :param a: Matriz cuadrada diagonalmente dominante\n",
    "    % :param b: Vector columna\n",
    "    % :param tol: Tolerancia al fallo que debe tener el vector resultado\n",
    "    % :param iterMax: Cantidad de iteraciones en las que se realiza la aproximacion.\n",
    "    % :return: Vector resultado, y la lista de errores.\n",
    "    [m, n] = size(a);\n",
    "    x(m) = 0;\n",
    "    error = tol +1;\n",
    "    e = [];\n",
    "    i = 1;\n",
    "    while i < iterMax && error > tol\n",
    "        tmp = x;\n",
    "        for i=1:m\n",
    "            tmp(i) = b(i);\n",
    "            for j=1:(m)\n",
    "                if (i != j)\n",
    "                    tmp(i) =  tmp(i) - a(i,j) * x(j);\n",
    "                end\n",
    "            end\n",
    "            tmp(i) = tmp(i) / a(i,i);\n",
    "        end\n",
    "        x = tmp;\n",
    "        error = norm(a * x' - b, 2);\n",
    "        e = [e error];\n",
    "    end\n",
    "end"
   ]
  },
  {
   "cell_type": "markdown",
   "metadata": {
    "kernel": "Octave"
   },
   "source": [
    "<h3 style=\"font-family: 'Courier New'; font-size:25px\">Python</h3>"
   ]
  },
  {
   "cell_type": "code",
   "execution_count": 2,
   "metadata": {
    "kernel": "Python3"
   },
   "outputs": [],
   "source": [
    "from sympy import Matrix\n",
    "\n",
    "def calcError(a, b, x):\n",
    "    a = Matrix(a)\n",
    "    b = Matrix(b)\n",
    "    x = Matrix(x)\n",
    "    error = ((a * x) - b).norm(2)\n",
    "    return error\n",
    "\n",
    "def jacobi(a, b, tol, iterMax):\n",
    "    \"\"\"\n",
    "    Funcion que implementa el metodo iterativo de Jacobi para resolver el\n",
    "    sistema A x = b de forma no matricial\n",
    "    :param a: Matriz cuadrada diagonalmente dominante\n",
    "    :param b: Vector columna\n",
    "    :param tol: Tolerancia al fallo que debe tener el vector resultado\n",
    "    :param iterMax: Cantidad de iteraciones en las que se realiza la aproximacion.\n",
    "    :return: Vector resultado, y la lista de errores.\n",
    "    \"\"\"\n",
    "    m = len(a)\n",
    "    x = [0] * m\n",
    "    error = tol + 1\n",
    "    e = []\n",
    "    it = 0\n",
    "    while it < iterMax and error > tol:\n",
    "        tmp = x;\n",
    "        for i in range(m):\n",
    "            tmp[i] = b[i];\n",
    "            for j in range(m):\n",
    "                if i != j:\n",
    "                    tmp[i] =  tmp[i] - a[i][j] * x[j]\n",
    "            tmp[i] = tmp[i] / a[i][i]\n",
    "        x = tmp\n",
    "        error = calcError(a, b, x)\n",
    "        e.append(error)\n",
    "        it += 1\n",
    "    return x, e"
   ]
  },
  {
   "cell_type": "markdown",
   "metadata": {
    "kernel": "Python 3"
   },
   "source": [
    "<h3 style=\"font-family: 'Courier New'; font-size:25px\">Ejemplo Numérico</h3>"
   ]
  },
  {
   "cell_type": "markdown",
   "metadata": {
    "kernel": "Python 3"
   },
   "source": [
    "<h5 style=\"font-family: 'Courier New'; font-size:16px\">Octave</h5>"
   ]
  },
  {
   "cell_type": "code",
   "execution_count": 3,
   "metadata": {
    "kernel": "Octave"
   },
   "outputs": [
    {
     "name": "stdout",
     "output_type": "stream",
     "text": [
      "x =\r\n",
      "\r\n",
      "   9.999995705032703e-01   9.999995705032703e-01   9.999995705032703e-01\r\n",
      "\r\n",
      "e =\r\n",
      "\r\n",
      " Columns 1 through 3:\r\n",
      "\r\n",
      "   4.849742261192858e+00   1.939896904477144e+00   7.759587617908577e-01\r\n",
      "\r\n",
      " Columns 4 through 6:\r\n",
      "\r\n",
      "   3.103835047163425e-01   1.241534018865357e-01   4.966136075461221e-02\r\n",
      "\r\n",
      " Columns 7 through 9:\r\n",
      "\r\n",
      "   1.986454430184488e-02   7.945817720737852e-03   3.178327088293089e-03\r\n",
      "\r\n",
      " Columns 10 through 12:\r\n",
      "\r\n",
      "   1.271330835317338e-03   5.085323341289864e-04   2.034129336529278e-04\r\n",
      "\r\n",
      " Columns 13 through 15:\r\n",
      "\r\n",
      "   8.136517346322229e-05   3.254606938528892e-05   1.301842775421813e-05\r\n",
      "\r\n",
      " Column 16:\r\n",
      "\r\n",
      "   5.207371103123062e-06\r\n",
      "\r\n"
     ]
    }
   ],
   "source": [
    "a = [5 1 1; 1 5 1; 1 1 5];\n",
    "b = [7; 7; 7];\n",
    "\n",
    "[x e] = jacobi(a, b, 10**(-5), 15)"
   ]
  },
  {
   "cell_type": "markdown",
   "metadata": {
    "kernel": "Python 3"
   },
   "source": [
    "<h5 style=\"font-family: 'Courier New'; font-size:16px\">Python</h5>"
   ]
  },
  {
   "cell_type": "code",
   "execution_count": 4,
   "metadata": {
    "kernel": "Python3"
   },
   "outputs": [
    {
     "name": "stdout",
     "output_type": "stream",
     "text": [
      "([1.000001493683405, 0.999998662733988, 0.9999999687165214], [2.20614414760233, 0.100367998724693, 0.0164394419388067, 0.00183133293119953, 0.000102825148761318, 8.03105410151152e-6])\n"
     ]
    }
   ],
   "source": [
    "a = [[5, 1, 1], [1, 5, 1], [1, 1, 5]];\n",
    "b = [7, 7, 7];\n",
    "\n",
    "print(jacobi(a, b, 10**(-5), 10))"
   ]
  },
  {
   "cell_type": "code",
   "execution_count": null,
   "metadata": {
    "kernel": "Python3"
   },
   "outputs": [],
   "source": []
  }
 ],
 "metadata": {
  "kernelspec": {
   "display_name": "SoS",
   "language": "sos",
   "name": "sos"
  },
  "language_info": {
   "codemirror_mode": "sos",
   "file_extension": ".sos",
   "mimetype": "text/x-sos",
   "name": "sos",
   "nbconvert_exporter": "sos_notebook.converter.SoS_Exporter",
   "pygments_lexer": "sos"
  },
  "sos": {
   "kernels": [
    [
     "Octave",
     "octave",
     "Octave",
     "#dff8fb",
     ""
    ],
    [
     "Python3",
     "python3",
     "Python3",
     "#FFD91A",
     {
      "name": "ipython",
      "version": 3
     }
    ]
   ],
   "panel": {
    "displayed": true,
    "height": 0
   },
   "version": "0.21.9"
  }
 },
 "nbformat": 4,
 "nbformat_minor": 2
}
