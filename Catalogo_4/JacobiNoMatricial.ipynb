{
 "cells": [
  {
   "cell_type": "markdown",
   "metadata": {
    "kernel": "SoS"
   },
   "source": [
    "<body>\n",
    "    <div>\n",
    "        <h2 style='font-family: cursive; font-size: 40px;'>Método de Jacobi no matricial</h2>\n",
    "    </div>\n",
    "</body>"
   ]
  },
  {
   "cell_type": "markdown",
   "metadata": {
    "kernel": "SoS"
   },
   "source": [
    "<h3 style=\"font-family: 'Courier New'; font-size:25px\"\n",
    "    >Formulación matemática</h3>"
   ]
  },
  {
   "cell_type": "code",
   "execution_count": null,
   "metadata": {
    "kernel": "SoS"
   },
   "outputs": [],
   "source": []
  },
  {
   "cell_type": "markdown",
   "metadata": {
    "kernel": "SoS"
   },
   "source": [
    "<h3 style=\"font-family: 'Courier New'; font-size:25px\"\n",
    "    >Valores iniciales</h3>"
   ]
  },
  {
   "cell_type": "code",
   "execution_count": null,
   "metadata": {
    "kernel": "SoS"
   },
   "outputs": [],
   "source": []
  },
  {
   "cell_type": "markdown",
   "metadata": {
    "kernel": "SoS"
   },
   "source": [
    "<h3 style=\"font-family: 'Courier New'; font-size:25px\"\n",
    "    >Ventajas y desventajas</h3>"
   ]
  },
  {
   "cell_type": "code",
   "execution_count": null,
   "metadata": {
    "kernel": "SoS"
   },
   "outputs": [],
   "source": []
  },
  {
   "cell_type": "markdown",
   "metadata": {
    "kernel": "SoS"
   },
   "source": [
    "<h3 style=\"font-family: 'Courier New'; font-size:25px\"\n",
    "    >Pseudocódigo</h3>"
   ]
  },
  {
   "cell_type": "markdown",
   "metadata": {
    "kernel": "Octave"
   },
   "source": []
  },
  {
   "cell_type": "markdown",
   "metadata": {
    "kernel": "SoS"
   },
   "source": [
    "<h3 style=\"font-family: 'Courier New'; font-size:25px\">Octave</h3>"
   ]
  },
  {
   "cell_type": "code",
   "execution_count": 5,
   "metadata": {
    "kernel": "Octave"
   },
   "outputs": [
    {
     "name": "stdout",
     "output_type": "stream",
     "text": [
      "x =\r\n",
      "\r\n",
      "   9.999995705032703e-01   9.999995705032703e-01   9.999995705032703e-01\r\n",
      "\r\n",
      "e =\r\n",
      "\r\n",
      " Columns 1 through 3:\r\n",
      "\r\n",
      "   4.849742261192858e+00   1.939896904477144e+00   7.759587617908577e-01\r\n",
      "\r\n",
      " Columns 4 through 6:\r\n",
      "\r\n",
      "   3.103835047163425e-01   1.241534018865357e-01   4.966136075461221e-02\r\n",
      "\r\n",
      " Columns 7 through 9:\r\n",
      "\r\n",
      "   1.986454430184488e-02   7.945817720737852e-03   3.178327088293089e-03\r\n",
      "\r\n",
      " Columns 10 through 12:\r\n",
      "\r\n",
      "   1.271330835317338e-03   5.085323341289864e-04   2.034129336529278e-04\r\n",
      "\r\n",
      " Columns 13 through 15:\r\n",
      "\r\n",
      "   8.136517346322229e-05   3.254606938528892e-05   1.301842775421813e-05\r\n",
      "\r\n",
      " Column 16:\r\n",
      "\r\n",
      "   5.207371103123062e-06\r\n",
      "\r\n"
     ]
    }
   ],
   "source": [
    "format long\n",
    "function [x e] = jacobi(a, b, tol, iterMax)\n",
    "    [m, n] = size(a);\n",
    "    x(m) = 0;\n",
    "    error = tol +1;\n",
    "    e = [];\n",
    "    i = 1;\n",
    "    while i < iterMax && error > tol\n",
    "        tmp = x;\n",
    "        for i=1:m\n",
    "            tmp(i) = b(i);\n",
    "            for j=1:(m)\n",
    "                if (i != j)\n",
    "                    tmp(i) =  tmp(i) - a(i,j) * x(j);\n",
    "                end\n",
    "            end\n",
    "            tmp(i) = tmp(i) / a(i,i);\n",
    "        end\n",
    "        x = tmp;\n",
    "        error = norm(a * x' - b, 2);\n",
    "        e = [e error];\n",
    "    end\n",
    "end\n",
    "\n",
    "a = [5 1 1; 1 5 1; 1 1 5];\n",
    "b = [7; 7; 7];\n",
    "[x e] = jacobi(a, b, 10**(-5), 15)"
   ]
  },
  {
   "cell_type": "markdown",
   "metadata": {
    "kernel": "Octave"
   },
   "source": [
    "<h3 style=\"font-family: 'Courier New'; font-size:25px\">Python</h3>"
   ]
  },
  {
   "cell_type": "code",
   "execution_count": 9,
   "metadata": {
    "kernel": "Python3"
   },
   "outputs": [
    {
     "name": "stdout",
     "output_type": "stream",
     "text": [
      "([1.000001493683405, 0.999998662733988, 0.9999999687165214], [2.20614414760233, 0.100367998724693, 0.0164394419388067, 0.00183133293119953, 0.000102825148761318, 8.03105410151152e-6])\n"
     ]
    }
   ],
   "source": [
    "from sympy import Matrix\n",
    "\n",
    "def calcError(a, b, x):\n",
    "    a = Matrix(a)\n",
    "    b = Matrix(b)\n",
    "    x = Matrix(x)\n",
    "    error = ((a * x) - b).norm(2)\n",
    "    return error\n",
    "\n",
    "def jacobi(a, b, tol, iterMax):\n",
    "    m = len(a)\n",
    "    x = [0] * m\n",
    "    error = tol + 1\n",
    "    e = []\n",
    "    it = 0\n",
    "    while it < iterMax and error > tol:\n",
    "        tmp = x;\n",
    "        for i in range(m):\n",
    "            tmp[i] = b[i];\n",
    "            for j in range(m):\n",
    "                if i != j:\n",
    "                    tmp[i] =  tmp[i] - a[i][j] * x[j]\n",
    "            tmp[i] = tmp[i] / a[i][i]\n",
    "        x = tmp\n",
    "        error = calcError(a, b, x)\n",
    "        e.append(error)\n",
    "        it += 1\n",
    "    return x, e\n",
    "\n",
    "a = [[5, 1, 1], [1, 5, 1], [1, 1, 5]];\n",
    "b = [7, 7, 7];\n",
    "\n",
    "print(jacobi(a, b, 10**(-5), 10))"
   ]
  },
  {
   "cell_type": "code",
   "execution_count": null,
   "metadata": {
    "kernel": "Python3"
   },
   "outputs": [],
   "source": []
  }
 ],
 "metadata": {
  "kernelspec": {
   "display_name": "SoS",
   "language": "sos",
   "name": "sos"
  },
  "language_info": {
   "codemirror_mode": "sos",
   "file_extension": ".sos",
   "mimetype": "text/x-sos",
   "name": "sos",
   "nbconvert_exporter": "sos_notebook.converter.SoS_Exporter",
   "pygments_lexer": "sos"
  },
  "sos": {
   "kernels": [
    [
     "Octave",
     "octave",
     "Octave",
     "#dff8fb",
     ""
    ],
    [
     "Python3",
     "python3",
     "Python3",
     "#FFD91A",
     ""
    ],
    [
     "SoS",
     "sos",
     "",
     "",
     "sos"
    ]
   ],
   "panel": {
    "displayed": true,
    "height": 0
   },
   "version": "0.21.9"
  }
 },
 "nbformat": 4,
 "nbformat_minor": 2
}
