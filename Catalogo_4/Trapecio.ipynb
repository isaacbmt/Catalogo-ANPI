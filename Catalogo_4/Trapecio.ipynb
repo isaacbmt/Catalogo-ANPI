{
 "cells": [
  {
   "cell_type": "markdown",
   "metadata": {
    "kernel": "SoS"
   },
   "source": [
    "<body>\n",
    "    <div>\n",
    "        <h2 style='font-family: cursive; font-size: 40px;'>Tecnica del trapecio</h2>\n",
    "<!--         <img src= alt=middle style=\"height: 340px\"> -->\n",
    "    </div>\n",
    "</body>"
   ]
  },
  {
   "cell_type": "markdown",
   "metadata": {
    "kernel": "SoS"
   },
   "source": [
    "<h3 style=\"font-family: 'Courier New'; font-size:25px\">Formulación matemática</h3>"
   ]
  },
  {
   "cell_type": "markdown",
   "metadata": {
    "kernel": "SoS"
   },
   "source": [
    "Para realizar una aproximacion de la integral, se traza una línea recta que pase por los puntos f(a) y f(b).\n",
    "$$\\int_{a}^{b} f(x) dx \\approx \\frac{(f(a)+f(b))*(b-a)}{2}$$\n",
    "Sea $h = b - a$\n",
    "El error de la regla del trapecio se define de la siguiente manera:\n",
    "$$|\\int_{a}^{b} f(x) = Aprox_{trapecio} dx| = \\frac{h^3}{12} * |f''(\\epsilon)|$$"
   ]
  },
  {
   "cell_type": "markdown",
   "metadata": {
    "kernel": "SoS"
   },
   "source": [
    "<h3 style=\"font-family: 'Courier New'; font-size:25px\">Valores iniciales</h3>"
   ]
  },
  {
   "cell_type": "markdown",
   "metadata": {
    "kernel": "SoS"
   },
   "source": [
    "<div>\n",
    "$f:$ La funcion que se va a integrar.<br>\n",
    "$a,b:$ Intervalo que define a la integral definida.\n",
    "</div>"
   ]
  },
  {
   "cell_type": "markdown",
   "metadata": {
    "kernel": "SoS"
   },
   "source": [
    "<h3 style=\"font-family: 'Courier New'; font-size:25px\">Ventajas y desventajas</h3>"
   ]
  },
  {
   "cell_type": "markdown",
   "metadata": {
    "kernel": "SoS"
   },
   "source": [
    "<table style=\"width:100%; text-align: left; font-size: 14px\">\n",
    "    <tr style=\"text-align: left;\">\n",
    "        <th style=\"text-align: left;\">Ventajas</th>\n",
    "        <th style=\"text-align: left;\">Desventajas</th>\n",
    "    </tr>\n",
    "    <tr>\n",
    "        <td style=\"text-align: left;\">Es sencillo de implementar.</td>       \n",
    "        <td style=\"text-align: left;\">Cuando la funcion es decreciente el trapecio sobreestima, mientras que cuando es creciente el trapecio sobrestima los resultados.</td>\n",
    "    </tr>\n",
    "    <tr>\n",
    "        <td style=\"text-align: left;\">Es facil de entender.</td>\n",
    "        <td style=\"text-align: left;\"></td>\n",
    "    </tr>\n",
    "</table>"
   ]
  },
  {
   "cell_type": "markdown",
   "metadata": {
    "kernel": "SoS"
   },
   "source": [
    "<h3 style=\"font-family: 'Courier New'; font-size:25px\">Pseudocódigo</h3>"
   ]
  },
  {
   "cell_type": "markdown",
   "metadata": {
    "kernel": "SoS"
   },
   "source": [
    "<ol>\n",
    "    <li>h = b - a</li>\n",
    "    <li>x = h * (f(a) + f(b)) / 2</li>\n",
    "    <li>Derivar 2 veces f</li>\n",
    "    <li>Evaluar cual intervalo es el máximo</li>\n",
    "    <li>Calcular el error</li>\n",
    "</ol>"
   ]
  },
  {
   "cell_type": "markdown",
   "metadata": {
    "kernel": "SoS"
   },
   "source": [
    "<h3 style=\"font-family: 'Courier New'; font-size:25px\">Octave</h3>"
   ]
  },
  {
   "cell_type": "code",
   "execution_count": 2,
   "metadata": {
    "kernel": "Octave"
   },
   "outputs": [],
   "source": [
    "format long\n",
    "function y=derivate(f)\n",
    "    pkg load symbolic\n",
    "    syms x;\n",
    "    ff=f(x);\n",
    "    ffd=diff(ff,x);\n",
    "    y=function_handle(ffd);\n",
    "end\n",
    "\n",
    "function [x error] = trapecio(f, a, b)\n",
    "    % Regla del trapecio para calcular la integral de una funcion\n",
    "    % :param f: Funcion a integrar\n",
    "    % :param a: Limite inferior\n",
    "    % :param b: Limite superior\n",
    "    % :return: Resultado obtenido\n",
    "    footion = str2func(strcat('@(x)',f)); \n",
    "    deetion2 = derivate(derivate(footion));\n",
    "    h = b - a;\n",
    "    x = (h * (footion(a) + footion(b))) / 2;\n",
    "    %deetion2 es la segunda derivada de f(x)\n",
    "    e1 = abs(deetion2(a));\n",
    "    e2 = abs(deetion2(b));\n",
    "    if e1 > e2\n",
    "        error = (h**3 * abs(e1)) / 12;\n",
    "    else\n",
    "        error = (h**3 * abs(e2)) / 12;\n",
    "    end\n",
    "end"
   ]
  },
  {
   "cell_type": "markdown",
   "metadata": {
    "kernel": "Octave"
   },
   "source": [
    "<h3 style=\"font-family: 'Courier New'; font-size:25px\">Python</h3>"
   ]
  },
  {
   "cell_type": "code",
   "execution_count": 8,
   "metadata": {
    "kernel": "Python3"
   },
   "outputs": [],
   "source": [
    "def get_funcs(f):\n",
    "    from sympy import symbols, sympify, diff\n",
    "    if isinstance(f, str):\n",
    "        footion = sympify(f)\n",
    "    else:\n",
    "        footion = f\n",
    "    x = symbols('x')\n",
    "    deetion = diff(footion, x)\n",
    "    return footion, deetion\n",
    "\n",
    "def trapecio(f, a, b):\n",
    "    \"\"\"\n",
    "    Regla del trapecio para calcular la integral de una funcion\n",
    "    :param f: Funcion a integrar\n",
    "    :param a: Limite inferior\n",
    "    :param b: Limite superior\n",
    "    :return: Resultado obtenido\n",
    "    \"\"\"\n",
    "    footion, deetion = get_funcs(f)\n",
    "    foo, deetion2 = get_funcs(deetion)\n",
    "    h = b - a\n",
    "    x = float((h * (footion.subs({'x': a}) + footion.subs({'x': b}))) / 2)\n",
    "    e1 = abs(deetion2.subs({'x': a}))\n",
    "    e2 = abs(deetion2.subs({'x': b}))\n",
    "    if e1 > e2:\n",
    "        error = float((h**3 * abs(e1)) /12)\n",
    "    else:\n",
    "        error = float((h**3 * abs(e2)) /12)\n",
    "    return x, error"
   ]
  },
  {
   "cell_type": "markdown",
   "metadata": {
    "kernel": "Python 3"
   },
   "source": [
    "<h3 style=\"font-family: 'Courier New'; font-size:25px\">Ejemplo Numérico</h3>"
   ]
  },
  {
   "cell_type": "markdown",
   "metadata": {
    "kernel": "Python 3"
   },
   "source": [
    "<h5 style=\"font-family: 'Courier New'; font-size:16px\">Octave</h5>"
   ]
  },
  {
   "cell_type": "code",
   "execution_count": null,
   "metadata": {
    "kernel": "Python3"
   },
   "outputs": [],
   "source": [
    "[x error] = trapecio('log(x)', 2, 5)"
   ]
  },
  {
   "cell_type": "markdown",
   "metadata": {
    "kernel": "Python 3"
   },
   "source": [
    "<h5 style=\"font-family: 'Courier New'; font-size:16px\">Python</h5>"
   ]
  },
  {
   "cell_type": "code",
   "execution_count": 15,
   "metadata": {
    "kernel": "Python3"
   },
   "outputs": [
    {
     "name": "stdout",
     "output_type": "stream",
     "text": [
      "-1.2278e-5*x**2 + 0.0061946*x + 6.015\n",
      "(-1093.667572352, -13.597213802666667)\n",
      "-13521.012196987775\n"
     ]
    }
   ],
   "source": [
    "a = '-1.2278*10^(-5)*x^2 + 6.1946*10^(-3)*x + 6.0150'\n",
    "I_alfa = trapecio(a, 80, -108)\n",
    "print(I_alfa)\n",
    "print(I_alfa[0] * 12.363)"
   ]
  },
  {
   "cell_type": "code",
   "execution_count": null,
   "metadata": {
    "kernel": "Python3"
   },
   "outputs": [],
   "source": []
  }
 ],
 "metadata": {
  "kernelspec": {
   "display_name": "SoS",
   "language": "sos",
   "name": "sos"
  },
  "language_info": {
   "codemirror_mode": "sos",
   "file_extension": ".sos",
   "mimetype": "text/x-sos",
   "name": "sos",
   "nbconvert_exporter": "sos_notebook.converter.SoS_Exporter",
   "pygments_lexer": "sos"
  },
  "sos": {
   "kernels": [
    [
     "Octave",
     "octave",
     "Octave",
     "#dff8fb",
     ""
    ],
    [
     "Python3",
     "python3",
     "Python3",
     "#FFD91A",
     ""
    ],
    [
     "SoS",
     "sos",
     "",
     "",
     "sos"
    ]
   ],
   "panel": {
    "displayed": true,
    "height": 0
   },
   "version": "0.21.9"
  }
 },
 "nbformat": 4,
 "nbformat_minor": 2
}
