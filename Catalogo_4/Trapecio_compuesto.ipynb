{
 "cells": [
  {
   "cell_type": "markdown",
   "metadata": {
    "kernel": "SoS"
   },
   "source": [
    "<body>\n",
    "    <div>\n",
    "        <h2 style='font-family: cursive; font-size: 40px;'>Tecnica compuesta del trapecio</h2>\n",
    "<!--         <img src= alt=middle style=\"height: 340px\"> -->\n",
    "    </div>\n",
    "</body>"
   ]
  },
  {
   "cell_type": "markdown",
   "metadata": {
    "kernel": "SoS"
   },
   "source": [
    "<h3 style=\"font-family: 'Courier New'; font-size:25px\"\n",
    "    >Formulación matemática</h3>"
   ]
  },
  {
   "cell_type": "code",
   "execution_count": null,
   "metadata": {
    "kernel": "SoS"
   },
   "outputs": [],
   "source": []
  },
  {
   "cell_type": "markdown",
   "metadata": {
    "kernel": "SoS"
   },
   "source": [
    "<h3 style=\"font-family: 'Courier New'; font-size:25px\"\n",
    "    >Valores iniciales</h3>"
   ]
  },
  {
   "cell_type": "code",
   "execution_count": null,
   "metadata": {
    "kernel": "SoS"
   },
   "outputs": [],
   "source": []
  },
  {
   "cell_type": "markdown",
   "metadata": {
    "kernel": "SoS"
   },
   "source": [
    "<h3 style=\"font-family: 'Courier New'; font-size:25px\"\n",
    "    >Ventajas y desventajas</h3>"
   ]
  },
  {
   "cell_type": "code",
   "execution_count": null,
   "metadata": {
    "kernel": "SoS"
   },
   "outputs": [],
   "source": []
  },
  {
   "cell_type": "markdown",
   "metadata": {
    "kernel": "SoS"
   },
   "source": [
    "<h3 style=\"font-family: 'Courier New'; font-size:25px\"\n",
    "    >Pseudocódigo</h3>"
   ]
  },
  {
   "cell_type": "code",
   "execution_count": null,
   "metadata": {
    "kernel": "SoS"
   },
   "outputs": [],
   "source": []
  },
  {
   "cell_type": "markdown",
   "metadata": {
    "kernel": "SoS"
   },
   "source": [
    "<h3 style=\"font-family: 'Courier New'; font-size:25px\">Octave</h3>"
   ]
  },
  {
   "cell_type": "code",
   "execution_count": 8,
   "metadata": {
    "kernel": "Octave"
   },
   "outputs": [
    {
     "name": "stdout",
     "output_type": "stream",
     "text": [
      "x =  3.636199196285023\r\n",
      "e =    6.250000000000000e-02\r\n"
     ]
    }
   ],
   "source": [
    "format long\n",
    "function y=derivate(f)\n",
    "    pkg load symbolic\n",
    "    syms x;\n",
    "    ff=f(x);\n",
    "    ffd=diff(ff,x);\n",
    "    y=function_handle(ffd);\n",
    "end\n",
    "\n",
    "function [x error] = trapecio_compuesto(f, a, b, m)\n",
    "    footion = str2func(strcat('@(x)',f)); \n",
    "    deetion2 = derivate(derivate(footion));\n",
    "    h = (b - a) / (m - 1);\n",
    "    s = 0;\n",
    "    x = a;\n",
    "    for i=1:m - 1\n",
    "        xk = a + h * i;\n",
    "        s = s + footion(x) + footion(xk);\n",
    "        x = xk;\n",
    "    end\n",
    "    x = h * s / 2;\n",
    "    \n",
    "    e1 = abs(deetion2(a));\n",
    "    e2 = abs(deetion2(b));\n",
    "    if e1 > e2\n",
    "        error = ((b - a) * h**2 * abs(e1)) / 12;\n",
    "    else\n",
    "        error = ((b - a) * h**2 * abs(e2)) / 12;\n",
    "    end\n",
    "end\n",
    "\n",
    "[x e] = trapecio_compuesto('log(x)', 2, 5, 4)"
   ]
  },
  {
   "cell_type": "markdown",
   "metadata": {
    "kernel": "Octave"
   },
   "source": [
    "<h3 style=\"font-family: 'Courier New'; font-size:25px\">Python</h3>"
   ]
  },
  {
   "cell_type": "code",
   "execution_count": 12,
   "metadata": {
    "kernel": "Python3"
   },
   "outputs": [
    {
     "name": "stdout",
     "output_type": "stream",
     "text": [
      "(3.6361991962850233, 0.0625)\n"
     ]
    }
   ],
   "source": [
    "def get_funcs(f):\n",
    "    from sympy import symbols, sympify, diff\n",
    "    if isinstance(f, str):\n",
    "        footion = sympify(f)\n",
    "    else:\n",
    "        footion = f\n",
    "    x = symbols('x')\n",
    "    deetion = diff(footion, x)\n",
    "    return footion, deetion\n",
    "\n",
    "def trapecio_compuesto(f, a, b, m):\n",
    "    footion, deetion = get_funcs(f)\n",
    "    foo, deetion2 = get_funcs(deetion)\n",
    "    h = (b - a) / (m - 1)\n",
    "    s = 0\n",
    "    x = a\n",
    "    for i in range(1, m):\n",
    "        xk = a + h * i\n",
    "        s += float(footion.subs({'x': x}) + footion.subs({'x': xk}))\n",
    "        x = xk\n",
    "    x = h * s / 2\n",
    "    \n",
    "    e1 = abs(deetion2.subs({'x': a}))\n",
    "    e2 = abs(deetion2.subs({'x': b}))\n",
    "    if e1 > e2:\n",
    "        error = float(((b - a) * h**2 * abs(e1)) / 12)\n",
    "    else:\n",
    "        error = float(((b - a) * h**2 * abs(e2)) / 12)\n",
    "    return x, error\n",
    "\n",
    "print(trapecio_compuesto('log(x)', 2, 5, 4))"
   ]
  },
  {
   "cell_type": "code",
   "execution_count": null,
   "metadata": {
    "kernel": "Python3"
   },
   "outputs": [],
   "source": []
  }
 ],
 "metadata": {
  "kernelspec": {
   "display_name": "SoS",
   "language": "sos",
   "name": "sos"
  },
  "language_info": {
   "codemirror_mode": "sos",
   "file_extension": ".sos",
   "mimetype": "text/x-sos",
   "name": "sos",
   "nbconvert_exporter": "sos_notebook.converter.SoS_Exporter",
   "pygments_lexer": "sos"
  },
  "sos": {
   "kernels": [
    [
     "Octave",
     "octave",
     "Octave",
     "#dff8fb",
     ""
    ],
    [
     "Python3",
     "python3",
     "Python3",
     "#FFD91A",
     ""
    ],
    [
     "SoS",
     "sos",
     "",
     "",
     "sos"
    ]
   ],
   "panel": {
    "displayed": true,
    "height": 0
   },
   "version": "0.21.9"
  }
 },
 "nbformat": 4,
 "nbformat_minor": 2
}
