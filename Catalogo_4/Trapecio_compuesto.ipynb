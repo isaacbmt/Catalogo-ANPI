{
 "cells": [
  {
   "cell_type": "markdown",
   "metadata": {
    "kernel": "SoS"
   },
   "source": [
    "<body>\n",
    "    <div>\n",
    "        <h2 style='font-family: cursive; font-size: 40px;'>Tecnica compuesta del trapecio</h2>\n",
    "<!--         <img src= alt=middle style=\"height: 340px\"> -->\n",
    "    </div>\n",
    "</body>"
   ]
  },
  {
   "cell_type": "markdown",
   "metadata": {
    "kernel": "SoS"
   },
   "source": [
    "<h3 style=\"font-family: 'Courier New'; font-size:25px\"\n",
    "    >Formulación matemática</h3>"
   ]
  },
  {
   "cell_type": "markdown",
   "metadata": {
    "kernel": "SoS"
   },
   "source": [
    "Para realizar una aproximacion de la integral, se traza una línea recta que pase por los puntos f(a) y f(b).\n",
    "$$\\int_{a}^{b} f(x) dx \\approx \\frac{h}{2} * \\sum_{i=0}^{n-1} (f(x_i) + f(x_{i+1}))$$\n",
    "Sea $h = \\frac{b - a}{m - 1}$\n",
    "El error de la regla del trapecio compuesto se define de la siguiente manera:\n",
    "$$|\\int_{a}^{b} f(x) = Aprox_{trapecio compuesto} dx| = \\frac{(b - a) * h^2}{12} * |f''(\\epsilon)|$$"
   ]
  },
  {
   "cell_type": "markdown",
   "metadata": {
    "kernel": "SoS"
   },
   "source": [
    "<h3 style=\"font-family: 'Courier New'; font-size:25px\"\n",
    "    >Valores iniciales</h3>"
   ]
  },
  {
   "cell_type": "markdown",
   "metadata": {
    "kernel": "SoS"
   },
   "source": [
    "$a,b:$ Intervalo que define a la integral definida.<br>\n",
    "$m:$ Cantidad de puntos."
   ]
  },
  {
   "cell_type": "markdown",
   "metadata": {
    "kernel": "SoS"
   },
   "source": [
    "<h3 style=\"font-family: 'Courier New'; font-size:25px\"\n",
    "    >Ventajas y desventajas</h3>"
   ]
  },
  {
   "cell_type": "markdown",
   "metadata": {
    "kernel": "SoS"
   },
   "source": [
    "<table style=\"width:100%; text-align: left; font-size: 14px\">\n",
    "    <tr style=\"text-align: left;\">\n",
    "        <th style=\"text-align: left;\">Ventajas</th>\n",
    "        <th style=\"text-align: left;\">Desventajas</th>\n",
    "    </tr>\n",
    "    <tr>\n",
    "        <td style=\"text-align: left;\">Aproxima mejor que la regla del trapecio.</td>       \n",
    "        <td style=\"text-align: left;\">Con poca cantidad de puntos puede presentar las mismas desventajas de la regla del trapecio.</td>\n",
    "    </tr>\n",
    "    <tr>\n",
    "        <td style=\"text-align: left;\">Es facil de entender.</td>\n",
    "        <td style=\"text-align: left;\"></td>\n",
    "    </tr>\n",
    "</table>"
   ]
  },
  {
   "cell_type": "markdown",
   "metadata": {
    "kernel": "SoS"
   },
   "source": [
    "<h3 style=\"font-family: 'Courier New'; font-size:25px\"\n",
    "    >Pseudocódigo</h3>"
   ]
  },
  {
   "cell_type": "markdown",
   "metadata": {
    "kernel": "SoS"
   },
   "source": [
    "<ol>\n",
    "    <li>h = (b - a) / (m - 1)</li>\n",
    "    <li>Para i=1:m-1</li>\n",
    "    <li>&emsp;xk = a + h * i</li>\n",
    "    <li>&emsp;s = s + $f(x) + f(x_k)$</li>\n",
    "    <li>&emsp;x = [x (a + h * i)]</li>\n",
    "    <li>&emsp;x = xk</li>\n",
    "    <li>Fin Para</li>\n",
    "    <li>x = h * s / 2</li>\n",
    "    <li>Evaluar cual intervalo es el máximo</li>\n",
    "    <li>Calcular el error</li>\n",
    "</ol>"
   ]
  },
  {
   "cell_type": "markdown",
   "metadata": {
    "kernel": "SoS"
   },
   "source": [
    "<h3 style=\"font-family: 'Courier New'; font-size:25px\">Octave</h3>"
   ]
  },
  {
   "cell_type": "code",
   "execution_count": 3,
   "metadata": {
    "kernel": "Octave"
   },
   "outputs": [],
   "source": [
    "format long\n",
    "function y=derivate(f)\n",
    "    pkg load symbolic\n",
    "    syms x;\n",
    "    ff=f(x);\n",
    "    ffd=diff(ff,x);\n",
    "    y=function_handle(ffd);\n",
    "end\n",
    "\n",
    "function [x error] = trapecio_compuesto(f, a, b, m)\n",
    "    % Regla compuesta del trapecio para calcular la integral de una funcion\n",
    "    % :param f: Funcion a integrar\n",
    "    % :param a: Limite inferior\n",
    "    % :param b: Limite superior\n",
    "    % :param m: Cantidad de puntos a utilizar\n",
    "    % :return: Resultado obtenido\n",
    "    footion = str2func(strcat('@(x)',f)); \n",
    "    deetion2 = derivate(derivate(footion));\n",
    "    h = (b - a) / (m - 1);\n",
    "    s = 0;\n",
    "    x = a;\n",
    "    for i=1:m - 1\n",
    "        xk = a + h * i;\n",
    "        s = s + footion(x) + footion(xk);\n",
    "        x = xk;\n",
    "    end\n",
    "    x = h * s / 2;\n",
    "    \n",
    "    e1 = abs(deetion2(a));\n",
    "    e2 = abs(deetion2(b));\n",
    "    if e1 > e2\n",
    "        error = ((b - a) * h**2 * abs(e1)) / 12;\n",
    "    else\n",
    "        error = ((b - a) * h**2 * abs(e2)) / 12;\n",
    "    end\n",
    "end"
   ]
  },
  {
   "cell_type": "markdown",
   "metadata": {
    "kernel": "Octave"
   },
   "source": [
    "<h3 style=\"font-family: 'Courier New'; font-size:25px\">Python</h3>"
   ]
  },
  {
   "cell_type": "code",
   "execution_count": 1,
   "metadata": {
    "kernel": "Python3"
   },
   "outputs": [],
   "source": [
    "def get_funcs(f):\n",
    "    from sympy import symbols, sympify, diff\n",
    "    if isinstance(f, str):\n",
    "        footion = sympify(f)\n",
    "    else:\n",
    "        footion = f\n",
    "    x = symbols('x')\n",
    "    deetion = diff(footion, x)\n",
    "    return footion, deetion\n",
    "\n",
    "def trapecio_compuesto(f, a, b, m):\n",
    "    \"\"\"\n",
    "    Regla compuesta del trapecio para calcular la integral de una funcion\n",
    "    :param funcion: Funcion a integrar\n",
    "    :param a: Limite inferior\n",
    "    :param b: Limite superior\n",
    "    :param m: Cantidad de puntos a utilizar\n",
    "    :return: Resultado obtenido\n",
    "    \"\"\"\n",
    "    footion, deetion = get_funcs(f)\n",
    "    foo, deetion2 = get_funcs(deetion)\n",
    "    h = (b - a) / (m - 1)\n",
    "    s = 0\n",
    "    x = a\n",
    "    for i in range(1, m):\n",
    "        xk = a + h * i\n",
    "        s += float(footion.subs({'x': x}) + footion.subs({'x': xk}))\n",
    "        x = xk\n",
    "    x = h * s / 2\n",
    "    \n",
    "    e1 = abs(deetion2.subs({'x': a}))\n",
    "    e2 = abs(deetion2.subs({'x': b}))\n",
    "    if e1 > e2:\n",
    "        error = float(((b - a) * h**2 * abs(e1)) / 12)\n",
    "    else:\n",
    "        error = float(((b - a) * h**2 * abs(e2)) / 12)\n",
    "    return x, error"
   ]
  },
  {
   "cell_type": "markdown",
   "metadata": {
    "kernel": "Python 3"
   },
   "source": [
    "<h3 style=\"font-family: 'Courier New'; font-size:25px\">Ejemplo Numérico</h3>"
   ]
  },
  {
   "cell_type": "markdown",
   "metadata": {
    "kernel": "Python 3"
   },
   "source": [
    "<h5 style=\"font-family: 'Courier New'; font-size:16px\">Octave</h5>"
   ]
  },
  {
   "cell_type": "code",
   "execution_count": 4,
   "metadata": {
    "kernel": "Octave"
   },
   "outputs": [
    {
     "name": "stdout",
     "output_type": "stream",
     "text": [
      "Symbolic pkg v2.8.0: Python communication link active, SymPy v1.5.1.\n",
      "x =  3.636199196285023\n",
      "e =    6.250000000000000e-02\n"
     ]
    }
   ],
   "source": [
    "[x e] = trapecio_compuesto('log(x)', 2, 5, 4)"
   ]
  },
  {
   "cell_type": "markdown",
   "metadata": {
    "kernel": "Python 3"
   },
   "source": [
    "<h5 style=\"font-family: 'Courier New'; font-size:16px\">Python</h5>"
   ]
  },
  {
   "cell_type": "code",
   "execution_count": 2,
   "metadata": {
    "kernel": "Python3"
   },
   "outputs": [
    {
     "name": "stdout",
     "output_type": "stream",
     "text": [
      "(3.6361991962850233, 0.0625)\n"
     ]
    }
   ],
   "source": [
    "print(trapecio_compuesto('log(x)', 2, 5, 4))"
   ]
  },
  {
   "cell_type": "code",
   "execution_count": null,
   "metadata": {
    "kernel": "Python3"
   },
   "outputs": [],
   "source": []
  }
 ],
 "metadata": {
  "kernelspec": {
   "display_name": "SoS",
   "language": "sos",
   "name": "sos"
  },
  "language_info": {
   "codemirror_mode": "sos",
   "file_extension": ".sos",
   "mimetype": "text/x-sos",
   "name": "sos",
   "nbconvert_exporter": "sos_notebook.converter.SoS_Exporter",
   "pygments_lexer": "sos"
  },
  "sos": {
   "kernels": [
    [
     "Octave",
     "octave",
     "Octave",
     "#dff8fb",
     ""
    ],
    [
     "Python3",
     "python3",
     "Python3",
     "#FFD91A",
     ""
    ]
   ],
   "panel": {
    "displayed": true,
    "height": 0
   },
   "version": "0.21.9"
  }
 },
 "nbformat": 4,
 "nbformat_minor": 2
}
