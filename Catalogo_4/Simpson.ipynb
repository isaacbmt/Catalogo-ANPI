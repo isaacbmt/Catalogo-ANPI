{
 "cells": [
  {
   "cell_type": "markdown",
   "metadata": {
    "kernel": "SoS"
   },
   "source": [
    "<body>\n",
    "    <div>\n",
    "        <h2 style='font-family: cursive; font-size: 40px;'>Técnica de Simpson</h2>\n",
    "<!--         <img src= alt=middle style=\"height: 340px\"> -->\n",
    "    </div>\n",
    "</body>"
   ]
  },
  {
   "cell_type": "markdown",
   "metadata": {
    "kernel": "SoS"
   },
   "source": [
    "<h3 style=\"font-family: 'Courier New'; font-size:25px\"\n",
    "    >Formulación matemática</h3>"
   ]
  },
  {
   "cell_type": "code",
   "execution_count": null,
   "metadata": {
    "kernel": "SoS"
   },
   "outputs": [],
   "source": []
  },
  {
   "cell_type": "markdown",
   "metadata": {
    "kernel": "SoS"
   },
   "source": [
    "<h3 style=\"font-family: 'Courier New'; font-size:25px\"\n",
    "    >Valores iniciales</h3>"
   ]
  },
  {
   "cell_type": "code",
   "execution_count": null,
   "metadata": {
    "kernel": "SoS"
   },
   "outputs": [],
   "source": []
  },
  {
   "cell_type": "markdown",
   "metadata": {
    "kernel": "SoS"
   },
   "source": [
    "<h3 style=\"font-family: 'Courier New'; font-size:25px\"\n",
    "    >Ventajas y desventajas</h3>"
   ]
  },
  {
   "cell_type": "code",
   "execution_count": null,
   "metadata": {
    "kernel": "SoS"
   },
   "outputs": [],
   "source": []
  },
  {
   "cell_type": "markdown",
   "metadata": {
    "kernel": "SoS"
   },
   "source": [
    "<h3 style=\"font-family: 'Courier New'; font-size:25px\"\n",
    "    >Pseudocódigo</h3>"
   ]
  },
  {
   "cell_type": "code",
   "execution_count": null,
   "metadata": {
    "kernel": "SoS"
   },
   "outputs": [],
   "source": []
  },
  {
   "cell_type": "markdown",
   "metadata": {
    "kernel": "SoS"
   },
   "source": [
    "<h3 style=\"font-family: 'Courier New'; font-size:25px\">Octave</h3>"
   ]
  },
  {
   "cell_type": "code",
   "execution_count": 2,
   "metadata": {
    "kernel": "Octave"
   },
   "outputs": [
    {
     "name": "stdout",
     "output_type": "stream",
     "text": [
      "Symbolic pkg v2.8.0: Python communication link active, SymPy v1.5.1.\n",
      "x =  3.6568\n",
      "error =  0.031641\n"
     ]
    }
   ],
   "source": [
    "function y=derivate(f)\n",
    "    pkg load symbolic\n",
    "    syms x;\n",
    "    ff=f(x);\n",
    "    ffd=diff(ff,x);\n",
    "    y=function_handle(ffd);\n",
    "end\n",
    "\n",
    "function [x error] = simpson(f, a, b)\n",
    "    footion = str2func(strcat('@(x)',f));\n",
    "    h = (b - a) / 2;\n",
    "    x = h * (footion(a) + 4 * footion((a + b) / 2) + footion(b)) / 3;\n",
    "    deetion = derivate(derivate(derivate(derivate(footion))));\n",
    "    e1 = abs(deetion(a));\n",
    "    e2 = abs(deetion(b));\n",
    "    if e1 > e2\n",
    "        error = (h**5 * abs(e1)) / 90;\n",
    "    else\n",
    "        error = (h**5 * abs(e2)) / 90;\n",
    "    end \n",
    "end\n",
    "\n",
    "[x error] = simpson('log(x)', 2, 5)"
   ]
  },
  {
   "cell_type": "markdown",
   "metadata": {
    "kernel": "Octave"
   },
   "source": [
    "<h3 style=\"font-family: 'Courier New'; font-size:25px\">Python</h3>"
   ]
  },
  {
   "cell_type": "code",
   "execution_count": 18,
   "metadata": {
    "kernel": "Python3"
   },
   "outputs": [
    {
     "name": "stdout",
     "output_type": "stream",
     "text": [
      "(3.656818483487759, 0.031640625)\n"
     ]
    }
   ],
   "source": [
    "def get_funcs(f):\n",
    "    from sympy import symbols, sympify, diff\n",
    "    if isinstance(f, str):\n",
    "        footion = sympify(f)\n",
    "    else:\n",
    "        footion = f\n",
    "    x = symbols('x')\n",
    "    deetion = diff(footion, x)\n",
    "    return footion, deetion\n",
    "\n",
    "def simpson(f, a, b):\n",
    "    footion, deetion = get_funcs(f)\n",
    "    foo, deetion2 = get_funcs(deetion)\n",
    "    foo, deetion3 = get_funcs(deetion2)\n",
    "    foo, deetion4 = get_funcs(deetion3)\n",
    "    h = (b - a) / 2;\n",
    "    r1 = float(footion.subs({'x': a}))\n",
    "    r2 = 4.0 * float(footion.subs({'x': ((a + b) / 2)}))\n",
    "    r3 = float(footion.subs({'x': b}))\n",
    "    x = float(h) * (r1 + r2 + r3) / 3.0\n",
    "\n",
    "    e1 = abs(deetion4.subs({'x': a}))\n",
    "    e2 = abs(deetion4.subs({'x': b}))\n",
    "    if e1 > e2:\n",
    "        error = float((h**5 * abs(e1)) / 90)\n",
    "    else:\n",
    "        error = float((h**5 * abs(e2)) / 90)\n",
    "    return x, error\n",
    "             \n",
    "print(simpson('log(x)', 2, 5))"
   ]
  },
  {
   "cell_type": "code",
   "execution_count": null,
   "metadata": {
    "kernel": "Python3"
   },
   "outputs": [],
   "source": []
  },
  {
   "cell_type": "code",
   "execution_count": null,
   "metadata": {
    "kernel": "Python3"
   },
   "outputs": [],
   "source": []
  }
 ],
 "metadata": {
  "kernelspec": {
   "display_name": "SoS",
   "language": "sos",
   "name": "sos"
  },
  "language_info": {
   "codemirror_mode": "sos",
   "file_extension": ".sos",
   "mimetype": "text/x-sos",
   "name": "sos",
   "nbconvert_exporter": "sos_notebook.converter.SoS_Exporter",
   "pygments_lexer": "sos"
  },
  "sos": {
   "kernels": [
    [
     "Octave",
     "octave",
     "Octave",
     "#dff8fb",
     ""
    ],
    [
     "Python3",
     "python3",
     "Python3",
     "#FFD91A",
     ""
    ],
    [
     "SoS",
     "sos",
     "",
     "",
     "sos"
    ]
   ],
   "panel": {
    "displayed": true,
    "height": 0
   },
   "version": "0.21.9"
  }
 },
 "nbformat": 4,
 "nbformat_minor": 2
}
