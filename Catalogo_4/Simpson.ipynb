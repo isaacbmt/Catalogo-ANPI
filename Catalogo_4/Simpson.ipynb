{
 "cells": [
  {
   "cell_type": "markdown",
   "metadata": {
    "kernel": "SoS"
   },
   "source": [
    "<body>\n",
    "    <div>\n",
    "        <h2 style='font-family: cursive; font-size: 40px;'>Técnica de Simpson</h2>\n",
    "<!--         <img src= alt=middle style=\"height: 340px\"> -->\n",
    "    </div>\n",
    "</body>"
   ]
  },
  {
   "cell_type": "markdown",
   "metadata": {
    "kernel": "SoS"
   },
   "source": [
    "<h3 style=\"font-family: 'Courier New'; font-size:25px\"\n",
    "    >Formulación matemática</h3>"
   ]
  },
  {
   "cell_type": "markdown",
   "metadata": {
    "kernel": "SoS"
   },
   "source": [
    "<div>\n",
    "Si f(x) es una funcion 4 veces derivable en el intervalo [a,b]. Sea $x_0=a$, $x_1=\\frac{a+b}{2}$ y $x_2=b$,  entonces se define la regla de Simpson como:\n",
    "$$\\int_{a}^{b} f(x) dx \\approx \\frac{(f(x_0)+4*f(x_1)+f(x_2))*h}{3}$$<br>\n",
    "Donde $h = \\frac{b-a}{2}$<br>\n",
    "$$|\\int_{a}^{b} f(x) = Aprox_{Simpson} dx| = \\frac{h^5}{90} * |f^{(4)}(\\epsilon)|$$\n",
    "</div>"
   ]
  },
  {
   "cell_type": "markdown",
   "metadata": {
    "kernel": "SoS"
   },
   "source": [
    "<h3 style=\"font-family: 'Courier New'; font-size:25px\"\n",
    "    >Valores iniciales</h3>"
   ]
  },
  {
   "cell_type": "markdown",
   "metadata": {
    "kernel": "SoS"
   },
   "source": [
    "<div>\n",
    "$f:$ La funcion que se va a integrar.<br>\n",
    "$a,b:$ Intervalo que define a la integral definida.\n",
    "</div>"
   ]
  },
  {
   "cell_type": "markdown",
   "metadata": {
    "kernel": "SoS"
   },
   "source": [
    "<h3 style=\"font-family: 'Courier New'; font-size:25px\"\n",
    "    >Ventajas y desventajas</h3>"
   ]
  },
  {
   "cell_type": "markdown",
   "metadata": {
    "kernel": "SoS"
   },
   "source": [
    "<table style=\"width:100%; text-align: left; font-size: 14px\">\n",
    "    <tr style=\"text-align: left;\">\n",
    "        <th style=\"text-align: left;\">Ventajas</th>\n",
    "        <th style=\"text-align: left;\">Desventajas</th>\n",
    "    </tr>\n",
    "    <tr>\n",
    "        <td style=\"text-align: left;\">Da una mejor aproximacion que la tecnica del trapecio.</td>       \n",
    "        <td style=\"text-align: left;\">Se requieren 3 puntos para definir una parabola, y se requiere de un numero par de tiras para que la formula trabaje.</td>\n",
    "    </tr>\n",
    "    <tr>\n",
    "        <td style=\"text-align: left;\">Es facil de implementar.</td>\n",
    "        <td style=\"text-align: left;\"></td>\n",
    "    </tr>\n",
    "</table>"
   ]
  },
  {
   "cell_type": "markdown",
   "metadata": {
    "kernel": "SoS"
   },
   "source": [
    "<h3 style=\"font-family: 'Courier New'; font-size:25px\"\n",
    "    >Pseudocódigo</h3>"
   ]
  },
  {
   "cell_type": "markdown",
   "metadata": {
    "kernel": "SoS"
   },
   "source": [
    "<ol>\n",
    "    <li>h = (b - a) / 2</li>\n",
    "    <li>x = $\\frac{(f(x_0)+4*f(x_1)+f(x_2))*h}{3}$</li>\n",
    "    <li>Derivar 4 veces f</li>\n",
    "    <li>Evaluar cual intervalo es el máximo</li>\n",
    "    <li>Calcular el error</li>\n",
    "</ol>"
   ]
  },
  {
   "cell_type": "markdown",
   "metadata": {
    "kernel": "SoS"
   },
   "source": [
    "<h3 style=\"font-family: 'Courier New'; font-size:25px\">Octave</h3>"
   ]
  },
  {
   "cell_type": "code",
   "execution_count": 4,
   "metadata": {
    "kernel": "Octave"
   },
   "outputs": [],
   "source": [
    "function y=derivate(f)\n",
    "    pkg load symbolic\n",
    "    syms x;\n",
    "    ff=f(x);\n",
    "    ffd=diff(ff,x);\n",
    "    y=function_handle(ffd);\n",
    "end\n",
    "\n",
    "function [x error] = simpson(f, a, b)\n",
    "    % Regla del Simpson para calcular la integral de una funcion\n",
    "    % :param f: Funcion a integrar\n",
    "    % :param a: Limite inferior\n",
    "    % :param b: Limite superior\n",
    "    % :return: Resultado obtenido\n",
    "    footion = str2func(strcat('@(x)',f));\n",
    "    h = (b - a) / 2;\n",
    "    x = h * (footion(a) + 4 * footion((a + b) / 2) + footion(b)) / 3;\n",
    "    deetion = derivate(derivate(derivate(derivate(footion))));\n",
    "    e1 = abs(deetion(a));\n",
    "    e2 = abs(deetion(b));\n",
    "    if e1 > e2\n",
    "        error = (h**5 * abs(e1)) / 90;\n",
    "    else\n",
    "        error = (h**5 * abs(e2)) / 90;\n",
    "    end \n",
    "end"
   ]
  },
  {
   "cell_type": "markdown",
   "metadata": {
    "kernel": "Octave"
   },
   "source": [
    "<h3 style=\"font-family: 'Courier New'; font-size:25px\">Python</h3>"
   ]
  },
  {
   "cell_type": "code",
   "execution_count": 2,
   "metadata": {
    "kernel": "Python3"
   },
   "outputs": [],
   "source": [
    "def get_funcs(f):\n",
    "    from sympy import symbols, sympify, diff\n",
    "    if isinstance(f, str):\n",
    "        footion = sympify(f)\n",
    "    else:\n",
    "        footion = f\n",
    "    x = symbols('x')\n",
    "    deetion = diff(footion, x)\n",
    "    return footion, deetion\n",
    "\n",
    "def simpson(f, a, b):\n",
    "    \"\"\"\n",
    "    Regla del Simpson para calcular la integral de una funcion\n",
    "    :param f: Funcion a integrar\n",
    "    :param a: Limite inferior\n",
    "    :param b: Limite superior\n",
    "    :return: Resultado obtenido\n",
    "    \"\"\"\n",
    "    footion, deetion = get_funcs(f)\n",
    "    foo, deetion2 = get_funcs(deetion)\n",
    "    foo, deetion3 = get_funcs(deetion2)\n",
    "    foo, deetion4 = get_funcs(deetion3)\n",
    "    h = (b - a) / 2;\n",
    "    r1 = float(footion.subs({'x': a}))\n",
    "    r2 = 4.0 * float(footion.subs({'x': ((a + b) / 2)}))\n",
    "    r3 = float(footion.subs({'x': b}))\n",
    "    x = float(h) * (r1 + r2 + r3) / 3.0\n",
    "\n",
    "    e1 = abs(deetion4.subs({'x': a}))\n",
    "    e2 = abs(deetion4.subs({'x': b}))\n",
    "    if e1 > e2:\n",
    "        error = float((h**5 * abs(e1)) / 90)\n",
    "    else:\n",
    "        error = float((h**5 * abs(e2)) / 90)\n",
    "    return x, error"
   ]
  },
  {
   "cell_type": "markdown",
   "metadata": {
    "kernel": "Python 3"
   },
   "source": [
    "<h3 style=\"font-family: 'Courier New'; font-size:25px\">Ejemplo Numérico</h3>"
   ]
  },
  {
   "cell_type": "markdown",
   "metadata": {
    "kernel": "Python 3"
   },
   "source": [
    "<h5 style=\"font-family: 'Courier New'; font-size:16px\">Octave</h5>"
   ]
  },
  {
   "cell_type": "code",
   "execution_count": 5,
   "metadata": {
    "kernel": "Octave"
   },
   "outputs": [
    {
     "name": "stdout",
     "output_type": "stream",
     "text": [
      "Symbolic pkg v2.8.0: Python communication link active, SymPy v1.5.1.\n",
      "x =  3.6568\n",
      "error =  0.031641\n"
     ]
    }
   ],
   "source": [
    "[x error] = simpson('log(x)', 2, 5)"
   ]
  },
  {
   "cell_type": "markdown",
   "metadata": {
    "kernel": "Python 3"
   },
   "source": [
    "<h5 style=\"font-family: 'Courier New'; font-size:16px\">Python</h5>"
   ]
  },
  {
   "cell_type": "code",
   "execution_count": 3,
   "metadata": {
    "kernel": "Python3"
   },
   "outputs": [
    {
     "name": "stdout",
     "output_type": "stream",
     "text": [
      "(3.656818483487759, 0.031640625)\n"
     ]
    }
   ],
   "source": [
    "print(simpson('log(x)', 2, 5))"
   ]
  },
  {
   "cell_type": "code",
   "execution_count": null,
   "metadata": {
    "kernel": "Python3"
   },
   "outputs": [],
   "source": []
  }
 ],
 "metadata": {
  "kernelspec": {
   "display_name": "SoS",
   "language": "sos",
   "name": "sos"
  },
  "language_info": {
   "codemirror_mode": "sos",
   "file_extension": ".sos",
   "mimetype": "text/x-sos",
   "name": "sos",
   "nbconvert_exporter": "sos_notebook.converter.SoS_Exporter",
   "pygments_lexer": "sos"
  },
  "sos": {
   "kernels": [
    [
     "Octave",
     "octave",
     "Octave",
     "#dff8fb",
     ""
    ],
    [
     "Python3",
     "python3",
     "Python3",
     "#FFD91A",
     {
      "name": "ipython",
      "version": 3
     }
    ]
   ],
   "panel": {
    "displayed": true,
    "height": 0
   },
   "version": "0.21.9"
  }
 },
 "nbformat": 4,
 "nbformat_minor": 2
}
