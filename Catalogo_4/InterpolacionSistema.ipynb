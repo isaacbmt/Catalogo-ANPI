{
 "cells": [
  {
   "cell_type": "markdown",
   "metadata": {
    "kernel": "SoS"
   },
   "source": [
    "<body>\n",
    "    <div>\n",
    "        <h2 style='font-family: cursive; font-size: 40px;'>Interpolación polinimial usando sistemas de ecuaciones</h2>\n",
    "<!--         <img src= alt=middle style=\"height: 340px\"> -->\n",
    "    </div>\n",
    "</body>"
   ]
  },
  {
   "cell_type": "markdown",
   "metadata": {
    "kernel": "SoS"
   },
   "source": [
    "<h3 style=\"font-family: 'Courier New'; font-size:25px\"\n",
    "    >Formulación matemática</h3>"
   ]
  },
  {
   "cell_type": "markdown",
   "metadata": {
    "kernel": "SoS"
   },
   "source": [
    "<div>\n",
    "    $$\\begin{cases} \n",
    "    a_n * x_n^n + a_{n-1} * x_{n}^{n-1} + ... + a_{2} * x_{n}^{2} + a_{1} * x_{n}^{1} + a_0 = y_n \\\\\n",
    "    a_n * x_{n-1}^n + a_{n-1} * x_{n-1}^{n-1} + ... + a_{2} * x_{n-1}^{2} + a_{1} * x_{n-1}^{1} + a_0 = y_{n-1} \\\\ \n",
    "    a_n * x_{0}^n + a_{n-1} * x_{0}^{n-1} + ... + a_{2} * x_{0}^{2} + a_{1} * x_{0}^{1} + a_0 = y_{0}\n",
    "    \\end{cases}$$\n",
    "</div>"
   ]
  },
  {
   "cell_type": "markdown",
   "metadata": {
    "kernel": "SoS"
   },
   "source": [
    "<h3 style=\"font-family: 'Courier New'; font-size:25px\"\n",
    "    >Valores iniciales</h3>"
   ]
  },
  {
   "cell_type": "markdown",
   "metadata": {
    "kernel": "SoS"
   },
   "source": [
    "\n",
    "$puntos:$ Los puntos por los que va a pasar el polinomio que se va a formar."
   ]
  },
  {
   "cell_type": "markdown",
   "metadata": {
    "kernel": "SoS"
   },
   "source": [
    "<h3 style=\"font-family: 'Courier New'; font-size:25px\"\n",
    "    >Ventajas y desventajas</h3>"
   ]
  },
  {
   "cell_type": "markdown",
   "metadata": {
    "kernel": "SoS"
   },
   "source": [
    "<table style=\"width:100%; text-align: left; font-size: 14px\">\n",
    "    <tr style=\"text-align: left;\">\n",
    "        <th style=\"text-align: left;\">Ventajas</th>\n",
    "        <th style=\"text-align: left;\">Desventajas</th>\n",
    "    </tr>\n",
    "    <tr>\n",
    "        <td style=\"text-align: left;\"></td>       \n",
    "        <td style=\"text-align: left;\">Depende de un metodo de resolucion de sistema de ecuaciones para poder aplicarlo.</td>\n",
    "    </tr>\n",
    "    <tr>\n",
    "        <td style=\"text-align: left;\"></td>\n",
    "        <td style=\"text-align: left;\">No es el mejor computacionalmente.</td>\n",
    "    </tr>\n",
    "</table>"
   ]
  },
  {
   "cell_type": "markdown",
   "metadata": {
    "kernel": "SoS"
   },
   "source": [
    "<h3 style=\"font-family: 'Courier New'; font-size:25px\"\n",
    "    >Pseudocódigo</h3>"
   ]
  },
  {
   "cell_type": "markdown",
   "metadata": {
    "kernel": "SoS"
   },
   "source": [
    "<ol>\n",
    "    <li>Sea l una matriz nxn</li>\n",
    "    <li>m = Cantidad de puntos</li>\n",
    "    <li>Para i : m $\\gt$ i</li>\n",
    "    <li>&emsp;Para j : m $\\gt$ j</li>\n",
    "    <li>&emsp;&emsp;l(i j) = puntos(i, 1) ** (m - j)</li>\n",
    "    <li>&emsp;Fin Para</li>\n",
    "    <li>Fin Para</li>\n",
    "    <li>Sea b un vevctor de tamaño n</li>\n",
    "    <li>Para i : m $\\gt$ i</li>\n",
    "    <li>&emsp;b(i) = puntos(i, 2)</li>\n",
    "    <li>Fin Para</li>\n",
    "    <li>Calcular la solucion del sistema de ecuaciones usando la Eliminacion Gaussiana</li>\n",
    "    <li>Calcular P</li>\n",
    "</ol>"
   ]
  },
  {
   "cell_type": "markdown",
   "metadata": {
    "kernel": "SoS"
   },
   "source": [
    "<h3 style=\"font-family: 'Courier New'; font-size:25px\">Octave</h3>"
   ]
  },
  {
   "cell_type": "code",
   "execution_count": 14,
   "metadata": {
    "kernel": "Octave"
   },
   "outputs": [],
   "source": [
    "format long\n",
    "warning('off', 'all');\n",
    "\n",
    "function [a] = UpperTriangular(a, m, n)\n",
    "%   Funcion para obtener una matriz triangular superior\n",
    "%   :param a: una matriz\n",
    "%   :param m: tamaño de las filas de la matriz\n",
    "%   :param n: tamaño de las columnas de la matriz\n",
    "%   :return: matriz triangular superior\n",
    "    for i=1:m\n",
    "        if a(i,i) == 0\n",
    "            disp('Error: Zero division exception.');\n",
    "        end\n",
    "        for j=i+1:m\n",
    "            if i!=j\n",
    "                #Coeficiente que sirve para sacar gauss-jordan\n",
    "                coef = a(j, i)/a(i, i);\n",
    "                for k=i:(m+1)\n",
    "                    #Saca gauss-jordan\n",
    "                    a(j, k) = a(j, k) - coef * a(i, k);\n",
    "                end\n",
    "            end\n",
    "        end\n",
    "    end\n",
    "end\n",
    "\n",
    "function [x_i] = EliminacionGaussiana(a)\n",
    "%   Funcion para realizar una sustitucion hacia atras\n",
    "%   :param a: una matriz\n",
    "%   :return: matriz con el valor de cada x\n",
    "    %Obtiene el tamaño de la matriz\n",
    "    [m n] = size(a);\n",
    "    %Obtiene la matriz triangular superior\n",
    "    [a] = UpperTriangular(a, m, n);\n",
    "    \n",
    "    %Calcula el valor de x_m\n",
    "    x_i(m) = [a(m,n)/a(m,m)];\n",
    "    for i=m:-1:1\n",
    "        x_sum = 0;\n",
    "        %Suma la multiplicacion de la contante junto con la variable encontrada\n",
    "        for j=i+1:m\n",
    "            x_sum = x_sum + a(i, j) * x_i(j);\n",
    "        end\n",
    "        %Obtiene el valor de x_i\n",
    "        x_i(i) = (a(i, n)-x_sum)/a(i,i);\n",
    "    end\n",
    "end  \n",
    "\n",
    "function [P] = interpolacion(puntos)\n",
    "    % Metodo de interpolacion usando sistemas de ecuaciones\n",
    "    % :param puntos: Los puntos deben ser ingresados en una lista, donde cada punto\n",
    "    % es una lista, donde la primera posicion es el x, y la segunda posicion es el y. [x, y]\n",
    "    % :return: Polinomio de interpolacion obtenido\n",
    "    pkg load symbolic\n",
    "    syms x;\n",
    "    [m, n] = size(puntos);\n",
    "    l(m, m + 1) = 0;\n",
    "    for i=1:m\n",
    "        for j=1:m\n",
    "            l(i, j) = puntos(i, 1)**(m - j);\n",
    "        end\n",
    "    end\n",
    "    for i=1:m\n",
    "        l(i, m+1) = puntos(i, 2);\n",
    "    end\n",
    "    a = EliminacionGaussiana(l);\n",
    "    P = 0;\n",
    "    for i=1:m\n",
    "        P = P + a(i) * x ** (m - i);\n",
    "    end\n",
    "    P = expand(P);\n",
    "end"
   ]
  },
  {
   "cell_type": "markdown",
   "metadata": {
    "kernel": "Octave"
   },
   "source": [
    "<h3 style=\"font-family: 'Courier New'; font-size:25px\">Python</h3>"
   ]
  },
  {
   "cell_type": "code",
   "execution_count": 12,
   "metadata": {
    "kernel": "Python3"
   },
   "outputs": [],
   "source": [
    "from sympy import Matrix\n",
    "\n",
    "def UpperTriangular(a, m, n):\n",
    "    \"\"\"\n",
    "    Funcion para obtener una matriz triangular superior\n",
    "    :param a: una matriz\n",
    "    :param m: tamaño de las filas de la matriz\n",
    "    :param n: tamaño de las columnas de la matriz\n",
    "    :return: matriz triangular superior\n",
    "    \"\"\"\n",
    "    for i in range(m):\n",
    "        if a[i][i] == 0:\n",
    "            print('Error: Zero division exception.')\n",
    "        for j in range(i+1,m):\n",
    "            if i != j:\n",
    "                #Coeficiente que sirve para sacar gauss-jordan\n",
    "                coef = a[j][i] / a[i][i]\n",
    "                for k in range(i, n):\n",
    "                    #Saca gauss-jordan\n",
    "                    a[j][k] -= coef * a[i][k]\n",
    "    return a\n",
    "\n",
    "\n",
    "def backwardSubstitution(a, m, n):\n",
    "    \"\"\"\n",
    "    Funcion para obtener la sustitucion hacia atras de una matriz superior\n",
    "    :param a: una matriz superior\n",
    "    :param m: tamaño de las filas de la matriz\n",
    "    :param n: tamaño de las columnas de la matriz\n",
    "    :return: matriz con el valor de cada x\n",
    "    \"\"\"\n",
    "    x_i = [0] * m\n",
    "    #Calcula el valor de x_m\n",
    "    x_i[m-1] = a[m-1][n-1]/a[m-1][m-1]\n",
    "    for i in range(m-1, -1, -1):\n",
    "        x_sum = 0\n",
    "        #Suma la multiplicacion de la contante junto con la variable encontrada\n",
    "        for j in range(i+1, m):\n",
    "            x_sum += a[i][j] * x_i[j]\n",
    "        #Obtiene el valor de x_i\n",
    "        x_i[i] = (a[i][m] - x_sum)/a[i][i]\n",
    "    return Matrix(x_i)\n",
    "    \n",
    "    \n",
    "def EliminacionGaussiana(a):\n",
    "    \"\"\"\n",
    "    Funcion para que usa el metodo de la eliminacion gausseana para encontrar los valores de x\n",
    "    :param a: una matriz\n",
    "    :return: matriz con el valor de cada x\n",
    "    \"\"\"\n",
    "    #Obtiene el tamaño de la matriz\n",
    "    m = len(a) \n",
    "    n = len(a[0])\n",
    "    #Obtiene la matriz triangular superior\n",
    "    a = UpperTriangular(a, m, n)\n",
    "    #Obtiene la matriz de soluciones\n",
    "    a = backwardSubstitution(a, m, n)\n",
    "    return a\n",
    "\n",
    "def interpolacion(puntos):\n",
    "    \"\"\"\n",
    "    Metodo de interpolacion usando sistemas de ecuaciones\n",
    "    :param puntos: Los puntos deben ser ingresados en una lista, donde cada punto\n",
    "    es una lista, donde la primera posicion es el x, y la segunda posicion es el y. [x, y]\n",
    "    :return: Polinomio de interpolacion obtenido\n",
    "    \"\"\"\n",
    "    from sympy import symbols, expand\n",
    "    x = symbols('x')\n",
    "    m = len(puntos)\n",
    "    l = []\n",
    "    for i in range(m):\n",
    "        l.append([0] * (m+1))\n",
    "        \n",
    "    for i in range(m):\n",
    "        for j in range(m):\n",
    "            l[i][j] = puntos[i][0] ** (m - (1 + j))\n",
    "    for i in range(m):\n",
    "        l[i][m] = puntos[i][1]\n",
    "    a = EliminacionGaussiana(l)\n",
    "    P = 0\n",
    "    for i in range(m):\n",
    "        P += a[i] * x ** (m - (i + 1))\n",
    "    return expand(P)"
   ]
  },
  {
   "cell_type": "markdown",
   "metadata": {
    "kernel": "Python 3"
   },
   "source": [
    "<h3 style=\"font-family: 'Courier New'; font-size:25px\">Ejemplo Numérico</h3>"
   ]
  },
  {
   "cell_type": "markdown",
   "metadata": {
    "kernel": "Python 3"
   },
   "source": [
    "<h5 style=\"font-family: 'Courier New'; font-size:16px\">Octave</h5>"
   ]
  },
  {
   "cell_type": "code",
   "execution_count": 9,
   "metadata": {
    "kernel": "Octave"
   },
   "outputs": [
    {
     "name": "stdout",
     "output_type": "stream",
     "text": [
      "ans = (sym)\r\n",
      "\r\n",
      "       3                    \r\n",
      "    7⋅x        2   80⋅x     \r\n",
      "  - ──── + 15⋅x  - ──── + 15\r\n",
      "     3              3       \r\n",
      "\r\n"
     ]
    }
   ],
   "source": [
    "interpolacion([1 1; 2 3; 3 7; 4 -1])"
   ]
  },
  {
   "cell_type": "markdown",
   "metadata": {
    "kernel": "Python 3"
   },
   "source": [
    "<h5 style=\"font-family: 'Courier New'; font-size:16px\">Python</h5>"
   ]
  },
  {
   "cell_type": "code",
   "execution_count": 13,
   "metadata": {
    "kernel": "Python3"
   },
   "outputs": [
    {
     "name": "stdout",
     "output_type": "stream",
     "text": [
      "-2.33333333333333*x**3 + 15.0*x**2 - 26.6666666666667*x + 15.0\n"
     ]
    }
   ],
   "source": [
    "print(interpolacion([[1, 1], [2, 3], [3, 7], [4, -1]]))"
   ]
  },
  {
   "cell_type": "code",
   "execution_count": null,
   "metadata": {
    "kernel": "Python3"
   },
   "outputs": [],
   "source": []
  }
 ],
 "metadata": {
  "kernelspec": {
   "display_name": "SoS",
   "language": "sos",
   "name": "sos"
  },
  "language_info": {
   "codemirror_mode": "sos",
   "file_extension": ".sos",
   "mimetype": "text/x-sos",
   "name": "sos",
   "nbconvert_exporter": "sos_notebook.converter.SoS_Exporter",
   "pygments_lexer": "sos"
  },
  "sos": {
   "kernels": [
    [
     "Octave",
     "octave",
     "Octave",
     "#dff8fb",
     ""
    ],
    [
     "Python3",
     "python3",
     "Python3",
     "#FFD91A",
     ""
    ],
    [
     "SoS",
     "sos",
     "",
     "",
     "sos"
    ]
   ],
   "panel": {
    "displayed": true,
    "height": 0
   },
   "version": "0.21.9"
  }
 },
 "nbformat": 4,
 "nbformat_minor": 2
}
