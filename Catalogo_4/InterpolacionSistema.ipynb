{
 "cells": [
  {
   "cell_type": "markdown",
   "metadata": {
    "kernel": "SoS"
   },
   "source": [
    "<body>\n",
    "    <div>\n",
    "        <h2 style='font-family: cursive; font-size: 40px;'>Interpolación polinimial usando sistemas de ecuaciones</h2>\n",
    "<!--         <img src= alt=middle style=\"height: 340px\"> -->\n",
    "    </div>\n",
    "</body>"
   ]
  },
  {
   "cell_type": "markdown",
   "metadata": {
    "kernel": "SoS"
   },
   "source": [
    "<h3 style=\"font-family: 'Courier New'; font-size:25px\"\n",
    "    >Formulación matemática</h3>"
   ]
  },
  {
   "cell_type": "code",
   "execution_count": null,
   "metadata": {
    "kernel": "SoS"
   },
   "outputs": [],
   "source": []
  },
  {
   "cell_type": "markdown",
   "metadata": {
    "kernel": "SoS"
   },
   "source": [
    "<h3 style=\"font-family: 'Courier New'; font-size:25px\"\n",
    "    >Valores iniciales</h3>"
   ]
  },
  {
   "cell_type": "code",
   "execution_count": null,
   "metadata": {
    "kernel": "SoS"
   },
   "outputs": [],
   "source": []
  },
  {
   "cell_type": "markdown",
   "metadata": {
    "kernel": "SoS"
   },
   "source": [
    "<h3 style=\"font-family: 'Courier New'; font-size:25px\"\n",
    "    >Ventajas y desventajas</h3>"
   ]
  },
  {
   "cell_type": "code",
   "execution_count": null,
   "metadata": {
    "kernel": "SoS"
   },
   "outputs": [],
   "source": []
  },
  {
   "cell_type": "markdown",
   "metadata": {
    "kernel": "SoS"
   },
   "source": [
    "<h3 style=\"font-family: 'Courier New'; font-size:25px\"\n",
    "    >Pseudocódigo</h3>"
   ]
  },
  {
   "cell_type": "code",
   "execution_count": null,
   "metadata": {
    "kernel": "SoS"
   },
   "outputs": [],
   "source": []
  },
  {
   "cell_type": "markdown",
   "metadata": {
    "kernel": "SoS"
   },
   "source": [
    "<h3 style=\"font-family: 'Courier New'; font-size:25px\">Octave</h3>"
   ]
  },
  {
   "cell_type": "code",
   "execution_count": 22,
   "metadata": {
    "kernel": "Octave"
   },
   "outputs": [
    {
     "name": "stdout",
     "output_type": "stream",
     "text": [
      "ans =\r\n",
      "\r\n",
      "  -2.333333333333332e+00\r\n",
      "   1.500000000000000e+01\r\n",
      "  -2.666666666666667e+01\r\n",
      "   1.500000000000000e+01\r\n",
      "\r\n"
     ]
    }
   ],
   "source": [
    "format long\n",
    "\n",
    "function [a] = UpperTriangular(a, m, n)\n",
    "%   Funcion para obtener una matriz triangular superior\n",
    "%   :param a: una matriz\n",
    "%   :param m: tamaño de las filas de la matriz\n",
    "%   :param n: tamaño de las columnas de la matriz\n",
    "%   :return: matriz triangular superior\n",
    "    for i=1:m\n",
    "        if a(i,i) == 0\n",
    "            disp('Error: Zero division exception.');\n",
    "        end\n",
    "        for j=i+1:m\n",
    "            if i!=j\n",
    "                #Coeficiente que sirve para sacar gauss-jordan\n",
    "                coef = a(j, i)/a(i, i);\n",
    "                for k=i:(m+1)\n",
    "                    #Saca gauss-jordan\n",
    "                    a(j, k) = a(j, k) - coef * a(i, k);\n",
    "                end\n",
    "            end\n",
    "        end\n",
    "    end\n",
    "end\n",
    "\n",
    "function [x_i] = EliminacionGaussiana(a)\n",
    "%   Funcion para realizar una sustitucion hacia atras\n",
    "%   :param a: una matriz\n",
    "%   :return: matriz con el valor de cada x\n",
    "    %Obtiene el tamaño de la matriz\n",
    "    [m n] = size(a);\n",
    "    %Obtiene la matriz triangular superior\n",
    "    [a] = UpperTriangular(a, m, n);\n",
    "    \n",
    "    %Calcula el valor de x_m\n",
    "    x_i(m) = [a(m,n)/a(m,m)];\n",
    "    for i=m:-1:1\n",
    "        x_sum = 0;\n",
    "        %Suma la multiplicacion de la contante junto con la variable encontrada\n",
    "        for j=i+1:m\n",
    "            x_sum = x_sum + a(i, j) * x_i(j);\n",
    "        end\n",
    "        %Obtiene el valor de x_i\n",
    "        x_i(i) = (a(i, n)-x_sum)/a(i,i);\n",
    "    end\n",
    "    x_i = x_i';\n",
    "end  \n",
    "\n",
    "function [a] = interpolacion(puntos)\n",
    "    [m, n] = size(puntos);\n",
    "    l(m, m + 1) = 0;\n",
    "    for i=1:m\n",
    "        for j=1:m\n",
    "            l(i, j) = puntos(i, 1)**(m - j);\n",
    "        end\n",
    "    end\n",
    "    for i=1:m\n",
    "        l(i, m+1) = puntos(i, 2);\n",
    "    end\n",
    "    a = EliminacionGaussiana(l);\n",
    "end\n",
    "\n",
    "interpolacion([1 1; 2 3; 3 7; 4 -1])"
   ]
  },
  {
   "cell_type": "markdown",
   "metadata": {
    "kernel": "Octave"
   },
   "source": [
    "<h3 style=\"font-family: 'Courier New'; font-size:25px\">Python</h3>"
   ]
  },
  {
   "cell_type": "code",
   "execution_count": 30,
   "metadata": {
    "kernel": "Python3"
   },
   "outputs": [
    {
     "name": "stdout",
     "output_type": "stream",
     "text": [
      "[[1, 1, 1, 1, 0], [8, 4, 2, 1, 0], [27, 9, 3, 1, 0], [64, 16, 4, 1, 0]]\n",
      "0\n",
      "0\n",
      "0\n",
      "0\n",
      "[[1, 1, 1, 1, 1], [8, 4, 2, 1, 3], [27, 9, 3, 1, 7], [64, 16, 4, 1, -1]]\n",
      "Matrix([[-2.33333333333333], [15.0000000000000], [-26.6666666666667], [15.0000000000000]])\n"
     ]
    }
   ],
   "source": [
    "from sympy import Matrix\n",
    "\n",
    "def UpperTriangular(a, m, n):\n",
    "    \"\"\"\n",
    "    Funcion para obtener una matriz triangular superior\n",
    "    :param a: una matriz\n",
    "    :param m: tamaño de las filas de la matriz\n",
    "    :param n: tamaño de las columnas de la matriz\n",
    "    :return: matriz triangular superior\n",
    "    \"\"\"\n",
    "    for i in range(m):\n",
    "        if a[i][i] == 0:\n",
    "            print('Error: Zero division exception.')\n",
    "        for j in range(i+1,m):\n",
    "            if i != j:\n",
    "                #Coeficiente que sirve para sacar gauss-jordan\n",
    "                coef = a[j][i] / a[i][i]\n",
    "                for k in range(i, n):\n",
    "                    #Saca gauss-jordan\n",
    "                    a[j][k] -= coef * a[i][k]\n",
    "    return a\n",
    "\n",
    "\n",
    "def backwardSubstitution(a, m, n):\n",
    "    \"\"\"\n",
    "    Funcion para obtener la sustitucion hacia atras de una matriz superior\n",
    "    :param a: una matriz superior\n",
    "    :param m: tamaño de las filas de la matriz\n",
    "    :param n: tamaño de las columnas de la matriz\n",
    "    :return: matriz con el valor de cada x\n",
    "    \"\"\"\n",
    "    x_i = [0] * m\n",
    "    #Calcula el valor de x_m\n",
    "    x_i[m-1] = a[m-1][n-1]/a[m-1][m-1]\n",
    "    for i in range(m-1, -1, -1):\n",
    "        x_sum = 0\n",
    "        #Suma la multiplicacion de la contante junto con la variable encontrada\n",
    "        for j in range(i+1, m):\n",
    "            x_sum += a[i][j] * x_i[j]\n",
    "        #Obtiene el valor de x_i\n",
    "        x_i[i] = (a[i][m] - x_sum)/a[i][i]\n",
    "    return Matrix(x_i)\n",
    "    \n",
    "    \n",
    "def EliminacionGaussiana(a):\n",
    "    \"\"\"\n",
    "    Funcion para que usa el metodo de la eliminacion gausseana para encontrar los valores de x\n",
    "    :param a: una matriz\n",
    "    :return: matriz con el valor de cada x\n",
    "    \"\"\"\n",
    "    #Obtiene el tamaño de la matriz\n",
    "    m = len(a) \n",
    "    n = len(a[0])\n",
    "    #Obtiene la matriz triangular superior\n",
    "    a = UpperTriangular(a, m, n)\n",
    "    #Obtiene la matriz de soluciones\n",
    "    a = backwardSubstitution(a, m, n)\n",
    "    return a\n",
    "\n",
    "def interpolacion(puntos):\n",
    "    m = len(puntos)\n",
    "    l = []\n",
    "    for i in range(m):\n",
    "        l.append([0] * (m+1))\n",
    "        \n",
    "    for i in range(m):\n",
    "        for j in range(m):\n",
    "            l[i][j] = puntos[i][0] ** (m - (1 + j))\n",
    "    for i in range(m):\n",
    "        l[i][m] = puntos[i][1]\n",
    "    a = EliminacionGaussiana(l)\n",
    "    return a\n",
    "    \n",
    "\n",
    "print(interpolacion([[1, 1], [2, 3], [3, 7], [4, -1]]))"
   ]
  },
  {
   "cell_type": "code",
   "execution_count": null,
   "metadata": {
    "kernel": "Python3"
   },
   "outputs": [],
   "source": []
  }
 ],
 "metadata": {
  "kernelspec": {
   "display_name": "SoS",
   "language": "sos",
   "name": "sos"
  },
  "language_info": {
   "codemirror_mode": "sos",
   "file_extension": ".sos",
   "mimetype": "text/x-sos",
   "name": "sos",
   "nbconvert_exporter": "sos_notebook.converter.SoS_Exporter",
   "pygments_lexer": "sos"
  },
  "sos": {
   "kernels": [
    [
     "Octave",
     "octave",
     "Octave",
     "#dff8fb",
     ""
    ],
    [
     "Python3",
     "python3",
     "Python3",
     "#FFD91A",
     ""
    ],
    [
     "SoS",
     "sos",
     "",
     "",
     "sos"
    ]
   ],
   "panel": {
    "displayed": true,
    "height": 0
   },
   "version": "0.21.9"
  }
 },
 "nbformat": 4,
 "nbformat_minor": 2
}
