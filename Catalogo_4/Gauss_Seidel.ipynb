{
 "cells": [
  {
   "cell_type": "markdown",
   "metadata": {
    "kernel": "SoS"
   },
   "source": [
    "<body>\n",
    "    <div>\n",
    "        <h2 style='font-family: cursive; font-size: 40px;'>Metodo de Gauss-Seidel</h2>\n",
    "<!--         <img src= alt=middle style=\"height: 340px\"> -->\n",
    "    </div>\n",
    "</body>"
   ]
  },
  {
   "cell_type": "code",
   "execution_count": null,
   "metadata": {
    "kernel": "SoS"
   },
   "outputs": [],
   "source": []
  },
  {
   "cell_type": "markdown",
   "metadata": {
    "kernel": "SoS"
   },
   "source": [
    "<h3 style=\"font-family: 'Courier New'; font-size:25px\"\n",
    "    >Formulación matemática</h3>"
   ]
  },
  {
   "cell_type": "code",
   "execution_count": null,
   "metadata": {
    "kernel": "SoS"
   },
   "outputs": [],
   "source": []
  },
  {
   "cell_type": "markdown",
   "metadata": {
    "kernel": "SoS"
   },
   "source": [
    "<h3 style=\"font-family: 'Courier New'; font-size:25px\"\n",
    "    >Valores iniciales</h3>"
   ]
  },
  {
   "cell_type": "code",
   "execution_count": null,
   "metadata": {
    "kernel": "SoS"
   },
   "outputs": [],
   "source": []
  },
  {
   "cell_type": "markdown",
   "metadata": {
    "kernel": "SoS"
   },
   "source": [
    "<h3 style=\"font-family: 'Courier New'; font-size:25px\"\n",
    "    >Ventajas y desventajas</h3>"
   ]
  },
  {
   "cell_type": "code",
   "execution_count": null,
   "metadata": {
    "kernel": "SoS"
   },
   "outputs": [],
   "source": []
  },
  {
   "cell_type": "markdown",
   "metadata": {
    "kernel": "SoS"
   },
   "source": [
    "<h3 style=\"font-family: 'Courier New'; font-size:25px\"\n",
    "    >Pseudocódigo</h3>"
   ]
  },
  {
   "cell_type": "code",
   "execution_count": null,
   "metadata": {
    "kernel": "SoS"
   },
   "outputs": [],
   "source": []
  },
  {
   "cell_type": "markdown",
   "metadata": {
    "kernel": "SoS"
   },
   "source": [
    "<h3 style=\"font-family: 'Courier New'; font-size:25px\">Octave</h3>"
   ]
  },
  {
   "cell_type": "code",
   "execution_count": 1,
   "metadata": {
    "kernel": "Octave"
   },
   "outputs": [
    {
     "name": "stdout",
     "output_type": "stream",
     "text": [
      "x =\r\n",
      "\r\n",
      "   1.000001493683405e+00   9.999986627339880e-01   9.999999687165214e-01\r\n",
      "\r\n",
      "e =\r\n",
      "\r\n",
      " Columns 1 through 3:\r\n",
      "\r\n",
      "   2.206144147602326e+00   1.003679987246931e-01   1.643944193880668e-02\r\n",
      "\r\n",
      " Columns 4 through 6:\r\n",
      "\r\n",
      "   1.831332931199530e-03   1.028251487613178e-04   8.031054101511524e-06\r\n",
      "\r\n"
     ]
    }
   ],
   "source": [
    "format long\n",
    "function [x e] = gauss_seidel(a, b, tol, iterMax)\n",
    "    [m, n] = size(a);\n",
    "    x(m) = 0;\n",
    "    error = tol +1;\n",
    "    e = [];\n",
    "    i = 1;\n",
    "    while i < iterMax && error > tol\n",
    "        for i=1:m\n",
    "            x(i) = b(i);\n",
    "            for j=1:(m)\n",
    "                if (i != j)\n",
    "                    x(i) =  x(i) - a(i,j) * x(j);\n",
    "                end\n",
    "            end\n",
    "            x(i) = x(i) / a(i,i);\n",
    "        end\n",
    "        error = norm(a * x' - b, 2);\n",
    "        e = [e error];\n",
    "    end\n",
    "end\n",
    "\n",
    "a = [5 1 1; 1 5 1; 1 1 5];\n",
    "b = [7; 7; 7];\n",
    "[x e] = gauss_seidel(a, b, 10**(-5), 15)"
   ]
  },
  {
   "cell_type": "markdown",
   "metadata": {
    "kernel": "Octave"
   },
   "source": [
    "<h3 style=\"font-family: 'Courier New'; font-size:25px\">Python</h3>"
   ]
  },
  {
   "cell_type": "code",
   "execution_count": 2,
   "metadata": {
    "kernel": "Python3"
   },
   "outputs": [
    {
     "name": "stdout",
     "output_type": "stream",
     "text": [
      "([1.000001493683405, 0.999998662733988, 0.9999999687165214], [2.20614414760233, 0.100367998724693, 0.0164394419388067, 0.00183133293119953, 0.000102825148761318, 8.03105410151152e-6])\n"
     ]
    }
   ],
   "source": [
    "from sympy import Matrix\n",
    "\n",
    "def calcError(a, b, x):\n",
    "    a = Matrix(a)\n",
    "    b = Matrix(b)\n",
    "    x = Matrix(x)\n",
    "    error = ((a * x) - b).norm(2)\n",
    "    return error\n",
    "\n",
    "def gauss_seidel(a, b, tol, iterMax):\n",
    "    m = len(a)\n",
    "    x = [0] * m\n",
    "    error = tol + 1\n",
    "    e = []\n",
    "    it = 0\n",
    "    while it < iterMax and error > tol:\n",
    "        for i in range(m):\n",
    "            x[i] = b[i];\n",
    "            for j in range(m):\n",
    "                if i != j:\n",
    "                    x[i] =  x[i] - a[i][j] * x[j]\n",
    "            x[i] = x[i] / a[i][i]\n",
    "        error = calcError(a, b, x)\n",
    "        e.append(error)\n",
    "        it += 1\n",
    "    return x, e\n",
    "\n",
    "a = [[5, 1, 1], [1, 5, 1], [1, 1, 5]];\n",
    "b = [7, 7, 7];\n",
    "\n",
    "print(gauss_seidel(a, b, 10**(-5), 10))"
   ]
  },
  {
   "cell_type": "code",
   "execution_count": null,
   "metadata": {
    "kernel": "Python3"
   },
   "outputs": [],
   "source": []
  }
 ],
 "metadata": {
  "kernelspec": {
   "display_name": "SoS",
   "language": "sos",
   "name": "sos"
  },
  "language_info": {
   "codemirror_mode": "sos",
   "file_extension": ".sos",
   "mimetype": "text/x-sos",
   "name": "sos",
   "nbconvert_exporter": "sos_notebook.converter.SoS_Exporter",
   "pygments_lexer": "sos"
  },
  "sos": {
   "kernels": [
    [
     "Octave",
     "octave",
     "Octave",
     "#dff8fb",
     ""
    ],
    [
     "Python3",
     "python3",
     "Python3",
     "#FFD91A",
     ""
    ],
    [
     "SoS",
     "sos",
     "",
     "",
     "sos"
    ]
   ],
   "panel": {
    "displayed": true,
    "height": 0
   },
   "version": "0.21.9"
  }
 },
 "nbformat": 4,
 "nbformat_minor": 2
}
