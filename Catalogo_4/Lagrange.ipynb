{
 "cells": [
  {
   "cell_type": "markdown",
   "metadata": {
    "kernel": "SoS"
   },
   "source": [
    "<body>\n",
    "    <div>\n",
    "        <h2 style='font-family: cursive; font-size: 40px;'>Metodo de Lagrange</h2>\n",
    "<!--         <img src= alt=middle style=\"height: 340px\"> -->\n",
    "    </div>\n",
    "</body>"
   ]
  },
  {
   "cell_type": "markdown",
   "metadata": {
    "kernel": "SoS"
   },
   "source": [
    "<h3 style=\"font-family: 'Courier New'; font-size:25px\"\n",
    "    >Formulación matemática</h3>"
   ]
  },
  {
   "cell_type": "code",
   "execution_count": null,
   "metadata": {
    "kernel": "SoS"
   },
   "outputs": [],
   "source": []
  },
  {
   "cell_type": "markdown",
   "metadata": {
    "kernel": "SoS"
   },
   "source": [
    "<h3 style=\"font-family: 'Courier New'; font-size:25px\"\n",
    "    >Valores iniciales</h3>"
   ]
  },
  {
   "cell_type": "code",
   "execution_count": null,
   "metadata": {
    "kernel": "SoS"
   },
   "outputs": [],
   "source": []
  },
  {
   "cell_type": "markdown",
   "metadata": {
    "kernel": "SoS"
   },
   "source": [
    "<h3 style=\"font-family: 'Courier New'; font-size:25px\"\n",
    "    >Ventajas y desventajas</h3>"
   ]
  },
  {
   "cell_type": "code",
   "execution_count": null,
   "metadata": {
    "kernel": "SoS"
   },
   "outputs": [],
   "source": []
  },
  {
   "cell_type": "markdown",
   "metadata": {
    "kernel": "SoS"
   },
   "source": [
    "<h3 style=\"font-family: 'Courier New'; font-size:25px\"\n",
    "    >Pseudocódigo</h3>"
   ]
  },
  {
   "cell_type": "code",
   "execution_count": null,
   "metadata": {
    "kernel": "SoS"
   },
   "outputs": [],
   "source": []
  },
  {
   "cell_type": "markdown",
   "metadata": {
    "kernel": "SoS"
   },
   "source": [
    "<h3 style=\"font-family: 'Courier New'; font-size:25px\">Octave</h3>"
   ]
  },
  {
   "cell_type": "code",
   "execution_count": 5,
   "metadata": {
    "kernel": "Octave"
   },
   "outputs": [
    {
     "name": "stdout",
     "output_type": "stream",
     "text": [
      "p = (sym)\r\n",
      "\r\n",
      "       2          \r\n",
      "    5⋅x    7⋅x    \r\n",
      "  - ──── - ─── + 1\r\n",
      "     6      6     \r\n",
      "\r\n"
     ]
    }
   ],
   "source": [
    "function [p] = lagrange(puntos)\n",
    "    warning('off', 'all');\n",
    "    pkg load symbolic\n",
    "    syms x;\n",
    "    m = size(puntos);\n",
    "    p = 0;\n",
    "    for i=1:m\n",
    "        L = 1;\n",
    "        for j=1:m\n",
    "            if j != i\n",
    "                L = L * (x - puntos(j,1)) / (puntos(i,1) - puntos(j,1));\n",
    "            end\n",
    "        end\n",
    "        p = p + puntos(i,2) * L;\n",
    "    end\n",
    "    p = expand(p);\n",
    "end\n",
    "\n",
    "p = lagrange([-2 0; 0 1; 1 -1])"
   ]
  },
  {
   "cell_type": "markdown",
   "metadata": {
    "kernel": "Octave"
   },
   "source": [
    "<h3 style=\"font-family: 'Courier New'; font-size:25px\">Python</h3>"
   ]
  },
  {
   "cell_type": "code",
   "execution_count": 8,
   "metadata": {
    "kernel": "Python3"
   },
   "outputs": [
    {
     "name": "stdout",
     "output_type": "stream",
     "text": [
      "-5*x**2/6 - 7*x/6 + 1\n",
      "0.191666666666667*x**3 - 2.01666666666667*x**2 + 5.74166666666667*x - 3.25\n"
     ]
    }
   ],
   "source": [
    "def lagrange(puntos):\n",
    "    from sympy import symbols, expand\n",
    "    x = symbols('x')\n",
    "    m = len(puntos)\n",
    "    p = 0\n",
    "    \n",
    "    for i in range(m):\n",
    "        L = 1\n",
    "        for j in range(m):\n",
    "            if j != i:\n",
    "                L *= (x - puntos[j][0]) / (puntos[i][0] - puntos[j][0])\n",
    "        p += puntos[i][1] * L\n",
    "    return expand(p)\n",
    "\n",
    "print(lagrange([[-2, 0], [0, 1], [1, -1]]))"
   ]
  },
  {
   "cell_type": "code",
   "execution_count": null,
   "metadata": {
    "kernel": "Python3"
   },
   "outputs": [],
   "source": []
  }
 ],
 "metadata": {
  "kernelspec": {
   "display_name": "SoS",
   "language": "sos",
   "name": "sos"
  },
  "language_info": {
   "codemirror_mode": "sos",
   "file_extension": ".sos",
   "mimetype": "text/x-sos",
   "name": "sos",
   "nbconvert_exporter": "sos_notebook.converter.SoS_Exporter",
   "pygments_lexer": "sos"
  },
  "sos": {
   "kernels": [
    [
     "Octave",
     "octave",
     "Octave",
     "#dff8fb",
     ""
    ],
    [
     "Python3",
     "python3",
     "Python3",
     "#FFD91A",
     ""
    ],
    [
     "SoS",
     "sos",
     "",
     "",
     "sos"
    ]
   ],
   "panel": {
    "displayed": true,
    "height": 0
   },
   "version": "0.21.9"
  }
 },
 "nbformat": 4,
 "nbformat_minor": 2
}
