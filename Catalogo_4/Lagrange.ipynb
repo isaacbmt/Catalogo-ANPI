{
 "cells": [
  {
   "cell_type": "markdown",
   "metadata": {
    "kernel": "SoS"
   },
   "source": [
    "<body>\n",
    "    <div>\n",
    "        <h2 style='font-family: cursive; font-size: 40px;'>Metodo de Lagrange</h2>\n",
    "<!--         <img src= alt=middle style=\"height: 340px\"> -->\n",
    "    </div>\n",
    "</body>"
   ]
  },
  {
   "cell_type": "markdown",
   "metadata": {
    "kernel": "SoS"
   },
   "source": [
    "<h3 style=\"font-family: 'Courier New'; font-size:25px\"\n",
    "    >Formulación matemática</h3>"
   ]
  },
  {
   "cell_type": "markdown",
   "metadata": {
    "kernel": "SoS"
   },
   "source": [
    "<div>\n",
    "    Considerando los $n + 1$ puntos $(x_0,y_0),(x_1,y_1),...,(x_n,y_n)$. Entonces se contruye un polinomio de grado n usando la formulacion del metodo de Lagrange:\n",
    "    $$P_n(x) = \\sum_{k=0}^{n} y_k * L_k(x)$$ <br>\n",
    "    donde:\n",
    "    $$L_k(x) = \\prod_{j=0, j\\neq k}^{n} \\frac{x - x_j}{x_k - x_j}, para_. k=0,1,...,n $$\n",
    "</div>"
   ]
  },
  {
   "cell_type": "markdown",
   "metadata": {
    "kernel": "SoS"
   },
   "source": [
    "<h3 style=\"font-family: 'Courier New'; font-size:25px\"\n",
    "    >Valores iniciales</h3>"
   ]
  },
  {
   "cell_type": "markdown",
   "metadata": {
    "kernel": "SoS"
   },
   "source": [
    "$puntos:$ Son los puntos que debe atravesar el polinomio."
   ]
  },
  {
   "cell_type": "markdown",
   "metadata": {
    "kernel": "SoS"
   },
   "source": [
    "<h3 style=\"font-family: 'Courier New'; font-size:25px\"\n",
    "    >Ventajas y desventajas</h3>"
   ]
  },
  {
   "cell_type": "markdown",
   "metadata": {
    "kernel": "SoS"
   },
   "source": [
    "<table style=\"width:100%; text-align: left; font-size: 14px\">\n",
    "    <tr style=\"text-align: left;\">\n",
    "        <th style=\"text-align: left;\">Ventajas</th>\n",
    "        <th style=\"text-align: left;\">Desventajas</th>\n",
    "    </tr>\n",
    "    <tr>\n",
    "        <td style=\"text-align: left;\">Alto orden polinomial pueden adaptarse en sets de datos más grandes.</td>       \n",
    "        <td style=\"text-align: left;\">Por su rigidez, el metodo se sobre adapta a los datos.</td>\n",
    "    </tr>\n",
    "    <tr>\n",
    "        <td style=\"text-align: left;\">Es más facil de evaluar que las aproximaciones no polinomiales.</td>\n",
    "        <td style=\"text-align: left;\"></td>\n",
    "    </tr>\n",
    "</table>"
   ]
  },
  {
   "cell_type": "markdown",
   "metadata": {
    "kernel": "SoS"
   },
   "source": [
    "<h3 style=\"font-family: 'Courier New'; font-size:25px\"\n",
    "    >Pseudocódigo</h3>"
   ]
  },
  {
   "cell_type": "markdown",
   "metadata": {
    "kernel": "SoS"
   },
   "source": [
    "<ol>\n",
    "    <li>i=0</li>\n",
    "    <li>m = Cantidad de puntos</li>\n",
    "    <li>Para i : m $\\gt$ i</li>\n",
    "    <li>&emsp;Para j : m $\\gt$ j</li>\n",
    "    <li>&emsp;&emsp;Si i != j</li>\n",
    "    <li>&emsp;&emsp;&emsp;Calcular L</li>\n",
    "    <li>&emsp;&emsp;Fin Si</li>\n",
    "    <li>&emsp;Fin Para</li>\n",
    "    <li>&emsp;Calcular P</li>\n",
    "    <li>Fin Para</li>\n",
    "</ol>"
   ]
  },
  {
   "cell_type": "markdown",
   "metadata": {
    "kernel": "SoS"
   },
   "source": [
    "<h3 style=\"font-family: 'Courier New'; font-size:25px\">Octave</h3>"
   ]
  },
  {
   "cell_type": "code",
   "execution_count": 1,
   "metadata": {
    "kernel": "Octave"
   },
   "outputs": [],
   "source": [
    "function [p] = lagrange(puntos)\n",
    "    % Metodo de interpolacion de Lagrange\n",
    "    % :param puntos: Los puntos deben ser ingresados en una lista, donde cada punto\n",
    "    % es una lista, donde la primera posicion es el x, y la segunda posicion es el y. [x, y]\n",
    "    % :return: Polinomio de interpolacion obtenido\n",
    "    warning('off', 'all');\n",
    "    pkg load symbolic\n",
    "    syms x;\n",
    "    m = size(puntos);\n",
    "    p = 0;\n",
    "    for i=1:m\n",
    "        L = 1;\n",
    "        for j=1:m\n",
    "            if j != i\n",
    "                L = L * (x - puntos(j,1)) / (puntos(i,1) - puntos(j,1));\n",
    "            end\n",
    "        end\n",
    "        p = p + puntos(i,2) * L;\n",
    "    end\n",
    "    p = expand(p);\n",
    "end"
   ]
  },
  {
   "cell_type": "markdown",
   "metadata": {
    "kernel": "Octave"
   },
   "source": [
    "<h3 style=\"font-family: 'Courier New'; font-size:25px\">Python</h3>"
   ]
  },
  {
   "cell_type": "code",
   "execution_count": 2,
   "metadata": {
    "kernel": "Python3"
   },
   "outputs": [],
   "source": [
    "def lagrange(puntos):\n",
    "    \"\"\"\n",
    "    Metodo de interpolacion de Lagrange\n",
    "    :param puntos: Los puntos deben ser ingresados en una lista, donde cada punto\n",
    "    es una lista, donde la primera posicion es el x, y la segunda posicion es el y. [x, y]\n",
    "    :return: Polinomio de interpolacion obtenido\n",
    "    \"\"\"\n",
    "    from sympy import symbols, expand\n",
    "    x = symbols('x')\n",
    "    m = len(puntos)\n",
    "    p = 0\n",
    "    \n",
    "    for i in range(m):\n",
    "        L = 1\n",
    "        for j in range(m):\n",
    "            if j != i:\n",
    "                L *= (x - puntos[j][0]) / (puntos[i][0] - puntos[j][0])\n",
    "        p += puntos[i][1] * L\n",
    "    return expand(p)"
   ]
  },
  {
   "cell_type": "markdown",
   "metadata": {
    "kernel": "Python 3"
   },
   "source": [
    "<h3 style=\"font-family: 'Courier New'; font-size:25px\">Ejemplo Numérico</h3>"
   ]
  },
  {
   "cell_type": "markdown",
   "metadata": {
    "kernel": "Python 3"
   },
   "source": [
    "<h5 style=\"font-family: 'Courier New'; font-size:16px\">Octave</h5>"
   ]
  },
  {
   "cell_type": "code",
   "execution_count": 3,
   "metadata": {
    "kernel": "Octave"
   },
   "outputs": [
    {
     "name": "stdout",
     "output_type": "stream",
     "text": [
      "Symbolic pkg v2.8.0: Python communication link active, SymPy v1.5.1.\n",
      "p = (sym)\n",
      "\n",
      "       2          \n",
      "    5⋅x    7⋅x    \n",
      "  - ──── - ─── + 1\n",
      "     6      6     \n",
      "\n"
     ]
    }
   ],
   "source": [
    "p = lagrange([-2 0; 0 1; 1 -1])"
   ]
  },
  {
   "cell_type": "markdown",
   "metadata": {
    "kernel": "Python 3"
   },
   "source": [
    "<h5 style=\"font-family: 'Courier New'; font-size:16px\">Python</h5>"
   ]
  },
  {
   "cell_type": "code",
   "execution_count": 4,
   "metadata": {
    "kernel": "Python3"
   },
   "outputs": [
    {
     "name": "stdout",
     "output_type": "stream",
     "text": [
      "-5*x**2/6 - 7*x/6 + 1\n"
     ]
    }
   ],
   "source": [
    "print(lagrange([[-2, 0], [0, 1], [1, -1]]))"
   ]
  },
  {
   "cell_type": "code",
   "execution_count": null,
   "metadata": {
    "kernel": "Python3"
   },
   "outputs": [],
   "source": []
  }
 ],
 "metadata": {
  "kernelspec": {
   "display_name": "SoS",
   "language": "sos",
   "name": "sos"
  },
  "language_info": {
   "codemirror_mode": "sos",
   "file_extension": ".sos",
   "mimetype": "text/x-sos",
   "name": "sos",
   "nbconvert_exporter": "sos_notebook.converter.SoS_Exporter",
   "pygments_lexer": "sos"
  },
  "sos": {
   "kernels": [
    [
     "Octave",
     "octave",
     "Octave",
     "#dff8fb",
     ""
    ],
    [
     "Python3",
     "python3",
     "Python3",
     "#FFD91A",
     ""
    ]
   ],
   "panel": {
    "displayed": true,
    "height": 0
   },
   "version": "0.21.9"
  }
 },
 "nbformat": 4,
 "nbformat_minor": 2
}
