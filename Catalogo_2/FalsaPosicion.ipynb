{
 "cells": [
  {
   "cell_type": "markdown",
   "metadata": {
    "kernel": "SoS"
   },
   "source": [
    "<body>\n",
    "    <div>\n",
    "        <h2 style='font-family: cursive; font-size: 40px;'>Teorema de la falsa posición</h2>\n",
    "        <img src=https://upload.wikimedia.org/wikipedia/commons/thumb/9/97/False_position_method.svg/702px-False_position_method.svg.png alt=middle style=\"height: 340px\">\n",
    "    </div>\n",
    "</body>"
   ]
  },
  {
   "cell_type": "markdown",
   "metadata": {
    "kernel": "SoS"
   },
   "source": [
    "<h3 style=\"font-family: 'Courier New'; font-size:25px\">Octave</h3>"
   ]
  },
  {
   "cell_type": "code",
   "execution_count": 29,
   "metadata": {
    "kernel": "Octave"
   },
   "outputs": [
    {
     "name": "stdout",
     "output_type": "stream",
     "text": [
      "xk =    7.390581392138897e-01\r\n",
      "e =\r\n",
      "\r\n",
      "   4.901402456086612e-02   2.674000377307584e-03\r\n",
      "\r\n"
     ]
    }
   ],
   "source": [
    "format long\n",
    "\n",
    "function [xk,e]=false_pos_aux(footion, ck, xk, tol, i, iter, error, e)\n",
    "    if footion(xk) * footion(ck) < 0\n",
    "        if i >= iter || error <= tol\n",
    "            xk=xk;\n",
    "            e=e;\n",
    "        else \n",
    "            x2 = xk - ((xk - ck) / (footion(xk) - footion(ck))) * footion(xk);\n",
    "            error = abs(x2-xk);\n",
    "            e = [e error];\n",
    "            xk = false_pos_aux(footion, ck, x2, tol, i+1, iter, error, e);\n",
    "        end\n",
    "    else\n",
    "        xk = 0;\n",
    "        e = [];\n",
    "    end\n",
    "end\n",
    "\n",
    "\n",
    "function [xk,e]=false_pos(f, x0, x1, tol, iter)\n",
    "    footion = str2func(strcat('@(x)',f));\n",
    "    if footion(x0) * footion(x1) < 0 && tol > 10^-12\n",
    "        x2 = x1 - ((x1 - x0) / (footion(x1) - footion(x0))) * footion(x1);\n",
    "        error = abs(x2-x1);\n",
    "        [a,e] = false_pos_aux(footion, x0, x2, tol, 0, iter, error, [error]);\n",
    "        [b,e] = false_pos_aux(footion, x1, x2, tol, 0, iter, error, [error]);\n",
    "        if a\n",
    "            xk = a;\n",
    "            e = e;\n",
    "        else\n",
    "            xk = b;\n",
    "            e = e;\n",
    "        end\n",
    "    else\n",
    "        display(\"error\");\n",
    "    end\n",
    "end\n",
    "\n",
    "[xk,e]=false_pos('cos(x)-x', 1/2, pi/4, 10^-2, 10)"
   ]
  },
  {
   "cell_type": "code",
   "execution_count": null,
   "metadata": {
    "kernel": "Octave"
   },
   "outputs": [],
   "source": []
  },
  {
   "cell_type": "code",
   "execution_count": null,
   "metadata": {
    "kernel": "SoS"
   },
   "outputs": [],
   "source": []
  },
  {
   "cell_type": "code",
   "execution_count": null,
   "metadata": {
    "kernel": "SoS"
   },
   "outputs": [],
   "source": []
  },
  {
   "cell_type": "code",
   "execution_count": null,
   "metadata": {
    "kernel": "SoS"
   },
   "outputs": [],
   "source": []
  },
  {
   "cell_type": "code",
   "execution_count": null,
   "metadata": {
    "kernel": "SoS"
   },
   "outputs": [],
   "source": []
  }
 ],
 "metadata": {
  "kernelspec": {
   "display_name": "SoS",
   "language": "sos",
   "name": "sos"
  },
  "language_info": {
   "codemirror_mode": "sos",
   "file_extension": ".sos",
   "mimetype": "text/x-sos",
   "name": "sos",
   "nbconvert_exporter": "sos_notebook.converter.SoS_Exporter",
   "pygments_lexer": "sos"
  },
  "sos": {
   "kernels": [
    [
     "Octave",
     "octave",
     "octave",
     "",
     ""
    ],
    [
     "SoS",
     "sos",
     "",
     "",
     "sos"
    ]
   ],
   "panel": {
    "displayed": true,
    "height": 0
   },
   "version": "0.21.7"
  }
 },
 "nbformat": 4,
 "nbformat_minor": 4
}
