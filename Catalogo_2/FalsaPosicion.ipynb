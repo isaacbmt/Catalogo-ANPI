{
 "cells": [
  {
   "cell_type": "markdown",
   "metadata": {
    "kernel": "SoS"
   },
   "source": [
    "<body>\n",
    "    <div>\n",
    "        <h2 style='font-family: cursive; font-size: 40px;'>Teorema de la falsa posición</h2>\n",
    "        <img src=https://upload.wikimedia.org/wikipedia/commons/thumb/9/97/False_position_method.svg/702px-False_position_method.svg.png alt=middle style=\"height: 340px\">\n",
    "    </div>\n",
    "</body>"
   ]
  },
  {
   "cell_type": "markdown",
   "metadata": {
    "kernel": "SoS"
   },
   "source": [
    "<h3 style=\"font-family: 'Courier New'; font-size:25px\"\n",
    "    >Formulación matemática</h3>"
   ]
  },
  {
   "cell_type": "markdown",
   "metadata": {
    "kernel": "SoS"
   },
   "source": [
    "<p style=\"font-size: 19px\">\n",
    "&emsp;&emsp;&emsp;&emsp;&emsp;&emsp;&emsp;&emsp;&emsp;&emsp;&emsp;&emsp;&emsp;&emsp;&emsp;$f(a)*f(b) < 0$<br> \n",
    "&emsp;&emsp;&emsp;&emsp;&emsp;&emsp;&emsp;&emsp;&emsp;&emsp;&emsp;&emsp;&emsp;&emsp;&emsp;$x_n+1$ = $x_n$ - $\\frac{x_n - x_{n-1}}{f(x_n) - f(x_{n-1})} * f(x_n)$ \n",
    "</p>"
   ]
  },
  {
   "cell_type": "markdown",
   "metadata": {
    "kernel": "SoS"
   },
   "source": [
    "<h3 style=\"font-family: 'Courier New'; font-size:25px\"\n",
    "    >Valores iniciales</h3>"
   ]
  },
  {
   "cell_type": "markdown",
   "metadata": {
    "kernel": "SoS"
   },
   "source": [
    "<div style='text-align: center;'>\n",
    "$x_0$: Parte izquierda del intervalo.<br>\n",
    "$x_1$: Parte derecha del intervalo.\n",
    "</div>"
   ]
  },
  {
   "cell_type": "markdown",
   "metadata": {
    "kernel": "SoS"
   },
   "source": [
    "<h3 style=\"font-family: 'Courier New'; font-size:25px\"\n",
    "    >Ventajas y desventajas</h3>"
   ]
  },
  {
   "cell_type": "markdown",
   "metadata": {
    "kernel": "SoS"
   },
   "source": [
    "<table style=\"width:100%; text-align: left; font-size: 14px\">\n",
    "    <tr style=\"text-align: left;\">\n",
    "        <th style=\"text-align: left;\">Ventajas</th>\n",
    "        <th style=\"text-align: left;\">Desventajas</th>\n",
    "    </tr>\n",
    "    <tr>\n",
    "        <td style=\"text-align: left;\">No diverge.</td>\n",
    "        <td style=\"text-align: left;\">Converge lentamente a la solución, debido al efectuar las iteraciones uno de los extremos del intervalo no se modifica, como se muestra en la figura.</td>\n",
    "    </tr>\n",
    "</table>"
   ]
  },
  {
   "cell_type": "markdown",
   "metadata": {
    "kernel": "SoS"
   },
   "source": [
    "<h3 style=\"font-family: 'Courier New'; font-size:25px\"\n",
    "    >Pseudocódigo</h3>"
   ]
  },
  {
   "cell_type": "markdown",
   "metadata": {
    "kernel": "SoS"
   },
   "source": [
    "<ol>\n",
    "    <li>Verificar condicion de Bolzano</li>\n",
    "    <li>$x_{k+1}$ $= x_1 -$ $\\frac{(x_1 - x_0)} {(f(x_1) - f(x_0))}$ $* f(x_1)$</li>\n",
    "    <li>Mientras error %lt tolerancia</li>\n",
    "    <li>Si cumple condicion de bolzano</li>\n",
    "    <li>b=$x_{k+1}$</li>\n",
    "    <li>c=a</li>\n",
    "    <li>$x_{k+1}$ $= x_k -$ $\\frac{(x_k - c)} {(f(x_k) - f(c))}$ $* f(x_k)$</li>\n",
    "    <li>Sino</li>\n",
    "    <li>a=$x_{k+1}$</li>\n",
    "    <li>c=b</li>\n",
    "    <li>$x_{k+1}$ $= x_k -$ $\\frac{(x_k - c)} {(f(x_k) - f(c))}$ $* f(x_k)$</li>\n",
    "    <li>Fin Si</li>\n",
    "    <li>$error = |f(x_k)|$</li>\n",
    "    <li>Fin Mientras</li>\n",
    "</ol>"
   ]
  },
  {
   "cell_type": "markdown",
   "metadata": {
    "kernel": "SoS"
   },
   "source": [
    "<h3 style=\"font-family: 'Courier New'; font-size:25px\">Octave</h3>"
   ]
  },
  {
   "cell_type": "code",
   "execution_count": 17,
   "metadata": {
    "kernel": "Octave"
   },
   "outputs": [],
   "source": [
    "format long\n",
    "\n",
    "function [xk,e]=false_pos_aux(footion, ck, xk, tol, i, iter, error, e)\n",
    "    %Esta función auxiliar del metodo de la falsa posicion, que realiza las iteraciones que se le haya \n",
    "    %indicado.\n",
    "    %\n",
    "    %Sintaxis:  false_pos_aux(footion, ck, xk, tol, i, iter, error, e)\n",
    "    % \n",
    "    %Parámetros Iniciales: \n",
    "    %            footion = Funcion que se esta resolviendo.\n",
    "    %            ck = punto del intervalo que se esoje segun la condicion de bolzano.\n",
    "    %            xk = punto del intervalo que se esoje segun la condicion de bolzano.\n",
    "    %            i = iteracion actual.\n",
    "    %            error = error de la iteracion anterior\n",
    "    %            tol = un número positivo que representa a la tolerancia para el criterio |f(x_k)|<tol.\n",
    "    %            iter = cantidad de iteraciones máximas.\n",
    "    %            e = La lista de errores de la aproximacion.\n",
    "    %\n",
    "    %Parámetros de Salida:                           \n",
    "    %            xk = aproximación del cero de la función f\n",
    "    %            error =  |f(x)|\n",
    "    if footion(xk) * footion(ck) < 0\n",
    "        if i >= iter || error <= tol\n",
    "            xk=xk;\n",
    "            e=e;\n",
    "        else \n",
    "            x2 = xk - ((xk - ck) / (footion(xk) - footion(ck))) * footion(xk);\n",
    "            error=abs(x2-xk);\n",
    "            e = [e error];\n",
    "            [xk,e] = false_pos_aux(footion, ck, x2, tol, i+1, iter, error, e);\n",
    "            if xk == 0\n",
    "                [xk,e] = false_pos_aux(footion, xk, x2, tol, i+1, iter, error, e);\n",
    "            end         \n",
    "        end\n",
    "    else\n",
    "        xk = 0;\n",
    "        e = [];\n",
    "    end\n",
    "end\n",
    "\n",
    "\n",
    "function [xk,e]=false_pos(f, x0, x1, tol, iter)\n",
    "    %Esta función aproxima la solución de la ecuación f(x)=0, utilizando el método de la falsa posición.\n",
    "    %\n",
    "    %Sintaxis:  false_pos(f, x0, x1, tol, iter)\n",
    "    % \n",
    "    %Parámetros Iniciales: \n",
    "    %            f = una  cadena de caracteres (string) que representa a la función f.\n",
    "    %            x0 = punto izquierdo del intervalo donde se comienza la iteración.\n",
    "    %            x1 = punto derecho del intervalo donde se comienza la iteración.\n",
    "    %            tol = un número positivo que representa a la tolerancia para el criterio |f(x_k)|<tol.\n",
    "    %            iter = cantidad de iteraciones máximas.\n",
    "    %            \n",
    "    %Parámetros de Salida:                           \n",
    "    %            xk = aproximación del cero de la función f\n",
    "    %            error =  |f(x)|\n",
    "    \n",
    "    footion = str2func(strcat('@(x)',f));\n",
    "    if footion(x0) * footion(x1) < 0 && tol > 10^-16\n",
    "        x2 = x1 - ((x1 - x0) / (footion(x1) - footion(x0))) * footion(x1);\n",
    "        error = abs(footion(x2));\n",
    "        [a,e1] = false_pos_aux(footion, x0, x2, tol, 0, iter, error, [error]);\n",
    "        [b,e2] = false_pos_aux(footion, x1, x2, tol, 0, iter, error, [error]);\n",
    "        if a ~= 0\n",
    "            xk = a;\n",
    "            e = e1;\n",
    "        else\n",
    "            xk = b;\n",
    "            e = e2;\n",
    "        end\n",
    "    else\n",
    "        xk=0;\n",
    "        e=[];\n",
    "        display(\"error\");\n",
    "    end\n",
    "    plot(0:length(e)-1,e);\n",
    "end\n",
    "\n"
   ]
  },
  {
   "cell_type": "markdown",
   "metadata": {
    "kernel": "Octave"
   },
   "source": [
    "<h3 style=\"font-family: 'Courier New'; font-size:25px\">Python</h3>"
   ]
  },
  {
   "cell_type": "code",
   "execution_count": 18,
   "metadata": {
    "kernel": "Python 3"
   },
   "outputs": [],
   "source": [
    "def len_list(it):\n",
    "    list = []\n",
    "    for i in range(it):\n",
    "        list.append(i)\n",
    "    return list\n",
    "\n",
    "\n",
    "def plot(e):\n",
    "    import matplotlib.pyplot\n",
    "    matplotlib.pyplot.plot(len_list(len(e)), e)\n",
    "    \n",
    "\n",
    "def calc_x(footion, xk, c):\n",
    "    \"\"\"\n",
    "    Esta funcion calcula el siguiente valor de xk usando la formula de la secante.\n",
    "    Parametros iniciales:\n",
    "    footion = Funcion que se esta resolviendo.\n",
    "    xk = Parte del intervalo.\n",
    "    c = Parte del intervalo.\n",
    "    \n",
    "    Parámetros de Salida: \n",
    "    x2 = aproximación del cero de la función f.\n",
    "    \"\"\"\n",
    "    fx0 = float(footion.subs({'x': c}))\n",
    "    fx1 = float(footion.subs({'x': xk}))\n",
    "    x2 = float(xk - ((xk - c) / (fx1 - fx0)) * fx1)\n",
    "    return x2\n",
    "\n",
    "\n",
    "def false_pos(f, x0, x1, tol, iter):\n",
    "    \"\"\"\n",
    "    Esta función aproxima la solución de una ecuació f(x)=0, implementando el metodo de la falsa posicion.\n",
    "    Parametros iniciales:\n",
    "    f = una  cadena de caracteres (string) que representa a la función f.\n",
    "    x0 = punto izquierdo del intervalo donde se comienza la iteración.\n",
    "    x1 = punto derecho del intervalo donde se comienza la iteración.\n",
    "    tol = un número positivo que representa a la tolerancia para el criterio |f(x_k)|<tol.\n",
    "    iter = cantidad de iteraciones máximas.\n",
    "    \n",
    "    Parámetros de Salida: \n",
    "    [x2,error], donde                \n",
    "    x2 = aproximación del cero de la función f.\n",
    "    error =  |f(x_k)|\n",
    "    \"\"\"\n",
    "    from sympy import sympify\n",
    "    footion = sympify(f)\n",
    "    x2=0\n",
    "\n",
    "    fx=float(footion.subs({'x': x0}) * footion.subs({'x': x1}))\n",
    "    if fx<0:\n",
    "        x2=float(x1-(x1-x0)/(footion.subs({'x': x1})-footion.subs({'x': x0})) * footion.subs({'x': x1}))\n",
    "    else:\n",
    "        return 0\n",
    "    error = tol + 1;\n",
    "    a = x0\n",
    "    b = x1\n",
    "    c = x0\n",
    "    e = []\n",
    "    i = 0\n",
    "    while error > tol and iter >= i:\n",
    "        fx0=float(footion.subs({'x': c}))\n",
    "        fx1=float(footion.subs({'x': x2}))\n",
    "        if fx0*fx1<0:\n",
    "            b=x2\n",
    "            c=a\n",
    "            x2=calc_x(footion, b, c)\n",
    "            error=abs(x2-b)\n",
    "        else:\n",
    "            a=x2\n",
    "            c=b\n",
    "            x2=calc_x(footion, a, c)\n",
    "            error=abs(x2-a)\n",
    "        e.append(error)\n",
    "        i+=1\n",
    "        \n",
    "    return x2, e\n"
   ]
  },
  {
   "cell_type": "markdown",
   "metadata": {
    "kernel": "Python 3"
   },
   "source": [
    "<h3 style=\"font-family: 'Courier New'; font-size:25px\">Ejemplo Numérico</h3>"
   ]
  },
  {
   "cell_type": "markdown",
   "metadata": {
    "kernel": "Python 3"
   },
   "source": [
    "<h5 style=\"font-family: 'Courier New'; font-size:16px\">Python</h5>"
   ]
  },
  {
   "cell_type": "code",
   "execution_count": 19,
   "metadata": {
    "kernel": "Python 3"
   },
   "outputs": [
    {
     "name": "stdout",
     "output_type": "stream",
     "text": [
      "0.6931471805599453\n"
     ]
    },
    {
     "data": {
      "image/png": "[encoded data removed]",
      "text/plain": [
       "<Figure size 432x288 with 1 Axes>"
      ]
     },
     "metadata": {
      "needs_background": "light"
     },
     "output_type": "display_data"
    }
   ],
   "source": [
    "x2, e = false_pos('exp(x)-2', 0, 3, 10^-12, 10)\n",
    "print(x2)\n",
    "plot(e)"
   ]
  },
  {
   "cell_type": "markdown",
   "metadata": {
    "kernel": "Python 3"
   },
   "source": [
    "<h5 style=\"font-family: 'Courier New'; font-size:16px\">Octave</h5>"
   ]
  },
  {
   "cell_type": "code",
   "execution_count": 20,
   "metadata": {
    "kernel": "Octave"
   },
   "outputs": [
    {
     "name": "stdout",
     "output_type": "stream",
     "text": [
      "xk =    6.613657180966892e-01\r\n",
      "e =\r\n",
      "\r\n",
      " Columns 1 through 3:\r\n",
      "\r\n",
      "   8.297854717577251e-01   1.247097354634738e-01   9.770709198201916e-02\r\n",
      "\r\n",
      " Columns 4 through 6:\r\n",
      "\r\n",
      "   7.573869853355852e-02   5.819489986238524e-02   4.439838863546497e-02\r\n",
      "\r\n",
      " Columns 7 through 9:\r\n",
      "\r\n",
      "   3.368269145183866e-02   2.544133551963867e-02   1.915145306501587e-02\r\n",
      "\r\n",
      " Columns 10 and 11:\r\n",
      "\r\n",
      "   1.437930459288328e-02   1.077502951664311e-02\r\n",
      "\r\n"
     ]
    },
    {
     "data": {
      "image/png": "[encoded data removed]",
      "text/plain": [
       "<IPython.core.display.Image object>"
      ]
     },
     "metadata": {},
     "output_type": "display_data"
    }
   ],
   "source": [
    "[xk,e]=false_pos('exp(x)-2', 0, 3, 10^-12, 10)"
   ]
  },
  {
   "cell_type": "code",
   "execution_count": null,
   "metadata": {
    "kernel": "Python 3"
   },
   "outputs": [],
   "source": []
  },
  {
   "cell_type": "code",
   "execution_count": null,
   "metadata": {
    "kernel": "Python 3"
   },
   "outputs": [],
   "source": []
  }
 ],
 "metadata": {
  "kernelspec": {
   "display_name": "SoS",
   "language": "sos",
   "name": "sos"
  },
  "language_info": {
   "codemirror_mode": "sos",
   "file_extension": ".sos",
   "mimetype": "text/x-sos",
   "name": "sos",
   "nbconvert_exporter": "sos_notebook.converter.SoS_Exporter",
   "pygments_lexer": "sos"
  },
  "sos": {
   "kernels": [
    [
     "Octave",
     "octave",
     "octave",
     "",
     ""
    ],
    [
     "Python 3",
     "python3",
     "python3",
     "",
     {
      "name": "ipython",
      "version": 3
     }
    ]
   ],
   "panel": {
    "displayed": true,
    "height": 0
   },
   "version": "0.21.7"
  }
 },
 "nbformat": 4,
 "nbformat_minor": 4
}
