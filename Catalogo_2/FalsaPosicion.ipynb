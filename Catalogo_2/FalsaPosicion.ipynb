{
 "cells": [
  {
   "cell_type": "markdown",
   "metadata": {
    "kernel": "SoS"
   },
   "source": [
    "<body>\n",
    "    <div>\n",
    "        <h2 style='font-family: cursive; font-size: 40px;'>Teorema de la falsa posición</h2>\n",
    "        <img src=https://upload.wikimedia.org/wikipedia/commons/thumb/9/97/False_position_method.svg/702px-False_position_method.svg.png alt=middle style=\"height: 340px\">\n",
    "    </div>\n",
    "</body>"
   ]
  },
  {
   "cell_type": "markdown",
   "metadata": {
    "kernel": "SoS"
   },
   "source": [
    "<h3 style=\"font-family: 'Courier New'; font-size:25px\">Octave</h3>"
   ]
  },
  {
   "cell_type": "code",
   "execution_count": 29,
   "metadata": {
    "kernel": "Octave"
   },
   "outputs": [
    {
     "name": "stdout",
     "output_type": "stream",
     "text": [
      "xk =    6.613657180966892e-01\r\n",
      "e =\r\n",
      "\r\n",
      "   8.297854717577251e-01   6.743580602595696e-01\r\n",
      "\r\n"
     ]
    }
   ],
   "source": [
    "format long\n",
    "\n",
    "function [xk,e]=false_pos_aux(footion, ck, xk, tol, i, iter, error, e)\n",
    "    if footion(xk) * footion(ck) < 0\n",
    "        if i >= iter || error <= tol\n",
    "            xk=xk;\n",
    "            e=e;\n",
    "        else \n",
    "            x2 = xk - ((xk - ck) / (footion(xk) - footion(ck))) * footion(xk);\n",
    "            error = abs(footion(x2));\n",
    "            e = [e error];\n",
    "            xk = false_pos_aux(footion, ck, x2, tol, i+1, iter, error, e);\n",
    "            if xk == 0\n",
    "                xk = false_pos_aux(footion, xk, x2, tol, i+1, iter, error, e);\n",
    "            end         \n",
    "        end\n",
    "    else\n",
    "        xk = 0;\n",
    "        e = [];\n",
    "    end\n",
    "end\n",
    "\n",
    "\n",
    "function [xk,e]=false_pos(f, x0, x1, tol, iter)\n",
    "    footion = str2func(strcat('@(x)',f));\n",
    "    if footion(x0) * footion(x1) < 0 && tol > 10^-16\n",
    "        x2 = x1 - ((x1 - x0) / (footion(x1) - footion(x0))) * footion(x1);\n",
    "        error = abs(footion(x2));\n",
    "        [a,e1] = false_pos_aux(footion, x0, x2, tol, 0, iter, error, [error]);\n",
    "        [b,e2] = false_pos_aux(footion, x1, x2, tol, 0, iter, error, [error]);\n",
    "        if a\n",
    "            xk = a;\n",
    "            e = e1;\n",
    "        else\n",
    "            xk = b;\n",
    "            e = e2;\n",
    "        end\n",
    "    else\n",
    "        xk=0;\n",
    "        e=[];\n",
    "        display(\"error\");\n",
    "    end\n",
    "end\n",
    "\n",
    "[xk,e]=false_pos('exp(x)-2', 0, 3, 10^-12, 10)"
   ]
  },
  {
   "cell_type": "markdown",
   "metadata": {
    "kernel": "Octave"
   },
   "source": [
    "<h3 style=\"font-family: 'Courier New'; font-size:25px\">Python</h3>"
   ]
  },
  {
   "cell_type": "code",
   "execution_count": 28,
   "metadata": {
    "kernel": "Python 3"
   },
   "outputs": [
    {
     "name": "stdout",
     "output_type": "stream",
     "text": [
      "1\n",
      "2\n",
      "3\n",
      "4\n",
      "5\n",
      "6\n",
      "7\n",
      "8\n",
      "9\n",
      "10\n",
      "11\n",
      "(0.6931471805599453, [0.1247097354634738, 0.5410822614364288, 0.16675416623959127, 0.03456346249197284, 0.002402629410624413, 4.464562864703314e-05, 8.141340732681357e-07, 1.7842616273355816e-11, 0.0, 0.0, 0.0])\n"
     ]
    }
   ],
   "source": [
    "def calc_x(footion, xk, c):\n",
    "    fx0 = float(footion.subs({'x': c}))\n",
    "    fx1 = float(footion.subs({'x': xk}))\n",
    "    x2 = float(xk - ((xk - c) / (fx1 - fx0)) * fx1)\n",
    "    return x2\n",
    "\n",
    "def false_pos(f, x0, x1, tol, iter):\n",
    "    from sympy import sympify\n",
    "    footion = sympify(f)\n",
    "    x2=0\n",
    "\n",
    "    fx=float(footion.subs({'x': x0}) * footion.subs({'x': x1}))\n",
    "    if fx<0:\n",
    "        x2=float(x1-(x1-x0)/(footion.subs({'x': x1})-footion.subs({'x': x0})) * footion.subs({'x': x1}))\n",
    "    else:\n",
    "        return 0\n",
    "    error = tol + 1;\n",
    "    a = x0\n",
    "    b = x1\n",
    "    c = x0\n",
    "    e = []\n",
    "    i = 0\n",
    "    while error > tol and iter >= i:\n",
    "        fx0=float(footion.subs({'x': c}))\n",
    "        fx1=float(footion.subs({'x': x2}))\n",
    "        if fx0*fx1<0:\n",
    "            b=x2\n",
    "            c=a\n",
    "            x2=calc_x(footion, b, c)\n",
    "            error=abs(x2-b)\n",
    "        else:\n",
    "            a=x2\n",
    "            c=b\n",
    "            x2=calc_x(footion, a, c)\n",
    "            error=abs(x2-a)\n",
    "        e.append(error)\n",
    "        i+=1\n",
    "        \n",
    "    return x2, e\n",
    "\n",
    "print(false_pos('exp(x)-2', 0, 3, 10^-12, 10))"
   ]
  }
 ],
 "metadata": {
  "kernelspec": {
   "display_name": "SoS",
   "language": "sos",
   "name": "sos"
  },
  "language_info": {
   "codemirror_mode": "sos",
   "file_extension": ".sos",
   "mimetype": "text/x-sos",
   "name": "sos",
   "nbconvert_exporter": "sos_notebook.converter.SoS_Exporter",
   "pygments_lexer": "sos"
  },
  "sos": {
   "kernels": [
    [
     "Octave",
     "octave",
     "octave",
     "",
     ""
    ],
    [
     "Python 3",
     "python3",
     "python3",
     "",
     ""
    ],
    [
     "SoS",
     "sos",
     "",
     "",
     "sos"
    ]
   ],
   "panel": {
    "displayed": true,
    "height": 0
   },
   "version": "0.21.7"
  }
 },
 "nbformat": 4,
 "nbformat_minor": 4
}
