{
 "cells": [
  {
   "cell_type": "markdown",
   "metadata": {
    "kernel": "SoS"
   },
   "source": [
    "<body>\n",
    "    <div>\n",
    "        <h2 style='font-family: cursive; font-size: 40px;'>Punto Fijo</h2>\n",
    "        <img src=https://www.mty.itesm.mx/etie/deptos/m/ma95-843/dudas/puntof-d.gif alt=middle style=\"height: 340px\">\n",
    "    </div>\n",
    "</body>"
   ]
  },
  {
   "cell_type": "markdown",
   "metadata": {
    "kernel": "SoS"
   },
   "source": [
    "<h3 style=\"font-family: 'Courier New'; font-size:25px\"\n",
    "    >Formulación matemática</h3>"
   ]
  },
  {
   "cell_type": "markdown",
   "metadata": {
    "kernel": "SoS"
   },
   "source": [
    "<div style='text-align:center; font-size:16px'>\n",
    "$F(x) = x - \\phi{(x)}$ con $\\phi{(x)} = \\frac {1} {max (|f'(x)|)}$ en $[a,b]$.\n",
    "</div>"
   ]
  },
  {
   "cell_type": "markdown",
   "metadata": {
    "kernel": "SoS"
   },
   "source": [
    "<h3 style=\"font-family: 'Courier New'; font-size:25px\"\n",
    "    >Valores iniciales</h3>"
   ]
  },
  {
   "cell_type": "markdown",
   "metadata": {
    "kernel": "SoS"
   },
   "source": [
    "<div style='text-align: center; font-size: 16px;'>\n",
    "    $a$:   Parte izquierda del intervalo. <br>\n",
    "    $b$:   Parte derecha del intervalo. <br>\n",
    "    $x_0$: Punto dentro del intervalo. \n",
    "</div>"
   ]
  },
  {
   "cell_type": "markdown",
   "metadata": {
    "kernel": "SoS"
   },
   "source": [
    "<h3 style=\"font-family: 'Courier New'; font-size:25px\"\n",
    "    >Ventajas y desventajas</h3>"
   ]
  },
  {
   "cell_type": "markdown",
   "metadata": {
    "kernel": "SoS"
   },
   "source": [
    "<table style=\"width:100%; text-align: left; font-size: 14px\">\n",
    "    <tr style=\"text-align: left;\">\n",
    "        <th style=\"text-align: left;\">Ventajas</th>\n",
    "        <th style=\"text-align: left;\">Desventajas</th>\n",
    "    </tr>\n",
    "    <tr>\n",
    "        <td style=\"text-align: left;\">Simple.</td>\n",
    "        <td style=\"text-align: left;\">La convergencia depende de la magnitud de $g’(x)$.</td>\n",
    "    </tr>\n",
    "    <tr>\n",
    "        <td style=\"text-align: left;\">Posee condiciones para asegurar la convergencia.\n",
    "Es condición necesaria que $|g'(x)| < 1$ en cercanías de la raíz.</td>\n",
    "        <td style=\"text-align: left;\">Necesidad de construir funciones $g(x)$ para iterar. Pueden\n",
    "existir diversas $g(x)$, necesidad de encontrar la adecuada. Se puede emplear un método sistemático para construir las funciones.</td>\n",
    "    </tr>\n",
    "\n",
    "   \n",
    "</table>"
   ]
  },
  {
   "cell_type": "markdown",
   "metadata": {
    "kernel": "SoS"
   },
   "source": [
    "<h3 style=\"font-family: 'Courier New'; font-size:25px\"\n",
    "    >Pseudocódigo</h3>"
   ]
  },
  {
   "cell_type": "markdown",
   "metadata": {
    "kernel": "SoS"
   },
   "source": [
    "<ol>\n",
    "    <li>Calcular la derivada de la función</li>\n",
    "    <div>\n",
    "        <li>Parte 1. Verificar existencia:</li>\n",
    "        <ol>\n",
    "            <li>Calcula los puntos criticos de la derivada</li>\n",
    "            <li>Para cada punto critico</li>\n",
    "            <li>Calcular el valor de la funcion en el punto critico</li>\n",
    "            <li>Si el valor no esta dentro del intervalo</li>\n",
    "            <li>Retornar que la función no cumple el criterio de la existencia</li>\n",
    "            <li>Fin Si</li>\n",
    "            <li>Fin Para</li>\n",
    "            <li>Calcular la funcion en los puntos a y b</li>\n",
    "            <li>Si los valores estan dentro del intervalo [a, b]</li>\n",
    "            <li>Retornar que sí cumple el criterio de la existencia</li>\n",
    "        </ol>\n",
    "    </div>\n",
    "    <div>\n",
    "        <li>Parte 2. Verificar unicidad:</li>\n",
    "        <ol>\n",
    "            <li>Calcula los puntos criticos de la derivada</li>\n",
    "            <li>Para cada punto critico</li>\n",
    "            <li>Calcular el valor de la funcion en el punto critico</li>\n",
    "            <li>Si el valor no esta dentro del intervalo</li>\n",
    "            <li>Retornar que la función no cumple el criterio de la unicidad</li>\n",
    "            <li>Fin Si</li>\n",
    "            <li>Fin Para</li>\n",
    "            <li>Retornar que sí cumple el criterio de la unicidad</li>\n",
    "        </ol>\n",
    "    </div>\n",
    "    <div>\n",
    "        <li>Parte 3. Calcular el valor de X:</li> \n",
    "        <ol>\n",
    "            <li>$x_k = x_0$</li>\n",
    "            <li>Para i iteraciones</li>\n",
    "            <li>$x_{k+1} = f(x_k)$</li>\n",
    "            <li>$error = |x_{k+1} - x_k|$</li>\n",
    "            <li>Fin Para</li>\n",
    "        </ol>\n",
    "    </div>\n",
    "</ol>"
   ]
  },
  {
   "cell_type": "markdown",
   "metadata": {
    "kernel": "SoS"
   },
   "source": [
    "<h3 style=\"font-family: 'Courier New'; font-size:25px\">Octave</h3>"
   ]
  },
  {
   "cell_type": "code",
   "execution_count": 9,
   "metadata": {
    "kernel": "Octave"
   },
   "outputs": [],
   "source": [
    "format long\n",
    "pkg load symbolic\n",
    "\n",
    "function y=derivate(f)\n",
    "    syms x\n",
    "    ff=f(x);\n",
    "    ffd=diff(ff,x);\n",
    "    y=function_handle(ffd);\n",
    "end\n",
    "\n",
    "function y=belongToInverval(a,b,x)\n",
    "    y=x>=a && x<=b;\n",
    "end\n",
    "\n",
    "function y=solve_eq(footion)\n",
    "    %Esta funcion encuentra los ceros de la funcion.\n",
    "    %\n",
    "    %Sintaxis: solve_eq(footion)\n",
    "    %\n",
    "    %Parámetros Iniciales:\n",
    "    %            footion = Funcion que se esta resolviendo.\n",
    "    %\n",
    "    %Parámetros de Salida: \n",
    "    %            y = Lista de soluciones encontradas.\n",
    "    %\n",
    "    syms x\n",
    "    y=solve(sym(footion));\n",
    "    if strcmpi(class(y), 'cell')\n",
    "        y='no';\n",
    "    end\n",
    "end\n",
    "\n",
    "function y=hasExistence(footion,deetion,a,b)\n",
    "    %Esta función verifica si la footion cumple el criterio de la exisencia.\n",
    "    %\n",
    "    %Sintaxis:  hasExistence(footion,deetion,a,b)\n",
    "    % \n",
    "    %Parámetros Iniciales: \n",
    "    %            footion = Funcion que se esta resolviendo.\n",
    "    %            deetion = Funcion footion derivada.\n",
    "    %            a = Punto izquierda del intervalo donde se comienza la iteración.\n",
    "    %            b = Punto derecha del intervalo donde se comienza la iteración.\n",
    "    %            \n",
    "    %Parámetros de Salida:                           \n",
    "    %            y = Indicador que dice si cumple o no.\n",
    "    %\n",
    "    critical_point=solve_eq(deetion);\n",
    "    if strcmpi(class(critical_point), 'char')\n",
    "        display('No tiene puntos criticos.');\n",
    "        y=1;\n",
    "    else\n",
    "        n=length(critical_point);\n",
    "        if n==1\n",
    "            value=footion(critical_point);\n",
    "            if belongToInverval(a,b,real(value)) ~= 1\n",
    "                y=1;\n",
    "            else\n",
    "                y=0;\n",
    "            end\n",
    "        else\n",
    "            for i=1:n\n",
    "                value=footion(critical_point(i));\n",
    "                if belongToInverval(a,b,real(value)) ~= 1\n",
    "                    y=1;\n",
    "                end\n",
    "            end\n",
    "        end\n",
    "        ext_a=footion(a);\n",
    "        ext_b=footion(b);\n",
    "        if belongToInverval(a,b,ext_a) ~= 1 || belongToInverval(a,b,ext_b) ~= 1\n",
    "            y=1;\n",
    "        else\n",
    "            y=0;\n",
    "        end\n",
    "    end\n",
    "end\n",
    "\n",
    "function y=hasUniq(footion,deetion,a,b)\n",
    "    %Esta función verifica si la footion cumple el criterio de la unicidad.\n",
    "    %\n",
    "    %Sintaxis:  hasUniq(footion,deetion,a,b)\n",
    "    % \n",
    "    %Parámetros Iniciales: \n",
    "    %            footion = Funcion que se esta resolviendo.\n",
    "    %            deetion = Funcion footion derivada.\n",
    "    %            a = Punto izquierda del intervalo donde se comienza la iteración.\n",
    "    %            b = Punto derecha del intervalo donde se comienza la iteración.\n",
    "    %            \n",
    "    %Parámetros de Salida:                           \n",
    "    %            y = Indicador que dice si cumple o no.\n",
    "    %\n",
    "    critical_point=solve_eq(deetion);\n",
    "    if strcmpi(class(critical_point), 'char')\n",
    "        display('No tiene puntos criticos.');\n",
    "        y=1;\n",
    "    else\n",
    "        n=length(critical_point);\n",
    "        if n==1\n",
    "            if ~belongToInverval(-1,1,real(critical_point))\n",
    "                y=1;\n",
    "            else\n",
    "                y=0;\n",
    "            end\n",
    "        else\n",
    "            for i=1:n\n",
    "                \n",
    "                value=critical_point(i);\n",
    "                if ~belongToInverval(-1,1,real(value))\n",
    "                    y=1;\n",
    "                end\n",
    "            end\n",
    "        y=0;\n",
    "        end\n",
    "    end\n",
    "end\n",
    "\n",
    "function [xk,e]=fixed_point(f,x0,a,b,tol,iter)\n",
    "    %Esta función aproxima la solución de la ecuación f(x)=0, utilizando el método del punto fijo.\n",
    "    %\n",
    "    %Sintaxis:  fixed_point(f,x0,a,b,tol,iter)\n",
    "    % \n",
    "    %Parámetros Iniciales: \n",
    "    %            f = una  cadena de caracteres (string) que representa a la función f.\n",
    "    %            x0 = Punto de la funcion.\n",
    "    %            a = Punto izquierda del intervalo donde se comienza la iteración.\n",
    "    %            b = Punto derecha del intervalo donde se comienza la iteración.\n",
    "    %            tol = un número positivo que representa a la tolerancia para el criterio |f(x_k)|<tol.\n",
    "    %            iter = cantidad de iteraciones máximas.\n",
    "    %            \n",
    "    %Parámetros de Salida:                           \n",
    "    %            xk = aproximación del cero de la función f\n",
    "    %            e =  |f(x)|\n",
    "    %\n",
    "    footion=str2func(strcat('@(x)',f));\n",
    "    deetion=derivate(footion);\n",
    "    e=[];\n",
    "    \n",
    "    existence=hasExistence(footion,deetion,a,b);\n",
    "    if existence ~= 0\n",
    "        xk=0;\n",
    "        e=[0];\n",
    "        display(\"No cumple el criterio de la existencia\"); \n",
    "        return;\n",
    "    end\n",
    "    \n",
    "    uniq=hasUniq(footion,deetion,a,b);\n",
    "    if uniq ~= 0\n",
    "        xk=0;\n",
    "        e=[0]\n",
    "        display(\"No cumple el criterio de la unicidad\");\n",
    "    else \n",
    "        xk=x0;\n",
    "        for i=1:iter\n",
    "            xk= footion(xk);\n",
    "            error=abs(xk-x0);\n",
    "            if error < tol\n",
    "                break;\n",
    "            else\n",
    "                e=[e error];\n",
    "                x0=xk;\n",
    "            end\n",
    "        end\n",
    "    end\n",
    "    plot(0:length(e)-1,e);\n",
    "end\n",
    "\n"
   ]
  },
  {
   "cell_type": "markdown",
   "metadata": {
    "kernel": "Octave"
   },
   "source": [
    "<h3 style=\"font-family: 'Courier New'; font-size:25px\">Python</h3>"
   ]
  },
  {
   "cell_type": "code",
   "execution_count": 10,
   "metadata": {
    "kernel": "Python 3"
   },
   "outputs": [],
   "source": [
    "def len_list(it):\n",
    "    list = []\n",
    "    for i in range(it):\n",
    "        list.append(i)\n",
    "    return list\n",
    "\n",
    "\n",
    "def plot(e):\n",
    "    import matplotlib.pyplot\n",
    "    matplotlib.pyplot.plot(len_list(len(e)), e)\n",
    "    \n",
    "    \n",
    "def belongToInverval(a, b, x):\n",
    "    return x >= a and x <= b\n",
    "    \n",
    "    \n",
    "def solve_eq(footion):\n",
    "    \"\"\"\n",
    "    Obtiene los ceros de la funcion.\n",
    "    Parametros iniciales:\n",
    "    footion = Funcion que sera resuelta.\n",
    "    \n",
    "    Parámetros de Salida:\n",
    "    y = Lista de soluciones de la funcion.\n",
    "    \"\"\"\n",
    "    import sympy as sym\n",
    "    x = sym.symbols('x')\n",
    "    return sym.solve(footion, x)\n",
    "    \n",
    "    \n",
    "def get_funcs(f):\n",
    "    \"\"\"\n",
    "    Esta funcion recive un string que represente una funcion ,y devuelve una funcion utilizable en python y su derivada.\n",
    "    Parametros iniciales:\n",
    "    f = una  cadena de caracteres (string) que representa a la función f.\n",
    "    \n",
    "    Parámetros de Salida: \n",
    "    [footion, deetion], donde  \n",
    "    footion = Funcion que sera resuelta.\n",
    "    deetion = Derivada de la funcion que sera resuelta.\n",
    "    \"\"\"\n",
    "    from sympy import symbols, sympify, diff\n",
    "    footion = sympify(f)\n",
    "    x = symbols('x')\n",
    "    deetion = diff(footion, x)\n",
    "    return footion, deetion\n",
    "\n",
    "\n",
    "def hasExistence(footion, deetion, a, b):\n",
    "    \"\"\"\n",
    "    Esta función verifica si la footion cumple el criterio de la existencia.\n",
    "    Parametros iniciales:\n",
    "    footion = Funcion que se esta resolviendo.\n",
    "    deetion = Funcion footion derivada.\n",
    "    a = Punto izquierda del intervalo donde se comienza la iteración.\n",
    "    b = Punto derecha del intervalo donde se comienza la iteración.\n",
    "    \n",
    "    Parámetros de Salida: \n",
    "    [y], donde                \n",
    "    y = Indicador que dice si cumple o no.\n",
    "    \"\"\"\n",
    "    critical_point = solve_eq(deetion);\n",
    "    if critical_point == []:\n",
    "        return 0\n",
    "    else:\n",
    "        for point in critical_point:\n",
    "            value = float(footion.subs({'x':point}))\n",
    "            if not belongToInverval(a, b, value):\n",
    "                return 0\n",
    "            \n",
    "        ext_a = float(footion.subs({'x':a}))\n",
    "        ext_b = float(footion.subs({'x':b}))\n",
    "        if belongToInverval(a, b, ext_a) and belongToInverval(a, b, ext_a):\n",
    "            return 1\n",
    "        else:\n",
    "            return 0\n",
    "        \n",
    "        \n",
    "def hasUniq(footion, deetion, a, b):\n",
    "    \"\"\"\n",
    "    Esta función verifica si la footion cumple el criterio de la unicidad.\n",
    "    Parametros iniciales:\n",
    "    footion = Funcion que se esta resolviendo.\n",
    "    deetion = Funcion footion derivada.\n",
    "    a = Punto izquierda del intervalo donde se comienza la iteración.\n",
    "    b = Punto derecha del intervalo donde se comienza la iteración.\n",
    "    \n",
    "    Parámetros de Salida: \n",
    "    [y], donde                \n",
    "    y = Indicador que dice si cumple o no.\n",
    "    \"\"\"\n",
    "    critical_point = solve_eq(deetion);\n",
    "    if critical_point == []:\n",
    "        return 0\n",
    "    else:\n",
    "        for point in critical_point:\n",
    "            value = footion.subs({'x':point})\n",
    "            if not belongToInverval(a, b, value):\n",
    "                return 0\n",
    "        return 1\n",
    "\n",
    "def fixed_point(f, x0, a, b, tol, iter):\n",
    "    \"\"\"\n",
    "    Esta función aproxima la solución de una ecuació f(x)=0, implementando el metodo del punto fijo.\n",
    "    Parametros iniciales:\n",
    "    f = una  cadena de caracteres (string) que representa a la función f.\n",
    "    x0 = Punto de la función.\n",
    "    a = Punto izquierda del intervalo donde se comienza la iteración.\n",
    "    b = Punto derecha del intervalo donde se comienza la iteración.\n",
    "    tol = un número positivo que representa a la tolerancia para el criterio |f(x_k)|<tol.\n",
    "    iter = cantidad de iteraciones máximas.\n",
    "    \n",
    "    Parámetros de Salida: \n",
    "    [xk,e], donde                \n",
    "    xk = aproximación del cero de la función f.\n",
    "    e =  Lista de errores de cada iteracion.\n",
    "    \"\"\"\n",
    "    footion, deetion = get_funcs(f)\n",
    "    existence = hasExistence(footion, deetion, a, b)\n",
    "    uniq = hasUniq(footion, deetion, a, b)\n",
    "    xk = 0\n",
    "    e = []\n",
    "    if not existence or not uniq:\n",
    "        pal = \"\" if existence else (\"No cumple el criterio de la existencia. \\n \")\n",
    "        pal = \"\" if uniq else (pal + \"No cumple el criterio de la unicidad.\")\n",
    "        print(pal)\n",
    "        return 0, []\n",
    "    else:\n",
    "        xk = x0\n",
    "        for i in range(iter):\n",
    "            xk = float(footion.subs({'x':xk}))\n",
    "            error = abs(xk - x0)\n",
    "            if error < tol:\n",
    "                break\n",
    "            else:\n",
    "                e.append(error)\n",
    "                x0 = xk\n",
    "    return xk, e\n",
    "  "
   ]
  },
  {
   "cell_type": "markdown",
   "metadata": {
    "kernel": "Python 3"
   },
   "source": [
    "<h3 style=\"font-family: 'Courier New'; font-size:25px\">Ejemplo Numérico</h3>"
   ]
  },
  {
   "cell_type": "markdown",
   "metadata": {
    "kernel": "Python 3"
   },
   "source": [
    "<h5 style=\"font-family: 'Courier New'; font-size:16px\">Python</h5>"
   ]
  },
  {
   "cell_type": "code",
   "execution_count": 11,
   "metadata": {
    "kernel": "Python 3"
   },
   "outputs": [
    {
     "name": "stdout",
     "output_type": "stream",
     "text": [
      "0.606464344938615\n"
     ]
    },
    {
     "data": {
      "image/png": "[encoded data removed]",
      "text/plain": [
       "<Figure size 432x288 with 1 Axes>"
      ]
     },
     "metadata": {
      "needs_background": "light"
     },
     "output_type": "display_data"
    }
   ],
   "source": [
    "xk, e = fixed_point('sin(x)', 2, -1, 3, 10^-12, 5)\n",
    "print(xk)\n",
    "plot(e)"
   ]
  },
  {
   "cell_type": "markdown",
   "metadata": {
    "kernel": "Python 3"
   },
   "source": [
    "<h5 style=\"font-family: 'Courier New'; font-size:16px\">Octave</h5>"
   ]
  },
  {
   "cell_type": "code",
   "execution_count": 12,
   "metadata": {
    "kernel": "Octave"
   },
   "outputs": [
    {
     "name": "stdout",
     "output_type": "stream",
     "text": [
      "xk =    6.064643449386150e-01\n",
      "e =\n",
      "\n",
      " Columns 1 through 3:\n",
      "\n",
      "   1.090702573174318e+00   1.202250832527934e-01   7.937230333836254e-02\n",
      "\n",
      " Columns 4 and 5:\n",
      "\n",
      "   5.809377658469672e-02   4.514191871121409e-02\n",
      "\n"
     ]
    },
    {
     "data": {
      "image/png": "[encoded data removed]",
      "text/plain": [
       "<IPython.core.display.Image object>"
      ]
     },
     "metadata": {},
     "output_type": "display_data"
    }
   ],
   "source": [
    "[xk,e]=fixed_point('sin(x)', 2, -1, 3, 10^-12, 5)\n"
   ]
  },
  {
   "cell_type": "code",
   "execution_count": null,
   "metadata": {
    "kernel": "Octave"
   },
   "outputs": [],
   "source": []
  }
 ],
 "metadata": {
  "kernelspec": {
   "display_name": "SoS",
   "language": "sos",
   "name": "sos"
  },
  "language_info": {
   "codemirror_mode": "sos",
   "file_extension": ".sos",
   "mimetype": "text/x-sos",
   "name": "sos",
   "nbconvert_exporter": "sos_notebook.converter.SoS_Exporter",
   "pygments_lexer": "sos"
  },
  "sos": {
   "kernels": [
    [
     "Octave",
     "octave",
     "octave",
     "",
     ""
    ],
    [
     "Python 3",
     "python3",
     "python3",
     "",
     {
      "name": "ipython",
      "version": 3
     }
    ]
   ],
   "panel": {
    "displayed": true,
    "height": 0
   },
   "version": "0.21.7"
  }
 },
 "nbformat": 4,
 "nbformat_minor": 4
}
