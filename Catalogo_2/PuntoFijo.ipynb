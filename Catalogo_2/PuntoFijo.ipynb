{
 "cells": [
  {
   "cell_type": "markdown",
   "metadata": {
    "kernel": "SoS"
   },
   "source": [
    "<body>\n",
    "    <div>\n",
    "        <h2 style='font-family: cursive; font-size: 40px;'>Punto Fijo</h2>\n",
    "        <img src=https://www.mty.itesm.mx/etie/deptos/m/ma95-843/dudas/puntof-d.gif alt=middle style=\"height: 340px\">\n",
    "    </div>\n",
    "</body>"
   ]
  },
  {
   "cell_type": "code",
   "execution_count": null,
   "metadata": {
    "kernel": "SoS"
   },
   "outputs": [],
   "source": []
  },
  {
   "cell_type": "markdown",
   "metadata": {
    "kernel": "SoS"
   },
   "source": [
    "<h3 style=\"font-family: 'Courier New'; font-size:25px\">Octave</h3>"
   ]
  },
  {
   "cell_type": "code",
   "execution_count": 3,
   "metadata": {
    "kernel": "Octave"
   },
   "outputs": [
    {
     "name": "stdout",
     "output_type": "stream",
     "text": [
      "No tiene puntos criticos.\n",
      "No tiene puntos criticos.\n",
      "xk =  1.245951711479680\n",
      "e =\n",
      "\n",
      " Columns 1 through 3:\n",
      "\n",
      "   9.861228866810978e-02   6.367082521589063e-02   3.905609389932119e-02\n",
      "\n",
      " Columns 4 through 6:\n",
      "\n",
      "   2.322368299574018e-02   1.355791150403163e-02   7.830909196586466e-03\n",
      "\n"
     ]
    }
   ],
   "source": [
    "format long\n",
    "pkg load symbolic\n",
    "\n",
    "function y=derivate(f)\n",
    "    syms x\n",
    "    ff=f(x);\n",
    "    ffd=diff(ff,x);\n",
    "    y=function_handle(ffd);\n",
    "end\n",
    "\n",
    "function y=belongToInverval(a,b,x)\n",
    "    y=x>=a && x<=b;\n",
    "end\n",
    "\n",
    "function [y]=solve_eq(footion)\n",
    "    syms x\n",
    "    y=solve(sym(footion));\n",
    "    if strcmpi(class(y), 'cell')\n",
    "        y='no';\n",
    "    end\n",
    "end\n",
    "\n",
    "function [y]=hasExistence(footion,deetion,a,b)\n",
    "    deesol=solve_eq(deetion);\n",
    "    if strcmpi(class(deesol), 'char')\n",
    "        display('No tiene puntos criticos.');\n",
    "    end\n",
    "    critical_point=footion(deesol);\n",
    "    n=length(critical_point);\n",
    "    if n==1\n",
    "        value=footion(critical_point);\n",
    "        if ~belongToInverval(a,b,value)\n",
    "            y=1;\n",
    "        end\n",
    "    else\n",
    "        for i=1:n\n",
    "            value=footion(critical_point(i));\n",
    "            if ~belongToInverval(a,b,value)\n",
    "                y=1;\n",
    "            end\n",
    "        end\n",
    "    end\n",
    "    ext_a=footion(a);\n",
    "    extr_b=footion(b);\n",
    "    if ~belongToInverval(a,b,ext_a)\n",
    "        y=1;\n",
    "    else\n",
    "        y=0;\n",
    "    end\n",
    "end\n",
    "\n",
    "function [y]=hasUniq(footion,deetion,a,b)\n",
    "    deesol=solve_eq(deetion);\n",
    "    if strcmpi(class(deesol), 'char')\n",
    "        display('No tiene puntos criticos.');\n",
    "    end\n",
    "    critical_point=footion(deesol);\n",
    "    n=length(critical_point);\n",
    "    if n==1\n",
    "        if ~belongToInverval(-1,1,critical_point)\n",
    "            y=1;\n",
    "        end\n",
    "    else\n",
    "        for i=1:n\n",
    "            value=critical_point(i);\n",
    "            if ~belongToInverval(-1,1,value)\n",
    "                y=1;\n",
    "            end\n",
    "        end\n",
    "        y=0;\n",
    "    end\n",
    "end\n",
    "\n",
    "function [xk,e]=fixed_point(f,x0,a,b,tol,iter)\n",
    "    footion=str2func(strcat('@(x)',f));\n",
    "    deetion=derivate(footion);\n",
    "    e=[];\n",
    "    \n",
    "    existence=hasExistence(footion,deetion,a,b);\n",
    "    if existence\n",
    "        xk=0;\n",
    "        display(\"No cumple el criterio de la existencia\"); \n",
    "    end\n",
    "    \n",
    "    uniq=hasUniq(footion,deetion,a,b);\n",
    "    if uniq\n",
    "        xk=0;\n",
    "        display(\"No cumple el criterio de la unicidad\");\n",
    "    end\n",
    "    \n",
    "    for i=1:iter\n",
    "        xk=footion(x0);\n",
    "        error=abs(xk-x0);\n",
    "        if error < tol\n",
    "            break;\n",
    "        else\n",
    "            e=[e error];\n",
    "            x0=xk;\n",
    "        end\n",
    "    end \n",
    "end\n",
    "\n",
    "[xk,e]=fixed_point('log(2*x+1)',1,0,2.5,10^-12,6)\n"
   ]
  },
  {
   "cell_type": "code",
   "execution_count": null,
   "metadata": {
    "kernel": "Octave"
   },
   "outputs": [],
   "source": []
  },
  {
   "cell_type": "code",
   "execution_count": null,
   "metadata": {
    "kernel": "Octave"
   },
   "outputs": [],
   "source": []
  },
  {
   "cell_type": "code",
   "execution_count": null,
   "metadata": {
    "kernel": "Octave"
   },
   "outputs": [],
   "source": []
  }
 ],
 "metadata": {
  "kernelspec": {
   "display_name": "SoS",
   "language": "sos",
   "name": "sos"
  },
  "language_info": {
   "codemirror_mode": "sos",
   "file_extension": ".sos",
   "mimetype": "text/x-sos",
   "name": "sos",
   "nbconvert_exporter": "sos_notebook.converter.SoS_Exporter",
   "pygments_lexer": "sos"
  },
  "sos": {
   "kernels": [
    [
     "Octave",
     "octave",
     "octave",
     "",
     ""
    ],
    [
     "SoS",
     "sos",
     "",
     "",
     "sos"
    ]
   ],
   "panel": {
    "displayed": true,
    "height": 0
   },
   "version": "0.21.7"
  }
 },
 "nbformat": 4,
 "nbformat_minor": 4
}
