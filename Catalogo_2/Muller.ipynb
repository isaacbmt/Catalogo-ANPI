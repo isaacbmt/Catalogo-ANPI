{
 "cells": [
  {
   "cell_type": "markdown",
   "metadata": {
    "kernel": "SoS"
   },
   "source": [
    "<body>\n",
    "    <div>\n",
    "        <h2 style='font-family: cursive; font-size: 40px;'>Método de Muller</h2>\n",
    "        <img src=https://media.geeksforgeeks.org/wp-content/uploads/Muller-Method.png alt=middle style=\"height: 340px\">\n",
    "    </div>\n",
    "</body>"
   ]
  },
  {
   "cell_type": "markdown",
   "metadata": {
    "kernel": "SoS"
   },
   "source": [
    "<h3 style=\"font-family: 'Courier New'; font-size:25px\">Octave</h3>"
   ]
  },
  {
   "cell_type": "code",
   "execution_count": 34,
   "metadata": {
    "kernel": "Octave"
   },
   "outputs": [
    {
     "name": "stdout",
     "output_type": "stream",
     "text": [
      "r =  1.872501287468268e+00 + 6.807418097825466e-02i\r\n",
      "e =\r\n",
      "\r\n",
      " Columns 1 through 3:\r\n",
      "\r\n",
      "   0.000000000000000e+00   7.338144764219641e-02   1.054627577228245e-01\r\n",
      "\r\n",
      " Column 4:\r\n",
      "\r\n",
      "   3.634875628593869e-02\r\n",
      "\r\n"
     ]
    }
   ],
   "source": [
    "format long\n",
    "\n",
    "function [a1,b1,c1]=solve_equations(footion,x0,x1,x2)\n",
    "    warning('off', 'all');\n",
    "    pkg load symbolic\n",
    "#     sympref reset\n",
    "    syms a b c\n",
    "    eqs = [ a*(x0-x1)^2+b*(x0-x1)+c == footion(x0), \n",
    "            a*(x1-x2)^2+b*(x1-x2)+c == footion(x1), \n",
    "            c == footion(x2)];\n",
    "    vars = [a b c];\n",
    "    [a1,b1,c1] = solve(eqs, vars);\n",
    "    a1=cast(a1, \"double\");\n",
    "    b1=cast(b1, \"double\");\n",
    "    c1=cast(c1, \"double\");\n",
    "end\n",
    "\n",
    "function [r,e]=muller_aux(footion,x0,x1,x2,i,tol,iter,e)\n",
    "    if abs(x2-x1)/x2 > tol && i < iter\n",
    "        [a,b,c] = solve_equations(footion,x0,x1,x2);\n",
    "        x3 = x2 - (2*c)/(b+sign(b)*sqrt(b^2-4*a*c));\n",
    "        error = abs(x3-x2)/abs(x3);\n",
    "        [r,e]=muller_aux(footion,x1,x2,x3,i+1,tol,iter,[e error]);\n",
    "    else\n",
    "        r=x2;\n",
    "        e=e;\n",
    "    end\n",
    "end\n",
    "\n",
    "function [r,e]=muller(f, x0, x1, x2, tol, iter)\n",
    "    footion = str2func(strcat('@(x)', f));\n",
    "    \n",
    "    if tol > 10^-16\n",
    "        [r,e] = muller_aux(footion,x0,x1,x2,1,tol,iter,[abs(x2-x2)/x2]);\n",
    "    else\n",
    "        r=0;\n",
    "        e=[];\n",
    "        display(\"La tolerancia es muy pequeña, ponga una más grande.\");\n",
    "    end\n",
    "end\n",
    "\n",
    "[r,e] = muller('sin(x)-x/2', 2, 2.2, 1.8, 10^-8, 4)\n"
   ]
  },
  {
   "cell_type": "code",
   "execution_count": null,
   "metadata": {
    "kernel": "Octave"
   },
   "outputs": [],
   "source": []
  },
  {
   "cell_type": "code",
   "execution_count": null,
   "metadata": {
    "kernel": "Octave"
   },
   "outputs": [],
   "source": []
  }
 ],
 "metadata": {
  "kernelspec": {
   "display_name": "SoS",
   "language": "sos",
   "name": "sos"
  },
  "language_info": {
   "codemirror_mode": "sos",
   "file_extension": ".sos",
   "mimetype": "text/x-sos",
   "name": "sos",
   "nbconvert_exporter": "sos_notebook.converter.SoS_Exporter",
   "pygments_lexer": "sos"
  },
  "sos": {
   "kernels": [
    [
     "Octave",
     "octave",
     "octave",
     "",
     ""
    ]
   ],
   "panel": {
    "displayed": true,
    "height": 0
   },
   "version": "0.21.7"
  }
 },
 "nbformat": 4,
 "nbformat_minor": 4
}
