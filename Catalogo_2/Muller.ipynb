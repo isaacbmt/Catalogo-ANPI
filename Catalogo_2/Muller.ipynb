{
 "cells": [
  {
   "cell_type": "markdown",
   "metadata": {
    "kernel": "SoS"
   },
   "source": [
    "<body>\n",
    "    <div>\n",
    "        <h2 style='font-family: cursive; font-size: 40px;'>Método de Muller</h2>\n",
    "        <img src=https://media.geeksforgeeks.org/wp-content/uploads/Muller-Method.png alt=middle style=\"height: 340px\">\n",
    "    </div>\n",
    "</body>"
   ]
  },
  {
   "cell_type": "markdown",
   "metadata": {
    "kernel": "SoS"
   },
   "source": [
    "<h3 style=\"font-family: 'Courier New'; font-size:25px\"\n",
    "    >Formulación matemática</h3>"
   ]
  },
  {
   "cell_type": "markdown",
   "metadata": {
    "kernel": "SoS"
   },
   "source": [
    "<div style=\"font-size: 19px\">\n",
    "&emsp;&emsp;&emsp;&emsp;&emsp;&emsp;&emsp;&emsp;&emsp;&emsp;&emsp;&emsp;$\\begin{cases}\n",
    "    f(x_0) = a*(x_0 - x_1)^2 + b*(x_0 - x_1) + c \\\\\n",
    "    f(x_1) = a*(x_1 - x_2)^2 + b*(x_1 - x_2) + c \\\\\n",
    "    f(x_2) = c\n",
    "\\end{cases}$\n",
    "<br>\n",
    "&emsp;&emsp;&emsp;&emsp;&emsp;&emsp;&emsp;&emsp;&emsp;&emsp;&emsp;&emsp;$r = x_2 - \\frac {2*c} {b + sgn(b)*\\sqrt{b^2-4*a*c} }$\n",
    "</div>"
   ]
  },
  {
   "cell_type": "markdown",
   "metadata": {
    "kernel": "SoS"
   },
   "source": [
    "<h3 style=\"font-family: 'Courier New'; font-size:25px\"\n",
    "    >Valores iniciales</h3>"
   ]
  },
  {
   "cell_type": "markdown",
   "metadata": {
    "kernel": "SoS"
   },
   "source": [
    "<div style='text-align: center; font-size: 16px;'>\n",
    "    $x_0$: Punto de la función. <br>\n",
    "    $x_1$: Punto de la función. <br>\n",
    "    $x_2$: Punto de la función.\n",
    "</div>"
   ]
  },
  {
   "cell_type": "markdown",
   "metadata": {
    "kernel": "SoS"
   },
   "source": [
    "<h3 style=\"font-family: 'Courier New'; font-size:25px\"\n",
    "    >Ventajas y desventajas</h3>"
   ]
  },
  {
   "cell_type": "markdown",
   "metadata": {
    "kernel": "SoS"
   },
   "source": [
    "<table style=\"width:100%; text-align: left; font-size: 14px\">\n",
    "    <tr style=\"text-align: left;\">\n",
    "        <th style=\"text-align: left;\">Ventajas</th>\n",
    "        <th style=\"text-align: left;\">Desventajas</th>\n",
    "    </tr>\n",
    "    <tr>\n",
    "        <td style=\"text-align: left;\">Por medio de este método se encuentran por medio de este método se encuentran tanto raíces reales como complejas tanto raíces reales como complejas.</td>\n",
    "        <td style=\"text-align: left;\"> En el Método de Müller se escoge el signo que en el Método de Müller se escoge el signo que coincida en el signo de “b”, esta elección coincida en el signo de “b”, esta elección proporciona como resultado el denominador proporciona como resultado el denominador mas grande, lo que dará la raíz estimada más grande, lo que dará la raíz estimada mas cercana a $x$ cercana a $x_2$. Una vez que se determino $x$. Una vez q se determino $x_3$ el proceso se repite, esto trae de que un valor es proceso se repite, esto trae de que un valor es descartado.</td>\n",
    "    </tr>\n",
    "   \n",
    "</table>"
   ]
  },
  {
   "cell_type": "markdown",
   "metadata": {
    "kernel": "SoS"
   },
   "source": [
    "<h3 style=\"font-family: 'Courier New'; font-size:25px\"\n",
    "    >Pseudocódigo</h3>"
   ]
  },
  {
   "cell_type": "markdown",
   "metadata": {
    "kernel": "SoS"
   },
   "source": [
    "<ol>\n",
    "    <li>Para i iteraciones</li>\n",
    "    <div>\n",
    "        <li>\n",
    "            Resuelve el sistema de ecuaciones dado por\n",
    "            <ul>\n",
    "                <li>$a(x_0-x_1)^2 + b(x_0-x_1) + c = f(x_0)$</li>\n",
    "                <li>$a(x_1-x_2)^2 + b(x_1-x_2) + c = f(x_1)$</li>\n",
    "                <li>$c=f(x_2)$</li>\n",
    "            </ul>\n",
    "        </li>\n",
    "    </div>\n",
    "    <li>$x_3 = x_2 - \\frac{2*c}{b+sgn(b)*\\sqrt{b**2-4*a*c}}$</li>\n",
    "    <li>x0=x1</li>\n",
    "    <li>x1=x2</li>\n",
    "    <li>x2=x3</li>\n",
    "    <li>$error = |f(x_k)|$</li>\n",
    "    <li>Fin Para</li>\n",
    "</ol>"
   ]
  },
  {
   "cell_type": "markdown",
   "metadata": {
    "kernel": "SoS"
   },
   "source": [
    "<h3 style=\"font-family: 'Courier New'; font-size:25px\">Octave</h3>"
   ]
  },
  {
   "cell_type": "code",
   "execution_count": 11,
   "metadata": {
    "kernel": "Octave"
   },
   "outputs": [],
   "source": [
    "format long\n",
    "\n",
    "function [a1,b1,c1]=solve_equations(footion,x0,x1,x2)\n",
    "    %Esta funcion resuelve el sistema de ecuacion que usa el metodo de muller.\n",
    "    %Sintaxis: solve_equations(footion,x0,x1,x2)\n",
    "    %\n",
    "    %Parámetros Iniciales:\n",
    "    %            footion = Funcion que se esta resolviendo.\n",
    "    %            x0 = Punto de la funcion.\n",
    "    %            x1 = Punto de la funcion.\n",
    "    %            x2 = Punto de la funcion.\n",
    "    %\n",
    "    %\n",
    "    %Parámetros de Salida:\n",
    "    %            a1 = La solucion de 'a' en el sistema de ecuaciones.\n",
    "    %            b1 = La solucion de 'b' en el sistema de ecuaciones.\n",
    "    %            c1 = La solucion de 'c' en el sistema de ecuaciones.\n",
    "    %\n",
    "    warning('off', 'all');\n",
    "    pkg load symbolic\n",
    "    syms a b c\n",
    "    eqs = [ a*(x0-x1)^2+b*(x0-x1)+c == footion(x0), \n",
    "            a*(x1-x2)^2+b*(x1-x2)+c == footion(x1), \n",
    "            c == footion(x2)];\n",
    "    vars = [a b c];\n",
    "    [a1,b1,c1] = solve(eqs, vars);\n",
    "    a1=cast(real(a1), \"double\");\n",
    "    b1=cast(real(b1), \"double\");\n",
    "    c1=cast(real(c1), \"double\");\n",
    "end\n",
    "\n",
    "function [r,e]=muller_aux(footion,x0,x1,x2,i,tol,iter,e)\n",
    "    %Esta función auxiliar del metodo de muller.\n",
    "    %\n",
    "    %Sintaxis:  muller_aux(footion,x0,x1,x2,i,tol,iter,e)\n",
    "    % \n",
    "    %Parámetros Iniciales: \n",
    "    %            footion = Funcion que se esta resolviendo.\n",
    "    %            x0 = Punto de la funcion.\n",
    "    %            x1 = Punto de la funcion.\n",
    "    %            x2 = Punto de la funcion.\n",
    "    %            tol = un número positivo que representa a la tolerancia para el criterio |f(x_k)|<tol.\n",
    "    %            iter = cantidad de iteraciones máximas.\n",
    "    %            i = iteracion actual.\n",
    "    %            e = Lista de errores.\n",
    "    %            \n",
    "    %Parámetros de Salida:                           \n",
    "    %            r = aproximación del cero de la función f\n",
    "    %            e =  |f(x)|\n",
    "    %\n",
    "    if abs(x2-x1)/x2 > tol && i < iter\n",
    "        [a,b,c] = solve_equations(footion,x0,x1,x2);\n",
    "        x3 = real(x2 - (2*c)/(b+sign(b)*sqrt(b^2-4*a*c)));\n",
    "        error = abs(x3-x2);\n",
    "        [r,e]=muller_aux(footion,x1,x2,x3,i+1,tol,iter,[e error]);\n",
    "    else\n",
    "        r=x2;\n",
    "        e=e;\n",
    "    end\n",
    "end\n",
    "\n",
    "function [r,e]=muller(f, x0, x1, x2, tol, iter)\n",
    "    %Esta función aproxima la solución de la ecuación f(x)=0, utilizando el método de muller.\n",
    "    %\n",
    "    %Sintaxis:  muller(f, x0, x1, x2, tol, iter)\n",
    "    % \n",
    "    %Parámetros Iniciales: \n",
    "    %            f = una  cadena de caracteres (string) que representa a la función f.\n",
    "    %            x0 = Punto de la funcion.\n",
    "    %            x1 = Punto de la funcion.\n",
    "    %            x2 = Punto de la funcion.\n",
    "    %            tol = un número positivo que representa a la tolerancia para el criterio |f(x_k)|<tol.\n",
    "    %            iter = cantidad de iteraciones máximas.\n",
    "    %            \n",
    "    %Parámetros de Salida:                           \n",
    "    %            r = aproximación del cero de la función f\n",
    "    %            e =  |f(x)|\n",
    "    %\n",
    "    footion = str2func(strcat('@(x)', f));\n",
    "    \n",
    "    if tol > 10^-16\n",
    "        [r,e] = muller_aux(footion,x0,x1,x2,1,tol,iter,[abs(x2-x2)/x2]);\n",
    "    else\n",
    "        r=0;\n",
    "        e=[];\n",
    "        display(\"La tolerancia es muy pequeña, ponga una más grande.\");\n",
    "    end\n",
    "    plot(0:length(e)-1,e);\n",
    "end\n",
    "\n"
   ]
  },
  {
   "cell_type": "markdown",
   "metadata": {
    "kernel": "Octave"
   },
   "source": [
    "<h3 style=\"font-family: 'Courier New'; font-size:25px\">Python</h3>"
   ]
  },
  {
   "cell_type": "code",
   "execution_count": 7,
   "metadata": {
    "kernel": "Python 3"
   },
   "outputs": [],
   "source": [
    "from numpy import sign\n",
    "from math import sqrt\n",
    "\n",
    "def len_list(it):\n",
    "    list = []\n",
    "    for i in range(it):\n",
    "        list.append(i)\n",
    "    return list\n",
    "\n",
    "\n",
    "def plot(e):\n",
    "    import matplotlib.pyplot\n",
    "    matplotlib.pyplot.plot(len_list(len(e)), e)\n",
    "    \n",
    "    \n",
    "def solve_equations(footion, x0, x1, x2):\n",
    "    \"\"\"\n",
    "    Esta funcion resuelve el sistema de ecuacion que usa el metodo de muller.\n",
    "    Parametros iniciales:\n",
    "    footion = Funcion que se esta resolviendo.\n",
    "    x0 = Punto de la función.\n",
    "    x1 = Punto de la función.\n",
    "    x2 = Punto de la función.\n",
    "    \n",
    "    Parámetros de Salida: \n",
    "    res = Corresponde a las 3 soluciones del sistema de ecuaciones.\n",
    "    \"\"\"\n",
    "    import sympy as sym\n",
    "    sym.init_printing()\n",
    "    a,b,c = sym.symbols('a,b,c')\n",
    "    eq1 = sym.Eq(a*(x0-x1)**2 + b*(x0-x1) + c, footion.subs({'x':x0}))\n",
    "    eq2 = sym.Eq(a*(x1-x2)**2 + b*(x1-x2) + c, footion.subs({'x':x1}))\n",
    "    eq3 = sym.Eq(c, footion.subs({'x':x2}))\n",
    "    res = sym.solve([eq1, eq2, eq3], (a, b, c))\n",
    "    return res[a], res[b], res[c]\n",
    "    \n",
    "    \n",
    "def muller(f, x0, x1, x2, tol, iter):\n",
    "    \"\"\"\n",
    "    Esta función aproxima la solución de una ecuació f(x)=0, implementando el metodo de Muller.\n",
    "    Parametros iniciales:\n",
    "    f = una  cadena de caracteres (string) que representa a la función f.\n",
    "    x0 = Punto de la función.\n",
    "    x1 = Punto de la función.\n",
    "    x2 = Punto de la función.\n",
    "    tol = un número positivo que representa a la tolerancia para el criterio |f(x_k)|<tol.\n",
    "    iter = cantidad de iteraciones máximas.\n",
    "    \n",
    "    Parámetros de Salida: \n",
    "    [x3,error], donde                \n",
    "    x3 = aproximación del cero de la función f.\n",
    "    error =  |f(x_k)|\n",
    "    \"\"\"\n",
    "    from sympy import sympify\n",
    "    footion = sympify(f)\n",
    "    e = []\n",
    "    error = tol + 1\n",
    "    x3 = 0\n",
    "    for i in range(iter):\n",
    "        if error < tol:\n",
    "            break\n",
    "        a, b, c = solve_equations(footion, x0, x1, x2)\n",
    "        x3 = float(x2 - (2*c)/(b+sign(b)*sqrt(abs(b**2-4*a*c))));\n",
    "        error = abs(x3-x2);\n",
    "        x0 = x1\n",
    "        x1 = x2\n",
    "        x2 = x3\n",
    "        e.append(error)\n",
    "    return x3, e\n"
   ]
  },
  {
   "cell_type": "markdown",
   "metadata": {
    "kernel": "Python 3"
   },
   "source": [
    "<h3 style=\"font-family: 'Courier New'; font-size:25px\">Ejemplo Numérico</h3>"
   ]
  },
  {
   "cell_type": "markdown",
   "metadata": {
    "kernel": "Python 3"
   },
   "source": [
    "<h5 style=\"font-family: 'Courier New'; font-size:16px\">Python</h5>"
   ]
  },
  {
   "cell_type": "code",
   "execution_count": 12,
   "metadata": {
    "kernel": "Python 3"
   },
   "outputs": [
    {
     "name": "stdout",
     "output_type": "stream",
     "text": [
      "1.8955003485098867 [0.1230565397795571, 0.1977056197248186, 0.06605785796091257, 0.08541502321464134, 0.008047651732159045, 0.006570255851476192, 1.6707430213536156e-05]\n"
     ]
    },
    {
     "data": {
      "image/png": "[encoded data removed]",
      "text/plain": [
       "<Figure size 432x288 with 1 Axes>"
      ]
     },
     "metadata": {
      "needs_background": "light"
     },
     "output_type": "display_data"
    }
   ],
   "source": [
    "x3, e = muller('sin(x)-x/2', 2, 2.2, 1.8, 10^-8, 7)\n",
    "print(x3, e)\n",
    "plot(e)"
   ]
  },
  {
   "cell_type": "markdown",
   "metadata": {
    "kernel": "Python 3"
   },
   "source": [
    "<h5 style=\"font-family: 'Courier New'; font-size:16px\">Octave</h5>"
   ]
  },
  {
   "cell_type": "code",
   "execution_count": 13,
   "metadata": {
    "kernel": "Octave"
   },
   "outputs": [
    {
     "name": "stdout",
     "output_type": "stream",
     "text": [
      "r =  1.895494267018637\r\n",
      "e =\r\n",
      "\r\n",
      " Columns 1 through 3:\r\n",
      "\r\n",
      "   0.000000000000000e+00   1.230565387971785e-01   1.977056668020858e-01\r\n",
      "\r\n",
      " Columns 4 through 6:\r\n",
      "\r\n",
      "   2.147840536638856e-03   2.296831923290177e-02   2.843679901776142e-06\r\n",
      "\r\n",
      " Column 7:\r\n",
      "\r\n",
      "   2.750399736828335e-05\r\n",
      "\r\n"
     ]
    },
    {
     "data": {
      "image/png": "[encoded data removed]",
      "text/plain": [
       "<IPython.core.display.Image object>"
      ]
     },
     "metadata": {},
     "output_type": "display_data"
    }
   ],
   "source": [
    "[r,e] = muller('sin(x)-x/2', 2, 2.2, 1.8, 10^-8, 7)\n"
   ]
  },
  {
   "cell_type": "code",
   "execution_count": null,
   "metadata": {
    "kernel": "Octave"
   },
   "outputs": [],
   "source": []
  }
 ],
 "metadata": {
  "kernelspec": {
   "display_name": "SoS",
   "language": "sos",
   "name": "sos"
  },
  "language_info": {
   "codemirror_mode": "sos",
   "file_extension": ".sos",
   "mimetype": "text/x-sos",
   "name": "sos",
   "nbconvert_exporter": "sos_notebook.converter.SoS_Exporter",
   "pygments_lexer": "sos"
  },
  "sos": {
   "kernels": [
    [
     "Octave",
     "octave",
     "octave",
     "",
     ""
    ],
    [
     "Python 3",
     "python3",
     "python3",
     "",
     {
      "name": "ipython",
      "version": 3
     }
    ]
   ],
   "panel": {
    "displayed": true,
    "height": 0
   },
   "version": "0.21.9"
  }
 },
 "nbformat": 4,
 "nbformat_minor": 4
}
